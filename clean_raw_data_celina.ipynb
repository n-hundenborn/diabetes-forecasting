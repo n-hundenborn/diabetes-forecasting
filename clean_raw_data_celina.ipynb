{
 "cells": [
  {
   "attachments": {},
   "cell_type": "markdown",
   "metadata": {},
   "source": [
    "### Clean raw data"
   ]
  },
  {
   "cell_type": "code",
   "execution_count": 1,
   "metadata": {},
   "outputs": [],
   "source": [
    "import pandas as pd\n",
    "from raw_data import save_all_files, concat_df"
   ]
  },
  {
   "cell_type": "code",
   "execution_count": 2,
   "metadata": {},
   "outputs": [],
   "source": [
    "# pd.options.display.max_columns = None\n",
    "# pd.options.display.max_rows = None"
   ]
  },
  {
   "attachments": {},
   "cell_type": "markdown",
   "metadata": {},
   "source": [
    "### Import raw data"
   ]
  },
  {
   "cell_type": "code",
   "execution_count": 2,
   "metadata": {},
   "outputs": [
    {
     "name": "stdout",
     "output_type": "stream",
     "text": [
      "Get a coffee ;) \n",
      "Downloading and saving 5 big files will take between 10 and 20 minutes.\n",
      "You already have this file. No need to download it again.\n",
      "Reading 2011.csv. This can take some time...\n",
      "Writing to ./data/2011.pkl...\n",
      "File was saved to ./data/2011.pkl.\n",
      "You already have this file. No need to download it again.\n",
      "Reading 2012.csv. This can take some time...\n",
      "Writing to ./data/2012.pkl...\n",
      "File was saved to ./data/2012.pkl.\n",
      "You already have this file. No need to download it again.\n",
      "Reading 2013.csv. This can take some time...\n",
      "Writing to ./data/2013.pkl...\n",
      "File was saved to ./data/2013.pkl.\n",
      "You already have this file. No need to download it again.\n",
      "Reading 2014.csv. This can take some time...\n",
      "Writing to ./data/2014.pkl...\n",
      "File was saved to ./data/2014.pkl.\n",
      "You already have this file. No need to download it again.\n",
      "Reading 2015.csv. This can take some time...\n",
      "Writing to ./data/2015.pkl...\n",
      "File was saved to ./data/2015.pkl.\n",
      "You successfully downloaded 5 of the 5 files.\n"
     ]
    }
   ],
   "source": [
    "save_all_files()"
   ]
  },
  {
   "cell_type": "code",
   "execution_count": 2,
   "metadata": {},
   "outputs": [
    {
     "name": "stdout",
     "output_type": "stream",
     "text": [
      "Reading file: 2011.pkl\n",
      "Reading file: 2012.pkl\n",
      "Reading file: 2013.pkl\n",
      "Reading file: 2014.pkl\n",
      "Reading file: 2015.pkl\n"
     ]
    }
   ],
   "source": [
    "df =concat_df()"
   ]
  },
  {
   "cell_type": "code",
   "execution_count": 3,
   "metadata": {},
   "outputs": [
    {
     "data": {
      "text/html": [
       "<div>\n",
       "<style scoped>\n",
       "    .dataframe tbody tr th:only-of-type {\n",
       "        vertical-align: middle;\n",
       "    }\n",
       "\n",
       "    .dataframe tbody tr th {\n",
       "        vertical-align: top;\n",
       "    }\n",
       "\n",
       "    .dataframe thead th {\n",
       "        text-align: right;\n",
       "    }\n",
       "</style>\n",
       "<table border=\"1\" class=\"dataframe\">\n",
       "  <thead>\n",
       "    <tr style=\"text-align: right;\">\n",
       "      <th></th>\n",
       "      <th>DIABETE3</th>\n",
       "      <th>SMOKE100</th>\n",
       "      <th>PREGNANT</th>\n",
       "      <th>_BMI5</th>\n",
       "      <th>SMOKDAY2</th>\n",
       "      <th>CVDSTRK3</th>\n",
       "      <th>PHYSHLTH</th>\n",
       "      <th>SEX</th>\n",
       "      <th>GENHLTH</th>\n",
       "      <th>CVDINFR4</th>\n",
       "      <th>CVDCRHD4</th>\n",
       "      <th>ASTHMA3</th>\n",
       "      <th>STOPSMK2</th>\n",
       "      <th>ALCDAY5</th>\n",
       "      <th>AVEDRNK2</th>\n",
       "      <th>DRNK3GE5</th>\n",
       "      <th>INSULIN</th>\n",
       "      <th>ASATTACK</th>\n",
       "      <th>_TOTINDA</th>\n",
       "    </tr>\n",
       "  </thead>\n",
       "  <tbody>\n",
       "    <tr>\n",
       "      <th>0</th>\n",
       "      <td>3.0</td>\n",
       "      <td>1.0</td>\n",
       "      <td>NaN</td>\n",
       "      <td>1855.0</td>\n",
       "      <td>1.0</td>\n",
       "      <td>2.0</td>\n",
       "      <td>88.0</td>\n",
       "      <td>2.0</td>\n",
       "      <td>4.0</td>\n",
       "      <td>2.0</td>\n",
       "      <td>2.0</td>\n",
       "      <td>2.0</td>\n",
       "      <td>1.0</td>\n",
       "      <td>103.0</td>\n",
       "      <td>2.0</td>\n",
       "      <td>88.0</td>\n",
       "      <td>NaN</td>\n",
       "      <td>NaN</td>\n",
       "      <td>2.0</td>\n",
       "    </tr>\n",
       "    <tr>\n",
       "      <th>1</th>\n",
       "      <td>3.0</td>\n",
       "      <td>1.0</td>\n",
       "      <td>NaN</td>\n",
       "      <td>3529.0</td>\n",
       "      <td>1.0</td>\n",
       "      <td>2.0</td>\n",
       "      <td>12.0</td>\n",
       "      <td>1.0</td>\n",
       "      <td>4.0</td>\n",
       "      <td>2.0</td>\n",
       "      <td>2.0</td>\n",
       "      <td>2.0</td>\n",
       "      <td>1.0</td>\n",
       "      <td>NaN</td>\n",
       "      <td>NaN</td>\n",
       "      <td>NaN</td>\n",
       "      <td>NaN</td>\n",
       "      <td>NaN</td>\n",
       "      <td>2.0</td>\n",
       "    </tr>\n",
       "    <tr>\n",
       "      <th>2</th>\n",
       "      <td>3.0</td>\n",
       "      <td>1.0</td>\n",
       "      <td>2.0</td>\n",
       "      <td>1695.0</td>\n",
       "      <td>3.0</td>\n",
       "      <td>2.0</td>\n",
       "      <td>88.0</td>\n",
       "      <td>2.0</td>\n",
       "      <td>2.0</td>\n",
       "      <td>2.0</td>\n",
       "      <td>2.0</td>\n",
       "      <td>2.0</td>\n",
       "      <td>NaN</td>\n",
       "      <td>101.0</td>\n",
       "      <td>1.0</td>\n",
       "      <td>88.0</td>\n",
       "      <td>NaN</td>\n",
       "      <td>NaN</td>\n",
       "      <td>1.0</td>\n",
       "    </tr>\n",
       "    <tr>\n",
       "      <th>3</th>\n",
       "      <td>3.0</td>\n",
       "      <td>2.0</td>\n",
       "      <td>2.0</td>\n",
       "      <td>2579.0</td>\n",
       "      <td>NaN</td>\n",
       "      <td>2.0</td>\n",
       "      <td>88.0</td>\n",
       "      <td>2.0</td>\n",
       "      <td>3.0</td>\n",
       "      <td>2.0</td>\n",
       "      <td>2.0</td>\n",
       "      <td>2.0</td>\n",
       "      <td>NaN</td>\n",
       "      <td>NaN</td>\n",
       "      <td>NaN</td>\n",
       "      <td>NaN</td>\n",
       "      <td>NaN</td>\n",
       "      <td>NaN</td>\n",
       "      <td>9.0</td>\n",
       "    </tr>\n",
       "    <tr>\n",
       "      <th>4</th>\n",
       "      <td>4.0</td>\n",
       "      <td>1.0</td>\n",
       "      <td>NaN</td>\n",
       "      <td>4346.0</td>\n",
       "      <td>3.0</td>\n",
       "      <td>2.0</td>\n",
       "      <td>25.0</td>\n",
       "      <td>2.0</td>\n",
       "      <td>5.0</td>\n",
       "      <td>2.0</td>\n",
       "      <td>2.0</td>\n",
       "      <td>2.0</td>\n",
       "      <td>NaN</td>\n",
       "      <td>888.0</td>\n",
       "      <td>NaN</td>\n",
       "      <td>NaN</td>\n",
       "      <td>NaN</td>\n",
       "      <td>NaN</td>\n",
       "      <td>1.0</td>\n",
       "    </tr>\n",
       "    <tr>\n",
       "      <th>...</th>\n",
       "      <td>...</td>\n",
       "      <td>...</td>\n",
       "      <td>...</td>\n",
       "      <td>...</td>\n",
       "      <td>...</td>\n",
       "      <td>...</td>\n",
       "      <td>...</td>\n",
       "      <td>...</td>\n",
       "      <td>...</td>\n",
       "      <td>...</td>\n",
       "      <td>...</td>\n",
       "      <td>...</td>\n",
       "      <td>...</td>\n",
       "      <td>...</td>\n",
       "      <td>...</td>\n",
       "      <td>...</td>\n",
       "      <td>...</td>\n",
       "      <td>...</td>\n",
       "      <td>...</td>\n",
       "    </tr>\n",
       "    <tr>\n",
       "      <th>2380042</th>\n",
       "      <td>1.0</td>\n",
       "      <td>2.0</td>\n",
       "      <td>NaN</td>\n",
       "      <td>1842.0</td>\n",
       "      <td>NaN</td>\n",
       "      <td>2.0</td>\n",
       "      <td>88.0</td>\n",
       "      <td>2.0</td>\n",
       "      <td>4.0</td>\n",
       "      <td>2.0</td>\n",
       "      <td>2.0</td>\n",
       "      <td>2.0</td>\n",
       "      <td>NaN</td>\n",
       "      <td>888.0</td>\n",
       "      <td>NaN</td>\n",
       "      <td>NaN</td>\n",
       "      <td>NaN</td>\n",
       "      <td>NaN</td>\n",
       "      <td>2.0</td>\n",
       "    </tr>\n",
       "    <tr>\n",
       "      <th>2380043</th>\n",
       "      <td>3.0</td>\n",
       "      <td>2.0</td>\n",
       "      <td>2.0</td>\n",
       "      <td>2834.0</td>\n",
       "      <td>NaN</td>\n",
       "      <td>2.0</td>\n",
       "      <td>88.0</td>\n",
       "      <td>2.0</td>\n",
       "      <td>1.0</td>\n",
       "      <td>2.0</td>\n",
       "      <td>2.0</td>\n",
       "      <td>2.0</td>\n",
       "      <td>NaN</td>\n",
       "      <td>888.0</td>\n",
       "      <td>NaN</td>\n",
       "      <td>NaN</td>\n",
       "      <td>NaN</td>\n",
       "      <td>NaN</td>\n",
       "      <td>1.0</td>\n",
       "    </tr>\n",
       "    <tr>\n",
       "      <th>2380044</th>\n",
       "      <td>3.0</td>\n",
       "      <td>1.0</td>\n",
       "      <td>NaN</td>\n",
       "      <td>4110.0</td>\n",
       "      <td>3.0</td>\n",
       "      <td>2.0</td>\n",
       "      <td>88.0</td>\n",
       "      <td>2.0</td>\n",
       "      <td>4.0</td>\n",
       "      <td>2.0</td>\n",
       "      <td>2.0</td>\n",
       "      <td>2.0</td>\n",
       "      <td>NaN</td>\n",
       "      <td>202.0</td>\n",
       "      <td>2.0</td>\n",
       "      <td>88.0</td>\n",
       "      <td>NaN</td>\n",
       "      <td>NaN</td>\n",
       "      <td>9.0</td>\n",
       "    </tr>\n",
       "    <tr>\n",
       "      <th>2380045</th>\n",
       "      <td>3.0</td>\n",
       "      <td>2.0</td>\n",
       "      <td>NaN</td>\n",
       "      <td>2315.0</td>\n",
       "      <td>NaN</td>\n",
       "      <td>2.0</td>\n",
       "      <td>88.0</td>\n",
       "      <td>1.0</td>\n",
       "      <td>3.0</td>\n",
       "      <td>2.0</td>\n",
       "      <td>2.0</td>\n",
       "      <td>2.0</td>\n",
       "      <td>NaN</td>\n",
       "      <td>888.0</td>\n",
       "      <td>NaN</td>\n",
       "      <td>NaN</td>\n",
       "      <td>NaN</td>\n",
       "      <td>NaN</td>\n",
       "      <td>2.0</td>\n",
       "    </tr>\n",
       "    <tr>\n",
       "      <th>2380046</th>\n",
       "      <td>1.0</td>\n",
       "      <td>2.0</td>\n",
       "      <td>NaN</td>\n",
       "      <td>2469.0</td>\n",
       "      <td>NaN</td>\n",
       "      <td>2.0</td>\n",
       "      <td>88.0</td>\n",
       "      <td>2.0</td>\n",
       "      <td>2.0</td>\n",
       "      <td>1.0</td>\n",
       "      <td>2.0</td>\n",
       "      <td>2.0</td>\n",
       "      <td>NaN</td>\n",
       "      <td>888.0</td>\n",
       "      <td>NaN</td>\n",
       "      <td>NaN</td>\n",
       "      <td>NaN</td>\n",
       "      <td>NaN</td>\n",
       "      <td>1.0</td>\n",
       "    </tr>\n",
       "  </tbody>\n",
       "</table>\n",
       "<p>2380047 rows × 19 columns</p>\n",
       "</div>"
      ],
      "text/plain": [
       "         DIABETE3  SMOKE100  PREGNANT   _BMI5  SMOKDAY2  CVDSTRK3  PHYSHLTH  \\\n",
       "0             3.0       1.0       NaN  1855.0       1.0       2.0      88.0   \n",
       "1             3.0       1.0       NaN  3529.0       1.0       2.0      12.0   \n",
       "2             3.0       1.0       2.0  1695.0       3.0       2.0      88.0   \n",
       "3             3.0       2.0       2.0  2579.0       NaN       2.0      88.0   \n",
       "4             4.0       1.0       NaN  4346.0       3.0       2.0      25.0   \n",
       "...           ...       ...       ...     ...       ...       ...       ...   \n",
       "2380042       1.0       2.0       NaN  1842.0       NaN       2.0      88.0   \n",
       "2380043       3.0       2.0       2.0  2834.0       NaN       2.0      88.0   \n",
       "2380044       3.0       1.0       NaN  4110.0       3.0       2.0      88.0   \n",
       "2380045       3.0       2.0       NaN  2315.0       NaN       2.0      88.0   \n",
       "2380046       1.0       2.0       NaN  2469.0       NaN       2.0      88.0   \n",
       "\n",
       "         SEX  GENHLTH  CVDINFR4  CVDCRHD4  ASTHMA3  STOPSMK2  ALCDAY5  \\\n",
       "0        2.0      4.0       2.0       2.0      2.0       1.0    103.0   \n",
       "1        1.0      4.0       2.0       2.0      2.0       1.0      NaN   \n",
       "2        2.0      2.0       2.0       2.0      2.0       NaN    101.0   \n",
       "3        2.0      3.0       2.0       2.0      2.0       NaN      NaN   \n",
       "4        2.0      5.0       2.0       2.0      2.0       NaN    888.0   \n",
       "...      ...      ...       ...       ...      ...       ...      ...   \n",
       "2380042  2.0      4.0       2.0       2.0      2.0       NaN    888.0   \n",
       "2380043  2.0      1.0       2.0       2.0      2.0       NaN    888.0   \n",
       "2380044  2.0      4.0       2.0       2.0      2.0       NaN    202.0   \n",
       "2380045  1.0      3.0       2.0       2.0      2.0       NaN    888.0   \n",
       "2380046  2.0      2.0       1.0       2.0      2.0       NaN    888.0   \n",
       "\n",
       "         AVEDRNK2  DRNK3GE5  INSULIN  ASATTACK  _TOTINDA  \n",
       "0             2.0      88.0      NaN       NaN       2.0  \n",
       "1             NaN       NaN      NaN       NaN       2.0  \n",
       "2             1.0      88.0      NaN       NaN       1.0  \n",
       "3             NaN       NaN      NaN       NaN       9.0  \n",
       "4             NaN       NaN      NaN       NaN       1.0  \n",
       "...           ...       ...      ...       ...       ...  \n",
       "2380042       NaN       NaN      NaN       NaN       2.0  \n",
       "2380043       NaN       NaN      NaN       NaN       1.0  \n",
       "2380044       2.0      88.0      NaN       NaN       9.0  \n",
       "2380045       NaN       NaN      NaN       NaN       2.0  \n",
       "2380046       NaN       NaN      NaN       NaN       1.0  \n",
       "\n",
       "[2380047 rows x 19 columns]"
      ]
     },
     "execution_count": 3,
     "metadata": {},
     "output_type": "execute_result"
    }
   ],
   "source": [
    "df"
   ]
  },
  {
   "attachments": {},
   "cell_type": "markdown",
   "metadata": {},
   "source": [
    "### Selecting relevant columns"
   ]
  },
  {
   "cell_type": "code",
   "execution_count": 4,
   "metadata": {},
   "outputs": [
    {
     "data": {
      "text/plain": [
       "DIABETE3       1142\n",
       "SMOKE100      50567\n",
       "PREGNANT    2011088\n",
       "_BMI5        146916\n",
       "SMOKDAY2    1340643\n",
       "CVDSTRK3          0\n",
       "PHYSHLTH         17\n",
       "SEX               0\n",
       "GENHLTH          20\n",
       "CVDINFR4          3\n",
       "CVDCRHD4          1\n",
       "ASTHMA3           0\n",
       "STOPSMK2    2014870\n",
       "ALCDAY5       84101\n",
       "AVEDRNK2    1241557\n",
       "DRNK3GE5    1243227\n",
       "INSULIN     2240453\n",
       "ASATTACK    2374318\n",
       "_TOTINDA          0\n",
       "dtype: int64"
      ]
     },
     "execution_count": 4,
     "metadata": {},
     "output_type": "execute_result"
    }
   ],
   "source": [
    "nan_count = df.isna().sum()\n",
    "nan_count"
   ]
  },
  {
   "attachments": {},
   "cell_type": "markdown",
   "metadata": {},
   "source": [
    "### Clean data"
   ]
  },
  {
   "cell_type": "code",
   "execution_count": null,
   "metadata": {},
   "outputs": [],
   "source": [
    "#drop missing rows\n",
    "df_cleaned = df_relevant.dropna()\n",
    "\n",
    "dropped_rows = df_relevant.shape[0] - df_cleaned.shape[0]\n",
    "\n",
    "print(f\"{dropped_rows} Rows with missing values dropped\")"
   ]
  },
  {
   "cell_type": "code",
   "execution_count": null,
   "metadata": {},
   "outputs": [],
   "source": [
    "df_cleaned"
   ]
  },
  {
   "attachments": {},
   "cell_type": "markdown",
   "metadata": {},
   "source": [
    "### convert values to the right format"
   ]
  },
  {
   "attachments": {},
   "cell_type": "markdown",
   "metadata": {},
   "source": [
    "in general: drop values 7 and 9 (dont know, not set)"
   ]
  },
  {
   "cell_type": "code",
   "execution_count": null,
   "metadata": {},
   "outputs": [],
   "source": [
    "#drop 7 and 9:\n",
    "\n",
    "col_list = relevant2015_cleaned.columns.values.tolist()\n",
    "col_list\n",
    "\n",
    "# relevant2015_cleaned = relevant2015_cleaned[(relevant2015_cleaned[\"DIABETE3\"] != 7.0) & (relevant2015_cleaned[\"DIABETE3\"] != 9.0)]"
   ]
  },
  {
   "attachments": {},
   "cell_type": "markdown",
   "metadata": {},
   "source": [
    "### y: Diabete3\n",
    "#1: no, 2: yes, but only during pregnancy, 3: yes, 4:no, pre-diabetes"
   ]
  },
  {
   "cell_type": "code",
   "execution_count": null,
   "metadata": {},
   "outputs": [],
   "source": [
    "relevant2015_cleaned[\"DIABETE3\"].value_counts()\n",
    "#1: no, 2: yes, but only during pregnancy, 3: yes, 4:no, pre-diabetes ,7: Don't know, 9: refused"
   ]
  },
  {
   "cell_type": "code",
   "execution_count": null,
   "metadata": {},
   "outputs": [],
   "source": [
    "#drop 7 and 9:\n",
    "relevant2015_cleaned = relevant2015_cleaned[(relevant2015_cleaned[\"DIABETE3\"] != 7.0) & (relevant2015_cleaned[\"DIABETE3\"] != 9.0)]\n",
    "relevant2015_cleaned[\"DIABETE3\"].value_counts()\n",
    "\n",
    "\n",
    "#TODO: how to handle 4?\n",
    "#TODO: how to handle 2?"
   ]
  },
  {
   "attachments": {},
   "cell_type": "markdown",
   "metadata": {},
   "source": [
    "### x: smoke100\n",
    "Have you smoked at least 100 cigarettes in your life?"
   ]
  },
  {
   "cell_type": "code",
   "execution_count": null,
   "metadata": {},
   "outputs": [],
   "source": [
    "relevant2015_cleaned.SMOKE100.value_counts()\n",
    "\n",
    "#drop 7 and 9\n",
    "relevant2015_cleaned = relevant2015_cleaned[(relevant2015_cleaned[\"SMOKE100\"] != 7.0) & (relevant2015_cleaned[\"SMOKE100\"] != 9.0)]\n",
    "relevant2015_cleaned.SMOKE100.value_counts()\n",
    "\n",
    "#TODO: 1 = yes, 2 = no -> convert to 0 "
   ]
  },
  {
   "attachments": {},
   "cell_type": "markdown",
   "metadata": {},
   "source": [
    "### SMOKDAY2"
   ]
  },
  {
   "cell_type": "code",
   "execution_count": null,
   "metadata": {},
   "outputs": [],
   "source": [
    "relevant2015_cleaned[\"SMOKDAY2\"].value_counts()"
   ]
  },
  {
   "attachments": {},
   "cell_type": "markdown",
   "metadata": {},
   "source": [
    "### x: _BMI5"
   ]
  },
  {
   "cell_type": "code",
   "execution_count": null,
   "metadata": {},
   "outputs": [],
   "source": [
    "relevant2015_cleaned._BMI5.value_counts()\n",
    "relevant2015_cleaned._BMI5.unique()\n",
    "\n"
   ]
  }
 ],
 "metadata": {
  "kernelspec": {
   "display_name": "diabetes-forecasting-7N3oj_G9",
   "language": "python",
   "name": "python3"
  },
  "language_info": {
   "codemirror_mode": {
    "name": "ipython",
    "version": 3
   },
   "file_extension": ".py",
   "mimetype": "text/x-python",
   "name": "python",
   "nbconvert_exporter": "python",
   "pygments_lexer": "ipython3",
   "version": "3.10.0"
  },
  "orig_nbformat": 4,
  "vscode": {
   "interpreter": {
    "hash": "3425fc96645e5b2475663875f51acf25d2e781f587963b76c14ccda68ea315ce"
   }
  }
 },
 "nbformat": 4,
 "nbformat_minor": 2
}
