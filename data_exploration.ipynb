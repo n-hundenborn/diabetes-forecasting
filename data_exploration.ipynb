{
 "cells": [
  {
   "cell_type": "code",
   "execution_count": 2,
   "metadata": {},
   "outputs": [],
   "source": [
    "import pandas as pd\n",
    "import numpy as np\n",
    "import seaborn as sns\n",
    "import matplotlib.pyplot as plt\n",
    "import json"
   ]
  },
  {
   "cell_type": "code",
   "execution_count": 3,
   "metadata": {},
   "outputs": [],
   "source": [
    "df_2015 = pd.read_csv(r\".\\data\\2015.csv\")\n",
    "df_cleaned = pd.read_csv(r\".\\data\\diabetes_012_health_indicators_BRFSS2015.csv\")"
   ]
  },
  {
   "cell_type": "code",
   "execution_count": 15,
   "metadata": {},
   "outputs": [
    {
     "name": "stdout",
     "output_type": "stream",
     "text": [
      "22\n",
      "253680\n",
      "0 Diabetes_012\n",
      "1 HighBP\n",
      "2 HighChol\n",
      "3 CholCheck\n",
      "4 BMI\n",
      "5 Smoker\n",
      "6 Stroke\n",
      "7 HeartDiseaseorAttack\n",
      "8 PhysActivity\n",
      "9 Fruits\n",
      "10 Veggies\n",
      "11 HvyAlcoholConsump\n",
      "12 AnyHealthcare\n",
      "13 NoDocbcCost\n",
      "14 GenHlth\n",
      "15 MentHlth\n",
      "16 PhysHlth\n",
      "17 DiffWalk\n",
      "18 Sex\n",
      "19 Age\n",
      "20 Education\n",
      "21 Income\n"
     ]
    }
   ],
   "source": [
    "# Anzahl der Spalten\n",
    "print(df_cleaned.shape[1])\n",
    "\n",
    "# Anzahl der Reihen\n",
    "print(df_cleaned.shape[0])\n",
    "\n",
    "# Namen & Index der Spalten anzeigen\n",
    "coulums_names = df_cleaned.columns.values.tolist()\n",
    "for x, element in enumerate (coulums_names):\n",
    "    print(x, element)"
   ]
  },
  {
   "cell_type": "code",
   "execution_count": null,
   "metadata": {},
   "outputs": [],
   "source": []
  }
 ],
 "metadata": {
  "kernelspec": {
   "display_name": "Python 3",
   "language": "python",
   "name": "python3"
  },
  "language_info": {
   "codemirror_mode": {
    "name": "ipython",
    "version": 3
   },
   "file_extension": ".py",
   "mimetype": "text/x-python",
   "name": "python",
   "nbconvert_exporter": "python",
   "pygments_lexer": "ipython3",
   "version": "3.10.9"
  },
  "orig_nbformat": 4,
  "vscode": {
   "interpreter": {
    "hash": "bcc6da4854f38f2f5569e432192a562de147a81dec6a2f35d79d9b5a1f3709a6"
   }
  }
 },
 "nbformat": 4,
 "nbformat_minor": 2
}
