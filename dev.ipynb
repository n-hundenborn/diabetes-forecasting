{
 "cells": [
  {
   "cell_type": "code",
   "execution_count": null,
   "metadata": {},
   "outputs": [],
   "source": [
    "from raw_data import save_all_files"
   ]
  },
  {
   "cell_type": "code",
   "execution_count": null,
   "metadata": {},
   "outputs": [],
   "source": [
    "save_all_files()"
   ]
  }
 ],
 "metadata": {
  "kernelspec": {
   "display_name": "diabetes-forecasting-G7uteuiX",
   "language": "python",
   "name": "python3"
  },
  "language_info": {
   "codemirror_mode": {
    "name": "ipython",
    "version": 3
   },
   "file_extension": ".py",
   "mimetype": "text/x-python",
   "name": "python",
   "nbconvert_exporter": "python",
   "pygments_lexer": "ipython3",
   "version": "3.11.1"
  },
  "orig_nbformat": 4,
  "vscode": {
   "interpreter": {
    "hash": "a738919d7fd68e317ffe0d1449c3e962cfbb00fb6e93b0cd741eb497a2eee479"
   }
  }
 },
 "nbformat": 4,
 "nbformat_minor": 2
}
