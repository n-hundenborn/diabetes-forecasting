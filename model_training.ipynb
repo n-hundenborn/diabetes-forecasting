{
 "cells": [
  {
   "cell_type": "code",
   "execution_count": 234,
   "metadata": {},
   "outputs": [],
   "source": [
    "import numpy as np\n",
    "import matplotlib.pyplot as plt\n",
    "import pandas as pd\n",
    "import colorama\n",
    "\n",
    "import seaborn as sn\n",
    "from matplotlib import cm\n",
    "from mpl_toolkits.mplot3d import Axes3D\n",
    "from sklearn.neighbors import KNeighborsClassifier\n",
    "from sklearn.model_selection import train_test_split\n",
    "\n",
    "from sklearn.linear_model import LinearRegression, LogisticRegression\n"
   ]
  },
  {
   "cell_type": "code",
   "execution_count": 266,
   "metadata": {},
   "outputs": [
    {
     "data": {
      "text/html": [
       "<div>\n",
       "<style scoped>\n",
       "    .dataframe tbody tr th:only-of-type {\n",
       "        vertical-align: middle;\n",
       "    }\n",
       "\n",
       "    .dataframe tbody tr th {\n",
       "        vertical-align: top;\n",
       "    }\n",
       "\n",
       "    .dataframe thead th {\n",
       "        text-align: right;\n",
       "    }\n",
       "</style>\n",
       "<table border=\"1\" class=\"dataframe\">\n",
       "  <thead>\n",
       "    <tr style=\"text-align: right;\">\n",
       "      <th></th>\n",
       "      <th>Diabetes_012</th>\n",
       "      <th>HighBP</th>\n",
       "      <th>HighChol</th>\n",
       "      <th>CholCheck</th>\n",
       "      <th>BMI</th>\n",
       "      <th>Smoker</th>\n",
       "      <th>Stroke</th>\n",
       "      <th>HeartDiseaseorAttack</th>\n",
       "      <th>PhysActivity</th>\n",
       "      <th>Fruits</th>\n",
       "      <th>...</th>\n",
       "      <th>AnyHealthcare</th>\n",
       "      <th>NoDocbcCost</th>\n",
       "      <th>GenHlth</th>\n",
       "      <th>MentHlth</th>\n",
       "      <th>PhysHlth</th>\n",
       "      <th>DiffWalk</th>\n",
       "      <th>Sex</th>\n",
       "      <th>Age</th>\n",
       "      <th>Education</th>\n",
       "      <th>Income</th>\n",
       "    </tr>\n",
       "  </thead>\n",
       "  <tbody>\n",
       "    <tr>\n",
       "      <th>0</th>\n",
       "      <td>0.0</td>\n",
       "      <td>1.0</td>\n",
       "      <td>1.0</td>\n",
       "      <td>1.0</td>\n",
       "      <td>40.0</td>\n",
       "      <td>1.0</td>\n",
       "      <td>0.0</td>\n",
       "      <td>0.0</td>\n",
       "      <td>0.0</td>\n",
       "      <td>0.0</td>\n",
       "      <td>...</td>\n",
       "      <td>1.0</td>\n",
       "      <td>0.0</td>\n",
       "      <td>5.0</td>\n",
       "      <td>18.0</td>\n",
       "      <td>15.0</td>\n",
       "      <td>1.0</td>\n",
       "      <td>0.0</td>\n",
       "      <td>9.0</td>\n",
       "      <td>4.0</td>\n",
       "      <td>3.0</td>\n",
       "    </tr>\n",
       "    <tr>\n",
       "      <th>1</th>\n",
       "      <td>0.0</td>\n",
       "      <td>0.0</td>\n",
       "      <td>0.0</td>\n",
       "      <td>0.0</td>\n",
       "      <td>25.0</td>\n",
       "      <td>1.0</td>\n",
       "      <td>0.0</td>\n",
       "      <td>0.0</td>\n",
       "      <td>1.0</td>\n",
       "      <td>0.0</td>\n",
       "      <td>...</td>\n",
       "      <td>0.0</td>\n",
       "      <td>1.0</td>\n",
       "      <td>3.0</td>\n",
       "      <td>0.0</td>\n",
       "      <td>0.0</td>\n",
       "      <td>0.0</td>\n",
       "      <td>0.0</td>\n",
       "      <td>7.0</td>\n",
       "      <td>6.0</td>\n",
       "      <td>1.0</td>\n",
       "    </tr>\n",
       "    <tr>\n",
       "      <th>2</th>\n",
       "      <td>0.0</td>\n",
       "      <td>1.0</td>\n",
       "      <td>1.0</td>\n",
       "      <td>1.0</td>\n",
       "      <td>28.0</td>\n",
       "      <td>0.0</td>\n",
       "      <td>0.0</td>\n",
       "      <td>0.0</td>\n",
       "      <td>0.0</td>\n",
       "      <td>1.0</td>\n",
       "      <td>...</td>\n",
       "      <td>1.0</td>\n",
       "      <td>1.0</td>\n",
       "      <td>5.0</td>\n",
       "      <td>30.0</td>\n",
       "      <td>30.0</td>\n",
       "      <td>1.0</td>\n",
       "      <td>0.0</td>\n",
       "      <td>9.0</td>\n",
       "      <td>4.0</td>\n",
       "      <td>8.0</td>\n",
       "    </tr>\n",
       "    <tr>\n",
       "      <th>3</th>\n",
       "      <td>0.0</td>\n",
       "      <td>1.0</td>\n",
       "      <td>0.0</td>\n",
       "      <td>1.0</td>\n",
       "      <td>27.0</td>\n",
       "      <td>0.0</td>\n",
       "      <td>0.0</td>\n",
       "      <td>0.0</td>\n",
       "      <td>1.0</td>\n",
       "      <td>1.0</td>\n",
       "      <td>...</td>\n",
       "      <td>1.0</td>\n",
       "      <td>0.0</td>\n",
       "      <td>2.0</td>\n",
       "      <td>0.0</td>\n",
       "      <td>0.0</td>\n",
       "      <td>0.0</td>\n",
       "      <td>0.0</td>\n",
       "      <td>11.0</td>\n",
       "      <td>3.0</td>\n",
       "      <td>6.0</td>\n",
       "    </tr>\n",
       "    <tr>\n",
       "      <th>4</th>\n",
       "      <td>0.0</td>\n",
       "      <td>1.0</td>\n",
       "      <td>1.0</td>\n",
       "      <td>1.0</td>\n",
       "      <td>24.0</td>\n",
       "      <td>0.0</td>\n",
       "      <td>0.0</td>\n",
       "      <td>0.0</td>\n",
       "      <td>1.0</td>\n",
       "      <td>1.0</td>\n",
       "      <td>...</td>\n",
       "      <td>1.0</td>\n",
       "      <td>0.0</td>\n",
       "      <td>2.0</td>\n",
       "      <td>3.0</td>\n",
       "      <td>0.0</td>\n",
       "      <td>0.0</td>\n",
       "      <td>0.0</td>\n",
       "      <td>11.0</td>\n",
       "      <td>5.0</td>\n",
       "      <td>4.0</td>\n",
       "    </tr>\n",
       "  </tbody>\n",
       "</table>\n",
       "<p>5 rows × 22 columns</p>\n",
       "</div>"
      ],
      "text/plain": [
       "   Diabetes_012  HighBP  HighChol  CholCheck   BMI  Smoker  Stroke  \\\n",
       "0           0.0     1.0       1.0        1.0  40.0     1.0     0.0   \n",
       "1           0.0     0.0       0.0        0.0  25.0     1.0     0.0   \n",
       "2           0.0     1.0       1.0        1.0  28.0     0.0     0.0   \n",
       "3           0.0     1.0       0.0        1.0  27.0     0.0     0.0   \n",
       "4           0.0     1.0       1.0        1.0  24.0     0.0     0.0   \n",
       "\n",
       "   HeartDiseaseorAttack  PhysActivity  Fruits  ...  AnyHealthcare  \\\n",
       "0                   0.0           0.0     0.0  ...            1.0   \n",
       "1                   0.0           1.0     0.0  ...            0.0   \n",
       "2                   0.0           0.0     1.0  ...            1.0   \n",
       "3                   0.0           1.0     1.0  ...            1.0   \n",
       "4                   0.0           1.0     1.0  ...            1.0   \n",
       "\n",
       "   NoDocbcCost  GenHlth  MentHlth  PhysHlth  DiffWalk  Sex   Age  Education  \\\n",
       "0          0.0      5.0      18.0      15.0       1.0  0.0   9.0        4.0   \n",
       "1          1.0      3.0       0.0       0.0       0.0  0.0   7.0        6.0   \n",
       "2          1.0      5.0      30.0      30.0       1.0  0.0   9.0        4.0   \n",
       "3          0.0      2.0       0.0       0.0       0.0  0.0  11.0        3.0   \n",
       "4          0.0      2.0       3.0       0.0       0.0  0.0  11.0        5.0   \n",
       "\n",
       "   Income  \n",
       "0     3.0  \n",
       "1     1.0  \n",
       "2     8.0  \n",
       "3     6.0  \n",
       "4     4.0  \n",
       "\n",
       "[5 rows x 22 columns]"
      ]
     },
     "execution_count": 266,
     "metadata": {},
     "output_type": "execute_result"
    }
   ],
   "source": [
    "df = pd.read_csv(r\"C:\\Users\\Mesut\\Projekt TechLabs\\Projekt mit Clean Daten\\diabetes_clear_datas.csv\")\n",
    "df = pd.DataFrame(df)\n",
    "df.head()"
   ]
  },
  {
   "cell_type": "code",
   "execution_count": 248,
   "metadata": {},
   "outputs": [
    {
     "data": {
      "text/plain": [
       "(253680, 22)"
      ]
     },
     "execution_count": 248,
     "metadata": {},
     "output_type": "execute_result"
    }
   ],
   "source": [
    "df.shape"
   ]
  },
  {
   "cell_type": "code",
   "execution_count": 267,
   "metadata": {},
   "outputs": [
    {
     "data": {
      "text/html": [
       "<div>\n",
       "<style scoped>\n",
       "    .dataframe tbody tr th:only-of-type {\n",
       "        vertical-align: middle;\n",
       "    }\n",
       "\n",
       "    .dataframe tbody tr th {\n",
       "        vertical-align: top;\n",
       "    }\n",
       "\n",
       "    .dataframe thead th {\n",
       "        text-align: right;\n",
       "    }\n",
       "</style>\n",
       "<table border=\"1\" class=\"dataframe\">\n",
       "  <thead>\n",
       "    <tr style=\"text-align: right;\">\n",
       "      <th></th>\n",
       "      <th>Diabetes_012</th>\n",
       "      <th>HighBP</th>\n",
       "      <th>HighChol</th>\n",
       "      <th>CholCheck</th>\n",
       "      <th>BMI</th>\n",
       "      <th>Smoker</th>\n",
       "      <th>Stroke</th>\n",
       "      <th>HeartDiseaseorAttack</th>\n",
       "      <th>PhysActivity</th>\n",
       "      <th>Fruits</th>\n",
       "      <th>...</th>\n",
       "      <th>AnyHealthcare</th>\n",
       "      <th>NoDocbcCost</th>\n",
       "      <th>GenHlth</th>\n",
       "      <th>MentHlth</th>\n",
       "      <th>PhysHlth</th>\n",
       "      <th>DiffWalk</th>\n",
       "      <th>Sex</th>\n",
       "      <th>Age</th>\n",
       "      <th>Education</th>\n",
       "      <th>Income</th>\n",
       "    </tr>\n",
       "  </thead>\n",
       "  <tbody>\n",
       "    <tr>\n",
       "      <th>0</th>\n",
       "      <td>0.0</td>\n",
       "      <td>1.0</td>\n",
       "      <td>1.0</td>\n",
       "      <td>1.0</td>\n",
       "      <td>40.0</td>\n",
       "      <td>1.0</td>\n",
       "      <td>0.0</td>\n",
       "      <td>0.0</td>\n",
       "      <td>0.0</td>\n",
       "      <td>0.0</td>\n",
       "      <td>...</td>\n",
       "      <td>1.0</td>\n",
       "      <td>0.0</td>\n",
       "      <td>5.0</td>\n",
       "      <td>18.0</td>\n",
       "      <td>15.0</td>\n",
       "      <td>1.0</td>\n",
       "      <td>0.0</td>\n",
       "      <td>9.0</td>\n",
       "      <td>4.0</td>\n",
       "      <td>3.0</td>\n",
       "    </tr>\n",
       "    <tr>\n",
       "      <th>1</th>\n",
       "      <td>0.0</td>\n",
       "      <td>0.0</td>\n",
       "      <td>0.0</td>\n",
       "      <td>0.0</td>\n",
       "      <td>25.0</td>\n",
       "      <td>1.0</td>\n",
       "      <td>0.0</td>\n",
       "      <td>0.0</td>\n",
       "      <td>1.0</td>\n",
       "      <td>0.0</td>\n",
       "      <td>...</td>\n",
       "      <td>0.0</td>\n",
       "      <td>1.0</td>\n",
       "      <td>3.0</td>\n",
       "      <td>0.0</td>\n",
       "      <td>0.0</td>\n",
       "      <td>0.0</td>\n",
       "      <td>0.0</td>\n",
       "      <td>7.0</td>\n",
       "      <td>6.0</td>\n",
       "      <td>1.0</td>\n",
       "    </tr>\n",
       "    <tr>\n",
       "      <th>2</th>\n",
       "      <td>0.0</td>\n",
       "      <td>1.0</td>\n",
       "      <td>1.0</td>\n",
       "      <td>1.0</td>\n",
       "      <td>28.0</td>\n",
       "      <td>0.0</td>\n",
       "      <td>0.0</td>\n",
       "      <td>0.0</td>\n",
       "      <td>0.0</td>\n",
       "      <td>1.0</td>\n",
       "      <td>...</td>\n",
       "      <td>1.0</td>\n",
       "      <td>1.0</td>\n",
       "      <td>5.0</td>\n",
       "      <td>30.0</td>\n",
       "      <td>30.0</td>\n",
       "      <td>1.0</td>\n",
       "      <td>0.0</td>\n",
       "      <td>9.0</td>\n",
       "      <td>4.0</td>\n",
       "      <td>8.0</td>\n",
       "    </tr>\n",
       "    <tr>\n",
       "      <th>3</th>\n",
       "      <td>0.0</td>\n",
       "      <td>1.0</td>\n",
       "      <td>0.0</td>\n",
       "      <td>1.0</td>\n",
       "      <td>27.0</td>\n",
       "      <td>0.0</td>\n",
       "      <td>0.0</td>\n",
       "      <td>0.0</td>\n",
       "      <td>1.0</td>\n",
       "      <td>1.0</td>\n",
       "      <td>...</td>\n",
       "      <td>1.0</td>\n",
       "      <td>0.0</td>\n",
       "      <td>2.0</td>\n",
       "      <td>0.0</td>\n",
       "      <td>0.0</td>\n",
       "      <td>0.0</td>\n",
       "      <td>0.0</td>\n",
       "      <td>11.0</td>\n",
       "      <td>3.0</td>\n",
       "      <td>6.0</td>\n",
       "    </tr>\n",
       "    <tr>\n",
       "      <th>4</th>\n",
       "      <td>0.0</td>\n",
       "      <td>1.0</td>\n",
       "      <td>1.0</td>\n",
       "      <td>1.0</td>\n",
       "      <td>24.0</td>\n",
       "      <td>0.0</td>\n",
       "      <td>0.0</td>\n",
       "      <td>0.0</td>\n",
       "      <td>1.0</td>\n",
       "      <td>1.0</td>\n",
       "      <td>...</td>\n",
       "      <td>1.0</td>\n",
       "      <td>0.0</td>\n",
       "      <td>2.0</td>\n",
       "      <td>3.0</td>\n",
       "      <td>0.0</td>\n",
       "      <td>0.0</td>\n",
       "      <td>0.0</td>\n",
       "      <td>11.0</td>\n",
       "      <td>5.0</td>\n",
       "      <td>4.0</td>\n",
       "    </tr>\n",
       "  </tbody>\n",
       "</table>\n",
       "<p>5 rows × 22 columns</p>\n",
       "</div>"
      ],
      "text/plain": [
       "   Diabetes_012  HighBP  HighChol  CholCheck   BMI  Smoker  Stroke  \\\n",
       "0           0.0     1.0       1.0        1.0  40.0     1.0     0.0   \n",
       "1           0.0     0.0       0.0        0.0  25.0     1.0     0.0   \n",
       "2           0.0     1.0       1.0        1.0  28.0     0.0     0.0   \n",
       "3           0.0     1.0       0.0        1.0  27.0     0.0     0.0   \n",
       "4           0.0     1.0       1.0        1.0  24.0     0.0     0.0   \n",
       "\n",
       "   HeartDiseaseorAttack  PhysActivity  Fruits  ...  AnyHealthcare  \\\n",
       "0                   0.0           0.0     0.0  ...            1.0   \n",
       "1                   0.0           1.0     0.0  ...            0.0   \n",
       "2                   0.0           0.0     1.0  ...            1.0   \n",
       "3                   0.0           1.0     1.0  ...            1.0   \n",
       "4                   0.0           1.0     1.0  ...            1.0   \n",
       "\n",
       "   NoDocbcCost  GenHlth  MentHlth  PhysHlth  DiffWalk  Sex   Age  Education  \\\n",
       "0          0.0      5.0      18.0      15.0       1.0  0.0   9.0        4.0   \n",
       "1          1.0      3.0       0.0       0.0       0.0  0.0   7.0        6.0   \n",
       "2          1.0      5.0      30.0      30.0       1.0  0.0   9.0        4.0   \n",
       "3          0.0      2.0       0.0       0.0       0.0  0.0  11.0        3.0   \n",
       "4          0.0      2.0       3.0       0.0       0.0  0.0  11.0        5.0   \n",
       "\n",
       "   Income  \n",
       "0     3.0  \n",
       "1     1.0  \n",
       "2     8.0  \n",
       "3     6.0  \n",
       "4     4.0  \n",
       "\n",
       "[5 rows x 22 columns]"
      ]
     },
     "execution_count": 267,
     "metadata": {},
     "output_type": "execute_result"
    }
   ],
   "source": [
    "index_df = df.loc[0: , ['Diabetes_012', 'Smoker', 'PhysActivity', 'Age', 'BMI', 'Stroke', 'HeartDiseaseorAttack']]\n",
    "df.head()"
   ]
  },
  {
   "cell_type": "code",
   "execution_count": 268,
   "metadata": {},
   "outputs": [
    {
     "data": {
      "text/plain": [
       "{0.0: 'Non_Diabetes', 2.0: 'Diabetes_2', 1.0: nan}"
      ]
     },
     "execution_count": 268,
     "metadata": {},
     "output_type": "execute_result"
    }
   ],
   "source": [
    "#df = df[df['Diabetes_012'] != 1.0]\n",
    "index_df = df['Diabetes_012'].map({0.0:'Non_Diabetes', 2.0:'Diabetes_2'})\n",
    "lookup_diabetes_012 = dict(zip(df.Diabetes_012.unique(), index_df.unique()))  \n",
    "#lookup_diabetes_012.pop(1.0)\n",
    "lookup_diabetes_012\n"
   ]
  },
  {
   "cell_type": "code",
   "execution_count": 270,
   "metadata": {},
   "outputs": [
    {
     "data": {
      "application/javascript": "/* Put everything inside the global mpl namespace */\n/* global mpl */\nwindow.mpl = {};\n\nmpl.get_websocket_type = function () {\n    if (typeof WebSocket !== 'undefined') {\n        return WebSocket;\n    } else if (typeof MozWebSocket !== 'undefined') {\n        return MozWebSocket;\n    } else {\n        alert(\n            'Your browser does not have WebSocket support. ' +\n                'Please try Chrome, Safari or Firefox ≥ 6. ' +\n                'Firefox 4 and 5 are also supported but you ' +\n                'have to enable WebSockets in about:config.'\n        );\n    }\n};\n\nmpl.figure = function (figure_id, websocket, ondownload, parent_element) {\n    this.id = figure_id;\n\n    this.ws = websocket;\n\n    this.supports_binary = this.ws.binaryType !== undefined;\n\n    if (!this.supports_binary) {\n        var warnings = document.getElementById('mpl-warnings');\n        if (warnings) {\n            warnings.style.display = 'block';\n            warnings.textContent =\n                'This browser does not support binary websocket messages. ' +\n                'Performance may be slow.';\n        }\n    }\n\n    this.imageObj = new Image();\n\n    this.context = undefined;\n    this.message = undefined;\n    this.canvas = undefined;\n    this.rubberband_canvas = undefined;\n    this.rubberband_context = undefined;\n    this.format_dropdown = undefined;\n\n    this.image_mode = 'full';\n\n    this.root = document.createElement('div');\n    this.root.setAttribute('style', 'display: inline-block');\n    this._root_extra_style(this.root);\n\n    parent_element.appendChild(this.root);\n\n    this._init_header(this);\n    this._init_canvas(this);\n    this._init_toolbar(this);\n\n    var fig = this;\n\n    this.waiting = false;\n\n    this.ws.onopen = function () {\n        fig.send_message('supports_binary', { value: fig.supports_binary });\n        fig.send_message('send_image_mode', {});\n        if (fig.ratio !== 1) {\n            fig.send_message('set_device_pixel_ratio', {\n                device_pixel_ratio: fig.ratio,\n            });\n        }\n        fig.send_message('refresh', {});\n    };\n\n    this.imageObj.onload = function () {\n        if (fig.image_mode === 'full') {\n            // Full images could contain transparency (where diff images\n            // almost always do), so we need to clear the canvas so that\n            // there is no ghosting.\n            fig.context.clearRect(0, 0, fig.canvas.width, fig.canvas.height);\n        }\n        fig.context.drawImage(fig.imageObj, 0, 0);\n    };\n\n    this.imageObj.onunload = function () {\n        fig.ws.close();\n    };\n\n    this.ws.onmessage = this._make_on_message_function(this);\n\n    this.ondownload = ondownload;\n};\n\nmpl.figure.prototype._init_header = function () {\n    var titlebar = document.createElement('div');\n    titlebar.classList =\n        'ui-dialog-titlebar ui-widget-header ui-corner-all ui-helper-clearfix';\n    var titletext = document.createElement('div');\n    titletext.classList = 'ui-dialog-title';\n    titletext.setAttribute(\n        'style',\n        'width: 100%; text-align: center; padding: 3px;'\n    );\n    titlebar.appendChild(titletext);\n    this.root.appendChild(titlebar);\n    this.header = titletext;\n};\n\nmpl.figure.prototype._canvas_extra_style = function (_canvas_div) {};\n\nmpl.figure.prototype._root_extra_style = function (_canvas_div) {};\n\nmpl.figure.prototype._init_canvas = function () {\n    var fig = this;\n\n    var canvas_div = (this.canvas_div = document.createElement('div'));\n    canvas_div.setAttribute(\n        'style',\n        'border: 1px solid #ddd;' +\n            'box-sizing: content-box;' +\n            'clear: both;' +\n            'min-height: 1px;' +\n            'min-width: 1px;' +\n            'outline: 0;' +\n            'overflow: hidden;' +\n            'position: relative;' +\n            'resize: both;'\n    );\n\n    function on_keyboard_event_closure(name) {\n        return function (event) {\n            return fig.key_event(event, name);\n        };\n    }\n\n    canvas_div.addEventListener(\n        'keydown',\n        on_keyboard_event_closure('key_press')\n    );\n    canvas_div.addEventListener(\n        'keyup',\n        on_keyboard_event_closure('key_release')\n    );\n\n    this._canvas_extra_style(canvas_div);\n    this.root.appendChild(canvas_div);\n\n    var canvas = (this.canvas = document.createElement('canvas'));\n    canvas.classList.add('mpl-canvas');\n    canvas.setAttribute('style', 'box-sizing: content-box;');\n\n    this.context = canvas.getContext('2d');\n\n    var backingStore =\n        this.context.backingStorePixelRatio ||\n        this.context.webkitBackingStorePixelRatio ||\n        this.context.mozBackingStorePixelRatio ||\n        this.context.msBackingStorePixelRatio ||\n        this.context.oBackingStorePixelRatio ||\n        this.context.backingStorePixelRatio ||\n        1;\n\n    this.ratio = (window.devicePixelRatio || 1) / backingStore;\n\n    var rubberband_canvas = (this.rubberband_canvas = document.createElement(\n        'canvas'\n    ));\n    rubberband_canvas.setAttribute(\n        'style',\n        'box-sizing: content-box; position: absolute; left: 0; top: 0; z-index: 1;'\n    );\n\n    // Apply a ponyfill if ResizeObserver is not implemented by browser.\n    if (this.ResizeObserver === undefined) {\n        if (window.ResizeObserver !== undefined) {\n            this.ResizeObserver = window.ResizeObserver;\n        } else {\n            var obs = _JSXTOOLS_RESIZE_OBSERVER({});\n            this.ResizeObserver = obs.ResizeObserver;\n        }\n    }\n\n    this.resizeObserverInstance = new this.ResizeObserver(function (entries) {\n        var nentries = entries.length;\n        for (var i = 0; i < nentries; i++) {\n            var entry = entries[i];\n            var width, height;\n            if (entry.contentBoxSize) {\n                if (entry.contentBoxSize instanceof Array) {\n                    // Chrome 84 implements new version of spec.\n                    width = entry.contentBoxSize[0].inlineSize;\n                    height = entry.contentBoxSize[0].blockSize;\n                } else {\n                    // Firefox implements old version of spec.\n                    width = entry.contentBoxSize.inlineSize;\n                    height = entry.contentBoxSize.blockSize;\n                }\n            } else {\n                // Chrome <84 implements even older version of spec.\n                width = entry.contentRect.width;\n                height = entry.contentRect.height;\n            }\n\n            // Keep the size of the canvas and rubber band canvas in sync with\n            // the canvas container.\n            if (entry.devicePixelContentBoxSize) {\n                // Chrome 84 implements new version of spec.\n                canvas.setAttribute(\n                    'width',\n                    entry.devicePixelContentBoxSize[0].inlineSize\n                );\n                canvas.setAttribute(\n                    'height',\n                    entry.devicePixelContentBoxSize[0].blockSize\n                );\n            } else {\n                canvas.setAttribute('width', width * fig.ratio);\n                canvas.setAttribute('height', height * fig.ratio);\n            }\n            canvas.setAttribute(\n                'style',\n                'width: ' + width + 'px; height: ' + height + 'px;'\n            );\n\n            rubberband_canvas.setAttribute('width', width);\n            rubberband_canvas.setAttribute('height', height);\n\n            // And update the size in Python. We ignore the initial 0/0 size\n            // that occurs as the element is placed into the DOM, which should\n            // otherwise not happen due to the minimum size styling.\n            if (fig.ws.readyState == 1 && width != 0 && height != 0) {\n                fig.request_resize(width, height);\n            }\n        }\n    });\n    this.resizeObserverInstance.observe(canvas_div);\n\n    function on_mouse_event_closure(name) {\n        return function (event) {\n            return fig.mouse_event(event, name);\n        };\n    }\n\n    rubberband_canvas.addEventListener(\n        'mousedown',\n        on_mouse_event_closure('button_press')\n    );\n    rubberband_canvas.addEventListener(\n        'mouseup',\n        on_mouse_event_closure('button_release')\n    );\n    rubberband_canvas.addEventListener(\n        'dblclick',\n        on_mouse_event_closure('dblclick')\n    );\n    // Throttle sequential mouse events to 1 every 20ms.\n    rubberband_canvas.addEventListener(\n        'mousemove',\n        on_mouse_event_closure('motion_notify')\n    );\n\n    rubberband_canvas.addEventListener(\n        'mouseenter',\n        on_mouse_event_closure('figure_enter')\n    );\n    rubberband_canvas.addEventListener(\n        'mouseleave',\n        on_mouse_event_closure('figure_leave')\n    );\n\n    canvas_div.addEventListener('wheel', function (event) {\n        if (event.deltaY < 0) {\n            event.step = 1;\n        } else {\n            event.step = -1;\n        }\n        on_mouse_event_closure('scroll')(event);\n    });\n\n    canvas_div.appendChild(canvas);\n    canvas_div.appendChild(rubberband_canvas);\n\n    this.rubberband_context = rubberband_canvas.getContext('2d');\n    this.rubberband_context.strokeStyle = '#000000';\n\n    this._resize_canvas = function (width, height, forward) {\n        if (forward) {\n            canvas_div.style.width = width + 'px';\n            canvas_div.style.height = height + 'px';\n        }\n    };\n\n    // Disable right mouse context menu.\n    this.rubberband_canvas.addEventListener('contextmenu', function (_e) {\n        event.preventDefault();\n        return false;\n    });\n\n    function set_focus() {\n        canvas.focus();\n        canvas_div.focus();\n    }\n\n    window.setTimeout(set_focus, 100);\n};\n\nmpl.figure.prototype._init_toolbar = function () {\n    var fig = this;\n\n    var toolbar = document.createElement('div');\n    toolbar.classList = 'mpl-toolbar';\n    this.root.appendChild(toolbar);\n\n    function on_click_closure(name) {\n        return function (_event) {\n            return fig.toolbar_button_onclick(name);\n        };\n    }\n\n    function on_mouseover_closure(tooltip) {\n        return function (event) {\n            if (!event.currentTarget.disabled) {\n                return fig.toolbar_button_onmouseover(tooltip);\n            }\n        };\n    }\n\n    fig.buttons = {};\n    var buttonGroup = document.createElement('div');\n    buttonGroup.classList = 'mpl-button-group';\n    for (var toolbar_ind in mpl.toolbar_items) {\n        var name = mpl.toolbar_items[toolbar_ind][0];\n        var tooltip = mpl.toolbar_items[toolbar_ind][1];\n        var image = mpl.toolbar_items[toolbar_ind][2];\n        var method_name = mpl.toolbar_items[toolbar_ind][3];\n\n        if (!name) {\n            /* Instead of a spacer, we start a new button group. */\n            if (buttonGroup.hasChildNodes()) {\n                toolbar.appendChild(buttonGroup);\n            }\n            buttonGroup = document.createElement('div');\n            buttonGroup.classList = 'mpl-button-group';\n            continue;\n        }\n\n        var button = (fig.buttons[name] = document.createElement('button'));\n        button.classList = 'mpl-widget';\n        button.setAttribute('role', 'button');\n        button.setAttribute('aria-disabled', 'false');\n        button.addEventListener('click', on_click_closure(method_name));\n        button.addEventListener('mouseover', on_mouseover_closure(tooltip));\n\n        var icon_img = document.createElement('img');\n        icon_img.src = '_images/' + image + '.png';\n        icon_img.srcset = '_images/' + image + '_large.png 2x';\n        icon_img.alt = tooltip;\n        button.appendChild(icon_img);\n\n        buttonGroup.appendChild(button);\n    }\n\n    if (buttonGroup.hasChildNodes()) {\n        toolbar.appendChild(buttonGroup);\n    }\n\n    var fmt_picker = document.createElement('select');\n    fmt_picker.classList = 'mpl-widget';\n    toolbar.appendChild(fmt_picker);\n    this.format_dropdown = fmt_picker;\n\n    for (var ind in mpl.extensions) {\n        var fmt = mpl.extensions[ind];\n        var option = document.createElement('option');\n        option.selected = fmt === mpl.default_extension;\n        option.innerHTML = fmt;\n        fmt_picker.appendChild(option);\n    }\n\n    var status_bar = document.createElement('span');\n    status_bar.classList = 'mpl-message';\n    toolbar.appendChild(status_bar);\n    this.message = status_bar;\n};\n\nmpl.figure.prototype.request_resize = function (x_pixels, y_pixels) {\n    // Request matplotlib to resize the figure. Matplotlib will then trigger a resize in the client,\n    // which will in turn request a refresh of the image.\n    this.send_message('resize', { width: x_pixels, height: y_pixels });\n};\n\nmpl.figure.prototype.send_message = function (type, properties) {\n    properties['type'] = type;\n    properties['figure_id'] = this.id;\n    this.ws.send(JSON.stringify(properties));\n};\n\nmpl.figure.prototype.send_draw_message = function () {\n    if (!this.waiting) {\n        this.waiting = true;\n        this.ws.send(JSON.stringify({ type: 'draw', figure_id: this.id }));\n    }\n};\n\nmpl.figure.prototype.handle_save = function (fig, _msg) {\n    var format_dropdown = fig.format_dropdown;\n    var format = format_dropdown.options[format_dropdown.selectedIndex].value;\n    fig.ondownload(fig, format);\n};\n\nmpl.figure.prototype.handle_resize = function (fig, msg) {\n    var size = msg['size'];\n    if (size[0] !== fig.canvas.width || size[1] !== fig.canvas.height) {\n        fig._resize_canvas(size[0], size[1], msg['forward']);\n        fig.send_message('refresh', {});\n    }\n};\n\nmpl.figure.prototype.handle_rubberband = function (fig, msg) {\n    var x0 = msg['x0'] / fig.ratio;\n    var y0 = (fig.canvas.height - msg['y0']) / fig.ratio;\n    var x1 = msg['x1'] / fig.ratio;\n    var y1 = (fig.canvas.height - msg['y1']) / fig.ratio;\n    x0 = Math.floor(x0) + 0.5;\n    y0 = Math.floor(y0) + 0.5;\n    x1 = Math.floor(x1) + 0.5;\n    y1 = Math.floor(y1) + 0.5;\n    var min_x = Math.min(x0, x1);\n    var min_y = Math.min(y0, y1);\n    var width = Math.abs(x1 - x0);\n    var height = Math.abs(y1 - y0);\n\n    fig.rubberband_context.clearRect(\n        0,\n        0,\n        fig.canvas.width / fig.ratio,\n        fig.canvas.height / fig.ratio\n    );\n\n    fig.rubberband_context.strokeRect(min_x, min_y, width, height);\n};\n\nmpl.figure.prototype.handle_figure_label = function (fig, msg) {\n    // Updates the figure title.\n    fig.header.textContent = msg['label'];\n};\n\nmpl.figure.prototype.handle_cursor = function (fig, msg) {\n    fig.rubberband_canvas.style.cursor = msg['cursor'];\n};\n\nmpl.figure.prototype.handle_message = function (fig, msg) {\n    fig.message.textContent = msg['message'];\n};\n\nmpl.figure.prototype.handle_draw = function (fig, _msg) {\n    // Request the server to send over a new figure.\n    fig.send_draw_message();\n};\n\nmpl.figure.prototype.handle_image_mode = function (fig, msg) {\n    fig.image_mode = msg['mode'];\n};\n\nmpl.figure.prototype.handle_history_buttons = function (fig, msg) {\n    for (var key in msg) {\n        if (!(key in fig.buttons)) {\n            continue;\n        }\n        fig.buttons[key].disabled = !msg[key];\n        fig.buttons[key].setAttribute('aria-disabled', !msg[key]);\n    }\n};\n\nmpl.figure.prototype.handle_navigate_mode = function (fig, msg) {\n    if (msg['mode'] === 'PAN') {\n        fig.buttons['Pan'].classList.add('active');\n        fig.buttons['Zoom'].classList.remove('active');\n    } else if (msg['mode'] === 'ZOOM') {\n        fig.buttons['Pan'].classList.remove('active');\n        fig.buttons['Zoom'].classList.add('active');\n    } else {\n        fig.buttons['Pan'].classList.remove('active');\n        fig.buttons['Zoom'].classList.remove('active');\n    }\n};\n\nmpl.figure.prototype.updated_canvas_event = function () {\n    // Called whenever the canvas gets updated.\n    this.send_message('ack', {});\n};\n\n// A function to construct a web socket function for onmessage handling.\n// Called in the figure constructor.\nmpl.figure.prototype._make_on_message_function = function (fig) {\n    return function socket_on_message(evt) {\n        if (evt.data instanceof Blob) {\n            var img = evt.data;\n            if (img.type !== 'image/png') {\n                /* FIXME: We get \"Resource interpreted as Image but\n                 * transferred with MIME type text/plain:\" errors on\n                 * Chrome.  But how to set the MIME type?  It doesn't seem\n                 * to be part of the websocket stream */\n                img.type = 'image/png';\n            }\n\n            /* Free the memory for the previous frames */\n            if (fig.imageObj.src) {\n                (window.URL || window.webkitURL).revokeObjectURL(\n                    fig.imageObj.src\n                );\n            }\n\n            fig.imageObj.src = (window.URL || window.webkitURL).createObjectURL(\n                img\n            );\n            fig.updated_canvas_event();\n            fig.waiting = false;\n            return;\n        } else if (\n            typeof evt.data === 'string' &&\n            evt.data.slice(0, 21) === 'data:image/png;base64'\n        ) {\n            fig.imageObj.src = evt.data;\n            fig.updated_canvas_event();\n            fig.waiting = false;\n            return;\n        }\n\n        var msg = JSON.parse(evt.data);\n        var msg_type = msg['type'];\n\n        // Call the  \"handle_{type}\" callback, which takes\n        // the figure and JSON message as its only arguments.\n        try {\n            var callback = fig['handle_' + msg_type];\n        } catch (e) {\n            console.log(\n                \"No handler for the '\" + msg_type + \"' message type: \",\n                msg\n            );\n            return;\n        }\n\n        if (callback) {\n            try {\n                // console.log(\"Handling '\" + msg_type + \"' message: \", msg);\n                callback(fig, msg);\n            } catch (e) {\n                console.log(\n                    \"Exception inside the 'handler_\" + msg_type + \"' callback:\",\n                    e,\n                    e.stack,\n                    msg\n                );\n            }\n        }\n    };\n};\n\n// from https://stackoverflow.com/questions/1114465/getting-mouse-location-in-canvas\nmpl.findpos = function (e) {\n    //this section is from http://www.quirksmode.org/js/events_properties.html\n    var targ;\n    if (!e) {\n        e = window.event;\n    }\n    if (e.target) {\n        targ = e.target;\n    } else if (e.srcElement) {\n        targ = e.srcElement;\n    }\n    if (targ.nodeType === 3) {\n        // defeat Safari bug\n        targ = targ.parentNode;\n    }\n\n    // pageX,Y are the mouse positions relative to the document\n    var boundingRect = targ.getBoundingClientRect();\n    var x = e.pageX - (boundingRect.left + document.body.scrollLeft);\n    var y = e.pageY - (boundingRect.top + document.body.scrollTop);\n\n    return { x: x, y: y };\n};\n\n/*\n * return a copy of an object with only non-object keys\n * we need this to avoid circular references\n * https://stackoverflow.com/a/24161582/3208463\n */\nfunction simpleKeys(original) {\n    return Object.keys(original).reduce(function (obj, key) {\n        if (typeof original[key] !== 'object') {\n            obj[key] = original[key];\n        }\n        return obj;\n    }, {});\n}\n\nmpl.figure.prototype.mouse_event = function (event, name) {\n    var canvas_pos = mpl.findpos(event);\n\n    if (name === 'button_press') {\n        this.canvas.focus();\n        this.canvas_div.focus();\n    }\n\n    var x = canvas_pos.x * this.ratio;\n    var y = canvas_pos.y * this.ratio;\n\n    this.send_message(name, {\n        x: x,\n        y: y,\n        button: event.button,\n        step: event.step,\n        guiEvent: simpleKeys(event),\n    });\n\n    /* This prevents the web browser from automatically changing to\n     * the text insertion cursor when the button is pressed.  We want\n     * to control all of the cursor setting manually through the\n     * 'cursor' event from matplotlib */\n    event.preventDefault();\n    return false;\n};\n\nmpl.figure.prototype._key_event_extra = function (_event, _name) {\n    // Handle any extra behaviour associated with a key event\n};\n\nmpl.figure.prototype.key_event = function (event, name) {\n    // Prevent repeat events\n    if (name === 'key_press') {\n        if (event.key === this._key) {\n            return;\n        } else {\n            this._key = event.key;\n        }\n    }\n    if (name === 'key_release') {\n        this._key = null;\n    }\n\n    var value = '';\n    if (event.ctrlKey && event.key !== 'Control') {\n        value += 'ctrl+';\n    }\n    else if (event.altKey && event.key !== 'Alt') {\n        value += 'alt+';\n    }\n    else if (event.shiftKey && event.key !== 'Shift') {\n        value += 'shift+';\n    }\n\n    value += 'k' + event.key;\n\n    this._key_event_extra(event, name);\n\n    this.send_message(name, { key: value, guiEvent: simpleKeys(event) });\n    return false;\n};\n\nmpl.figure.prototype.toolbar_button_onclick = function (name) {\n    if (name === 'download') {\n        this.handle_save(this, null);\n    } else {\n        this.send_message('toolbar_button', { name: name });\n    }\n};\n\nmpl.figure.prototype.toolbar_button_onmouseover = function (tooltip) {\n    this.message.textContent = tooltip;\n};\n\n///////////////// REMAINING CONTENT GENERATED BY embed_js.py /////////////////\n// prettier-ignore\nvar _JSXTOOLS_RESIZE_OBSERVER=function(A){var t,i=new WeakMap,n=new WeakMap,a=new WeakMap,r=new WeakMap,o=new Set;function s(e){if(!(this instanceof s))throw new TypeError(\"Constructor requires 'new' operator\");i.set(this,e)}function h(){throw new TypeError(\"Function is not a constructor\")}function c(e,t,i,n){e=0 in arguments?Number(arguments[0]):0,t=1 in arguments?Number(arguments[1]):0,i=2 in arguments?Number(arguments[2]):0,n=3 in arguments?Number(arguments[3]):0,this.right=(this.x=this.left=e)+(this.width=i),this.bottom=(this.y=this.top=t)+(this.height=n),Object.freeze(this)}function d(){t=requestAnimationFrame(d);var s=new WeakMap,p=new Set;o.forEach((function(t){r.get(t).forEach((function(i){var r=t instanceof window.SVGElement,o=a.get(t),d=r?0:parseFloat(o.paddingTop),f=r?0:parseFloat(o.paddingRight),l=r?0:parseFloat(o.paddingBottom),u=r?0:parseFloat(o.paddingLeft),g=r?0:parseFloat(o.borderTopWidth),m=r?0:parseFloat(o.borderRightWidth),w=r?0:parseFloat(o.borderBottomWidth),b=u+f,F=d+l,v=(r?0:parseFloat(o.borderLeftWidth))+m,W=g+w,y=r?0:t.offsetHeight-W-t.clientHeight,E=r?0:t.offsetWidth-v-t.clientWidth,R=b+v,z=F+W,M=r?t.width:parseFloat(o.width)-R-E,O=r?t.height:parseFloat(o.height)-z-y;if(n.has(t)){var k=n.get(t);if(k[0]===M&&k[1]===O)return}n.set(t,[M,O]);var S=Object.create(h.prototype);S.target=t,S.contentRect=new c(u,d,M,O),s.has(i)||(s.set(i,[]),p.add(i)),s.get(i).push(S)}))})),p.forEach((function(e){i.get(e).call(e,s.get(e),e)}))}return s.prototype.observe=function(i){if(i instanceof window.Element){r.has(i)||(r.set(i,new Set),o.add(i),a.set(i,window.getComputedStyle(i)));var n=r.get(i);n.has(this)||n.add(this),cancelAnimationFrame(t),t=requestAnimationFrame(d)}},s.prototype.unobserve=function(i){if(i instanceof window.Element&&r.has(i)){var n=r.get(i);n.has(this)&&(n.delete(this),n.size||(r.delete(i),o.delete(i))),n.size||r.delete(i),o.size||cancelAnimationFrame(t)}},A.DOMRectReadOnly=c,A.ResizeObserver=s,A.ResizeObserverEntry=h,A}; // eslint-disable-line\nmpl.toolbar_items = [[\"Home\", \"Reset original view\", \"fa fa-home icon-home\", \"home\"], [\"Back\", \"Back to previous view\", \"fa fa-arrow-left icon-arrow-left\", \"back\"], [\"Forward\", \"Forward to next view\", \"fa fa-arrow-right icon-arrow-right\", \"forward\"], [\"\", \"\", \"\", \"\"], [\"Pan\", \"Left button pans, Right button zooms\\nx/y fixes axis, CTRL fixes aspect\", \"fa fa-arrows icon-move\", \"pan\"], [\"Zoom\", \"Zoom to rectangle\\nx/y fixes axis\", \"fa fa-square-o icon-check-empty\", \"zoom\"], [\"\", \"\", \"\", \"\"], [\"Download\", \"Download plot\", \"fa fa-floppy-o icon-save\", \"download\"]];\n\nmpl.extensions = [\"eps\", \"jpeg\", \"pgf\", \"pdf\", \"png\", \"ps\", \"raw\", \"svg\", \"tif\"];\n\nmpl.default_extension = \"png\";/* global mpl */\n\nvar comm_websocket_adapter = function (comm) {\n    // Create a \"websocket\"-like object which calls the given IPython comm\n    // object with the appropriate methods. Currently this is a non binary\n    // socket, so there is still some room for performance tuning.\n    var ws = {};\n\n    ws.binaryType = comm.kernel.ws.binaryType;\n    ws.readyState = comm.kernel.ws.readyState;\n    function updateReadyState(_event) {\n        if (comm.kernel.ws) {\n            ws.readyState = comm.kernel.ws.readyState;\n        } else {\n            ws.readyState = 3; // Closed state.\n        }\n    }\n    comm.kernel.ws.addEventListener('open', updateReadyState);\n    comm.kernel.ws.addEventListener('close', updateReadyState);\n    comm.kernel.ws.addEventListener('error', updateReadyState);\n\n    ws.close = function () {\n        comm.close();\n    };\n    ws.send = function (m) {\n        //console.log('sending', m);\n        comm.send(m);\n    };\n    // Register the callback with on_msg.\n    comm.on_msg(function (msg) {\n        //console.log('receiving', msg['content']['data'], msg);\n        var data = msg['content']['data'];\n        if (data['blob'] !== undefined) {\n            data = {\n                data: new Blob(msg['buffers'], { type: data['blob'] }),\n            };\n        }\n        // Pass the mpl event to the overridden (by mpl) onmessage function.\n        ws.onmessage(data);\n    });\n    return ws;\n};\n\nmpl.mpl_figure_comm = function (comm, msg) {\n    // This is the function which gets called when the mpl process\n    // starts-up an IPython Comm through the \"matplotlib\" channel.\n\n    var id = msg.content.data.id;\n    // Get hold of the div created by the display call when the Comm\n    // socket was opened in Python.\n    var element = document.getElementById(id);\n    var ws_proxy = comm_websocket_adapter(comm);\n\n    function ondownload(figure, _format) {\n        window.open(figure.canvas.toDataURL());\n    }\n\n    var fig = new mpl.figure(id, ws_proxy, ondownload, element);\n\n    // Call onopen now - mpl needs it, as it is assuming we've passed it a real\n    // web socket which is closed, not our websocket->open comm proxy.\n    ws_proxy.onopen();\n\n    fig.parent_element = element;\n    fig.cell_info = mpl.find_output_cell(\"<div id='\" + id + \"'></div>\");\n    if (!fig.cell_info) {\n        console.error('Failed to find cell for figure', id, fig);\n        return;\n    }\n    fig.cell_info[0].output_area.element.on(\n        'cleared',\n        { fig: fig },\n        fig._remove_fig_handler\n    );\n};\n\nmpl.figure.prototype.handle_close = function (fig, msg) {\n    var width = fig.canvas.width / fig.ratio;\n    fig.cell_info[0].output_area.element.off(\n        'cleared',\n        fig._remove_fig_handler\n    );\n    fig.resizeObserverInstance.unobserve(fig.canvas_div);\n\n    // Update the output cell to use the data from the current canvas.\n    fig.push_to_output();\n    var dataURL = fig.canvas.toDataURL();\n    // Re-enable the keyboard manager in IPython - without this line, in FF,\n    // the notebook keyboard shortcuts fail.\n    IPython.keyboard_manager.enable();\n    fig.parent_element.innerHTML =\n        '<img src=\"' + dataURL + '\" width=\"' + width + '\">';\n    fig.close_ws(fig, msg);\n};\n\nmpl.figure.prototype.close_ws = function (fig, msg) {\n    fig.send_message('closing', msg);\n    // fig.ws.close()\n};\n\nmpl.figure.prototype.push_to_output = function (_remove_interactive) {\n    // Turn the data on the canvas into data in the output cell.\n    var width = this.canvas.width / this.ratio;\n    var dataURL = this.canvas.toDataURL();\n    this.cell_info[1]['text/html'] =\n        '<img src=\"' + dataURL + '\" width=\"' + width + '\">';\n};\n\nmpl.figure.prototype.updated_canvas_event = function () {\n    // Tell IPython that the notebook contents must change.\n    IPython.notebook.set_dirty(true);\n    this.send_message('ack', {});\n    var fig = this;\n    // Wait a second, then push the new image to the DOM so\n    // that it is saved nicely (might be nice to debounce this).\n    setTimeout(function () {\n        fig.push_to_output();\n    }, 1000);\n};\n\nmpl.figure.prototype._init_toolbar = function () {\n    var fig = this;\n\n    var toolbar = document.createElement('div');\n    toolbar.classList = 'btn-toolbar';\n    this.root.appendChild(toolbar);\n\n    function on_click_closure(name) {\n        return function (_event) {\n            return fig.toolbar_button_onclick(name);\n        };\n    }\n\n    function on_mouseover_closure(tooltip) {\n        return function (event) {\n            if (!event.currentTarget.disabled) {\n                return fig.toolbar_button_onmouseover(tooltip);\n            }\n        };\n    }\n\n    fig.buttons = {};\n    var buttonGroup = document.createElement('div');\n    buttonGroup.classList = 'btn-group';\n    var button;\n    for (var toolbar_ind in mpl.toolbar_items) {\n        var name = mpl.toolbar_items[toolbar_ind][0];\n        var tooltip = mpl.toolbar_items[toolbar_ind][1];\n        var image = mpl.toolbar_items[toolbar_ind][2];\n        var method_name = mpl.toolbar_items[toolbar_ind][3];\n\n        if (!name) {\n            /* Instead of a spacer, we start a new button group. */\n            if (buttonGroup.hasChildNodes()) {\n                toolbar.appendChild(buttonGroup);\n            }\n            buttonGroup = document.createElement('div');\n            buttonGroup.classList = 'btn-group';\n            continue;\n        }\n\n        button = fig.buttons[name] = document.createElement('button');\n        button.classList = 'btn btn-default';\n        button.href = '#';\n        button.title = name;\n        button.innerHTML = '<i class=\"fa ' + image + ' fa-lg\"></i>';\n        button.addEventListener('click', on_click_closure(method_name));\n        button.addEventListener('mouseover', on_mouseover_closure(tooltip));\n        buttonGroup.appendChild(button);\n    }\n\n    if (buttonGroup.hasChildNodes()) {\n        toolbar.appendChild(buttonGroup);\n    }\n\n    // Add the status bar.\n    var status_bar = document.createElement('span');\n    status_bar.classList = 'mpl-message pull-right';\n    toolbar.appendChild(status_bar);\n    this.message = status_bar;\n\n    // Add the close button to the window.\n    var buttongrp = document.createElement('div');\n    buttongrp.classList = 'btn-group inline pull-right';\n    button = document.createElement('button');\n    button.classList = 'btn btn-mini btn-primary';\n    button.href = '#';\n    button.title = 'Stop Interaction';\n    button.innerHTML = '<i class=\"fa fa-power-off icon-remove icon-large\"></i>';\n    button.addEventListener('click', function (_evt) {\n        fig.handle_close(fig, {});\n    });\n    button.addEventListener(\n        'mouseover',\n        on_mouseover_closure('Stop Interaction')\n    );\n    buttongrp.appendChild(button);\n    var titlebar = this.root.querySelector('.ui-dialog-titlebar');\n    titlebar.insertBefore(buttongrp, titlebar.firstChild);\n};\n\nmpl.figure.prototype._remove_fig_handler = function (event) {\n    var fig = event.data.fig;\n    if (event.target !== this) {\n        // Ignore bubbled events from children.\n        return;\n    }\n    fig.close_ws(fig, {});\n};\n\nmpl.figure.prototype._root_extra_style = function (el) {\n    el.style.boxSizing = 'content-box'; // override notebook setting of border-box.\n};\n\nmpl.figure.prototype._canvas_extra_style = function (el) {\n    // this is important to make the div 'focusable\n    el.setAttribute('tabindex', 0);\n    // reach out to IPython and tell the keyboard manager to turn it's self\n    // off when our div gets focus\n\n    // location in version 3\n    if (IPython.notebook.keyboard_manager) {\n        IPython.notebook.keyboard_manager.register_events(el);\n    } else {\n        // location in version 2\n        IPython.keyboard_manager.register_events(el);\n    }\n};\n\nmpl.figure.prototype._key_event_extra = function (event, _name) {\n    // Check for shift+enter\n    if (event.shiftKey && event.which === 13) {\n        this.canvas_div.blur();\n        // select the cell after this one\n        var index = IPython.notebook.find_cell_index(this.cell_info[0]);\n        IPython.notebook.select(index + 1);\n    }\n};\n\nmpl.figure.prototype.handle_save = function (fig, _msg) {\n    fig.ondownload(fig, null);\n};\n\nmpl.find_output_cell = function (html_output) {\n    // Return the cell and output element which can be found *uniquely* in the notebook.\n    // Note - this is a bit hacky, but it is done because the \"notebook_saving.Notebook\"\n    // IPython event is triggered only after the cells have been serialised, which for\n    // our purposes (turning an active figure into a static one), is too late.\n    var cells = IPython.notebook.get_cells();\n    var ncells = cells.length;\n    for (var i = 0; i < ncells; i++) {\n        var cell = cells[i];\n        if (cell.cell_type === 'code') {\n            for (var j = 0; j < cell.output_area.outputs.length; j++) {\n                var data = cell.output_area.outputs[j];\n                if (data.data) {\n                    // IPython >= 3 moved mimebundle to data attribute of output\n                    data = data.data;\n                }\n                if (data['text/html'] === html_output) {\n                    return [cell, data, j];\n                }\n            }\n        }\n    }\n};\n\n// Register the function which deals with the matplotlib target/channel.\n// The kernel may be null if the page has been refreshed.\nif (IPython.notebook.kernel !== null) {\n    IPython.notebook.kernel.comm_manager.register_target(\n        'matplotlib',\n        mpl.mpl_figure_comm\n    );\n}\n",
      "text/plain": [
       "<IPython.core.display.Javascript object>"
      ]
     },
     "metadata": {},
     "output_type": "display_data"
    },
    {
     "data": {
      "text/html": [
       "<div id='0a42c25b-bfa7-4447-abac-05356738ccfa'></div>"
      ],
      "text/plain": [
       "<IPython.core.display.HTML object>"
      ]
     },
     "metadata": {},
     "output_type": "display_data"
    },
    {
     "ename": "ValueError",
     "evalue": "'c' argument must be a color, a sequence of colors, or a sequence of numbers, not         Diabetes_012\n132976           0.0\n230465           0.0\n143930           0.0\n176073           0.0\n245965           0.0\n...              ...\n176963           0.0\n117952           0.0\n173685           0.0\n43567            0.0\n199340           2.0\n\n[190260 rows x 1 columns]",
     "output_type": "error",
     "traceback": [
      "\u001b[1;31m---------------------------------------------------------------------------\u001b[0m",
      "\u001b[1;31mValueError\u001b[0m                                Traceback (most recent call last)",
      "\u001b[1;32mc:\\Users\\Ellen\\anaconda3\\lib\\site-packages\\matplotlib\\axes\\_axes.py\u001b[0m in \u001b[0;36m_parse_scatter_color_args\u001b[1;34m(c, edgecolors, kwargs, xsize, get_next_color_func)\u001b[0m\n\u001b[0;32m   4213\u001b[0m             \u001b[1;32mtry\u001b[0m\u001b[1;33m:\u001b[0m  \u001b[1;31m# Is 'c' acceptable as PathCollection facecolors?\u001b[0m\u001b[1;33m\u001b[0m\u001b[1;33m\u001b[0m\u001b[0m\n\u001b[1;32m-> 4214\u001b[1;33m                 \u001b[0mcolors\u001b[0m \u001b[1;33m=\u001b[0m \u001b[0mmcolors\u001b[0m\u001b[1;33m.\u001b[0m\u001b[0mto_rgba_array\u001b[0m\u001b[1;33m(\u001b[0m\u001b[0mc\u001b[0m\u001b[1;33m)\u001b[0m\u001b[1;33m\u001b[0m\u001b[1;33m\u001b[0m\u001b[0m\n\u001b[0m\u001b[0;32m   4215\u001b[0m             \u001b[1;32mexcept\u001b[0m \u001b[1;33m(\u001b[0m\u001b[0mTypeError\u001b[0m\u001b[1;33m,\u001b[0m \u001b[0mValueError\u001b[0m\u001b[1;33m)\u001b[0m \u001b[1;32mas\u001b[0m \u001b[0merr\u001b[0m\u001b[1;33m:\u001b[0m\u001b[1;33m\u001b[0m\u001b[1;33m\u001b[0m\u001b[0m\n",
      "\u001b[1;32mc:\\Users\\Ellen\\anaconda3\\lib\\site-packages\\matplotlib\\colors.py\u001b[0m in \u001b[0;36mto_rgba_array\u001b[1;34m(c, alpha)\u001b[0m\n\u001b[0;32m    376\u001b[0m     \u001b[1;32melse\u001b[0m\u001b[1;33m:\u001b[0m\u001b[1;33m\u001b[0m\u001b[1;33m\u001b[0m\u001b[0m\n\u001b[1;32m--> 377\u001b[1;33m         \u001b[0mrgba\u001b[0m \u001b[1;33m=\u001b[0m \u001b[0mnp\u001b[0m\u001b[1;33m.\u001b[0m\u001b[0marray\u001b[0m\u001b[1;33m(\u001b[0m\u001b[1;33m[\u001b[0m\u001b[0mto_rgba\u001b[0m\u001b[1;33m(\u001b[0m\u001b[0mcc\u001b[0m\u001b[1;33m)\u001b[0m \u001b[1;32mfor\u001b[0m \u001b[0mcc\u001b[0m \u001b[1;32min\u001b[0m \u001b[0mc\u001b[0m\u001b[1;33m]\u001b[0m\u001b[1;33m)\u001b[0m\u001b[1;33m\u001b[0m\u001b[1;33m\u001b[0m\u001b[0m\n\u001b[0m\u001b[0;32m    378\u001b[0m \u001b[1;33m\u001b[0m\u001b[0m\n",
      "\u001b[1;32mc:\\Users\\Ellen\\anaconda3\\lib\\site-packages\\matplotlib\\colors.py\u001b[0m in \u001b[0;36m<listcomp>\u001b[1;34m(.0)\u001b[0m\n\u001b[0;32m    376\u001b[0m     \u001b[1;32melse\u001b[0m\u001b[1;33m:\u001b[0m\u001b[1;33m\u001b[0m\u001b[1;33m\u001b[0m\u001b[0m\n\u001b[1;32m--> 377\u001b[1;33m         \u001b[0mrgba\u001b[0m \u001b[1;33m=\u001b[0m \u001b[0mnp\u001b[0m\u001b[1;33m.\u001b[0m\u001b[0marray\u001b[0m\u001b[1;33m(\u001b[0m\u001b[1;33m[\u001b[0m\u001b[0mto_rgba\u001b[0m\u001b[1;33m(\u001b[0m\u001b[0mcc\u001b[0m\u001b[1;33m)\u001b[0m \u001b[1;32mfor\u001b[0m \u001b[0mcc\u001b[0m \u001b[1;32min\u001b[0m \u001b[0mc\u001b[0m\u001b[1;33m]\u001b[0m\u001b[1;33m)\u001b[0m\u001b[1;33m\u001b[0m\u001b[1;33m\u001b[0m\u001b[0m\n\u001b[0m\u001b[0;32m    378\u001b[0m \u001b[1;33m\u001b[0m\u001b[0m\n",
      "\u001b[1;32mc:\\Users\\Ellen\\anaconda3\\lib\\site-packages\\matplotlib\\colors.py\u001b[0m in \u001b[0;36mto_rgba\u001b[1;34m(c, alpha)\u001b[0m\n\u001b[0;32m    186\u001b[0m     \u001b[1;32mif\u001b[0m \u001b[0mrgba\u001b[0m \u001b[1;32mis\u001b[0m \u001b[1;32mNone\u001b[0m\u001b[1;33m:\u001b[0m  \u001b[1;31m# Suppress exception chaining of cache lookup failure.\u001b[0m\u001b[1;33m\u001b[0m\u001b[1;33m\u001b[0m\u001b[0m\n\u001b[1;32m--> 187\u001b[1;33m         \u001b[0mrgba\u001b[0m \u001b[1;33m=\u001b[0m \u001b[0m_to_rgba_no_colorcycle\u001b[0m\u001b[1;33m(\u001b[0m\u001b[0mc\u001b[0m\u001b[1;33m,\u001b[0m \u001b[0malpha\u001b[0m\u001b[1;33m)\u001b[0m\u001b[1;33m\u001b[0m\u001b[1;33m\u001b[0m\u001b[0m\n\u001b[0m\u001b[0;32m    188\u001b[0m         \u001b[1;32mtry\u001b[0m\u001b[1;33m:\u001b[0m\u001b[1;33m\u001b[0m\u001b[1;33m\u001b[0m\u001b[0m\n",
      "\u001b[1;32mc:\\Users\\Ellen\\anaconda3\\lib\\site-packages\\matplotlib\\colors.py\u001b[0m in \u001b[0;36m_to_rgba_no_colorcycle\u001b[1;34m(c, alpha)\u001b[0m\n\u001b[0;32m    261\u001b[0m             \u001b[1;32mreturn\u001b[0m \u001b[0mc\u001b[0m\u001b[1;33m,\u001b[0m \u001b[0mc\u001b[0m\u001b[1;33m,\u001b[0m \u001b[0mc\u001b[0m\u001b[1;33m,\u001b[0m \u001b[0malpha\u001b[0m \u001b[1;32mif\u001b[0m \u001b[0malpha\u001b[0m \u001b[1;32mis\u001b[0m \u001b[1;32mnot\u001b[0m \u001b[1;32mNone\u001b[0m \u001b[1;32melse\u001b[0m \u001b[1;36m1.\u001b[0m\u001b[1;33m\u001b[0m\u001b[1;33m\u001b[0m\u001b[0m\n\u001b[1;32m--> 262\u001b[1;33m         \u001b[1;32mraise\u001b[0m \u001b[0mValueError\u001b[0m\u001b[1;33m(\u001b[0m\u001b[1;34mf\"Invalid RGBA argument: {orig_c!r}\"\u001b[0m\u001b[1;33m)\u001b[0m\u001b[1;33m\u001b[0m\u001b[1;33m\u001b[0m\u001b[0m\n\u001b[0m\u001b[0;32m    263\u001b[0m     \u001b[1;31m# turn 2-D array into 1-D array\u001b[0m\u001b[1;33m\u001b[0m\u001b[1;33m\u001b[0m\u001b[0m\n",
      "\u001b[1;31mValueError\u001b[0m: Invalid RGBA argument: 'Diabetes_012'",
      "\nThe above exception was the direct cause of the following exception:\n",
      "\u001b[1;31mValueError\u001b[0m                                Traceback (most recent call last)",
      "\u001b[1;32m~\\AppData\\Local\\Temp\\ipykernel_1628\\1894816577.py\u001b[0m in \u001b[0;36m<module>\u001b[1;34m\u001b[0m\n\u001b[0;32m      4\u001b[0m \u001b[1;33m\u001b[0m\u001b[0m\n\u001b[0;32m      5\u001b[0m \u001b[0mcmap\u001b[0m \u001b[1;33m=\u001b[0m \u001b[0mcm\u001b[0m\u001b[1;33m.\u001b[0m\u001b[0mget_cmap\u001b[0m\u001b[1;33m(\u001b[0m\u001b[1;34m'gnuplot'\u001b[0m\u001b[1;33m)\u001b[0m\u001b[1;33m\u001b[0m\u001b[1;33m\u001b[0m\u001b[0m\n\u001b[1;32m----> 6\u001b[1;33m \u001b[0mscatter\u001b[0m \u001b[1;33m=\u001b[0m \u001b[0mpd\u001b[0m\u001b[1;33m.\u001b[0m\u001b[0mplotting\u001b[0m\u001b[1;33m.\u001b[0m\u001b[0mscatter_matrix\u001b[0m\u001b[1;33m(\u001b[0m\u001b[0mX_train\u001b[0m\u001b[1;33m,\u001b[0m \u001b[0mc\u001b[0m\u001b[1;33m=\u001b[0m \u001b[0my_train\u001b[0m\u001b[1;33m,\u001b[0m \u001b[0mmarker\u001b[0m \u001b[1;33m=\u001b[0m \u001b[1;34m'o'\u001b[0m\u001b[1;33m,\u001b[0m \u001b[0ms\u001b[0m\u001b[1;33m=\u001b[0m\u001b[1;36m40\u001b[0m\u001b[1;33m,\u001b[0m \u001b[0mhist_kwds\u001b[0m\u001b[1;33m=\u001b[0m\u001b[1;33m{\u001b[0m\u001b[1;34m'bins'\u001b[0m\u001b[1;33m:\u001b[0m\u001b[1;36m15\u001b[0m\u001b[1;33m}\u001b[0m\u001b[1;33m,\u001b[0m \u001b[0mfigsize\u001b[0m\u001b[1;33m=\u001b[0m\u001b[1;33m(\u001b[0m\u001b[1;36m9\u001b[0m\u001b[1;33m,\u001b[0m\u001b[1;36m9\u001b[0m\u001b[1;33m)\u001b[0m\u001b[1;33m,\u001b[0m \u001b[0mcmap\u001b[0m\u001b[1;33m=\u001b[0m\u001b[0mcmap\u001b[0m\u001b[1;33m)\u001b[0m\u001b[1;33m\u001b[0m\u001b[1;33m\u001b[0m\u001b[0m\n\u001b[0m",
      "\u001b[1;32mc:\\Users\\Ellen\\anaconda3\\lib\\site-packages\\pandas\\plotting\\_misc.py\u001b[0m in \u001b[0;36mscatter_matrix\u001b[1;34m(frame, alpha, figsize, ax, grid, diagonal, marker, density_kwds, hist_kwds, range_padding, **kwargs)\u001b[0m\n\u001b[0;32m    142\u001b[0m     \"\"\"\n\u001b[0;32m    143\u001b[0m     \u001b[0mplot_backend\u001b[0m \u001b[1;33m=\u001b[0m \u001b[0m_get_plot_backend\u001b[0m\u001b[1;33m(\u001b[0m\u001b[1;34m\"matplotlib\"\u001b[0m\u001b[1;33m)\u001b[0m\u001b[1;33m\u001b[0m\u001b[1;33m\u001b[0m\u001b[0m\n\u001b[1;32m--> 144\u001b[1;33m     return plot_backend.scatter_matrix(\n\u001b[0m\u001b[0;32m    145\u001b[0m         \u001b[0mframe\u001b[0m\u001b[1;33m=\u001b[0m\u001b[0mframe\u001b[0m\u001b[1;33m,\u001b[0m\u001b[1;33m\u001b[0m\u001b[1;33m\u001b[0m\u001b[0m\n\u001b[0;32m    146\u001b[0m         \u001b[0malpha\u001b[0m\u001b[1;33m=\u001b[0m\u001b[0malpha\u001b[0m\u001b[1;33m,\u001b[0m\u001b[1;33m\u001b[0m\u001b[1;33m\u001b[0m\u001b[0m\n",
      "\u001b[1;32mc:\\Users\\Ellen\\anaconda3\\lib\\site-packages\\pandas\\plotting\\_matplotlib\\misc.py\u001b[0m in \u001b[0;36mscatter_matrix\u001b[1;34m(frame, alpha, figsize, ax, grid, diagonal, marker, density_kwds, hist_kwds, range_padding, **kwds)\u001b[0m\n\u001b[0;32m     94\u001b[0m                 \u001b[0mcommon\u001b[0m \u001b[1;33m=\u001b[0m \u001b[1;33m(\u001b[0m\u001b[0mmask\u001b[0m\u001b[1;33m[\u001b[0m\u001b[0ma\u001b[0m\u001b[1;33m]\u001b[0m \u001b[1;33m&\u001b[0m \u001b[0mmask\u001b[0m\u001b[1;33m[\u001b[0m\u001b[0mb\u001b[0m\u001b[1;33m]\u001b[0m\u001b[1;33m)\u001b[0m\u001b[1;33m.\u001b[0m\u001b[0mvalues\u001b[0m\u001b[1;33m\u001b[0m\u001b[1;33m\u001b[0m\u001b[0m\n\u001b[0;32m     95\u001b[0m \u001b[1;33m\u001b[0m\u001b[0m\n\u001b[1;32m---> 96\u001b[1;33m                 ax.scatter(\n\u001b[0m\u001b[0;32m     97\u001b[0m                     \u001b[0mdf\u001b[0m\u001b[1;33m[\u001b[0m\u001b[0mb\u001b[0m\u001b[1;33m]\u001b[0m\u001b[1;33m[\u001b[0m\u001b[0mcommon\u001b[0m\u001b[1;33m]\u001b[0m\u001b[1;33m,\u001b[0m \u001b[0mdf\u001b[0m\u001b[1;33m[\u001b[0m\u001b[0ma\u001b[0m\u001b[1;33m]\u001b[0m\u001b[1;33m[\u001b[0m\u001b[0mcommon\u001b[0m\u001b[1;33m]\u001b[0m\u001b[1;33m,\u001b[0m \u001b[0mmarker\u001b[0m\u001b[1;33m=\u001b[0m\u001b[0mmarker\u001b[0m\u001b[1;33m,\u001b[0m \u001b[0malpha\u001b[0m\u001b[1;33m=\u001b[0m\u001b[0malpha\u001b[0m\u001b[1;33m,\u001b[0m \u001b[1;33m**\u001b[0m\u001b[0mkwds\u001b[0m\u001b[1;33m\u001b[0m\u001b[1;33m\u001b[0m\u001b[0m\n\u001b[0;32m     98\u001b[0m                 )\n",
      "\u001b[1;32mc:\\Users\\Ellen\\anaconda3\\lib\\site-packages\\matplotlib\\__init__.py\u001b[0m in \u001b[0;36minner\u001b[1;34m(ax, data, *args, **kwargs)\u001b[0m\n\u001b[0;32m   1410\u001b[0m     \u001b[1;32mdef\u001b[0m \u001b[0minner\u001b[0m\u001b[1;33m(\u001b[0m\u001b[0max\u001b[0m\u001b[1;33m,\u001b[0m \u001b[1;33m*\u001b[0m\u001b[0margs\u001b[0m\u001b[1;33m,\u001b[0m \u001b[0mdata\u001b[0m\u001b[1;33m=\u001b[0m\u001b[1;32mNone\u001b[0m\u001b[1;33m,\u001b[0m \u001b[1;33m**\u001b[0m\u001b[0mkwargs\u001b[0m\u001b[1;33m)\u001b[0m\u001b[1;33m:\u001b[0m\u001b[1;33m\u001b[0m\u001b[1;33m\u001b[0m\u001b[0m\n\u001b[0;32m   1411\u001b[0m         \u001b[1;32mif\u001b[0m \u001b[0mdata\u001b[0m \u001b[1;32mis\u001b[0m \u001b[1;32mNone\u001b[0m\u001b[1;33m:\u001b[0m\u001b[1;33m\u001b[0m\u001b[1;33m\u001b[0m\u001b[0m\n\u001b[1;32m-> 1412\u001b[1;33m             \u001b[1;32mreturn\u001b[0m \u001b[0mfunc\u001b[0m\u001b[1;33m(\u001b[0m\u001b[0max\u001b[0m\u001b[1;33m,\u001b[0m \u001b[1;33m*\u001b[0m\u001b[0mmap\u001b[0m\u001b[1;33m(\u001b[0m\u001b[0msanitize_sequence\u001b[0m\u001b[1;33m,\u001b[0m \u001b[0margs\u001b[0m\u001b[1;33m)\u001b[0m\u001b[1;33m,\u001b[0m \u001b[1;33m**\u001b[0m\u001b[0mkwargs\u001b[0m\u001b[1;33m)\u001b[0m\u001b[1;33m\u001b[0m\u001b[1;33m\u001b[0m\u001b[0m\n\u001b[0m\u001b[0;32m   1413\u001b[0m \u001b[1;33m\u001b[0m\u001b[0m\n\u001b[0;32m   1414\u001b[0m         \u001b[0mbound\u001b[0m \u001b[1;33m=\u001b[0m \u001b[0mnew_sig\u001b[0m\u001b[1;33m.\u001b[0m\u001b[0mbind\u001b[0m\u001b[1;33m(\u001b[0m\u001b[0max\u001b[0m\u001b[1;33m,\u001b[0m \u001b[1;33m*\u001b[0m\u001b[0margs\u001b[0m\u001b[1;33m,\u001b[0m \u001b[1;33m**\u001b[0m\u001b[0mkwargs\u001b[0m\u001b[1;33m)\u001b[0m\u001b[1;33m\u001b[0m\u001b[1;33m\u001b[0m\u001b[0m\n",
      "\u001b[1;32mc:\\Users\\Ellen\\anaconda3\\lib\\site-packages\\matplotlib\\axes\\_axes.py\u001b[0m in \u001b[0;36mscatter\u001b[1;34m(self, x, y, s, c, marker, cmap, norm, vmin, vmax, alpha, linewidths, edgecolors, plotnonfinite, **kwargs)\u001b[0m\n\u001b[0;32m   4378\u001b[0m             \u001b[0morig_edgecolor\u001b[0m \u001b[1;33m=\u001b[0m \u001b[0mkwargs\u001b[0m\u001b[1;33m.\u001b[0m\u001b[0mget\u001b[0m\u001b[1;33m(\u001b[0m\u001b[1;34m'edgecolor'\u001b[0m\u001b[1;33m,\u001b[0m \u001b[1;32mNone\u001b[0m\u001b[1;33m)\u001b[0m\u001b[1;33m\u001b[0m\u001b[1;33m\u001b[0m\u001b[0m\n\u001b[0;32m   4379\u001b[0m         \u001b[0mc\u001b[0m\u001b[1;33m,\u001b[0m \u001b[0mcolors\u001b[0m\u001b[1;33m,\u001b[0m \u001b[0medgecolors\u001b[0m \u001b[1;33m=\u001b[0m\u001b[0;31m \u001b[0m\u001b[0;31m\\\u001b[0m\u001b[1;33m\u001b[0m\u001b[1;33m\u001b[0m\u001b[0m\n\u001b[1;32m-> 4380\u001b[1;33m             self._parse_scatter_color_args(\n\u001b[0m\u001b[0;32m   4381\u001b[0m                 \u001b[0mc\u001b[0m\u001b[1;33m,\u001b[0m \u001b[0medgecolors\u001b[0m\u001b[1;33m,\u001b[0m \u001b[0mkwargs\u001b[0m\u001b[1;33m,\u001b[0m \u001b[0mx\u001b[0m\u001b[1;33m.\u001b[0m\u001b[0msize\u001b[0m\u001b[1;33m,\u001b[0m\u001b[1;33m\u001b[0m\u001b[1;33m\u001b[0m\u001b[0m\n\u001b[0;32m   4382\u001b[0m                 get_next_color_func=self._get_patches_for_fill.get_next_color)\n",
      "\u001b[1;32mc:\\Users\\Ellen\\anaconda3\\lib\\site-packages\\matplotlib\\axes\\_axes.py\u001b[0m in \u001b[0;36m_parse_scatter_color_args\u001b[1;34m(c, edgecolors, kwargs, xsize, get_next_color_func)\u001b[0m\n\u001b[0;32m   4221\u001b[0m                     \u001b[1;31m# Both the mapping *and* the RGBA conversion failed: pretty\u001b[0m\u001b[1;33m\u001b[0m\u001b[1;33m\u001b[0m\u001b[0m\n\u001b[0;32m   4222\u001b[0m                     \u001b[1;31m# severe failure => one may appreciate a verbose feedback.\u001b[0m\u001b[1;33m\u001b[0m\u001b[1;33m\u001b[0m\u001b[0m\n\u001b[1;32m-> 4223\u001b[1;33m                     raise ValueError(\n\u001b[0m\u001b[0;32m   4224\u001b[0m                         \u001b[1;34mf\"'c' argument must be a color, a sequence of colors, \"\u001b[0m\u001b[1;33m\u001b[0m\u001b[1;33m\u001b[0m\u001b[0m\n\u001b[0;32m   4225\u001b[0m                         f\"or a sequence of numbers, not {c}\") from err\n",
      "\u001b[1;31mValueError\u001b[0m: 'c' argument must be a color, a sequence of colors, or a sequence of numbers, not         Diabetes_012\n132976           0.0\n230465           0.0\n143930           0.0\n176073           0.0\n245965           0.0\n...              ...\n176963           0.0\n117952           0.0\n173685           0.0\n43567            0.0\n199340           2.0\n\n[190260 rows x 1 columns]"
     ]
    }
   ],
   "source": [
    "X = df[['Smoker', 'PhysActivity', 'Age', 'BMI', 'Stroke', 'HeartDiseaseorAttack']]\n",
    "y = df[['Diabetes_012']]\n",
    "X_train, X_test, y_train, y_test = train_test_split(X, y, random_state=0)\n",
    "\n",
    "cmap = cm.get_cmap('gnuplot')\n",
    "scatter = pd.plotting.scatter_matrix(X_train, c= y_train, marker = 'o', s=40, hist_kwds={'bins':15}, figsize=(9,9), cmap=cmap)"
   ]
  },
  {
   "cell_type": "code",
   "execution_count": null,
   "metadata": {},
   "outputs": [
    {
     "name": "stdout",
     "output_type": "stream",
     "text": [
      "y_train contains the target output corresponding to X_train values !\n"
     ]
    },
    {
     "data": {
      "application/javascript": "/* Put everything inside the global mpl namespace */\n/* global mpl */\nwindow.mpl = {};\n\nmpl.get_websocket_type = function () {\n    if (typeof WebSocket !== 'undefined') {\n        return WebSocket;\n    } else if (typeof MozWebSocket !== 'undefined') {\n        return MozWebSocket;\n    } else {\n        alert(\n            'Your browser does not have WebSocket support. ' +\n                'Please try Chrome, Safari or Firefox ≥ 6. ' +\n                'Firefox 4 and 5 are also supported but you ' +\n                'have to enable WebSockets in about:config.'\n        );\n    }\n};\n\nmpl.figure = function (figure_id, websocket, ondownload, parent_element) {\n    this.id = figure_id;\n\n    this.ws = websocket;\n\n    this.supports_binary = this.ws.binaryType !== undefined;\n\n    if (!this.supports_binary) {\n        var warnings = document.getElementById('mpl-warnings');\n        if (warnings) {\n            warnings.style.display = 'block';\n            warnings.textContent =\n                'This browser does not support binary websocket messages. ' +\n                'Performance may be slow.';\n        }\n    }\n\n    this.imageObj = new Image();\n\n    this.context = undefined;\n    this.message = undefined;\n    this.canvas = undefined;\n    this.rubberband_canvas = undefined;\n    this.rubberband_context = undefined;\n    this.format_dropdown = undefined;\n\n    this.image_mode = 'full';\n\n    this.root = document.createElement('div');\n    this.root.setAttribute('style', 'display: inline-block');\n    this._root_extra_style(this.root);\n\n    parent_element.appendChild(this.root);\n\n    this._init_header(this);\n    this._init_canvas(this);\n    this._init_toolbar(this);\n\n    var fig = this;\n\n    this.waiting = false;\n\n    this.ws.onopen = function () {\n        fig.send_message('supports_binary', { value: fig.supports_binary });\n        fig.send_message('send_image_mode', {});\n        if (fig.ratio !== 1) {\n            fig.send_message('set_device_pixel_ratio', {\n                device_pixel_ratio: fig.ratio,\n            });\n        }\n        fig.send_message('refresh', {});\n    };\n\n    this.imageObj.onload = function () {\n        if (fig.image_mode === 'full') {\n            // Full images could contain transparency (where diff images\n            // almost always do), so we need to clear the canvas so that\n            // there is no ghosting.\n            fig.context.clearRect(0, 0, fig.canvas.width, fig.canvas.height);\n        }\n        fig.context.drawImage(fig.imageObj, 0, 0);\n    };\n\n    this.imageObj.onunload = function () {\n        fig.ws.close();\n    };\n\n    this.ws.onmessage = this._make_on_message_function(this);\n\n    this.ondownload = ondownload;\n};\n\nmpl.figure.prototype._init_header = function () {\n    var titlebar = document.createElement('div');\n    titlebar.classList =\n        'ui-dialog-titlebar ui-widget-header ui-corner-all ui-helper-clearfix';\n    var titletext = document.createElement('div');\n    titletext.classList = 'ui-dialog-title';\n    titletext.setAttribute(\n        'style',\n        'width: 100%; text-align: center; padding: 3px;'\n    );\n    titlebar.appendChild(titletext);\n    this.root.appendChild(titlebar);\n    this.header = titletext;\n};\n\nmpl.figure.prototype._canvas_extra_style = function (_canvas_div) {};\n\nmpl.figure.prototype._root_extra_style = function (_canvas_div) {};\n\nmpl.figure.prototype._init_canvas = function () {\n    var fig = this;\n\n    var canvas_div = (this.canvas_div = document.createElement('div'));\n    canvas_div.setAttribute(\n        'style',\n        'border: 1px solid #ddd;' +\n            'box-sizing: content-box;' +\n            'clear: both;' +\n            'min-height: 1px;' +\n            'min-width: 1px;' +\n            'outline: 0;' +\n            'overflow: hidden;' +\n            'position: relative;' +\n            'resize: both;'\n    );\n\n    function on_keyboard_event_closure(name) {\n        return function (event) {\n            return fig.key_event(event, name);\n        };\n    }\n\n    canvas_div.addEventListener(\n        'keydown',\n        on_keyboard_event_closure('key_press')\n    );\n    canvas_div.addEventListener(\n        'keyup',\n        on_keyboard_event_closure('key_release')\n    );\n\n    this._canvas_extra_style(canvas_div);\n    this.root.appendChild(canvas_div);\n\n    var canvas = (this.canvas = document.createElement('canvas'));\n    canvas.classList.add('mpl-canvas');\n    canvas.setAttribute('style', 'box-sizing: content-box;');\n\n    this.context = canvas.getContext('2d');\n\n    var backingStore =\n        this.context.backingStorePixelRatio ||\n        this.context.webkitBackingStorePixelRatio ||\n        this.context.mozBackingStorePixelRatio ||\n        this.context.msBackingStorePixelRatio ||\n        this.context.oBackingStorePixelRatio ||\n        this.context.backingStorePixelRatio ||\n        1;\n\n    this.ratio = (window.devicePixelRatio || 1) / backingStore;\n\n    var rubberband_canvas = (this.rubberband_canvas = document.createElement(\n        'canvas'\n    ));\n    rubberband_canvas.setAttribute(\n        'style',\n        'box-sizing: content-box; position: absolute; left: 0; top: 0; z-index: 1;'\n    );\n\n    // Apply a ponyfill if ResizeObserver is not implemented by browser.\n    if (this.ResizeObserver === undefined) {\n        if (window.ResizeObserver !== undefined) {\n            this.ResizeObserver = window.ResizeObserver;\n        } else {\n            var obs = _JSXTOOLS_RESIZE_OBSERVER({});\n            this.ResizeObserver = obs.ResizeObserver;\n        }\n    }\n\n    this.resizeObserverInstance = new this.ResizeObserver(function (entries) {\n        var nentries = entries.length;\n        for (var i = 0; i < nentries; i++) {\n            var entry = entries[i];\n            var width, height;\n            if (entry.contentBoxSize) {\n                if (entry.contentBoxSize instanceof Array) {\n                    // Chrome 84 implements new version of spec.\n                    width = entry.contentBoxSize[0].inlineSize;\n                    height = entry.contentBoxSize[0].blockSize;\n                } else {\n                    // Firefox implements old version of spec.\n                    width = entry.contentBoxSize.inlineSize;\n                    height = entry.contentBoxSize.blockSize;\n                }\n            } else {\n                // Chrome <84 implements even older version of spec.\n                width = entry.contentRect.width;\n                height = entry.contentRect.height;\n            }\n\n            // Keep the size of the canvas and rubber band canvas in sync with\n            // the canvas container.\n            if (entry.devicePixelContentBoxSize) {\n                // Chrome 84 implements new version of spec.\n                canvas.setAttribute(\n                    'width',\n                    entry.devicePixelContentBoxSize[0].inlineSize\n                );\n                canvas.setAttribute(\n                    'height',\n                    entry.devicePixelContentBoxSize[0].blockSize\n                );\n            } else {\n                canvas.setAttribute('width', width * fig.ratio);\n                canvas.setAttribute('height', height * fig.ratio);\n            }\n            canvas.setAttribute(\n                'style',\n                'width: ' + width + 'px; height: ' + height + 'px;'\n            );\n\n            rubberband_canvas.setAttribute('width', width);\n            rubberband_canvas.setAttribute('height', height);\n\n            // And update the size in Python. We ignore the initial 0/0 size\n            // that occurs as the element is placed into the DOM, which should\n            // otherwise not happen due to the minimum size styling.\n            if (fig.ws.readyState == 1 && width != 0 && height != 0) {\n                fig.request_resize(width, height);\n            }\n        }\n    });\n    this.resizeObserverInstance.observe(canvas_div);\n\n    function on_mouse_event_closure(name) {\n        return function (event) {\n            return fig.mouse_event(event, name);\n        };\n    }\n\n    rubberband_canvas.addEventListener(\n        'mousedown',\n        on_mouse_event_closure('button_press')\n    );\n    rubberband_canvas.addEventListener(\n        'mouseup',\n        on_mouse_event_closure('button_release')\n    );\n    rubberband_canvas.addEventListener(\n        'dblclick',\n        on_mouse_event_closure('dblclick')\n    );\n    // Throttle sequential mouse events to 1 every 20ms.\n    rubberband_canvas.addEventListener(\n        'mousemove',\n        on_mouse_event_closure('motion_notify')\n    );\n\n    rubberband_canvas.addEventListener(\n        'mouseenter',\n        on_mouse_event_closure('figure_enter')\n    );\n    rubberband_canvas.addEventListener(\n        'mouseleave',\n        on_mouse_event_closure('figure_leave')\n    );\n\n    canvas_div.addEventListener('wheel', function (event) {\n        if (event.deltaY < 0) {\n            event.step = 1;\n        } else {\n            event.step = -1;\n        }\n        on_mouse_event_closure('scroll')(event);\n    });\n\n    canvas_div.appendChild(canvas);\n    canvas_div.appendChild(rubberband_canvas);\n\n    this.rubberband_context = rubberband_canvas.getContext('2d');\n    this.rubberband_context.strokeStyle = '#000000';\n\n    this._resize_canvas = function (width, height, forward) {\n        if (forward) {\n            canvas_div.style.width = width + 'px';\n            canvas_div.style.height = height + 'px';\n        }\n    };\n\n    // Disable right mouse context menu.\n    this.rubberband_canvas.addEventListener('contextmenu', function (_e) {\n        event.preventDefault();\n        return false;\n    });\n\n    function set_focus() {\n        canvas.focus();\n        canvas_div.focus();\n    }\n\n    window.setTimeout(set_focus, 100);\n};\n\nmpl.figure.prototype._init_toolbar = function () {\n    var fig = this;\n\n    var toolbar = document.createElement('div');\n    toolbar.classList = 'mpl-toolbar';\n    this.root.appendChild(toolbar);\n\n    function on_click_closure(name) {\n        return function (_event) {\n            return fig.toolbar_button_onclick(name);\n        };\n    }\n\n    function on_mouseover_closure(tooltip) {\n        return function (event) {\n            if (!event.currentTarget.disabled) {\n                return fig.toolbar_button_onmouseover(tooltip);\n            }\n        };\n    }\n\n    fig.buttons = {};\n    var buttonGroup = document.createElement('div');\n    buttonGroup.classList = 'mpl-button-group';\n    for (var toolbar_ind in mpl.toolbar_items) {\n        var name = mpl.toolbar_items[toolbar_ind][0];\n        var tooltip = mpl.toolbar_items[toolbar_ind][1];\n        var image = mpl.toolbar_items[toolbar_ind][2];\n        var method_name = mpl.toolbar_items[toolbar_ind][3];\n\n        if (!name) {\n            /* Instead of a spacer, we start a new button group. */\n            if (buttonGroup.hasChildNodes()) {\n                toolbar.appendChild(buttonGroup);\n            }\n            buttonGroup = document.createElement('div');\n            buttonGroup.classList = 'mpl-button-group';\n            continue;\n        }\n\n        var button = (fig.buttons[name] = document.createElement('button'));\n        button.classList = 'mpl-widget';\n        button.setAttribute('role', 'button');\n        button.setAttribute('aria-disabled', 'false');\n        button.addEventListener('click', on_click_closure(method_name));\n        button.addEventListener('mouseover', on_mouseover_closure(tooltip));\n\n        var icon_img = document.createElement('img');\n        icon_img.src = '_images/' + image + '.png';\n        icon_img.srcset = '_images/' + image + '_large.png 2x';\n        icon_img.alt = tooltip;\n        button.appendChild(icon_img);\n\n        buttonGroup.appendChild(button);\n    }\n\n    if (buttonGroup.hasChildNodes()) {\n        toolbar.appendChild(buttonGroup);\n    }\n\n    var fmt_picker = document.createElement('select');\n    fmt_picker.classList = 'mpl-widget';\n    toolbar.appendChild(fmt_picker);\n    this.format_dropdown = fmt_picker;\n\n    for (var ind in mpl.extensions) {\n        var fmt = mpl.extensions[ind];\n        var option = document.createElement('option');\n        option.selected = fmt === mpl.default_extension;\n        option.innerHTML = fmt;\n        fmt_picker.appendChild(option);\n    }\n\n    var status_bar = document.createElement('span');\n    status_bar.classList = 'mpl-message';\n    toolbar.appendChild(status_bar);\n    this.message = status_bar;\n};\n\nmpl.figure.prototype.request_resize = function (x_pixels, y_pixels) {\n    // Request matplotlib to resize the figure. Matplotlib will then trigger a resize in the client,\n    // which will in turn request a refresh of the image.\n    this.send_message('resize', { width: x_pixels, height: y_pixels });\n};\n\nmpl.figure.prototype.send_message = function (type, properties) {\n    properties['type'] = type;\n    properties['figure_id'] = this.id;\n    this.ws.send(JSON.stringify(properties));\n};\n\nmpl.figure.prototype.send_draw_message = function () {\n    if (!this.waiting) {\n        this.waiting = true;\n        this.ws.send(JSON.stringify({ type: 'draw', figure_id: this.id }));\n    }\n};\n\nmpl.figure.prototype.handle_save = function (fig, _msg) {\n    var format_dropdown = fig.format_dropdown;\n    var format = format_dropdown.options[format_dropdown.selectedIndex].value;\n    fig.ondownload(fig, format);\n};\n\nmpl.figure.prototype.handle_resize = function (fig, msg) {\n    var size = msg['size'];\n    if (size[0] !== fig.canvas.width || size[1] !== fig.canvas.height) {\n        fig._resize_canvas(size[0], size[1], msg['forward']);\n        fig.send_message('refresh', {});\n    }\n};\n\nmpl.figure.prototype.handle_rubberband = function (fig, msg) {\n    var x0 = msg['x0'] / fig.ratio;\n    var y0 = (fig.canvas.height - msg['y0']) / fig.ratio;\n    var x1 = msg['x1'] / fig.ratio;\n    var y1 = (fig.canvas.height - msg['y1']) / fig.ratio;\n    x0 = Math.floor(x0) + 0.5;\n    y0 = Math.floor(y0) + 0.5;\n    x1 = Math.floor(x1) + 0.5;\n    y1 = Math.floor(y1) + 0.5;\n    var min_x = Math.min(x0, x1);\n    var min_y = Math.min(y0, y1);\n    var width = Math.abs(x1 - x0);\n    var height = Math.abs(y1 - y0);\n\n    fig.rubberband_context.clearRect(\n        0,\n        0,\n        fig.canvas.width / fig.ratio,\n        fig.canvas.height / fig.ratio\n    );\n\n    fig.rubberband_context.strokeRect(min_x, min_y, width, height);\n};\n\nmpl.figure.prototype.handle_figure_label = function (fig, msg) {\n    // Updates the figure title.\n    fig.header.textContent = msg['label'];\n};\n\nmpl.figure.prototype.handle_cursor = function (fig, msg) {\n    fig.rubberband_canvas.style.cursor = msg['cursor'];\n};\n\nmpl.figure.prototype.handle_message = function (fig, msg) {\n    fig.message.textContent = msg['message'];\n};\n\nmpl.figure.prototype.handle_draw = function (fig, _msg) {\n    // Request the server to send over a new figure.\n    fig.send_draw_message();\n};\n\nmpl.figure.prototype.handle_image_mode = function (fig, msg) {\n    fig.image_mode = msg['mode'];\n};\n\nmpl.figure.prototype.handle_history_buttons = function (fig, msg) {\n    for (var key in msg) {\n        if (!(key in fig.buttons)) {\n            continue;\n        }\n        fig.buttons[key].disabled = !msg[key];\n        fig.buttons[key].setAttribute('aria-disabled', !msg[key]);\n    }\n};\n\nmpl.figure.prototype.handle_navigate_mode = function (fig, msg) {\n    if (msg['mode'] === 'PAN') {\n        fig.buttons['Pan'].classList.add('active');\n        fig.buttons['Zoom'].classList.remove('active');\n    } else if (msg['mode'] === 'ZOOM') {\n        fig.buttons['Pan'].classList.remove('active');\n        fig.buttons['Zoom'].classList.add('active');\n    } else {\n        fig.buttons['Pan'].classList.remove('active');\n        fig.buttons['Zoom'].classList.remove('active');\n    }\n};\n\nmpl.figure.prototype.updated_canvas_event = function () {\n    // Called whenever the canvas gets updated.\n    this.send_message('ack', {});\n};\n\n// A function to construct a web socket function for onmessage handling.\n// Called in the figure constructor.\nmpl.figure.prototype._make_on_message_function = function (fig) {\n    return function socket_on_message(evt) {\n        if (evt.data instanceof Blob) {\n            var img = evt.data;\n            if (img.type !== 'image/png') {\n                /* FIXME: We get \"Resource interpreted as Image but\n                 * transferred with MIME type text/plain:\" errors on\n                 * Chrome.  But how to set the MIME type?  It doesn't seem\n                 * to be part of the websocket stream */\n                img.type = 'image/png';\n            }\n\n            /* Free the memory for the previous frames */\n            if (fig.imageObj.src) {\n                (window.URL || window.webkitURL).revokeObjectURL(\n                    fig.imageObj.src\n                );\n            }\n\n            fig.imageObj.src = (window.URL || window.webkitURL).createObjectURL(\n                img\n            );\n            fig.updated_canvas_event();\n            fig.waiting = false;\n            return;\n        } else if (\n            typeof evt.data === 'string' &&\n            evt.data.slice(0, 21) === 'data:image/png;base64'\n        ) {\n            fig.imageObj.src = evt.data;\n            fig.updated_canvas_event();\n            fig.waiting = false;\n            return;\n        }\n\n        var msg = JSON.parse(evt.data);\n        var msg_type = msg['type'];\n\n        // Call the  \"handle_{type}\" callback, which takes\n        // the figure and JSON message as its only arguments.\n        try {\n            var callback = fig['handle_' + msg_type];\n        } catch (e) {\n            console.log(\n                \"No handler for the '\" + msg_type + \"' message type: \",\n                msg\n            );\n            return;\n        }\n\n        if (callback) {\n            try {\n                // console.log(\"Handling '\" + msg_type + \"' message: \", msg);\n                callback(fig, msg);\n            } catch (e) {\n                console.log(\n                    \"Exception inside the 'handler_\" + msg_type + \"' callback:\",\n                    e,\n                    e.stack,\n                    msg\n                );\n            }\n        }\n    };\n};\n\n// from https://stackoverflow.com/questions/1114465/getting-mouse-location-in-canvas\nmpl.findpos = function (e) {\n    //this section is from http://www.quirksmode.org/js/events_properties.html\n    var targ;\n    if (!e) {\n        e = window.event;\n    }\n    if (e.target) {\n        targ = e.target;\n    } else if (e.srcElement) {\n        targ = e.srcElement;\n    }\n    if (targ.nodeType === 3) {\n        // defeat Safari bug\n        targ = targ.parentNode;\n    }\n\n    // pageX,Y are the mouse positions relative to the document\n    var boundingRect = targ.getBoundingClientRect();\n    var x = e.pageX - (boundingRect.left + document.body.scrollLeft);\n    var y = e.pageY - (boundingRect.top + document.body.scrollTop);\n\n    return { x: x, y: y };\n};\n\n/*\n * return a copy of an object with only non-object keys\n * we need this to avoid circular references\n * https://stackoverflow.com/a/24161582/3208463\n */\nfunction simpleKeys(original) {\n    return Object.keys(original).reduce(function (obj, key) {\n        if (typeof original[key] !== 'object') {\n            obj[key] = original[key];\n        }\n        return obj;\n    }, {});\n}\n\nmpl.figure.prototype.mouse_event = function (event, name) {\n    var canvas_pos = mpl.findpos(event);\n\n    if (name === 'button_press') {\n        this.canvas.focus();\n        this.canvas_div.focus();\n    }\n\n    var x = canvas_pos.x * this.ratio;\n    var y = canvas_pos.y * this.ratio;\n\n    this.send_message(name, {\n        x: x,\n        y: y,\n        button: event.button,\n        step: event.step,\n        guiEvent: simpleKeys(event),\n    });\n\n    /* This prevents the web browser from automatically changing to\n     * the text insertion cursor when the button is pressed.  We want\n     * to control all of the cursor setting manually through the\n     * 'cursor' event from matplotlib */\n    event.preventDefault();\n    return false;\n};\n\nmpl.figure.prototype._key_event_extra = function (_event, _name) {\n    // Handle any extra behaviour associated with a key event\n};\n\nmpl.figure.prototype.key_event = function (event, name) {\n    // Prevent repeat events\n    if (name === 'key_press') {\n        if (event.key === this._key) {\n            return;\n        } else {\n            this._key = event.key;\n        }\n    }\n    if (name === 'key_release') {\n        this._key = null;\n    }\n\n    var value = '';\n    if (event.ctrlKey && event.key !== 'Control') {\n        value += 'ctrl+';\n    }\n    else if (event.altKey && event.key !== 'Alt') {\n        value += 'alt+';\n    }\n    else if (event.shiftKey && event.key !== 'Shift') {\n        value += 'shift+';\n    }\n\n    value += 'k' + event.key;\n\n    this._key_event_extra(event, name);\n\n    this.send_message(name, { key: value, guiEvent: simpleKeys(event) });\n    return false;\n};\n\nmpl.figure.prototype.toolbar_button_onclick = function (name) {\n    if (name === 'download') {\n        this.handle_save(this, null);\n    } else {\n        this.send_message('toolbar_button', { name: name });\n    }\n};\n\nmpl.figure.prototype.toolbar_button_onmouseover = function (tooltip) {\n    this.message.textContent = tooltip;\n};\n\n///////////////// REMAINING CONTENT GENERATED BY embed_js.py /////////////////\n// prettier-ignore\nvar _JSXTOOLS_RESIZE_OBSERVER=function(A){var t,i=new WeakMap,n=new WeakMap,a=new WeakMap,r=new WeakMap,o=new Set;function s(e){if(!(this instanceof s))throw new TypeError(\"Constructor requires 'new' operator\");i.set(this,e)}function h(){throw new TypeError(\"Function is not a constructor\")}function c(e,t,i,n){e=0 in arguments?Number(arguments[0]):0,t=1 in arguments?Number(arguments[1]):0,i=2 in arguments?Number(arguments[2]):0,n=3 in arguments?Number(arguments[3]):0,this.right=(this.x=this.left=e)+(this.width=i),this.bottom=(this.y=this.top=t)+(this.height=n),Object.freeze(this)}function d(){t=requestAnimationFrame(d);var s=new WeakMap,p=new Set;o.forEach((function(t){r.get(t).forEach((function(i){var r=t instanceof window.SVGElement,o=a.get(t),d=r?0:parseFloat(o.paddingTop),f=r?0:parseFloat(o.paddingRight),l=r?0:parseFloat(o.paddingBottom),u=r?0:parseFloat(o.paddingLeft),g=r?0:parseFloat(o.borderTopWidth),m=r?0:parseFloat(o.borderRightWidth),w=r?0:parseFloat(o.borderBottomWidth),b=u+f,F=d+l,v=(r?0:parseFloat(o.borderLeftWidth))+m,W=g+w,y=r?0:t.offsetHeight-W-t.clientHeight,E=r?0:t.offsetWidth-v-t.clientWidth,R=b+v,z=F+W,M=r?t.width:parseFloat(o.width)-R-E,O=r?t.height:parseFloat(o.height)-z-y;if(n.has(t)){var k=n.get(t);if(k[0]===M&&k[1]===O)return}n.set(t,[M,O]);var S=Object.create(h.prototype);S.target=t,S.contentRect=new c(u,d,M,O),s.has(i)||(s.set(i,[]),p.add(i)),s.get(i).push(S)}))})),p.forEach((function(e){i.get(e).call(e,s.get(e),e)}))}return s.prototype.observe=function(i){if(i instanceof window.Element){r.has(i)||(r.set(i,new Set),o.add(i),a.set(i,window.getComputedStyle(i)));var n=r.get(i);n.has(this)||n.add(this),cancelAnimationFrame(t),t=requestAnimationFrame(d)}},s.prototype.unobserve=function(i){if(i instanceof window.Element&&r.has(i)){var n=r.get(i);n.has(this)&&(n.delete(this),n.size||(r.delete(i),o.delete(i))),n.size||r.delete(i),o.size||cancelAnimationFrame(t)}},A.DOMRectReadOnly=c,A.ResizeObserver=s,A.ResizeObserverEntry=h,A}; // eslint-disable-line\nmpl.toolbar_items = [[\"Home\", \"Reset original view\", \"fa fa-home icon-home\", \"home\"], [\"Back\", \"Back to previous view\", \"fa fa-arrow-left icon-arrow-left\", \"back\"], [\"Forward\", \"Forward to next view\", \"fa fa-arrow-right icon-arrow-right\", \"forward\"], [\"\", \"\", \"\", \"\"], [\"Pan\", \"Left button pans, Right button zooms\\nx/y fixes axis, CTRL fixes aspect\", \"fa fa-arrows icon-move\", \"pan\"], [\"Zoom\", \"Zoom to rectangle\\nx/y fixes axis\", \"fa fa-square-o icon-check-empty\", \"zoom\"], [\"\", \"\", \"\", \"\"], [\"Download\", \"Download plot\", \"fa fa-floppy-o icon-save\", \"download\"]];\n\nmpl.extensions = [\"eps\", \"jpeg\", \"pgf\", \"pdf\", \"png\", \"ps\", \"raw\", \"svg\", \"tif\"];\n\nmpl.default_extension = \"png\";/* global mpl */\n\nvar comm_websocket_adapter = function (comm) {\n    // Create a \"websocket\"-like object which calls the given IPython comm\n    // object with the appropriate methods. Currently this is a non binary\n    // socket, so there is still some room for performance tuning.\n    var ws = {};\n\n    ws.binaryType = comm.kernel.ws.binaryType;\n    ws.readyState = comm.kernel.ws.readyState;\n    function updateReadyState(_event) {\n        if (comm.kernel.ws) {\n            ws.readyState = comm.kernel.ws.readyState;\n        } else {\n            ws.readyState = 3; // Closed state.\n        }\n    }\n    comm.kernel.ws.addEventListener('open', updateReadyState);\n    comm.kernel.ws.addEventListener('close', updateReadyState);\n    comm.kernel.ws.addEventListener('error', updateReadyState);\n\n    ws.close = function () {\n        comm.close();\n    };\n    ws.send = function (m) {\n        //console.log('sending', m);\n        comm.send(m);\n    };\n    // Register the callback with on_msg.\n    comm.on_msg(function (msg) {\n        //console.log('receiving', msg['content']['data'], msg);\n        var data = msg['content']['data'];\n        if (data['blob'] !== undefined) {\n            data = {\n                data: new Blob(msg['buffers'], { type: data['blob'] }),\n            };\n        }\n        // Pass the mpl event to the overridden (by mpl) onmessage function.\n        ws.onmessage(data);\n    });\n    return ws;\n};\n\nmpl.mpl_figure_comm = function (comm, msg) {\n    // This is the function which gets called when the mpl process\n    // starts-up an IPython Comm through the \"matplotlib\" channel.\n\n    var id = msg.content.data.id;\n    // Get hold of the div created by the display call when the Comm\n    // socket was opened in Python.\n    var element = document.getElementById(id);\n    var ws_proxy = comm_websocket_adapter(comm);\n\n    function ondownload(figure, _format) {\n        window.open(figure.canvas.toDataURL());\n    }\n\n    var fig = new mpl.figure(id, ws_proxy, ondownload, element);\n\n    // Call onopen now - mpl needs it, as it is assuming we've passed it a real\n    // web socket which is closed, not our websocket->open comm proxy.\n    ws_proxy.onopen();\n\n    fig.parent_element = element;\n    fig.cell_info = mpl.find_output_cell(\"<div id='\" + id + \"'></div>\");\n    if (!fig.cell_info) {\n        console.error('Failed to find cell for figure', id, fig);\n        return;\n    }\n    fig.cell_info[0].output_area.element.on(\n        'cleared',\n        { fig: fig },\n        fig._remove_fig_handler\n    );\n};\n\nmpl.figure.prototype.handle_close = function (fig, msg) {\n    var width = fig.canvas.width / fig.ratio;\n    fig.cell_info[0].output_area.element.off(\n        'cleared',\n        fig._remove_fig_handler\n    );\n    fig.resizeObserverInstance.unobserve(fig.canvas_div);\n\n    // Update the output cell to use the data from the current canvas.\n    fig.push_to_output();\n    var dataURL = fig.canvas.toDataURL();\n    // Re-enable the keyboard manager in IPython - without this line, in FF,\n    // the notebook keyboard shortcuts fail.\n    IPython.keyboard_manager.enable();\n    fig.parent_element.innerHTML =\n        '<img src=\"' + dataURL + '\" width=\"' + width + '\">';\n    fig.close_ws(fig, msg);\n};\n\nmpl.figure.prototype.close_ws = function (fig, msg) {\n    fig.send_message('closing', msg);\n    // fig.ws.close()\n};\n\nmpl.figure.prototype.push_to_output = function (_remove_interactive) {\n    // Turn the data on the canvas into data in the output cell.\n    var width = this.canvas.width / this.ratio;\n    var dataURL = this.canvas.toDataURL();\n    this.cell_info[1]['text/html'] =\n        '<img src=\"' + dataURL + '\" width=\"' + width + '\">';\n};\n\nmpl.figure.prototype.updated_canvas_event = function () {\n    // Tell IPython that the notebook contents must change.\n    IPython.notebook.set_dirty(true);\n    this.send_message('ack', {});\n    var fig = this;\n    // Wait a second, then push the new image to the DOM so\n    // that it is saved nicely (might be nice to debounce this).\n    setTimeout(function () {\n        fig.push_to_output();\n    }, 1000);\n};\n\nmpl.figure.prototype._init_toolbar = function () {\n    var fig = this;\n\n    var toolbar = document.createElement('div');\n    toolbar.classList = 'btn-toolbar';\n    this.root.appendChild(toolbar);\n\n    function on_click_closure(name) {\n        return function (_event) {\n            return fig.toolbar_button_onclick(name);\n        };\n    }\n\n    function on_mouseover_closure(tooltip) {\n        return function (event) {\n            if (!event.currentTarget.disabled) {\n                return fig.toolbar_button_onmouseover(tooltip);\n            }\n        };\n    }\n\n    fig.buttons = {};\n    var buttonGroup = document.createElement('div');\n    buttonGroup.classList = 'btn-group';\n    var button;\n    for (var toolbar_ind in mpl.toolbar_items) {\n        var name = mpl.toolbar_items[toolbar_ind][0];\n        var tooltip = mpl.toolbar_items[toolbar_ind][1];\n        var image = mpl.toolbar_items[toolbar_ind][2];\n        var method_name = mpl.toolbar_items[toolbar_ind][3];\n\n        if (!name) {\n            /* Instead of a spacer, we start a new button group. */\n            if (buttonGroup.hasChildNodes()) {\n                toolbar.appendChild(buttonGroup);\n            }\n            buttonGroup = document.createElement('div');\n            buttonGroup.classList = 'btn-group';\n            continue;\n        }\n\n        button = fig.buttons[name] = document.createElement('button');\n        button.classList = 'btn btn-default';\n        button.href = '#';\n        button.title = name;\n        button.innerHTML = '<i class=\"fa ' + image + ' fa-lg\"></i>';\n        button.addEventListener('click', on_click_closure(method_name));\n        button.addEventListener('mouseover', on_mouseover_closure(tooltip));\n        buttonGroup.appendChild(button);\n    }\n\n    if (buttonGroup.hasChildNodes()) {\n        toolbar.appendChild(buttonGroup);\n    }\n\n    // Add the status bar.\n    var status_bar = document.createElement('span');\n    status_bar.classList = 'mpl-message pull-right';\n    toolbar.appendChild(status_bar);\n    this.message = status_bar;\n\n    // Add the close button to the window.\n    var buttongrp = document.createElement('div');\n    buttongrp.classList = 'btn-group inline pull-right';\n    button = document.createElement('button');\n    button.classList = 'btn btn-mini btn-primary';\n    button.href = '#';\n    button.title = 'Stop Interaction';\n    button.innerHTML = '<i class=\"fa fa-power-off icon-remove icon-large\"></i>';\n    button.addEventListener('click', function (_evt) {\n        fig.handle_close(fig, {});\n    });\n    button.addEventListener(\n        'mouseover',\n        on_mouseover_closure('Stop Interaction')\n    );\n    buttongrp.appendChild(button);\n    var titlebar = this.root.querySelector('.ui-dialog-titlebar');\n    titlebar.insertBefore(buttongrp, titlebar.firstChild);\n};\n\nmpl.figure.prototype._remove_fig_handler = function (event) {\n    var fig = event.data.fig;\n    if (event.target !== this) {\n        // Ignore bubbled events from children.\n        return;\n    }\n    fig.close_ws(fig, {});\n};\n\nmpl.figure.prototype._root_extra_style = function (el) {\n    el.style.boxSizing = 'content-box'; // override notebook setting of border-box.\n};\n\nmpl.figure.prototype._canvas_extra_style = function (el) {\n    // this is important to make the div 'focusable\n    el.setAttribute('tabindex', 0);\n    // reach out to IPython and tell the keyboard manager to turn it's self\n    // off when our div gets focus\n\n    // location in version 3\n    if (IPython.notebook.keyboard_manager) {\n        IPython.notebook.keyboard_manager.register_events(el);\n    } else {\n        // location in version 2\n        IPython.keyboard_manager.register_events(el);\n    }\n};\n\nmpl.figure.prototype._key_event_extra = function (event, _name) {\n    // Check for shift+enter\n    if (event.shiftKey && event.which === 13) {\n        this.canvas_div.blur();\n        // select the cell after this one\n        var index = IPython.notebook.find_cell_index(this.cell_info[0]);\n        IPython.notebook.select(index + 1);\n    }\n};\n\nmpl.figure.prototype.handle_save = function (fig, _msg) {\n    fig.ondownload(fig, null);\n};\n\nmpl.find_output_cell = function (html_output) {\n    // Return the cell and output element which can be found *uniquely* in the notebook.\n    // Note - this is a bit hacky, but it is done because the \"notebook_saving.Notebook\"\n    // IPython event is triggered only after the cells have been serialised, which for\n    // our purposes (turning an active figure into a static one), is too late.\n    var cells = IPython.notebook.get_cells();\n    var ncells = cells.length;\n    for (var i = 0; i < ncells; i++) {\n        var cell = cells[i];\n        if (cell.cell_type === 'code') {\n            for (var j = 0; j < cell.output_area.outputs.length; j++) {\n                var data = cell.output_area.outputs[j];\n                if (data.data) {\n                    // IPython >= 3 moved mimebundle to data attribute of output\n                    data = data.data;\n                }\n                if (data['text/html'] === html_output) {\n                    return [cell, data, j];\n                }\n            }\n        }\n    }\n};\n\n// Register the function which deals with the matplotlib target/channel.\n// The kernel may be null if the page has been refreshed.\nif (IPython.notebook.kernel !== null) {\n    IPython.notebook.kernel.comm_manager.register_target(\n        'matplotlib',\n        mpl.mpl_figure_comm\n    );\n}\n",
      "text/plain": [
       "<IPython.core.display.Javascript object>"
      ]
     },
     "metadata": {},
     "output_type": "display_data"
    },
    {
     "data": {
      "text/html": [
       "<div id='f72b5c29-d735-4ab8-a093-c4428d1824fa'></div>"
      ],
      "text/plain": [
       "<IPython.core.display.HTML object>"
      ]
     },
     "metadata": {},
     "output_type": "display_data"
    },
    {
     "data": {
      "text/plain": [
       "<matplotlib.colorbar.Colorbar at 0x1d6880e4be0>"
      ]
     },
     "execution_count": 159,
     "metadata": {},
     "output_type": "execute_result"
    }
   ],
   "source": [
    "%matplotlib notebook\n",
    "\n",
    "print(\"y_train contains the target output corresponding to X_train values !\")\n",
    "plt.figure(111, figsize=(10, 8))\n",
    "ax = plt.axes(projection='3d')\n",
    "figure = ax.scatter3D(X_train['PhysActivity'], X_train['Age'], X_train['BMI'], c = y_train,\n",
    "              marker = 'o', s=80)\n",
    "ax.set_xlabel('PhysActivity')\n",
    "ax.set_ylabel('Age')\n",
    "ax.set_zlabel('BMI')\n",
    "plt.colorbar(figure)\n"
   ]
  },
  {
   "cell_type": "code",
   "execution_count": 16,
   "metadata": {},
   "outputs": [
    {
     "data": {
      "application/javascript": "/* Put everything inside the global mpl namespace */\n/* global mpl */\nwindow.mpl = {};\n\nmpl.get_websocket_type = function () {\n    if (typeof WebSocket !== 'undefined') {\n        return WebSocket;\n    } else if (typeof MozWebSocket !== 'undefined') {\n        return MozWebSocket;\n    } else {\n        alert(\n            'Your browser does not have WebSocket support. ' +\n                'Please try Chrome, Safari or Firefox ≥ 6. ' +\n                'Firefox 4 and 5 are also supported but you ' +\n                'have to enable WebSockets in about:config.'\n        );\n    }\n};\n\nmpl.figure = function (figure_id, websocket, ondownload, parent_element) {\n    this.id = figure_id;\n\n    this.ws = websocket;\n\n    this.supports_binary = this.ws.binaryType !== undefined;\n\n    if (!this.supports_binary) {\n        var warnings = document.getElementById('mpl-warnings');\n        if (warnings) {\n            warnings.style.display = 'block';\n            warnings.textContent =\n                'This browser does not support binary websocket messages. ' +\n                'Performance may be slow.';\n        }\n    }\n\n    this.imageObj = new Image();\n\n    this.context = undefined;\n    this.message = undefined;\n    this.canvas = undefined;\n    this.rubberband_canvas = undefined;\n    this.rubberband_context = undefined;\n    this.format_dropdown = undefined;\n\n    this.image_mode = 'full';\n\n    this.root = document.createElement('div');\n    this.root.setAttribute('style', 'display: inline-block');\n    this._root_extra_style(this.root);\n\n    parent_element.appendChild(this.root);\n\n    this._init_header(this);\n    this._init_canvas(this);\n    this._init_toolbar(this);\n\n    var fig = this;\n\n    this.waiting = false;\n\n    this.ws.onopen = function () {\n        fig.send_message('supports_binary', { value: fig.supports_binary });\n        fig.send_message('send_image_mode', {});\n        if (fig.ratio !== 1) {\n            fig.send_message('set_device_pixel_ratio', {\n                device_pixel_ratio: fig.ratio,\n            });\n        }\n        fig.send_message('refresh', {});\n    };\n\n    this.imageObj.onload = function () {\n        if (fig.image_mode === 'full') {\n            // Full images could contain transparency (where diff images\n            // almost always do), so we need to clear the canvas so that\n            // there is no ghosting.\n            fig.context.clearRect(0, 0, fig.canvas.width, fig.canvas.height);\n        }\n        fig.context.drawImage(fig.imageObj, 0, 0);\n    };\n\n    this.imageObj.onunload = function () {\n        fig.ws.close();\n    };\n\n    this.ws.onmessage = this._make_on_message_function(this);\n\n    this.ondownload = ondownload;\n};\n\nmpl.figure.prototype._init_header = function () {\n    var titlebar = document.createElement('div');\n    titlebar.classList =\n        'ui-dialog-titlebar ui-widget-header ui-corner-all ui-helper-clearfix';\n    var titletext = document.createElement('div');\n    titletext.classList = 'ui-dialog-title';\n    titletext.setAttribute(\n        'style',\n        'width: 100%; text-align: center; padding: 3px;'\n    );\n    titlebar.appendChild(titletext);\n    this.root.appendChild(titlebar);\n    this.header = titletext;\n};\n\nmpl.figure.prototype._canvas_extra_style = function (_canvas_div) {};\n\nmpl.figure.prototype._root_extra_style = function (_canvas_div) {};\n\nmpl.figure.prototype._init_canvas = function () {\n    var fig = this;\n\n    var canvas_div = (this.canvas_div = document.createElement('div'));\n    canvas_div.setAttribute(\n        'style',\n        'border: 1px solid #ddd;' +\n            'box-sizing: content-box;' +\n            'clear: both;' +\n            'min-height: 1px;' +\n            'min-width: 1px;' +\n            'outline: 0;' +\n            'overflow: hidden;' +\n            'position: relative;' +\n            'resize: both;'\n    );\n\n    function on_keyboard_event_closure(name) {\n        return function (event) {\n            return fig.key_event(event, name);\n        };\n    }\n\n    canvas_div.addEventListener(\n        'keydown',\n        on_keyboard_event_closure('key_press')\n    );\n    canvas_div.addEventListener(\n        'keyup',\n        on_keyboard_event_closure('key_release')\n    );\n\n    this._canvas_extra_style(canvas_div);\n    this.root.appendChild(canvas_div);\n\n    var canvas = (this.canvas = document.createElement('canvas'));\n    canvas.classList.add('mpl-canvas');\n    canvas.setAttribute('style', 'box-sizing: content-box;');\n\n    this.context = canvas.getContext('2d');\n\n    var backingStore =\n        this.context.backingStorePixelRatio ||\n        this.context.webkitBackingStorePixelRatio ||\n        this.context.mozBackingStorePixelRatio ||\n        this.context.msBackingStorePixelRatio ||\n        this.context.oBackingStorePixelRatio ||\n        this.context.backingStorePixelRatio ||\n        1;\n\n    this.ratio = (window.devicePixelRatio || 1) / backingStore;\n\n    var rubberband_canvas = (this.rubberband_canvas = document.createElement(\n        'canvas'\n    ));\n    rubberband_canvas.setAttribute(\n        'style',\n        'box-sizing: content-box; position: absolute; left: 0; top: 0; z-index: 1;'\n    );\n\n    // Apply a ponyfill if ResizeObserver is not implemented by browser.\n    if (this.ResizeObserver === undefined) {\n        if (window.ResizeObserver !== undefined) {\n            this.ResizeObserver = window.ResizeObserver;\n        } else {\n            var obs = _JSXTOOLS_RESIZE_OBSERVER({});\n            this.ResizeObserver = obs.ResizeObserver;\n        }\n    }\n\n    this.resizeObserverInstance = new this.ResizeObserver(function (entries) {\n        var nentries = entries.length;\n        for (var i = 0; i < nentries; i++) {\n            var entry = entries[i];\n            var width, height;\n            if (entry.contentBoxSize) {\n                if (entry.contentBoxSize instanceof Array) {\n                    // Chrome 84 implements new version of spec.\n                    width = entry.contentBoxSize[0].inlineSize;\n                    height = entry.contentBoxSize[0].blockSize;\n                } else {\n                    // Firefox implements old version of spec.\n                    width = entry.contentBoxSize.inlineSize;\n                    height = entry.contentBoxSize.blockSize;\n                }\n            } else {\n                // Chrome <84 implements even older version of spec.\n                width = entry.contentRect.width;\n                height = entry.contentRect.height;\n            }\n\n            // Keep the size of the canvas and rubber band canvas in sync with\n            // the canvas container.\n            if (entry.devicePixelContentBoxSize) {\n                // Chrome 84 implements new version of spec.\n                canvas.setAttribute(\n                    'width',\n                    entry.devicePixelContentBoxSize[0].inlineSize\n                );\n                canvas.setAttribute(\n                    'height',\n                    entry.devicePixelContentBoxSize[0].blockSize\n                );\n            } else {\n                canvas.setAttribute('width', width * fig.ratio);\n                canvas.setAttribute('height', height * fig.ratio);\n            }\n            canvas.setAttribute(\n                'style',\n                'width: ' + width + 'px; height: ' + height + 'px;'\n            );\n\n            rubberband_canvas.setAttribute('width', width);\n            rubberband_canvas.setAttribute('height', height);\n\n            // And update the size in Python. We ignore the initial 0/0 size\n            // that occurs as the element is placed into the DOM, which should\n            // otherwise not happen due to the minimum size styling.\n            if (fig.ws.readyState == 1 && width != 0 && height != 0) {\n                fig.request_resize(width, height);\n            }\n        }\n    });\n    this.resizeObserverInstance.observe(canvas_div);\n\n    function on_mouse_event_closure(name) {\n        return function (event) {\n            return fig.mouse_event(event, name);\n        };\n    }\n\n    rubberband_canvas.addEventListener(\n        'mousedown',\n        on_mouse_event_closure('button_press')\n    );\n    rubberband_canvas.addEventListener(\n        'mouseup',\n        on_mouse_event_closure('button_release')\n    );\n    rubberband_canvas.addEventListener(\n        'dblclick',\n        on_mouse_event_closure('dblclick')\n    );\n    // Throttle sequential mouse events to 1 every 20ms.\n    rubberband_canvas.addEventListener(\n        'mousemove',\n        on_mouse_event_closure('motion_notify')\n    );\n\n    rubberband_canvas.addEventListener(\n        'mouseenter',\n        on_mouse_event_closure('figure_enter')\n    );\n    rubberband_canvas.addEventListener(\n        'mouseleave',\n        on_mouse_event_closure('figure_leave')\n    );\n\n    canvas_div.addEventListener('wheel', function (event) {\n        if (event.deltaY < 0) {\n            event.step = 1;\n        } else {\n            event.step = -1;\n        }\n        on_mouse_event_closure('scroll')(event);\n    });\n\n    canvas_div.appendChild(canvas);\n    canvas_div.appendChild(rubberband_canvas);\n\n    this.rubberband_context = rubberband_canvas.getContext('2d');\n    this.rubberband_context.strokeStyle = '#000000';\n\n    this._resize_canvas = function (width, height, forward) {\n        if (forward) {\n            canvas_div.style.width = width + 'px';\n            canvas_div.style.height = height + 'px';\n        }\n    };\n\n    // Disable right mouse context menu.\n    this.rubberband_canvas.addEventListener('contextmenu', function (_e) {\n        event.preventDefault();\n        return false;\n    });\n\n    function set_focus() {\n        canvas.focus();\n        canvas_div.focus();\n    }\n\n    window.setTimeout(set_focus, 100);\n};\n\nmpl.figure.prototype._init_toolbar = function () {\n    var fig = this;\n\n    var toolbar = document.createElement('div');\n    toolbar.classList = 'mpl-toolbar';\n    this.root.appendChild(toolbar);\n\n    function on_click_closure(name) {\n        return function (_event) {\n            return fig.toolbar_button_onclick(name);\n        };\n    }\n\n    function on_mouseover_closure(tooltip) {\n        return function (event) {\n            if (!event.currentTarget.disabled) {\n                return fig.toolbar_button_onmouseover(tooltip);\n            }\n        };\n    }\n\n    fig.buttons = {};\n    var buttonGroup = document.createElement('div');\n    buttonGroup.classList = 'mpl-button-group';\n    for (var toolbar_ind in mpl.toolbar_items) {\n        var name = mpl.toolbar_items[toolbar_ind][0];\n        var tooltip = mpl.toolbar_items[toolbar_ind][1];\n        var image = mpl.toolbar_items[toolbar_ind][2];\n        var method_name = mpl.toolbar_items[toolbar_ind][3];\n\n        if (!name) {\n            /* Instead of a spacer, we start a new button group. */\n            if (buttonGroup.hasChildNodes()) {\n                toolbar.appendChild(buttonGroup);\n            }\n            buttonGroup = document.createElement('div');\n            buttonGroup.classList = 'mpl-button-group';\n            continue;\n        }\n\n        var button = (fig.buttons[name] = document.createElement('button'));\n        button.classList = 'mpl-widget';\n        button.setAttribute('role', 'button');\n        button.setAttribute('aria-disabled', 'false');\n        button.addEventListener('click', on_click_closure(method_name));\n        button.addEventListener('mouseover', on_mouseover_closure(tooltip));\n\n        var icon_img = document.createElement('img');\n        icon_img.src = '_images/' + image + '.png';\n        icon_img.srcset = '_images/' + image + '_large.png 2x';\n        icon_img.alt = tooltip;\n        button.appendChild(icon_img);\n\n        buttonGroup.appendChild(button);\n    }\n\n    if (buttonGroup.hasChildNodes()) {\n        toolbar.appendChild(buttonGroup);\n    }\n\n    var fmt_picker = document.createElement('select');\n    fmt_picker.classList = 'mpl-widget';\n    toolbar.appendChild(fmt_picker);\n    this.format_dropdown = fmt_picker;\n\n    for (var ind in mpl.extensions) {\n        var fmt = mpl.extensions[ind];\n        var option = document.createElement('option');\n        option.selected = fmt === mpl.default_extension;\n        option.innerHTML = fmt;\n        fmt_picker.appendChild(option);\n    }\n\n    var status_bar = document.createElement('span');\n    status_bar.classList = 'mpl-message';\n    toolbar.appendChild(status_bar);\n    this.message = status_bar;\n};\n\nmpl.figure.prototype.request_resize = function (x_pixels, y_pixels) {\n    // Request matplotlib to resize the figure. Matplotlib will then trigger a resize in the client,\n    // which will in turn request a refresh of the image.\n    this.send_message('resize', { width: x_pixels, height: y_pixels });\n};\n\nmpl.figure.prototype.send_message = function (type, properties) {\n    properties['type'] = type;\n    properties['figure_id'] = this.id;\n    this.ws.send(JSON.stringify(properties));\n};\n\nmpl.figure.prototype.send_draw_message = function () {\n    if (!this.waiting) {\n        this.waiting = true;\n        this.ws.send(JSON.stringify({ type: 'draw', figure_id: this.id }));\n    }\n};\n\nmpl.figure.prototype.handle_save = function (fig, _msg) {\n    var format_dropdown = fig.format_dropdown;\n    var format = format_dropdown.options[format_dropdown.selectedIndex].value;\n    fig.ondownload(fig, format);\n};\n\nmpl.figure.prototype.handle_resize = function (fig, msg) {\n    var size = msg['size'];\n    if (size[0] !== fig.canvas.width || size[1] !== fig.canvas.height) {\n        fig._resize_canvas(size[0], size[1], msg['forward']);\n        fig.send_message('refresh', {});\n    }\n};\n\nmpl.figure.prototype.handle_rubberband = function (fig, msg) {\n    var x0 = msg['x0'] / fig.ratio;\n    var y0 = (fig.canvas.height - msg['y0']) / fig.ratio;\n    var x1 = msg['x1'] / fig.ratio;\n    var y1 = (fig.canvas.height - msg['y1']) / fig.ratio;\n    x0 = Math.floor(x0) + 0.5;\n    y0 = Math.floor(y0) + 0.5;\n    x1 = Math.floor(x1) + 0.5;\n    y1 = Math.floor(y1) + 0.5;\n    var min_x = Math.min(x0, x1);\n    var min_y = Math.min(y0, y1);\n    var width = Math.abs(x1 - x0);\n    var height = Math.abs(y1 - y0);\n\n    fig.rubberband_context.clearRect(\n        0,\n        0,\n        fig.canvas.width / fig.ratio,\n        fig.canvas.height / fig.ratio\n    );\n\n    fig.rubberband_context.strokeRect(min_x, min_y, width, height);\n};\n\nmpl.figure.prototype.handle_figure_label = function (fig, msg) {\n    // Updates the figure title.\n    fig.header.textContent = msg['label'];\n};\n\nmpl.figure.prototype.handle_cursor = function (fig, msg) {\n    fig.rubberband_canvas.style.cursor = msg['cursor'];\n};\n\nmpl.figure.prototype.handle_message = function (fig, msg) {\n    fig.message.textContent = msg['message'];\n};\n\nmpl.figure.prototype.handle_draw = function (fig, _msg) {\n    // Request the server to send over a new figure.\n    fig.send_draw_message();\n};\n\nmpl.figure.prototype.handle_image_mode = function (fig, msg) {\n    fig.image_mode = msg['mode'];\n};\n\nmpl.figure.prototype.handle_history_buttons = function (fig, msg) {\n    for (var key in msg) {\n        if (!(key in fig.buttons)) {\n            continue;\n        }\n        fig.buttons[key].disabled = !msg[key];\n        fig.buttons[key].setAttribute('aria-disabled', !msg[key]);\n    }\n};\n\nmpl.figure.prototype.handle_navigate_mode = function (fig, msg) {\n    if (msg['mode'] === 'PAN') {\n        fig.buttons['Pan'].classList.add('active');\n        fig.buttons['Zoom'].classList.remove('active');\n    } else if (msg['mode'] === 'ZOOM') {\n        fig.buttons['Pan'].classList.remove('active');\n        fig.buttons['Zoom'].classList.add('active');\n    } else {\n        fig.buttons['Pan'].classList.remove('active');\n        fig.buttons['Zoom'].classList.remove('active');\n    }\n};\n\nmpl.figure.prototype.updated_canvas_event = function () {\n    // Called whenever the canvas gets updated.\n    this.send_message('ack', {});\n};\n\n// A function to construct a web socket function for onmessage handling.\n// Called in the figure constructor.\nmpl.figure.prototype._make_on_message_function = function (fig) {\n    return function socket_on_message(evt) {\n        if (evt.data instanceof Blob) {\n            var img = evt.data;\n            if (img.type !== 'image/png') {\n                /* FIXME: We get \"Resource interpreted as Image but\n                 * transferred with MIME type text/plain:\" errors on\n                 * Chrome.  But how to set the MIME type?  It doesn't seem\n                 * to be part of the websocket stream */\n                img.type = 'image/png';\n            }\n\n            /* Free the memory for the previous frames */\n            if (fig.imageObj.src) {\n                (window.URL || window.webkitURL).revokeObjectURL(\n                    fig.imageObj.src\n                );\n            }\n\n            fig.imageObj.src = (window.URL || window.webkitURL).createObjectURL(\n                img\n            );\n            fig.updated_canvas_event();\n            fig.waiting = false;\n            return;\n        } else if (\n            typeof evt.data === 'string' &&\n            evt.data.slice(0, 21) === 'data:image/png;base64'\n        ) {\n            fig.imageObj.src = evt.data;\n            fig.updated_canvas_event();\n            fig.waiting = false;\n            return;\n        }\n\n        var msg = JSON.parse(evt.data);\n        var msg_type = msg['type'];\n\n        // Call the  \"handle_{type}\" callback, which takes\n        // the figure and JSON message as its only arguments.\n        try {\n            var callback = fig['handle_' + msg_type];\n        } catch (e) {\n            console.log(\n                \"No handler for the '\" + msg_type + \"' message type: \",\n                msg\n            );\n            return;\n        }\n\n        if (callback) {\n            try {\n                // console.log(\"Handling '\" + msg_type + \"' message: \", msg);\n                callback(fig, msg);\n            } catch (e) {\n                console.log(\n                    \"Exception inside the 'handler_\" + msg_type + \"' callback:\",\n                    e,\n                    e.stack,\n                    msg\n                );\n            }\n        }\n    };\n};\n\n// from https://stackoverflow.com/questions/1114465/getting-mouse-location-in-canvas\nmpl.findpos = function (e) {\n    //this section is from http://www.quirksmode.org/js/events_properties.html\n    var targ;\n    if (!e) {\n        e = window.event;\n    }\n    if (e.target) {\n        targ = e.target;\n    } else if (e.srcElement) {\n        targ = e.srcElement;\n    }\n    if (targ.nodeType === 3) {\n        // defeat Safari bug\n        targ = targ.parentNode;\n    }\n\n    // pageX,Y are the mouse positions relative to the document\n    var boundingRect = targ.getBoundingClientRect();\n    var x = e.pageX - (boundingRect.left + document.body.scrollLeft);\n    var y = e.pageY - (boundingRect.top + document.body.scrollTop);\n\n    return { x: x, y: y };\n};\n\n/*\n * return a copy of an object with only non-object keys\n * we need this to avoid circular references\n * https://stackoverflow.com/a/24161582/3208463\n */\nfunction simpleKeys(original) {\n    return Object.keys(original).reduce(function (obj, key) {\n        if (typeof original[key] !== 'object') {\n            obj[key] = original[key];\n        }\n        return obj;\n    }, {});\n}\n\nmpl.figure.prototype.mouse_event = function (event, name) {\n    var canvas_pos = mpl.findpos(event);\n\n    if (name === 'button_press') {\n        this.canvas.focus();\n        this.canvas_div.focus();\n    }\n\n    var x = canvas_pos.x * this.ratio;\n    var y = canvas_pos.y * this.ratio;\n\n    this.send_message(name, {\n        x: x,\n        y: y,\n        button: event.button,\n        step: event.step,\n        guiEvent: simpleKeys(event),\n    });\n\n    /* This prevents the web browser from automatically changing to\n     * the text insertion cursor when the button is pressed.  We want\n     * to control all of the cursor setting manually through the\n     * 'cursor' event from matplotlib */\n    event.preventDefault();\n    return false;\n};\n\nmpl.figure.prototype._key_event_extra = function (_event, _name) {\n    // Handle any extra behaviour associated with a key event\n};\n\nmpl.figure.prototype.key_event = function (event, name) {\n    // Prevent repeat events\n    if (name === 'key_press') {\n        if (event.key === this._key) {\n            return;\n        } else {\n            this._key = event.key;\n        }\n    }\n    if (name === 'key_release') {\n        this._key = null;\n    }\n\n    var value = '';\n    if (event.ctrlKey && event.key !== 'Control') {\n        value += 'ctrl+';\n    }\n    else if (event.altKey && event.key !== 'Alt') {\n        value += 'alt+';\n    }\n    else if (event.shiftKey && event.key !== 'Shift') {\n        value += 'shift+';\n    }\n\n    value += 'k' + event.key;\n\n    this._key_event_extra(event, name);\n\n    this.send_message(name, { key: value, guiEvent: simpleKeys(event) });\n    return false;\n};\n\nmpl.figure.prototype.toolbar_button_onclick = function (name) {\n    if (name === 'download') {\n        this.handle_save(this, null);\n    } else {\n        this.send_message('toolbar_button', { name: name });\n    }\n};\n\nmpl.figure.prototype.toolbar_button_onmouseover = function (tooltip) {\n    this.message.textContent = tooltip;\n};\n\n///////////////// REMAINING CONTENT GENERATED BY embed_js.py /////////////////\n// prettier-ignore\nvar _JSXTOOLS_RESIZE_OBSERVER=function(A){var t,i=new WeakMap,n=new WeakMap,a=new WeakMap,r=new WeakMap,o=new Set;function s(e){if(!(this instanceof s))throw new TypeError(\"Constructor requires 'new' operator\");i.set(this,e)}function h(){throw new TypeError(\"Function is not a constructor\")}function c(e,t,i,n){e=0 in arguments?Number(arguments[0]):0,t=1 in arguments?Number(arguments[1]):0,i=2 in arguments?Number(arguments[2]):0,n=3 in arguments?Number(arguments[3]):0,this.right=(this.x=this.left=e)+(this.width=i),this.bottom=(this.y=this.top=t)+(this.height=n),Object.freeze(this)}function d(){t=requestAnimationFrame(d);var s=new WeakMap,p=new Set;o.forEach((function(t){r.get(t).forEach((function(i){var r=t instanceof window.SVGElement,o=a.get(t),d=r?0:parseFloat(o.paddingTop),f=r?0:parseFloat(o.paddingRight),l=r?0:parseFloat(o.paddingBottom),u=r?0:parseFloat(o.paddingLeft),g=r?0:parseFloat(o.borderTopWidth),m=r?0:parseFloat(o.borderRightWidth),w=r?0:parseFloat(o.borderBottomWidth),b=u+f,F=d+l,v=(r?0:parseFloat(o.borderLeftWidth))+m,W=g+w,y=r?0:t.offsetHeight-W-t.clientHeight,E=r?0:t.offsetWidth-v-t.clientWidth,R=b+v,z=F+W,M=r?t.width:parseFloat(o.width)-R-E,O=r?t.height:parseFloat(o.height)-z-y;if(n.has(t)){var k=n.get(t);if(k[0]===M&&k[1]===O)return}n.set(t,[M,O]);var S=Object.create(h.prototype);S.target=t,S.contentRect=new c(u,d,M,O),s.has(i)||(s.set(i,[]),p.add(i)),s.get(i).push(S)}))})),p.forEach((function(e){i.get(e).call(e,s.get(e),e)}))}return s.prototype.observe=function(i){if(i instanceof window.Element){r.has(i)||(r.set(i,new Set),o.add(i),a.set(i,window.getComputedStyle(i)));var n=r.get(i);n.has(this)||n.add(this),cancelAnimationFrame(t),t=requestAnimationFrame(d)}},s.prototype.unobserve=function(i){if(i instanceof window.Element&&r.has(i)){var n=r.get(i);n.has(this)&&(n.delete(this),n.size||(r.delete(i),o.delete(i))),n.size||r.delete(i),o.size||cancelAnimationFrame(t)}},A.DOMRectReadOnly=c,A.ResizeObserver=s,A.ResizeObserverEntry=h,A}; // eslint-disable-line\nmpl.toolbar_items = [[\"Home\", \"Reset original view\", \"fa fa-home icon-home\", \"home\"], [\"Back\", \"Back to previous view\", \"fa fa-arrow-left icon-arrow-left\", \"back\"], [\"Forward\", \"Forward to next view\", \"fa fa-arrow-right icon-arrow-right\", \"forward\"], [\"\", \"\", \"\", \"\"], [\"Pan\", \"Left button pans, Right button zooms\\nx/y fixes axis, CTRL fixes aspect\", \"fa fa-arrows icon-move\", \"pan\"], [\"Zoom\", \"Zoom to rectangle\\nx/y fixes axis\", \"fa fa-square-o icon-check-empty\", \"zoom\"], [\"\", \"\", \"\", \"\"], [\"Download\", \"Download plot\", \"fa fa-floppy-o icon-save\", \"download\"]];\n\nmpl.extensions = [\"eps\", \"jpeg\", \"pgf\", \"pdf\", \"png\", \"ps\", \"raw\", \"svg\", \"tif\"];\n\nmpl.default_extension = \"png\";/* global mpl */\n\nvar comm_websocket_adapter = function (comm) {\n    // Create a \"websocket\"-like object which calls the given IPython comm\n    // object with the appropriate methods. Currently this is a non binary\n    // socket, so there is still some room for performance tuning.\n    var ws = {};\n\n    ws.binaryType = comm.kernel.ws.binaryType;\n    ws.readyState = comm.kernel.ws.readyState;\n    function updateReadyState(_event) {\n        if (comm.kernel.ws) {\n            ws.readyState = comm.kernel.ws.readyState;\n        } else {\n            ws.readyState = 3; // Closed state.\n        }\n    }\n    comm.kernel.ws.addEventListener('open', updateReadyState);\n    comm.kernel.ws.addEventListener('close', updateReadyState);\n    comm.kernel.ws.addEventListener('error', updateReadyState);\n\n    ws.close = function () {\n        comm.close();\n    };\n    ws.send = function (m) {\n        //console.log('sending', m);\n        comm.send(m);\n    };\n    // Register the callback with on_msg.\n    comm.on_msg(function (msg) {\n        //console.log('receiving', msg['content']['data'], msg);\n        var data = msg['content']['data'];\n        if (data['blob'] !== undefined) {\n            data = {\n                data: new Blob(msg['buffers'], { type: data['blob'] }),\n            };\n        }\n        // Pass the mpl event to the overridden (by mpl) onmessage function.\n        ws.onmessage(data);\n    });\n    return ws;\n};\n\nmpl.mpl_figure_comm = function (comm, msg) {\n    // This is the function which gets called when the mpl process\n    // starts-up an IPython Comm through the \"matplotlib\" channel.\n\n    var id = msg.content.data.id;\n    // Get hold of the div created by the display call when the Comm\n    // socket was opened in Python.\n    var element = document.getElementById(id);\n    var ws_proxy = comm_websocket_adapter(comm);\n\n    function ondownload(figure, _format) {\n        window.open(figure.canvas.toDataURL());\n    }\n\n    var fig = new mpl.figure(id, ws_proxy, ondownload, element);\n\n    // Call onopen now - mpl needs it, as it is assuming we've passed it a real\n    // web socket which is closed, not our websocket->open comm proxy.\n    ws_proxy.onopen();\n\n    fig.parent_element = element;\n    fig.cell_info = mpl.find_output_cell(\"<div id='\" + id + \"'></div>\");\n    if (!fig.cell_info) {\n        console.error('Failed to find cell for figure', id, fig);\n        return;\n    }\n    fig.cell_info[0].output_area.element.on(\n        'cleared',\n        { fig: fig },\n        fig._remove_fig_handler\n    );\n};\n\nmpl.figure.prototype.handle_close = function (fig, msg) {\n    var width = fig.canvas.width / fig.ratio;\n    fig.cell_info[0].output_area.element.off(\n        'cleared',\n        fig._remove_fig_handler\n    );\n    fig.resizeObserverInstance.unobserve(fig.canvas_div);\n\n    // Update the output cell to use the data from the current canvas.\n    fig.push_to_output();\n    var dataURL = fig.canvas.toDataURL();\n    // Re-enable the keyboard manager in IPython - without this line, in FF,\n    // the notebook keyboard shortcuts fail.\n    IPython.keyboard_manager.enable();\n    fig.parent_element.innerHTML =\n        '<img src=\"' + dataURL + '\" width=\"' + width + '\">';\n    fig.close_ws(fig, msg);\n};\n\nmpl.figure.prototype.close_ws = function (fig, msg) {\n    fig.send_message('closing', msg);\n    // fig.ws.close()\n};\n\nmpl.figure.prototype.push_to_output = function (_remove_interactive) {\n    // Turn the data on the canvas into data in the output cell.\n    var width = this.canvas.width / this.ratio;\n    var dataURL = this.canvas.toDataURL();\n    this.cell_info[1]['text/html'] =\n        '<img src=\"' + dataURL + '\" width=\"' + width + '\">';\n};\n\nmpl.figure.prototype.updated_canvas_event = function () {\n    // Tell IPython that the notebook contents must change.\n    IPython.notebook.set_dirty(true);\n    this.send_message('ack', {});\n    var fig = this;\n    // Wait a second, then push the new image to the DOM so\n    // that it is saved nicely (might be nice to debounce this).\n    setTimeout(function () {\n        fig.push_to_output();\n    }, 1000);\n};\n\nmpl.figure.prototype._init_toolbar = function () {\n    var fig = this;\n\n    var toolbar = document.createElement('div');\n    toolbar.classList = 'btn-toolbar';\n    this.root.appendChild(toolbar);\n\n    function on_click_closure(name) {\n        return function (_event) {\n            return fig.toolbar_button_onclick(name);\n        };\n    }\n\n    function on_mouseover_closure(tooltip) {\n        return function (event) {\n            if (!event.currentTarget.disabled) {\n                return fig.toolbar_button_onmouseover(tooltip);\n            }\n        };\n    }\n\n    fig.buttons = {};\n    var buttonGroup = document.createElement('div');\n    buttonGroup.classList = 'btn-group';\n    var button;\n    for (var toolbar_ind in mpl.toolbar_items) {\n        var name = mpl.toolbar_items[toolbar_ind][0];\n        var tooltip = mpl.toolbar_items[toolbar_ind][1];\n        var image = mpl.toolbar_items[toolbar_ind][2];\n        var method_name = mpl.toolbar_items[toolbar_ind][3];\n\n        if (!name) {\n            /* Instead of a spacer, we start a new button group. */\n            if (buttonGroup.hasChildNodes()) {\n                toolbar.appendChild(buttonGroup);\n            }\n            buttonGroup = document.createElement('div');\n            buttonGroup.classList = 'btn-group';\n            continue;\n        }\n\n        button = fig.buttons[name] = document.createElement('button');\n        button.classList = 'btn btn-default';\n        button.href = '#';\n        button.title = name;\n        button.innerHTML = '<i class=\"fa ' + image + ' fa-lg\"></i>';\n        button.addEventListener('click', on_click_closure(method_name));\n        button.addEventListener('mouseover', on_mouseover_closure(tooltip));\n        buttonGroup.appendChild(button);\n    }\n\n    if (buttonGroup.hasChildNodes()) {\n        toolbar.appendChild(buttonGroup);\n    }\n\n    // Add the status bar.\n    var status_bar = document.createElement('span');\n    status_bar.classList = 'mpl-message pull-right';\n    toolbar.appendChild(status_bar);\n    this.message = status_bar;\n\n    // Add the close button to the window.\n    var buttongrp = document.createElement('div');\n    buttongrp.classList = 'btn-group inline pull-right';\n    button = document.createElement('button');\n    button.classList = 'btn btn-mini btn-primary';\n    button.href = '#';\n    button.title = 'Stop Interaction';\n    button.innerHTML = '<i class=\"fa fa-power-off icon-remove icon-large\"></i>';\n    button.addEventListener('click', function (_evt) {\n        fig.handle_close(fig, {});\n    });\n    button.addEventListener(\n        'mouseover',\n        on_mouseover_closure('Stop Interaction')\n    );\n    buttongrp.appendChild(button);\n    var titlebar = this.root.querySelector('.ui-dialog-titlebar');\n    titlebar.insertBefore(buttongrp, titlebar.firstChild);\n};\n\nmpl.figure.prototype._remove_fig_handler = function (event) {\n    var fig = event.data.fig;\n    if (event.target !== this) {\n        // Ignore bubbled events from children.\n        return;\n    }\n    fig.close_ws(fig, {});\n};\n\nmpl.figure.prototype._root_extra_style = function (el) {\n    el.style.boxSizing = 'content-box'; // override notebook setting of border-box.\n};\n\nmpl.figure.prototype._canvas_extra_style = function (el) {\n    // this is important to make the div 'focusable\n    el.setAttribute('tabindex', 0);\n    // reach out to IPython and tell the keyboard manager to turn it's self\n    // off when our div gets focus\n\n    // location in version 3\n    if (IPython.notebook.keyboard_manager) {\n        IPython.notebook.keyboard_manager.register_events(el);\n    } else {\n        // location in version 2\n        IPython.keyboard_manager.register_events(el);\n    }\n};\n\nmpl.figure.prototype._key_event_extra = function (event, _name) {\n    // Check for shift+enter\n    if (event.shiftKey && event.which === 13) {\n        this.canvas_div.blur();\n        // select the cell after this one\n        var index = IPython.notebook.find_cell_index(this.cell_info[0]);\n        IPython.notebook.select(index + 1);\n    }\n};\n\nmpl.figure.prototype.handle_save = function (fig, _msg) {\n    fig.ondownload(fig, null);\n};\n\nmpl.find_output_cell = function (html_output) {\n    // Return the cell and output element which can be found *uniquely* in the notebook.\n    // Note - this is a bit hacky, but it is done because the \"notebook_saving.Notebook\"\n    // IPython event is triggered only after the cells have been serialised, which for\n    // our purposes (turning an active figure into a static one), is too late.\n    var cells = IPython.notebook.get_cells();\n    var ncells = cells.length;\n    for (var i = 0; i < ncells; i++) {\n        var cell = cells[i];\n        if (cell.cell_type === 'code') {\n            for (var j = 0; j < cell.output_area.outputs.length; j++) {\n                var data = cell.output_area.outputs[j];\n                if (data.data) {\n                    // IPython >= 3 moved mimebundle to data attribute of output\n                    data = data.data;\n                }\n                if (data['text/html'] === html_output) {\n                    return [cell, data, j];\n                }\n            }\n        }\n    }\n};\n\n// Register the function which deals with the matplotlib target/channel.\n// The kernel may be null if the page has been refreshed.\nif (IPython.notebook.kernel !== null) {\n    IPython.notebook.kernel.comm_manager.register_target(\n        'matplotlib',\n        mpl.mpl_figure_comm\n    );\n}\n",
      "text/plain": [
       "<IPython.core.display.Javascript object>"
      ]
     },
     "metadata": {},
     "output_type": "display_data"
    },
    {
     "data": {
      "text/html": [
       "<img src=\"data:image/png;base64,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\" width=\"640\">"
      ],
      "text/plain": [
       "<IPython.core.display.HTML object>"
      ]
     },
     "metadata": {},
     "output_type": "display_data"
    },
    {
     "name": "stderr",
     "output_type": "stream",
     "text": [
      "C:\\Users\\Ellen\\AppData\\Local\\Temp\\ipykernel_9080\\1149498760.py:10: MatplotlibDeprecationWarning: Starting from Matplotlib 3.6, colorbar() will steal space from the mappable's axes, rather than from the current axes, to place the colorbar.  To silence this warning, explicitly pass the 'ax' argument to colorbar().\n",
      "  plt.colorbar(figure)\n"
     ]
    }
   ],
   "source": [
    "# plotting a 3D scatter plot\n",
    "\n",
    "fig = plt.figure()\n",
    "ax = fig.add_subplot(111, projection = '3d')\n",
    "ax.scatter(X_train['PhysActivity'], X_train['Age'], X_train['BMI'], c = y_train, marker = 'o', s=100)\n",
    "ax.set_xlabel('PhysActivity')\n",
    "ax.set_ylabel('Age')\n",
    "ax.set_zlabel('BMI')\n",
    "plt.show()\n",
    "plt.colorbar(figure)\n",
    "  \n",
    "fig.suptitle(\"y_train contains the target output corresponding to X_train values !\",  fontweight =\"bold\") \n",
    "\n",
    "#(What values we should find after training process!) \n",
    "# fig.suptitle(\"\"\"matplotlib.figure.Figure.legend()\n",
    "#function Example\\n\\n\"\"\", fontweight =\"bold\") \n",
    "\n",
    "plt.show()"
   ]
  },
  {
   "cell_type": "code",
   "execution_count": 271,
   "metadata": {},
   "outputs": [],
   "source": [
    "# For this example, we use the Smoker, PhysicalActivity, and Age of each Diabetes instance\n",
    "X = df[['Smoker', 'PhysActivity', 'BMI']]\n",
    "y = df['Diabetes_012']\n",
    "\n",
    "# default is 75% / 25% train-test split\n",
    "X_train, X_test, y_train, y_test = train_test_split(X, y, random_state=0)"
   ]
  },
  {
   "cell_type": "code",
   "execution_count": 258,
   "metadata": {},
   "outputs": [],
   "source": [
    "knn = KNeighborsClassifier(n_neighbors=5)"
   ]
  },
  {
   "cell_type": "code",
   "execution_count": 272,
   "metadata": {},
   "outputs": [
    {
     "data": {
      "text/plain": [
       "KNeighborsClassifier()"
      ]
     },
     "execution_count": 272,
     "metadata": {},
     "output_type": "execute_result"
    }
   ],
   "source": [
    "knn.fit(X_train, y_train)"
   ]
  },
  {
   "cell_type": "code",
   "execution_count": 274,
   "metadata": {},
   "outputs": [
    {
     "ename": "KeyboardInterrupt",
     "evalue": "",
     "output_type": "error",
     "traceback": [
      "\u001b[1;31m---------------------------------------------------------------------------\u001b[0m",
      "\u001b[1;31mKeyboardInterrupt\u001b[0m                         Traceback (most recent call last)",
      "\u001b[1;32m~\\AppData\\Local\\Temp\\ipykernel_1628\\3677338287.py\u001b[0m in \u001b[0;36m<module>\u001b[1;34m\u001b[0m\n\u001b[1;32m----> 1\u001b[1;33m \u001b[0mknn\u001b[0m\u001b[1;33m.\u001b[0m\u001b[0mscore\u001b[0m\u001b[1;33m(\u001b[0m\u001b[0mX_test\u001b[0m\u001b[1;33m,\u001b[0m \u001b[0my_test\u001b[0m\u001b[1;33m)\u001b[0m\u001b[1;33m\u001b[0m\u001b[1;33m\u001b[0m\u001b[0m\n\u001b[0m",
      "\u001b[1;32mc:\\Users\\Ellen\\anaconda3\\lib\\site-packages\\sklearn\\base.py\u001b[0m in \u001b[0;36mscore\u001b[1;34m(self, X, y, sample_weight)\u001b[0m\n\u001b[0;32m    649\u001b[0m         \u001b[1;32mfrom\u001b[0m \u001b[1;33m.\u001b[0m\u001b[0mmetrics\u001b[0m \u001b[1;32mimport\u001b[0m \u001b[0maccuracy_score\u001b[0m\u001b[1;33m\u001b[0m\u001b[1;33m\u001b[0m\u001b[0m\n\u001b[0;32m    650\u001b[0m \u001b[1;33m\u001b[0m\u001b[0m\n\u001b[1;32m--> 651\u001b[1;33m         \u001b[1;32mreturn\u001b[0m \u001b[0maccuracy_score\u001b[0m\u001b[1;33m(\u001b[0m\u001b[0my\u001b[0m\u001b[1;33m,\u001b[0m \u001b[0mself\u001b[0m\u001b[1;33m.\u001b[0m\u001b[0mpredict\u001b[0m\u001b[1;33m(\u001b[0m\u001b[0mX\u001b[0m\u001b[1;33m)\u001b[0m\u001b[1;33m,\u001b[0m \u001b[0msample_weight\u001b[0m\u001b[1;33m=\u001b[0m\u001b[0msample_weight\u001b[0m\u001b[1;33m)\u001b[0m\u001b[1;33m\u001b[0m\u001b[1;33m\u001b[0m\u001b[0m\n\u001b[0m\u001b[0;32m    652\u001b[0m \u001b[1;33m\u001b[0m\u001b[0m\n\u001b[0;32m    653\u001b[0m     \u001b[1;32mdef\u001b[0m \u001b[0m_more_tags\u001b[0m\u001b[1;33m(\u001b[0m\u001b[0mself\u001b[0m\u001b[1;33m)\u001b[0m\u001b[1;33m:\u001b[0m\u001b[1;33m\u001b[0m\u001b[1;33m\u001b[0m\u001b[0m\n",
      "\u001b[1;32mc:\\Users\\Ellen\\anaconda3\\lib\\site-packages\\sklearn\\neighbors\\_classification.py\u001b[0m in \u001b[0;36mpredict\u001b[1;34m(self, X)\u001b[0m\n\u001b[0;32m    212\u001b[0m             \u001b[0mClass\u001b[0m \u001b[0mlabels\u001b[0m \u001b[1;32mfor\u001b[0m \u001b[0meach\u001b[0m \u001b[0mdata\u001b[0m \u001b[0msample\u001b[0m\u001b[1;33m.\u001b[0m\u001b[1;33m\u001b[0m\u001b[1;33m\u001b[0m\u001b[0m\n\u001b[0;32m    213\u001b[0m         \"\"\"\n\u001b[1;32m--> 214\u001b[1;33m         \u001b[0mneigh_dist\u001b[0m\u001b[1;33m,\u001b[0m \u001b[0mneigh_ind\u001b[0m \u001b[1;33m=\u001b[0m \u001b[0mself\u001b[0m\u001b[1;33m.\u001b[0m\u001b[0mkneighbors\u001b[0m\u001b[1;33m(\u001b[0m\u001b[0mX\u001b[0m\u001b[1;33m)\u001b[0m\u001b[1;33m\u001b[0m\u001b[1;33m\u001b[0m\u001b[0m\n\u001b[0m\u001b[0;32m    215\u001b[0m         \u001b[0mclasses_\u001b[0m \u001b[1;33m=\u001b[0m \u001b[0mself\u001b[0m\u001b[1;33m.\u001b[0m\u001b[0mclasses_\u001b[0m\u001b[1;33m\u001b[0m\u001b[1;33m\u001b[0m\u001b[0m\n\u001b[0;32m    216\u001b[0m         \u001b[0m_y\u001b[0m \u001b[1;33m=\u001b[0m \u001b[0mself\u001b[0m\u001b[1;33m.\u001b[0m\u001b[0m_y\u001b[0m\u001b[1;33m\u001b[0m\u001b[1;33m\u001b[0m\u001b[0m\n",
      "\u001b[1;32mc:\\Users\\Ellen\\anaconda3\\lib\\site-packages\\sklearn\\neighbors\\_base.py\u001b[0m in \u001b[0;36mkneighbors\u001b[1;34m(self, X, n_neighbors, return_distance)\u001b[0m\n\u001b[0;32m    774\u001b[0m             \u001b[1;32melse\u001b[0m\u001b[1;33m:\u001b[0m\u001b[1;33m\u001b[0m\u001b[1;33m\u001b[0m\u001b[0m\n\u001b[0;32m    775\u001b[0m                 \u001b[0mparallel_kwargs\u001b[0m \u001b[1;33m=\u001b[0m \u001b[1;33m{\u001b[0m\u001b[1;34m\"prefer\"\u001b[0m\u001b[1;33m:\u001b[0m \u001b[1;34m\"threads\"\u001b[0m\u001b[1;33m}\u001b[0m\u001b[1;33m\u001b[0m\u001b[1;33m\u001b[0m\u001b[0m\n\u001b[1;32m--> 776\u001b[1;33m             chunked_results = Parallel(n_jobs, **parallel_kwargs)(\n\u001b[0m\u001b[0;32m    777\u001b[0m                 delayed(_tree_query_parallel_helper)(\n\u001b[0;32m    778\u001b[0m                     \u001b[0mself\u001b[0m\u001b[1;33m.\u001b[0m\u001b[0m_tree\u001b[0m\u001b[1;33m,\u001b[0m \u001b[0mX\u001b[0m\u001b[1;33m[\u001b[0m\u001b[0ms\u001b[0m\u001b[1;33m]\u001b[0m\u001b[1;33m,\u001b[0m \u001b[0mn_neighbors\u001b[0m\u001b[1;33m,\u001b[0m \u001b[0mreturn_distance\u001b[0m\u001b[1;33m\u001b[0m\u001b[1;33m\u001b[0m\u001b[0m\n",
      "\u001b[1;32mc:\\Users\\Ellen\\anaconda3\\lib\\site-packages\\joblib\\parallel.py\u001b[0m in \u001b[0;36m__call__\u001b[1;34m(self, iterable)\u001b[0m\n\u001b[0;32m   1041\u001b[0m             \u001b[1;31m# remaining jobs.\u001b[0m\u001b[1;33m\u001b[0m\u001b[1;33m\u001b[0m\u001b[0m\n\u001b[0;32m   1042\u001b[0m             \u001b[0mself\u001b[0m\u001b[1;33m.\u001b[0m\u001b[0m_iterating\u001b[0m \u001b[1;33m=\u001b[0m \u001b[1;32mFalse\u001b[0m\u001b[1;33m\u001b[0m\u001b[1;33m\u001b[0m\u001b[0m\n\u001b[1;32m-> 1043\u001b[1;33m             \u001b[1;32mif\u001b[0m \u001b[0mself\u001b[0m\u001b[1;33m.\u001b[0m\u001b[0mdispatch_one_batch\u001b[0m\u001b[1;33m(\u001b[0m\u001b[0miterator\u001b[0m\u001b[1;33m)\u001b[0m\u001b[1;33m:\u001b[0m\u001b[1;33m\u001b[0m\u001b[1;33m\u001b[0m\u001b[0m\n\u001b[0m\u001b[0;32m   1044\u001b[0m                 \u001b[0mself\u001b[0m\u001b[1;33m.\u001b[0m\u001b[0m_iterating\u001b[0m \u001b[1;33m=\u001b[0m \u001b[0mself\u001b[0m\u001b[1;33m.\u001b[0m\u001b[0m_original_iterator\u001b[0m \u001b[1;32mis\u001b[0m \u001b[1;32mnot\u001b[0m \u001b[1;32mNone\u001b[0m\u001b[1;33m\u001b[0m\u001b[1;33m\u001b[0m\u001b[0m\n\u001b[0;32m   1045\u001b[0m \u001b[1;33m\u001b[0m\u001b[0m\n",
      "\u001b[1;32mc:\\Users\\Ellen\\anaconda3\\lib\\site-packages\\joblib\\parallel.py\u001b[0m in \u001b[0;36mdispatch_one_batch\u001b[1;34m(self, iterator)\u001b[0m\n\u001b[0;32m    859\u001b[0m                 \u001b[1;32mreturn\u001b[0m \u001b[1;32mFalse\u001b[0m\u001b[1;33m\u001b[0m\u001b[1;33m\u001b[0m\u001b[0m\n\u001b[0;32m    860\u001b[0m             \u001b[1;32melse\u001b[0m\u001b[1;33m:\u001b[0m\u001b[1;33m\u001b[0m\u001b[1;33m\u001b[0m\u001b[0m\n\u001b[1;32m--> 861\u001b[1;33m                 \u001b[0mself\u001b[0m\u001b[1;33m.\u001b[0m\u001b[0m_dispatch\u001b[0m\u001b[1;33m(\u001b[0m\u001b[0mtasks\u001b[0m\u001b[1;33m)\u001b[0m\u001b[1;33m\u001b[0m\u001b[1;33m\u001b[0m\u001b[0m\n\u001b[0m\u001b[0;32m    862\u001b[0m                 \u001b[1;32mreturn\u001b[0m \u001b[1;32mTrue\u001b[0m\u001b[1;33m\u001b[0m\u001b[1;33m\u001b[0m\u001b[0m\n\u001b[0;32m    863\u001b[0m \u001b[1;33m\u001b[0m\u001b[0m\n",
      "\u001b[1;32mc:\\Users\\Ellen\\anaconda3\\lib\\site-packages\\joblib\\parallel.py\u001b[0m in \u001b[0;36m_dispatch\u001b[1;34m(self, batch)\u001b[0m\n\u001b[0;32m    777\u001b[0m         \u001b[1;32mwith\u001b[0m \u001b[0mself\u001b[0m\u001b[1;33m.\u001b[0m\u001b[0m_lock\u001b[0m\u001b[1;33m:\u001b[0m\u001b[1;33m\u001b[0m\u001b[1;33m\u001b[0m\u001b[0m\n\u001b[0;32m    778\u001b[0m             \u001b[0mjob_idx\u001b[0m \u001b[1;33m=\u001b[0m \u001b[0mlen\u001b[0m\u001b[1;33m(\u001b[0m\u001b[0mself\u001b[0m\u001b[1;33m.\u001b[0m\u001b[0m_jobs\u001b[0m\u001b[1;33m)\u001b[0m\u001b[1;33m\u001b[0m\u001b[1;33m\u001b[0m\u001b[0m\n\u001b[1;32m--> 779\u001b[1;33m             \u001b[0mjob\u001b[0m \u001b[1;33m=\u001b[0m \u001b[0mself\u001b[0m\u001b[1;33m.\u001b[0m\u001b[0m_backend\u001b[0m\u001b[1;33m.\u001b[0m\u001b[0mapply_async\u001b[0m\u001b[1;33m(\u001b[0m\u001b[0mbatch\u001b[0m\u001b[1;33m,\u001b[0m \u001b[0mcallback\u001b[0m\u001b[1;33m=\u001b[0m\u001b[0mcb\u001b[0m\u001b[1;33m)\u001b[0m\u001b[1;33m\u001b[0m\u001b[1;33m\u001b[0m\u001b[0m\n\u001b[0m\u001b[0;32m    780\u001b[0m             \u001b[1;31m# A job can complete so quickly than its callback is\u001b[0m\u001b[1;33m\u001b[0m\u001b[1;33m\u001b[0m\u001b[0m\n\u001b[0;32m    781\u001b[0m             \u001b[1;31m# called before we get here, causing self._jobs to\u001b[0m\u001b[1;33m\u001b[0m\u001b[1;33m\u001b[0m\u001b[0m\n",
      "\u001b[1;32mc:\\Users\\Ellen\\anaconda3\\lib\\site-packages\\joblib\\_parallel_backends.py\u001b[0m in \u001b[0;36mapply_async\u001b[1;34m(self, func, callback)\u001b[0m\n\u001b[0;32m    206\u001b[0m     \u001b[1;32mdef\u001b[0m \u001b[0mapply_async\u001b[0m\u001b[1;33m(\u001b[0m\u001b[0mself\u001b[0m\u001b[1;33m,\u001b[0m \u001b[0mfunc\u001b[0m\u001b[1;33m,\u001b[0m \u001b[0mcallback\u001b[0m\u001b[1;33m=\u001b[0m\u001b[1;32mNone\u001b[0m\u001b[1;33m)\u001b[0m\u001b[1;33m:\u001b[0m\u001b[1;33m\u001b[0m\u001b[1;33m\u001b[0m\u001b[0m\n\u001b[0;32m    207\u001b[0m         \u001b[1;34m\"\"\"Schedule a func to be run\"\"\"\u001b[0m\u001b[1;33m\u001b[0m\u001b[1;33m\u001b[0m\u001b[0m\n\u001b[1;32m--> 208\u001b[1;33m         \u001b[0mresult\u001b[0m \u001b[1;33m=\u001b[0m \u001b[0mImmediateResult\u001b[0m\u001b[1;33m(\u001b[0m\u001b[0mfunc\u001b[0m\u001b[1;33m)\u001b[0m\u001b[1;33m\u001b[0m\u001b[1;33m\u001b[0m\u001b[0m\n\u001b[0m\u001b[0;32m    209\u001b[0m         \u001b[1;32mif\u001b[0m \u001b[0mcallback\u001b[0m\u001b[1;33m:\u001b[0m\u001b[1;33m\u001b[0m\u001b[1;33m\u001b[0m\u001b[0m\n\u001b[0;32m    210\u001b[0m             \u001b[0mcallback\u001b[0m\u001b[1;33m(\u001b[0m\u001b[0mresult\u001b[0m\u001b[1;33m)\u001b[0m\u001b[1;33m\u001b[0m\u001b[1;33m\u001b[0m\u001b[0m\n",
      "\u001b[1;32mc:\\Users\\Ellen\\anaconda3\\lib\\site-packages\\joblib\\_parallel_backends.py\u001b[0m in \u001b[0;36m__init__\u001b[1;34m(self, batch)\u001b[0m\n\u001b[0;32m    570\u001b[0m         \u001b[1;31m# Don't delay the application, to avoid keeping the input\u001b[0m\u001b[1;33m\u001b[0m\u001b[1;33m\u001b[0m\u001b[0m\n\u001b[0;32m    571\u001b[0m         \u001b[1;31m# arguments in memory\u001b[0m\u001b[1;33m\u001b[0m\u001b[1;33m\u001b[0m\u001b[0m\n\u001b[1;32m--> 572\u001b[1;33m         \u001b[0mself\u001b[0m\u001b[1;33m.\u001b[0m\u001b[0mresults\u001b[0m \u001b[1;33m=\u001b[0m \u001b[0mbatch\u001b[0m\u001b[1;33m(\u001b[0m\u001b[1;33m)\u001b[0m\u001b[1;33m\u001b[0m\u001b[1;33m\u001b[0m\u001b[0m\n\u001b[0m\u001b[0;32m    573\u001b[0m \u001b[1;33m\u001b[0m\u001b[0m\n\u001b[0;32m    574\u001b[0m     \u001b[1;32mdef\u001b[0m \u001b[0mget\u001b[0m\u001b[1;33m(\u001b[0m\u001b[0mself\u001b[0m\u001b[1;33m)\u001b[0m\u001b[1;33m:\u001b[0m\u001b[1;33m\u001b[0m\u001b[1;33m\u001b[0m\u001b[0m\n",
      "\u001b[1;32mc:\\Users\\Ellen\\anaconda3\\lib\\site-packages\\joblib\\parallel.py\u001b[0m in \u001b[0;36m__call__\u001b[1;34m(self)\u001b[0m\n\u001b[0;32m    260\u001b[0m         \u001b[1;31m# change the default number of processes to -1\u001b[0m\u001b[1;33m\u001b[0m\u001b[1;33m\u001b[0m\u001b[0m\n\u001b[0;32m    261\u001b[0m         \u001b[1;32mwith\u001b[0m \u001b[0mparallel_backend\u001b[0m\u001b[1;33m(\u001b[0m\u001b[0mself\u001b[0m\u001b[1;33m.\u001b[0m\u001b[0m_backend\u001b[0m\u001b[1;33m,\u001b[0m \u001b[0mn_jobs\u001b[0m\u001b[1;33m=\u001b[0m\u001b[0mself\u001b[0m\u001b[1;33m.\u001b[0m\u001b[0m_n_jobs\u001b[0m\u001b[1;33m)\u001b[0m\u001b[1;33m:\u001b[0m\u001b[1;33m\u001b[0m\u001b[1;33m\u001b[0m\u001b[0m\n\u001b[1;32m--> 262\u001b[1;33m             return [func(*args, **kwargs)\n\u001b[0m\u001b[0;32m    263\u001b[0m                     for func, args, kwargs in self.items]\n\u001b[0;32m    264\u001b[0m \u001b[1;33m\u001b[0m\u001b[0m\n",
      "\u001b[1;32mc:\\Users\\Ellen\\anaconda3\\lib\\site-packages\\joblib\\parallel.py\u001b[0m in \u001b[0;36m<listcomp>\u001b[1;34m(.0)\u001b[0m\n\u001b[0;32m    260\u001b[0m         \u001b[1;31m# change the default number of processes to -1\u001b[0m\u001b[1;33m\u001b[0m\u001b[1;33m\u001b[0m\u001b[0m\n\u001b[0;32m    261\u001b[0m         \u001b[1;32mwith\u001b[0m \u001b[0mparallel_backend\u001b[0m\u001b[1;33m(\u001b[0m\u001b[0mself\u001b[0m\u001b[1;33m.\u001b[0m\u001b[0m_backend\u001b[0m\u001b[1;33m,\u001b[0m \u001b[0mn_jobs\u001b[0m\u001b[1;33m=\u001b[0m\u001b[0mself\u001b[0m\u001b[1;33m.\u001b[0m\u001b[0m_n_jobs\u001b[0m\u001b[1;33m)\u001b[0m\u001b[1;33m:\u001b[0m\u001b[1;33m\u001b[0m\u001b[1;33m\u001b[0m\u001b[0m\n\u001b[1;32m--> 262\u001b[1;33m             return [func(*args, **kwargs)\n\u001b[0m\u001b[0;32m    263\u001b[0m                     for func, args, kwargs in self.items]\n\u001b[0;32m    264\u001b[0m \u001b[1;33m\u001b[0m\u001b[0m\n",
      "\u001b[1;32mc:\\Users\\Ellen\\anaconda3\\lib\\site-packages\\sklearn\\utils\\fixes.py\u001b[0m in \u001b[0;36m__call__\u001b[1;34m(self, *args, **kwargs)\u001b[0m\n\u001b[0;32m    214\u001b[0m     \u001b[1;32mdef\u001b[0m \u001b[0m__call__\u001b[0m\u001b[1;33m(\u001b[0m\u001b[0mself\u001b[0m\u001b[1;33m,\u001b[0m \u001b[1;33m*\u001b[0m\u001b[0margs\u001b[0m\u001b[1;33m,\u001b[0m \u001b[1;33m**\u001b[0m\u001b[0mkwargs\u001b[0m\u001b[1;33m)\u001b[0m\u001b[1;33m:\u001b[0m\u001b[1;33m\u001b[0m\u001b[1;33m\u001b[0m\u001b[0m\n\u001b[0;32m    215\u001b[0m         \u001b[1;32mwith\u001b[0m \u001b[0mconfig_context\u001b[0m\u001b[1;33m(\u001b[0m\u001b[1;33m**\u001b[0m\u001b[0mself\u001b[0m\u001b[1;33m.\u001b[0m\u001b[0mconfig\u001b[0m\u001b[1;33m)\u001b[0m\u001b[1;33m:\u001b[0m\u001b[1;33m\u001b[0m\u001b[1;33m\u001b[0m\u001b[0m\n\u001b[1;32m--> 216\u001b[1;33m             \u001b[1;32mreturn\u001b[0m \u001b[0mself\u001b[0m\u001b[1;33m.\u001b[0m\u001b[0mfunction\u001b[0m\u001b[1;33m(\u001b[0m\u001b[1;33m*\u001b[0m\u001b[0margs\u001b[0m\u001b[1;33m,\u001b[0m \u001b[1;33m**\u001b[0m\u001b[0mkwargs\u001b[0m\u001b[1;33m)\u001b[0m\u001b[1;33m\u001b[0m\u001b[1;33m\u001b[0m\u001b[0m\n\u001b[0m\u001b[0;32m    217\u001b[0m \u001b[1;33m\u001b[0m\u001b[0m\n\u001b[0;32m    218\u001b[0m \u001b[1;33m\u001b[0m\u001b[0m\n",
      "\u001b[1;32mc:\\Users\\Ellen\\anaconda3\\lib\\site-packages\\sklearn\\neighbors\\_base.py\u001b[0m in \u001b[0;36m_tree_query_parallel_helper\u001b[1;34m(tree, *args, **kwargs)\u001b[0m\n\u001b[0;32m    598\u001b[0m     \u001b[0munder\u001b[0m \u001b[0mPyPy\u001b[0m\u001b[1;33m.\u001b[0m\u001b[1;33m\u001b[0m\u001b[1;33m\u001b[0m\u001b[0m\n\u001b[0;32m    599\u001b[0m     \"\"\"\n\u001b[1;32m--> 600\u001b[1;33m     \u001b[1;32mreturn\u001b[0m \u001b[0mtree\u001b[0m\u001b[1;33m.\u001b[0m\u001b[0mquery\u001b[0m\u001b[1;33m(\u001b[0m\u001b[1;33m*\u001b[0m\u001b[0margs\u001b[0m\u001b[1;33m,\u001b[0m \u001b[1;33m**\u001b[0m\u001b[0mkwargs\u001b[0m\u001b[1;33m)\u001b[0m\u001b[1;33m\u001b[0m\u001b[1;33m\u001b[0m\u001b[0m\n\u001b[0m\u001b[0;32m    601\u001b[0m \u001b[1;33m\u001b[0m\u001b[0m\n\u001b[0;32m    602\u001b[0m \u001b[1;33m\u001b[0m\u001b[0m\n",
      "\u001b[1;31mKeyboardInterrupt\u001b[0m: "
     ]
    }
   ],
   "source": [
    "knn.score(X_test, y_test)"
   ]
  },
  {
   "cell_type": "code",
   "execution_count": 275,
   "metadata": {},
   "outputs": [],
   "source": [
    "# first example: a PhysicalActivity=1 ,Age=6, BMI=65\n",
    "diabetes_prediction = knn.predict([[1, 6, 65]])\n",
    "lookup_diabetes_012[diabetes_prediction[0]]"
   ]
  },
  {
   "cell_type": "code",
   "execution_count": 22,
   "metadata": {},
   "outputs": [
    {
     "name": "stderr",
     "output_type": "stream",
     "text": [
      "C:\\Users\\Ellen\\anaconda3\\lib\\site-packages\\sklearn\\neighbors\\_classification.py:228: FutureWarning: Unlike other reduction functions (e.g. `skew`, `kurtosis`), the default behavior of `mode` typically preserves the axis it acts along. In SciPy 1.11.0, this behavior will change: the default value of `keepdims` will become False, the `axis` over which the statistic is taken will be eliminated, and the value None will no longer be accepted. Set `keepdims` to True or False to avoid this warning.\n",
      "  mode, _ = stats.mode(_y[neigh_ind, k], axis=1)\n"
     ]
    },
    {
     "data": {
      "text/plain": [
       "array([0., 0., 0., 0., 2., 0., 0., 0., 0., 2.])"
      ]
     },
     "execution_count": 22,
     "metadata": {},
     "output_type": "execute_result"
    }
   ],
   "source": [
    "y_pred =  knn.predict(X_test)\n",
    "y_pred[:10]"
   ]
  },
  {
   "cell_type": "code",
   "execution_count": 23,
   "metadata": {},
   "outputs": [
    {
     "data": {
      "text/plain": [
       "array([0., 0., 0., 0., 2., 0., 0., 0., 2., 0.])"
      ]
     },
     "execution_count": 23,
     "metadata": {},
     "output_type": "execute_result"
    }
   ],
   "source": [
    "np.array(y_test)[:10]"
   ]
  },
  {
   "cell_type": "code",
   "execution_count": 276,
   "metadata": {},
   "outputs": [
    {
     "name": "stdout",
     "output_type": "stream",
     "text": [
      "[[52379    21   885]\n",
      " [ 1077     1    55]\n",
      " [ 8172    14   816]]\n",
      "\n",
      "[[[  886  9249]\n",
      "  [  906 52379]]\n",
      "\n",
      " [[62252    35]\n",
      "  [ 1132     1]]\n",
      "\n",
      " [[53478   940]\n",
      "  [ 8186   816]]]\n"
     ]
    }
   ],
   "source": [
    "from sklearn import metrics\n",
    "from sklearn.metrics import confusion_matrix, plot_confusion_matrix, classification_report, multilabel_confusion_matrix\n",
    "\n",
    "print(confusion_matrix(y_test, y_pred))\n",
    "print()\n",
    "print(multilabel_confusion_matrix(y_test, y_pred))"
   ]
  },
  {
   "cell_type": "code",
   "execution_count": 25,
   "metadata": {},
   "outputs": [
    {
     "data": {
      "text/plain": [
       "array([0., 1., 2.])"
      ]
     },
     "execution_count": 25,
     "metadata": {},
     "output_type": "execute_result"
    }
   ],
   "source": [
    "from sklearn.utils.multiclass import unique_labels\n",
    "unique_labels(y_test)\n"
   ]
  },
  {
   "cell_type": "code",
   "execution_count": 26,
   "metadata": {},
   "outputs": [
    {
     "data": {
      "text/html": [
       "<div>\n",
       "<style scoped>\n",
       "    .dataframe tbody tr th:only-of-type {\n",
       "        vertical-align: middle;\n",
       "    }\n",
       "\n",
       "    .dataframe tbody tr th {\n",
       "        vertical-align: top;\n",
       "    }\n",
       "\n",
       "    .dataframe thead th {\n",
       "        text-align: right;\n",
       "    }\n",
       "</style>\n",
       "<table border=\"1\" class=\"dataframe\">\n",
       "  <thead>\n",
       "    <tr style=\"text-align: right;\">\n",
       "      <th></th>\n",
       "      <th>Predicted 0.0</th>\n",
       "      <th>Predicted 1.0</th>\n",
       "      <th>Predicted 2.0</th>\n",
       "    </tr>\n",
       "  </thead>\n",
       "  <tbody>\n",
       "    <tr>\n",
       "      <th>Actual 0.0</th>\n",
       "      <td>51658</td>\n",
       "      <td>0</td>\n",
       "      <td>1627</td>\n",
       "    </tr>\n",
       "    <tr>\n",
       "      <th>Actual 1.0</th>\n",
       "      <td>1061</td>\n",
       "      <td>0</td>\n",
       "      <td>72</td>\n",
       "    </tr>\n",
       "    <tr>\n",
       "      <th>Actual 2.0</th>\n",
       "      <td>8180</td>\n",
       "      <td>0</td>\n",
       "      <td>822</td>\n",
       "    </tr>\n",
       "  </tbody>\n",
       "</table>\n",
       "</div>"
      ],
      "text/plain": [
       "            Predicted 0.0  Predicted 1.0  Predicted 2.0\n",
       "Actual 0.0          51658              0           1627\n",
       "Actual 1.0           1061              0             72\n",
       "Actual 2.0           8180              0            822"
      ]
     },
     "execution_count": 26,
     "metadata": {},
     "output_type": "execute_result"
    }
   ],
   "source": [
    "def plot(y_true, y_predictions):\n",
    "    labels = unique_labels(y_test)\n",
    "    column = [f'Predicted {label}' for label in labels]\n",
    "    indices = [f'Actual {label}' for label in labels]\n",
    "    table = pd.DataFrame(confusion_matrix(y_true, y_predictions), columns = column, index = indices)\n",
    "    \n",
    "    return table\n",
    "\n",
    "plot(y_test, y_pred)"
   ]
  },
  {
   "cell_type": "code",
   "execution_count": 29,
   "metadata": {},
   "outputs": [
    {
     "data": {
      "application/javascript": "/* Put everything inside the global mpl namespace */\n/* global mpl */\nwindow.mpl = {};\n\nmpl.get_websocket_type = function () {\n    if (typeof WebSocket !== 'undefined') {\n        return WebSocket;\n    } else if (typeof MozWebSocket !== 'undefined') {\n        return MozWebSocket;\n    } else {\n        alert(\n            'Your browser does not have WebSocket support. ' +\n                'Please try Chrome, Safari or Firefox ≥ 6. ' +\n                'Firefox 4 and 5 are also supported but you ' +\n                'have to enable WebSockets in about:config.'\n        );\n    }\n};\n\nmpl.figure = function (figure_id, websocket, ondownload, parent_element) {\n    this.id = figure_id;\n\n    this.ws = websocket;\n\n    this.supports_binary = this.ws.binaryType !== undefined;\n\n    if (!this.supports_binary) {\n        var warnings = document.getElementById('mpl-warnings');\n        if (warnings) {\n            warnings.style.display = 'block';\n            warnings.textContent =\n                'This browser does not support binary websocket messages. ' +\n                'Performance may be slow.';\n        }\n    }\n\n    this.imageObj = new Image();\n\n    this.context = undefined;\n    this.message = undefined;\n    this.canvas = undefined;\n    this.rubberband_canvas = undefined;\n    this.rubberband_context = undefined;\n    this.format_dropdown = undefined;\n\n    this.image_mode = 'full';\n\n    this.root = document.createElement('div');\n    this.root.setAttribute('style', 'display: inline-block');\n    this._root_extra_style(this.root);\n\n    parent_element.appendChild(this.root);\n\n    this._init_header(this);\n    this._init_canvas(this);\n    this._init_toolbar(this);\n\n    var fig = this;\n\n    this.waiting = false;\n\n    this.ws.onopen = function () {\n        fig.send_message('supports_binary', { value: fig.supports_binary });\n        fig.send_message('send_image_mode', {});\n        if (fig.ratio !== 1) {\n            fig.send_message('set_device_pixel_ratio', {\n                device_pixel_ratio: fig.ratio,\n            });\n        }\n        fig.send_message('refresh', {});\n    };\n\n    this.imageObj.onload = function () {\n        if (fig.image_mode === 'full') {\n            // Full images could contain transparency (where diff images\n            // almost always do), so we need to clear the canvas so that\n            // there is no ghosting.\n            fig.context.clearRect(0, 0, fig.canvas.width, fig.canvas.height);\n        }\n        fig.context.drawImage(fig.imageObj, 0, 0);\n    };\n\n    this.imageObj.onunload = function () {\n        fig.ws.close();\n    };\n\n    this.ws.onmessage = this._make_on_message_function(this);\n\n    this.ondownload = ondownload;\n};\n\nmpl.figure.prototype._init_header = function () {\n    var titlebar = document.createElement('div');\n    titlebar.classList =\n        'ui-dialog-titlebar ui-widget-header ui-corner-all ui-helper-clearfix';\n    var titletext = document.createElement('div');\n    titletext.classList = 'ui-dialog-title';\n    titletext.setAttribute(\n        'style',\n        'width: 100%; text-align: center; padding: 3px;'\n    );\n    titlebar.appendChild(titletext);\n    this.root.appendChild(titlebar);\n    this.header = titletext;\n};\n\nmpl.figure.prototype._canvas_extra_style = function (_canvas_div) {};\n\nmpl.figure.prototype._root_extra_style = function (_canvas_div) {};\n\nmpl.figure.prototype._init_canvas = function () {\n    var fig = this;\n\n    var canvas_div = (this.canvas_div = document.createElement('div'));\n    canvas_div.setAttribute(\n        'style',\n        'border: 1px solid #ddd;' +\n            'box-sizing: content-box;' +\n            'clear: both;' +\n            'min-height: 1px;' +\n            'min-width: 1px;' +\n            'outline: 0;' +\n            'overflow: hidden;' +\n            'position: relative;' +\n            'resize: both;'\n    );\n\n    function on_keyboard_event_closure(name) {\n        return function (event) {\n            return fig.key_event(event, name);\n        };\n    }\n\n    canvas_div.addEventListener(\n        'keydown',\n        on_keyboard_event_closure('key_press')\n    );\n    canvas_div.addEventListener(\n        'keyup',\n        on_keyboard_event_closure('key_release')\n    );\n\n    this._canvas_extra_style(canvas_div);\n    this.root.appendChild(canvas_div);\n\n    var canvas = (this.canvas = document.createElement('canvas'));\n    canvas.classList.add('mpl-canvas');\n    canvas.setAttribute('style', 'box-sizing: content-box;');\n\n    this.context = canvas.getContext('2d');\n\n    var backingStore =\n        this.context.backingStorePixelRatio ||\n        this.context.webkitBackingStorePixelRatio ||\n        this.context.mozBackingStorePixelRatio ||\n        this.context.msBackingStorePixelRatio ||\n        this.context.oBackingStorePixelRatio ||\n        this.context.backingStorePixelRatio ||\n        1;\n\n    this.ratio = (window.devicePixelRatio || 1) / backingStore;\n\n    var rubberband_canvas = (this.rubberband_canvas = document.createElement(\n        'canvas'\n    ));\n    rubberband_canvas.setAttribute(\n        'style',\n        'box-sizing: content-box; position: absolute; left: 0; top: 0; z-index: 1;'\n    );\n\n    // Apply a ponyfill if ResizeObserver is not implemented by browser.\n    if (this.ResizeObserver === undefined) {\n        if (window.ResizeObserver !== undefined) {\n            this.ResizeObserver = window.ResizeObserver;\n        } else {\n            var obs = _JSXTOOLS_RESIZE_OBSERVER({});\n            this.ResizeObserver = obs.ResizeObserver;\n        }\n    }\n\n    this.resizeObserverInstance = new this.ResizeObserver(function (entries) {\n        var nentries = entries.length;\n        for (var i = 0; i < nentries; i++) {\n            var entry = entries[i];\n            var width, height;\n            if (entry.contentBoxSize) {\n                if (entry.contentBoxSize instanceof Array) {\n                    // Chrome 84 implements new version of spec.\n                    width = entry.contentBoxSize[0].inlineSize;\n                    height = entry.contentBoxSize[0].blockSize;\n                } else {\n                    // Firefox implements old version of spec.\n                    width = entry.contentBoxSize.inlineSize;\n                    height = entry.contentBoxSize.blockSize;\n                }\n            } else {\n                // Chrome <84 implements even older version of spec.\n                width = entry.contentRect.width;\n                height = entry.contentRect.height;\n            }\n\n            // Keep the size of the canvas and rubber band canvas in sync with\n            // the canvas container.\n            if (entry.devicePixelContentBoxSize) {\n                // Chrome 84 implements new version of spec.\n                canvas.setAttribute(\n                    'width',\n                    entry.devicePixelContentBoxSize[0].inlineSize\n                );\n                canvas.setAttribute(\n                    'height',\n                    entry.devicePixelContentBoxSize[0].blockSize\n                );\n            } else {\n                canvas.setAttribute('width', width * fig.ratio);\n                canvas.setAttribute('height', height * fig.ratio);\n            }\n            canvas.setAttribute(\n                'style',\n                'width: ' + width + 'px; height: ' + height + 'px;'\n            );\n\n            rubberband_canvas.setAttribute('width', width);\n            rubberband_canvas.setAttribute('height', height);\n\n            // And update the size in Python. We ignore the initial 0/0 size\n            // that occurs as the element is placed into the DOM, which should\n            // otherwise not happen due to the minimum size styling.\n            if (fig.ws.readyState == 1 && width != 0 && height != 0) {\n                fig.request_resize(width, height);\n            }\n        }\n    });\n    this.resizeObserverInstance.observe(canvas_div);\n\n    function on_mouse_event_closure(name) {\n        return function (event) {\n            return fig.mouse_event(event, name);\n        };\n    }\n\n    rubberband_canvas.addEventListener(\n        'mousedown',\n        on_mouse_event_closure('button_press')\n    );\n    rubberband_canvas.addEventListener(\n        'mouseup',\n        on_mouse_event_closure('button_release')\n    );\n    rubberband_canvas.addEventListener(\n        'dblclick',\n        on_mouse_event_closure('dblclick')\n    );\n    // Throttle sequential mouse events to 1 every 20ms.\n    rubberband_canvas.addEventListener(\n        'mousemove',\n        on_mouse_event_closure('motion_notify')\n    );\n\n    rubberband_canvas.addEventListener(\n        'mouseenter',\n        on_mouse_event_closure('figure_enter')\n    );\n    rubberband_canvas.addEventListener(\n        'mouseleave',\n        on_mouse_event_closure('figure_leave')\n    );\n\n    canvas_div.addEventListener('wheel', function (event) {\n        if (event.deltaY < 0) {\n            event.step = 1;\n        } else {\n            event.step = -1;\n        }\n        on_mouse_event_closure('scroll')(event);\n    });\n\n    canvas_div.appendChild(canvas);\n    canvas_div.appendChild(rubberband_canvas);\n\n    this.rubberband_context = rubberband_canvas.getContext('2d');\n    this.rubberband_context.strokeStyle = '#000000';\n\n    this._resize_canvas = function (width, height, forward) {\n        if (forward) {\n            canvas_div.style.width = width + 'px';\n            canvas_div.style.height = height + 'px';\n        }\n    };\n\n    // Disable right mouse context menu.\n    this.rubberband_canvas.addEventListener('contextmenu', function (_e) {\n        event.preventDefault();\n        return false;\n    });\n\n    function set_focus() {\n        canvas.focus();\n        canvas_div.focus();\n    }\n\n    window.setTimeout(set_focus, 100);\n};\n\nmpl.figure.prototype._init_toolbar = function () {\n    var fig = this;\n\n    var toolbar = document.createElement('div');\n    toolbar.classList = 'mpl-toolbar';\n    this.root.appendChild(toolbar);\n\n    function on_click_closure(name) {\n        return function (_event) {\n            return fig.toolbar_button_onclick(name);\n        };\n    }\n\n    function on_mouseover_closure(tooltip) {\n        return function (event) {\n            if (!event.currentTarget.disabled) {\n                return fig.toolbar_button_onmouseover(tooltip);\n            }\n        };\n    }\n\n    fig.buttons = {};\n    var buttonGroup = document.createElement('div');\n    buttonGroup.classList = 'mpl-button-group';\n    for (var toolbar_ind in mpl.toolbar_items) {\n        var name = mpl.toolbar_items[toolbar_ind][0];\n        var tooltip = mpl.toolbar_items[toolbar_ind][1];\n        var image = mpl.toolbar_items[toolbar_ind][2];\n        var method_name = mpl.toolbar_items[toolbar_ind][3];\n\n        if (!name) {\n            /* Instead of a spacer, we start a new button group. */\n            if (buttonGroup.hasChildNodes()) {\n                toolbar.appendChild(buttonGroup);\n            }\n            buttonGroup = document.createElement('div');\n            buttonGroup.classList = 'mpl-button-group';\n            continue;\n        }\n\n        var button = (fig.buttons[name] = document.createElement('button'));\n        button.classList = 'mpl-widget';\n        button.setAttribute('role', 'button');\n        button.setAttribute('aria-disabled', 'false');\n        button.addEventListener('click', on_click_closure(method_name));\n        button.addEventListener('mouseover', on_mouseover_closure(tooltip));\n\n        var icon_img = document.createElement('img');\n        icon_img.src = '_images/' + image + '.png';\n        icon_img.srcset = '_images/' + image + '_large.png 2x';\n        icon_img.alt = tooltip;\n        button.appendChild(icon_img);\n\n        buttonGroup.appendChild(button);\n    }\n\n    if (buttonGroup.hasChildNodes()) {\n        toolbar.appendChild(buttonGroup);\n    }\n\n    var fmt_picker = document.createElement('select');\n    fmt_picker.classList = 'mpl-widget';\n    toolbar.appendChild(fmt_picker);\n    this.format_dropdown = fmt_picker;\n\n    for (var ind in mpl.extensions) {\n        var fmt = mpl.extensions[ind];\n        var option = document.createElement('option');\n        option.selected = fmt === mpl.default_extension;\n        option.innerHTML = fmt;\n        fmt_picker.appendChild(option);\n    }\n\n    var status_bar = document.createElement('span');\n    status_bar.classList = 'mpl-message';\n    toolbar.appendChild(status_bar);\n    this.message = status_bar;\n};\n\nmpl.figure.prototype.request_resize = function (x_pixels, y_pixels) {\n    // Request matplotlib to resize the figure. Matplotlib will then trigger a resize in the client,\n    // which will in turn request a refresh of the image.\n    this.send_message('resize', { width: x_pixels, height: y_pixels });\n};\n\nmpl.figure.prototype.send_message = function (type, properties) {\n    properties['type'] = type;\n    properties['figure_id'] = this.id;\n    this.ws.send(JSON.stringify(properties));\n};\n\nmpl.figure.prototype.send_draw_message = function () {\n    if (!this.waiting) {\n        this.waiting = true;\n        this.ws.send(JSON.stringify({ type: 'draw', figure_id: this.id }));\n    }\n};\n\nmpl.figure.prototype.handle_save = function (fig, _msg) {\n    var format_dropdown = fig.format_dropdown;\n    var format = format_dropdown.options[format_dropdown.selectedIndex].value;\n    fig.ondownload(fig, format);\n};\n\nmpl.figure.prototype.handle_resize = function (fig, msg) {\n    var size = msg['size'];\n    if (size[0] !== fig.canvas.width || size[1] !== fig.canvas.height) {\n        fig._resize_canvas(size[0], size[1], msg['forward']);\n        fig.send_message('refresh', {});\n    }\n};\n\nmpl.figure.prototype.handle_rubberband = function (fig, msg) {\n    var x0 = msg['x0'] / fig.ratio;\n    var y0 = (fig.canvas.height - msg['y0']) / fig.ratio;\n    var x1 = msg['x1'] / fig.ratio;\n    var y1 = (fig.canvas.height - msg['y1']) / fig.ratio;\n    x0 = Math.floor(x0) + 0.5;\n    y0 = Math.floor(y0) + 0.5;\n    x1 = Math.floor(x1) + 0.5;\n    y1 = Math.floor(y1) + 0.5;\n    var min_x = Math.min(x0, x1);\n    var min_y = Math.min(y0, y1);\n    var width = Math.abs(x1 - x0);\n    var height = Math.abs(y1 - y0);\n\n    fig.rubberband_context.clearRect(\n        0,\n        0,\n        fig.canvas.width / fig.ratio,\n        fig.canvas.height / fig.ratio\n    );\n\n    fig.rubberband_context.strokeRect(min_x, min_y, width, height);\n};\n\nmpl.figure.prototype.handle_figure_label = function (fig, msg) {\n    // Updates the figure title.\n    fig.header.textContent = msg['label'];\n};\n\nmpl.figure.prototype.handle_cursor = function (fig, msg) {\n    fig.rubberband_canvas.style.cursor = msg['cursor'];\n};\n\nmpl.figure.prototype.handle_message = function (fig, msg) {\n    fig.message.textContent = msg['message'];\n};\n\nmpl.figure.prototype.handle_draw = function (fig, _msg) {\n    // Request the server to send over a new figure.\n    fig.send_draw_message();\n};\n\nmpl.figure.prototype.handle_image_mode = function (fig, msg) {\n    fig.image_mode = msg['mode'];\n};\n\nmpl.figure.prototype.handle_history_buttons = function (fig, msg) {\n    for (var key in msg) {\n        if (!(key in fig.buttons)) {\n            continue;\n        }\n        fig.buttons[key].disabled = !msg[key];\n        fig.buttons[key].setAttribute('aria-disabled', !msg[key]);\n    }\n};\n\nmpl.figure.prototype.handle_navigate_mode = function (fig, msg) {\n    if (msg['mode'] === 'PAN') {\n        fig.buttons['Pan'].classList.add('active');\n        fig.buttons['Zoom'].classList.remove('active');\n    } else if (msg['mode'] === 'ZOOM') {\n        fig.buttons['Pan'].classList.remove('active');\n        fig.buttons['Zoom'].classList.add('active');\n    } else {\n        fig.buttons['Pan'].classList.remove('active');\n        fig.buttons['Zoom'].classList.remove('active');\n    }\n};\n\nmpl.figure.prototype.updated_canvas_event = function () {\n    // Called whenever the canvas gets updated.\n    this.send_message('ack', {});\n};\n\n// A function to construct a web socket function for onmessage handling.\n// Called in the figure constructor.\nmpl.figure.prototype._make_on_message_function = function (fig) {\n    return function socket_on_message(evt) {\n        if (evt.data instanceof Blob) {\n            var img = evt.data;\n            if (img.type !== 'image/png') {\n                /* FIXME: We get \"Resource interpreted as Image but\n                 * transferred with MIME type text/plain:\" errors on\n                 * Chrome.  But how to set the MIME type?  It doesn't seem\n                 * to be part of the websocket stream */\n                img.type = 'image/png';\n            }\n\n            /* Free the memory for the previous frames */\n            if (fig.imageObj.src) {\n                (window.URL || window.webkitURL).revokeObjectURL(\n                    fig.imageObj.src\n                );\n            }\n\n            fig.imageObj.src = (window.URL || window.webkitURL).createObjectURL(\n                img\n            );\n            fig.updated_canvas_event();\n            fig.waiting = false;\n            return;\n        } else if (\n            typeof evt.data === 'string' &&\n            evt.data.slice(0, 21) === 'data:image/png;base64'\n        ) {\n            fig.imageObj.src = evt.data;\n            fig.updated_canvas_event();\n            fig.waiting = false;\n            return;\n        }\n\n        var msg = JSON.parse(evt.data);\n        var msg_type = msg['type'];\n\n        // Call the  \"handle_{type}\" callback, which takes\n        // the figure and JSON message as its only arguments.\n        try {\n            var callback = fig['handle_' + msg_type];\n        } catch (e) {\n            console.log(\n                \"No handler for the '\" + msg_type + \"' message type: \",\n                msg\n            );\n            return;\n        }\n\n        if (callback) {\n            try {\n                // console.log(\"Handling '\" + msg_type + \"' message: \", msg);\n                callback(fig, msg);\n            } catch (e) {\n                console.log(\n                    \"Exception inside the 'handler_\" + msg_type + \"' callback:\",\n                    e,\n                    e.stack,\n                    msg\n                );\n            }\n        }\n    };\n};\n\n// from https://stackoverflow.com/questions/1114465/getting-mouse-location-in-canvas\nmpl.findpos = function (e) {\n    //this section is from http://www.quirksmode.org/js/events_properties.html\n    var targ;\n    if (!e) {\n        e = window.event;\n    }\n    if (e.target) {\n        targ = e.target;\n    } else if (e.srcElement) {\n        targ = e.srcElement;\n    }\n    if (targ.nodeType === 3) {\n        // defeat Safari bug\n        targ = targ.parentNode;\n    }\n\n    // pageX,Y are the mouse positions relative to the document\n    var boundingRect = targ.getBoundingClientRect();\n    var x = e.pageX - (boundingRect.left + document.body.scrollLeft);\n    var y = e.pageY - (boundingRect.top + document.body.scrollTop);\n\n    return { x: x, y: y };\n};\n\n/*\n * return a copy of an object with only non-object keys\n * we need this to avoid circular references\n * https://stackoverflow.com/a/24161582/3208463\n */\nfunction simpleKeys(original) {\n    return Object.keys(original).reduce(function (obj, key) {\n        if (typeof original[key] !== 'object') {\n            obj[key] = original[key];\n        }\n        return obj;\n    }, {});\n}\n\nmpl.figure.prototype.mouse_event = function (event, name) {\n    var canvas_pos = mpl.findpos(event);\n\n    if (name === 'button_press') {\n        this.canvas.focus();\n        this.canvas_div.focus();\n    }\n\n    var x = canvas_pos.x * this.ratio;\n    var y = canvas_pos.y * this.ratio;\n\n    this.send_message(name, {\n        x: x,\n        y: y,\n        button: event.button,\n        step: event.step,\n        guiEvent: simpleKeys(event),\n    });\n\n    /* This prevents the web browser from automatically changing to\n     * the text insertion cursor when the button is pressed.  We want\n     * to control all of the cursor setting manually through the\n     * 'cursor' event from matplotlib */\n    event.preventDefault();\n    return false;\n};\n\nmpl.figure.prototype._key_event_extra = function (_event, _name) {\n    // Handle any extra behaviour associated with a key event\n};\n\nmpl.figure.prototype.key_event = function (event, name) {\n    // Prevent repeat events\n    if (name === 'key_press') {\n        if (event.key === this._key) {\n            return;\n        } else {\n            this._key = event.key;\n        }\n    }\n    if (name === 'key_release') {\n        this._key = null;\n    }\n\n    var value = '';\n    if (event.ctrlKey && event.key !== 'Control') {\n        value += 'ctrl+';\n    }\n    else if (event.altKey && event.key !== 'Alt') {\n        value += 'alt+';\n    }\n    else if (event.shiftKey && event.key !== 'Shift') {\n        value += 'shift+';\n    }\n\n    value += 'k' + event.key;\n\n    this._key_event_extra(event, name);\n\n    this.send_message(name, { key: value, guiEvent: simpleKeys(event) });\n    return false;\n};\n\nmpl.figure.prototype.toolbar_button_onclick = function (name) {\n    if (name === 'download') {\n        this.handle_save(this, null);\n    } else {\n        this.send_message('toolbar_button', { name: name });\n    }\n};\n\nmpl.figure.prototype.toolbar_button_onmouseover = function (tooltip) {\n    this.message.textContent = tooltip;\n};\n\n///////////////// REMAINING CONTENT GENERATED BY embed_js.py /////////////////\n// prettier-ignore\nvar _JSXTOOLS_RESIZE_OBSERVER=function(A){var t,i=new WeakMap,n=new WeakMap,a=new WeakMap,r=new WeakMap,o=new Set;function s(e){if(!(this instanceof s))throw new TypeError(\"Constructor requires 'new' operator\");i.set(this,e)}function h(){throw new TypeError(\"Function is not a constructor\")}function c(e,t,i,n){e=0 in arguments?Number(arguments[0]):0,t=1 in arguments?Number(arguments[1]):0,i=2 in arguments?Number(arguments[2]):0,n=3 in arguments?Number(arguments[3]):0,this.right=(this.x=this.left=e)+(this.width=i),this.bottom=(this.y=this.top=t)+(this.height=n),Object.freeze(this)}function d(){t=requestAnimationFrame(d);var s=new WeakMap,p=new Set;o.forEach((function(t){r.get(t).forEach((function(i){var r=t instanceof window.SVGElement,o=a.get(t),d=r?0:parseFloat(o.paddingTop),f=r?0:parseFloat(o.paddingRight),l=r?0:parseFloat(o.paddingBottom),u=r?0:parseFloat(o.paddingLeft),g=r?0:parseFloat(o.borderTopWidth),m=r?0:parseFloat(o.borderRightWidth),w=r?0:parseFloat(o.borderBottomWidth),b=u+f,F=d+l,v=(r?0:parseFloat(o.borderLeftWidth))+m,W=g+w,y=r?0:t.offsetHeight-W-t.clientHeight,E=r?0:t.offsetWidth-v-t.clientWidth,R=b+v,z=F+W,M=r?t.width:parseFloat(o.width)-R-E,O=r?t.height:parseFloat(o.height)-z-y;if(n.has(t)){var k=n.get(t);if(k[0]===M&&k[1]===O)return}n.set(t,[M,O]);var S=Object.create(h.prototype);S.target=t,S.contentRect=new c(u,d,M,O),s.has(i)||(s.set(i,[]),p.add(i)),s.get(i).push(S)}))})),p.forEach((function(e){i.get(e).call(e,s.get(e),e)}))}return s.prototype.observe=function(i){if(i instanceof window.Element){r.has(i)||(r.set(i,new Set),o.add(i),a.set(i,window.getComputedStyle(i)));var n=r.get(i);n.has(this)||n.add(this),cancelAnimationFrame(t),t=requestAnimationFrame(d)}},s.prototype.unobserve=function(i){if(i instanceof window.Element&&r.has(i)){var n=r.get(i);n.has(this)&&(n.delete(this),n.size||(r.delete(i),o.delete(i))),n.size||r.delete(i),o.size||cancelAnimationFrame(t)}},A.DOMRectReadOnly=c,A.ResizeObserver=s,A.ResizeObserverEntry=h,A}; // eslint-disable-line\nmpl.toolbar_items = [[\"Home\", \"Reset original view\", \"fa fa-home icon-home\", \"home\"], [\"Back\", \"Back to previous view\", \"fa fa-arrow-left icon-arrow-left\", \"back\"], [\"Forward\", \"Forward to next view\", \"fa fa-arrow-right icon-arrow-right\", \"forward\"], [\"\", \"\", \"\", \"\"], [\"Pan\", \"Left button pans, Right button zooms\\nx/y fixes axis, CTRL fixes aspect\", \"fa fa-arrows icon-move\", \"pan\"], [\"Zoom\", \"Zoom to rectangle\\nx/y fixes axis\", \"fa fa-square-o icon-check-empty\", \"zoom\"], [\"\", \"\", \"\", \"\"], [\"Download\", \"Download plot\", \"fa fa-floppy-o icon-save\", \"download\"]];\n\nmpl.extensions = [\"eps\", \"jpeg\", \"pgf\", \"pdf\", \"png\", \"ps\", \"raw\", \"svg\", \"tif\"];\n\nmpl.default_extension = \"png\";/* global mpl */\n\nvar comm_websocket_adapter = function (comm) {\n    // Create a \"websocket\"-like object which calls the given IPython comm\n    // object with the appropriate methods. Currently this is a non binary\n    // socket, so there is still some room for performance tuning.\n    var ws = {};\n\n    ws.binaryType = comm.kernel.ws.binaryType;\n    ws.readyState = comm.kernel.ws.readyState;\n    function updateReadyState(_event) {\n        if (comm.kernel.ws) {\n            ws.readyState = comm.kernel.ws.readyState;\n        } else {\n            ws.readyState = 3; // Closed state.\n        }\n    }\n    comm.kernel.ws.addEventListener('open', updateReadyState);\n    comm.kernel.ws.addEventListener('close', updateReadyState);\n    comm.kernel.ws.addEventListener('error', updateReadyState);\n\n    ws.close = function () {\n        comm.close();\n    };\n    ws.send = function (m) {\n        //console.log('sending', m);\n        comm.send(m);\n    };\n    // Register the callback with on_msg.\n    comm.on_msg(function (msg) {\n        //console.log('receiving', msg['content']['data'], msg);\n        var data = msg['content']['data'];\n        if (data['blob'] !== undefined) {\n            data = {\n                data: new Blob(msg['buffers'], { type: data['blob'] }),\n            };\n        }\n        // Pass the mpl event to the overridden (by mpl) onmessage function.\n        ws.onmessage(data);\n    });\n    return ws;\n};\n\nmpl.mpl_figure_comm = function (comm, msg) {\n    // This is the function which gets called when the mpl process\n    // starts-up an IPython Comm through the \"matplotlib\" channel.\n\n    var id = msg.content.data.id;\n    // Get hold of the div created by the display call when the Comm\n    // socket was opened in Python.\n    var element = document.getElementById(id);\n    var ws_proxy = comm_websocket_adapter(comm);\n\n    function ondownload(figure, _format) {\n        window.open(figure.canvas.toDataURL());\n    }\n\n    var fig = new mpl.figure(id, ws_proxy, ondownload, element);\n\n    // Call onopen now - mpl needs it, as it is assuming we've passed it a real\n    // web socket which is closed, not our websocket->open comm proxy.\n    ws_proxy.onopen();\n\n    fig.parent_element = element;\n    fig.cell_info = mpl.find_output_cell(\"<div id='\" + id + \"'></div>\");\n    if (!fig.cell_info) {\n        console.error('Failed to find cell for figure', id, fig);\n        return;\n    }\n    fig.cell_info[0].output_area.element.on(\n        'cleared',\n        { fig: fig },\n        fig._remove_fig_handler\n    );\n};\n\nmpl.figure.prototype.handle_close = function (fig, msg) {\n    var width = fig.canvas.width / fig.ratio;\n    fig.cell_info[0].output_area.element.off(\n        'cleared',\n        fig._remove_fig_handler\n    );\n    fig.resizeObserverInstance.unobserve(fig.canvas_div);\n\n    // Update the output cell to use the data from the current canvas.\n    fig.push_to_output();\n    var dataURL = fig.canvas.toDataURL();\n    // Re-enable the keyboard manager in IPython - without this line, in FF,\n    // the notebook keyboard shortcuts fail.\n    IPython.keyboard_manager.enable();\n    fig.parent_element.innerHTML =\n        '<img src=\"' + dataURL + '\" width=\"' + width + '\">';\n    fig.close_ws(fig, msg);\n};\n\nmpl.figure.prototype.close_ws = function (fig, msg) {\n    fig.send_message('closing', msg);\n    // fig.ws.close()\n};\n\nmpl.figure.prototype.push_to_output = function (_remove_interactive) {\n    // Turn the data on the canvas into data in the output cell.\n    var width = this.canvas.width / this.ratio;\n    var dataURL = this.canvas.toDataURL();\n    this.cell_info[1]['text/html'] =\n        '<img src=\"' + dataURL + '\" width=\"' + width + '\">';\n};\n\nmpl.figure.prototype.updated_canvas_event = function () {\n    // Tell IPython that the notebook contents must change.\n    IPython.notebook.set_dirty(true);\n    this.send_message('ack', {});\n    var fig = this;\n    // Wait a second, then push the new image to the DOM so\n    // that it is saved nicely (might be nice to debounce this).\n    setTimeout(function () {\n        fig.push_to_output();\n    }, 1000);\n};\n\nmpl.figure.prototype._init_toolbar = function () {\n    var fig = this;\n\n    var toolbar = document.createElement('div');\n    toolbar.classList = 'btn-toolbar';\n    this.root.appendChild(toolbar);\n\n    function on_click_closure(name) {\n        return function (_event) {\n            return fig.toolbar_button_onclick(name);\n        };\n    }\n\n    function on_mouseover_closure(tooltip) {\n        return function (event) {\n            if (!event.currentTarget.disabled) {\n                return fig.toolbar_button_onmouseover(tooltip);\n            }\n        };\n    }\n\n    fig.buttons = {};\n    var buttonGroup = document.createElement('div');\n    buttonGroup.classList = 'btn-group';\n    var button;\n    for (var toolbar_ind in mpl.toolbar_items) {\n        var name = mpl.toolbar_items[toolbar_ind][0];\n        var tooltip = mpl.toolbar_items[toolbar_ind][1];\n        var image = mpl.toolbar_items[toolbar_ind][2];\n        var method_name = mpl.toolbar_items[toolbar_ind][3];\n\n        if (!name) {\n            /* Instead of a spacer, we start a new button group. */\n            if (buttonGroup.hasChildNodes()) {\n                toolbar.appendChild(buttonGroup);\n            }\n            buttonGroup = document.createElement('div');\n            buttonGroup.classList = 'btn-group';\n            continue;\n        }\n\n        button = fig.buttons[name] = document.createElement('button');\n        button.classList = 'btn btn-default';\n        button.href = '#';\n        button.title = name;\n        button.innerHTML = '<i class=\"fa ' + image + ' fa-lg\"></i>';\n        button.addEventListener('click', on_click_closure(method_name));\n        button.addEventListener('mouseover', on_mouseover_closure(tooltip));\n        buttonGroup.appendChild(button);\n    }\n\n    if (buttonGroup.hasChildNodes()) {\n        toolbar.appendChild(buttonGroup);\n    }\n\n    // Add the status bar.\n    var status_bar = document.createElement('span');\n    status_bar.classList = 'mpl-message pull-right';\n    toolbar.appendChild(status_bar);\n    this.message = status_bar;\n\n    // Add the close button to the window.\n    var buttongrp = document.createElement('div');\n    buttongrp.classList = 'btn-group inline pull-right';\n    button = document.createElement('button');\n    button.classList = 'btn btn-mini btn-primary';\n    button.href = '#';\n    button.title = 'Stop Interaction';\n    button.innerHTML = '<i class=\"fa fa-power-off icon-remove icon-large\"></i>';\n    button.addEventListener('click', function (_evt) {\n        fig.handle_close(fig, {});\n    });\n    button.addEventListener(\n        'mouseover',\n        on_mouseover_closure('Stop Interaction')\n    );\n    buttongrp.appendChild(button);\n    var titlebar = this.root.querySelector('.ui-dialog-titlebar');\n    titlebar.insertBefore(buttongrp, titlebar.firstChild);\n};\n\nmpl.figure.prototype._remove_fig_handler = function (event) {\n    var fig = event.data.fig;\n    if (event.target !== this) {\n        // Ignore bubbled events from children.\n        return;\n    }\n    fig.close_ws(fig, {});\n};\n\nmpl.figure.prototype._root_extra_style = function (el) {\n    el.style.boxSizing = 'content-box'; // override notebook setting of border-box.\n};\n\nmpl.figure.prototype._canvas_extra_style = function (el) {\n    // this is important to make the div 'focusable\n    el.setAttribute('tabindex', 0);\n    // reach out to IPython and tell the keyboard manager to turn it's self\n    // off when our div gets focus\n\n    // location in version 3\n    if (IPython.notebook.keyboard_manager) {\n        IPython.notebook.keyboard_manager.register_events(el);\n    } else {\n        // location in version 2\n        IPython.keyboard_manager.register_events(el);\n    }\n};\n\nmpl.figure.prototype._key_event_extra = function (event, _name) {\n    // Check for shift+enter\n    if (event.shiftKey && event.which === 13) {\n        this.canvas_div.blur();\n        // select the cell after this one\n        var index = IPython.notebook.find_cell_index(this.cell_info[0]);\n        IPython.notebook.select(index + 1);\n    }\n};\n\nmpl.figure.prototype.handle_save = function (fig, _msg) {\n    fig.ondownload(fig, null);\n};\n\nmpl.find_output_cell = function (html_output) {\n    // Return the cell and output element which can be found *uniquely* in the notebook.\n    // Note - this is a bit hacky, but it is done because the \"notebook_saving.Notebook\"\n    // IPython event is triggered only after the cells have been serialised, which for\n    // our purposes (turning an active figure into a static one), is too late.\n    var cells = IPython.notebook.get_cells();\n    var ncells = cells.length;\n    for (var i = 0; i < ncells; i++) {\n        var cell = cells[i];\n        if (cell.cell_type === 'code') {\n            for (var j = 0; j < cell.output_area.outputs.length; j++) {\n                var data = cell.output_area.outputs[j];\n                if (data.data) {\n                    // IPython >= 3 moved mimebundle to data attribute of output\n                    data = data.data;\n                }\n                if (data['text/html'] === html_output) {\n                    return [cell, data, j];\n                }\n            }\n        }\n    }\n};\n\n// Register the function which deals with the matplotlib target/channel.\n// The kernel may be null if the page has been refreshed.\nif (IPython.notebook.kernel !== null) {\n    IPython.notebook.kernel.comm_manager.register_target(\n        'matplotlib',\n        mpl.mpl_figure_comm\n    );\n}\n",
      "text/plain": [
       "<IPython.core.display.Javascript object>"
      ]
     },
     "metadata": {},
     "output_type": "display_data"
    },
    {
     "data": {
      "text/html": [
       "<img src=\"data:image/png;base64,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\" width=\"640\">"
      ],
      "text/plain": [
       "<IPython.core.display.HTML object>"
      ]
     },
     "metadata": {},
     "output_type": "display_data"
    },
    {
     "data": {
      "text/plain": [
       "<sklearn.metrics._plot.confusion_matrix.ConfusionMatrixDisplay at 0x1a680e1baf0>"
      ]
     },
     "execution_count": 29,
     "metadata": {},
     "output_type": "execute_result"
    }
   ],
   "source": [
    "from sklearn.metrics import ConfusionMatrixDisplay\n",
    "\n",
    "# def plot2(y_true, y_predictions):\n",
    "#    labels = unique_labels(y_test)\n",
    "#    column = [f'Predicted {label}' for label in labels]\n",
    "#    indices = [f'Actual {label}' for label in labels]\n",
    "#    table = pd.DataFrame(confusion_matrix(y_true, y_predictions), columns = column, index = indices)\n",
    "    \n",
    "ConfusionMatrixDisplay.from_predictions(y_test, y_pred, cmap='viridis')\n",
    "#plt.show()return sns.heatmap(table, annot=True, fmt='d' , cmap='YlGnBu')\n",
    "\n",
    "#plot2(y_test, y_pred)"
   ]
  },
  {
   "cell_type": "code",
   "execution_count": 30,
   "metadata": {},
   "outputs": [
    {
     "name": "stdout",
     "output_type": "stream",
     "text": [
      "              precision    recall  f1-score   support\n",
      "\n",
      "         0.0       0.85      0.97      0.90     53285\n",
      "         1.0       0.00      0.00      0.00      1133\n",
      "         2.0       0.33      0.09      0.14      9002\n",
      "\n",
      "    accuracy                           0.83     63420\n",
      "   macro avg       0.39      0.35      0.35     63420\n",
      "weighted avg       0.76      0.83      0.78     63420\n",
      "\n"
     ]
    },
    {
     "name": "stderr",
     "output_type": "stream",
     "text": [
      "C:\\Users\\Ellen\\anaconda3\\lib\\site-packages\\sklearn\\metrics\\_classification.py:1318: UndefinedMetricWarning: Precision and F-score are ill-defined and being set to 0.0 in labels with no predicted samples. Use `zero_division` parameter to control this behavior.\n",
      "  _warn_prf(average, modifier, msg_start, len(result))\n",
      "C:\\Users\\Ellen\\anaconda3\\lib\\site-packages\\sklearn\\metrics\\_classification.py:1318: UndefinedMetricWarning: Precision and F-score are ill-defined and being set to 0.0 in labels with no predicted samples. Use `zero_division` parameter to control this behavior.\n",
      "  _warn_prf(average, modifier, msg_start, len(result))\n",
      "C:\\Users\\Ellen\\anaconda3\\lib\\site-packages\\sklearn\\metrics\\_classification.py:1318: UndefinedMetricWarning: Precision and F-score are ill-defined and being set to 0.0 in labels with no predicted samples. Use `zero_division` parameter to control this behavior.\n",
      "  _warn_prf(average, modifier, msg_start, len(result))\n"
     ]
    }
   ],
   "source": [
    "print(classification_report(y_test, y_pred))"
   ]
  },
  {
   "cell_type": "code",
   "execution_count": 31,
   "metadata": {},
   "outputs": [
    {
     "name": "stdout",
     "output_type": "stream",
     "text": [
      "Recall_no_diabetes : 0.9694660786337619 \n",
      "Precision_no_diabetes : 0.8482569500320203 \n",
      "F1_score_no_diabetes : 0.9048202900581518 \n",
      "\n",
      "Recall_diabetes_1 : 0 \n",
      "Precision_diabetes_1 : 0 \n",
      "F1_score_diabetes_1 : 0 \n",
      "\n",
      "Recall_diabetes_2 : 0.0923213493120284 \n",
      "Precision_diabetes_2 : 0.32872382457526667 \n",
      "F1_score_diabetes_2 : 0.14415663172485488 \n"
     ]
    }
   ],
   "source": [
    "tp0 = 51658\n",
    "tn0 = 894\n",
    "fp0 = 9241\n",
    "fn0 = 1627\n",
    "\n",
    "recall_0 = tp0/(tp0+fn0)\n",
    "precision_0 = tp0/(tp0+fp0)\n",
    "f1_score_0 =  (recall_0 * precision_0 / (recall_0 + precision_0) * 2)\n",
    "\n",
    "print(f\"Recall_no_diabetes : {recall_0} \")\n",
    "print(f\"Precision_no_diabetes : {precision_0} \")\n",
    "print(f\"F1_score_no_diabetes : {f1_score_0} \")\n",
    "\n",
    "print()\n",
    "\n",
    "tp1= 0\n",
    "tn1 = 62287\n",
    "fp1 = 0\n",
    "fn1 = 1133\n",
    "\n",
    "recall_1 = 0 \n",
    "precision_1 = 0\n",
    "f1_score_1 =  0\n",
    "\n",
    "print(f\"Recall_diabetes_1 : {recall_1} \")\n",
    "print(f\"Precision_diabetes_1 : {precision_1} \")\n",
    "print(f\"F1_score_diabetes_1 : {f1_score_1} \")\n",
    "\n",
    "print()\n",
    "\n",
    "tp2 = 832\n",
    "tn2 = 52719\n",
    "fp2 = 1699\n",
    "fn2 = 8180\n",
    "\n",
    "recall_2 = tp2/(tp2+fn2)\n",
    "precision_2 = tp2/(tp2+fp2)\n",
    "f1_score_2 =  (recall_2 * precision_2 / (recall_2 + precision_2) * 2)\n",
    "\n",
    "print(f\"Recall_diabetes_2 : {recall_2} \")\n",
    "print(f\"Precision_diabetes_2 : {precision_2} \")\n",
    "print(f\"F1_score_diabetes_2 : {f1_score_2} \")"
   ]
  },
  {
   "cell_type": "code",
   "execution_count": 32,
   "metadata": {},
   "outputs": [
    {
     "data": {
      "text/plain": [
       "0.8274992116051719"
      ]
     },
     "execution_count": 32,
     "metadata": {},
     "output_type": "execute_result"
    }
   ],
   "source": [
    "accuracy = metrics.accuracy_score(y_test, y_pred)\n",
    "accuracy"
   ]
  },
  {
   "cell_type": "code",
   "execution_count": 33,
   "metadata": {},
   "outputs": [
    {
     "name": "stderr",
     "output_type": "stream",
     "text": [
      "C:\\Users\\Ellen\\anaconda3\\lib\\site-packages\\sklearn\\metrics\\_classification.py:1318: UndefinedMetricWarning: Precision is ill-defined and being set to 0.0 in labels with no predicted samples. Use `zero_division` parameter to control this behavior.\n",
      "  _warn_prf(average, modifier, msg_start, len(result))\n"
     ]
    },
    {
     "data": {
      "text/plain": [
       "array([0.84825695, 0.        , 0.32606109])"
      ]
     },
     "execution_count": 33,
     "metadata": {},
     "output_type": "execute_result"
    }
   ],
   "source": [
    "precision = metrics.precision_score(y_test, y_pred, average=None)\n",
    "precision"
   ]
  },
  {
   "cell_type": "code",
   "execution_count": 34,
   "metadata": {},
   "outputs": [
    {
     "data": {
      "text/plain": [
       "array([0.96946608, 0.        , 0.09131304])"
      ]
     },
     "execution_count": 34,
     "metadata": {},
     "output_type": "execute_result"
    }
   ],
   "source": [
    "recall_sensitivity = metrics.recall_score(y_test, y_pred, average=None)\n",
    "recall_sensitivity"
   ]
  },
  {
   "cell_type": "code",
   "execution_count": 35,
   "metadata": {},
   "outputs": [
    {
     "data": {
      "text/plain": [
       "array([0.96946608, 0.        , 0.09131304])"
      ]
     },
     "execution_count": 35,
     "metadata": {},
     "output_type": "execute_result"
    }
   ],
   "source": [
    "recall_specificity = metrics.recall_score(y_test, y_pred, average=None)\n",
    "recall_specificity"
   ]
  },
  {
   "cell_type": "code",
   "execution_count": 36,
   "metadata": {},
   "outputs": [
    {
     "data": {
      "text/plain": [
       "array([0.90482029, 0.        , 0.14267118])"
      ]
     },
     "execution_count": 36,
     "metadata": {},
     "output_type": "execute_result"
    }
   ],
   "source": [
    "F1_score = metrics.f1_score(y_test, y_pred, average=None)\n",
    "F1_score"
   ]
  },
  {
   "cell_type": "code",
   "execution_count": 37,
   "metadata": {},
   "outputs": [
    {
     "data": {
      "text/plain": [
       "[{'Accuracy :': 0.8274992116051719,\n",
       "  'Precision :': array([0.84825695, 0.        , 0.32606109]),\n",
       "  'Recall-Sensitivity :': array([0.96946608, 0.        , 0.09131304]),\n",
       "  'Recall-Specificity : ': array([0.96946608, 0.        , 0.09131304]),\n",
       "  'F1-Score : ': array([0.90482029, 0.        , 0.14267118])}]"
      ]
     },
     "execution_count": 37,
     "metadata": {},
     "output_type": "execute_result"
    }
   ],
   "source": [
    "analyse = [{'Accuracy :' : accuracy, \n",
    "       'Precision :' : precision, \n",
    "       'Recall-Sensitivity :' : recall_sensitivity, \n",
    "       'Recall-Specificity : ' : recall_specificity, \n",
    "       'F1-Score : ' : F1_score}]\n",
    "list(analyse)\n"
   ]
  },
  {
   "cell_type": "code",
   "execution_count": null,
   "metadata": {},
   "outputs": [],
   "source": [
    "LINEAR REGRESSION !"
   ]
  },
  {
   "cell_type": "code",
   "execution_count": 38,
   "metadata": {},
   "outputs": [],
   "source": [
    "from sklearn.linear_model import LinearRegression, LogisticRegression\n",
    "from sklearn.svm import SVC, LinearSVC"
   ]
  },
  {
   "cell_type": "code",
   "execution_count": 39,
   "metadata": {},
   "outputs": [],
   "source": [
    "# For this example, we use the PhysicalActivity, Age and BMI of each Diabetes instance\n",
    "X = df[['PhysActivity', 'Age', 'BMI']]\n",
    "y = df['Diabetes_012']\n",
    "\n",
    "# default is 75% / 25% train-test split\n",
    "X_train, X_test, y_train, y_test = train_test_split(X, y, random_state=0)"
   ]
  },
  {
   "cell_type": "code",
   "execution_count": 40,
   "metadata": {},
   "outputs": [
    {
     "name": "stdout",
     "output_type": "stream",
     "text": [
      "0.09545606603212076\n",
      "[1.02981564]\n",
      "[1.0]\n",
      "Unfortunately you have or you will have Pre-Diabetes with your lifestyle ! Please contact a physician for more information !\n"
     ]
    },
    {
     "name": "stderr",
     "output_type": "stream",
     "text": [
      "C:\\Users\\Ellen\\anaconda3\\lib\\site-packages\\sklearn\\base.py:450: UserWarning: X does not have valid feature names, but LinearRegression was fitted with feature names\n",
      "  warnings.warn(\n"
     ]
    }
   ],
   "source": [
    "linreg = LinearRegression().fit(X_train, y_train)\n",
    "\n",
    "print(linreg.score(X_test, y_test))\n",
    "\n",
    "# first example: a PhysicalActivity=1 ,Age=6, BMI=35\n",
    "diabetes_prediction = linreg.predict([[1, 6, 65]])\n",
    "print(diabetes_prediction)\n",
    "\n",
    "diabetes_prediction_rounded = [np.round(x) for x in diabetes_prediction]\n",
    "print(diabetes_prediction_rounded)\n",
    "\n",
    "    \n",
    "if diabetes_prediction_rounded == [0.0] :\n",
    "    print(f'Fortunately you have {lookup_diabetes_012[diabetes_prediction_rounded[0]]} with your lifestyle ! Go on living this way !')\n",
    "else:\n",
    "    print(f'Unfortunately you have or you will have {lookup_diabetes_012[diabetes_prediction_rounded[0]]} with your lifestyle ! Please contact a physician for more information !')\n"
   ]
  },
  {
   "cell_type": "code",
   "execution_count": 41,
   "metadata": {},
   "outputs": [
    {
     "data": {
      "text/plain": [
       "array([0., 0., 0., 0., 1., 0., 0., 0., 1., 0.])"
      ]
     },
     "execution_count": 41,
     "metadata": {},
     "output_type": "execute_result"
    }
   ],
   "source": [
    "y_pred =  linreg.predict(X_test)\n",
    "y_pred = np.round(y_pred, 0) #[np.round(x) for x in y_pred]\n",
    "y_pred[:10]"
   ]
  },
  {
   "cell_type": "code",
   "execution_count": 42,
   "metadata": {},
   "outputs": [
    {
     "data": {
      "text/plain": [
       "array([0., 0., 0., 0., 2., 0., 0., 0., 2., 0.])"
      ]
     },
     "execution_count": 42,
     "metadata": {},
     "output_type": "execute_result"
    }
   ],
   "source": [
    "np.array(y_test)[:10]"
   ]
  },
  {
   "cell_type": "code",
   "execution_count": 43,
   "metadata": {},
   "outputs": [
    {
     "data": {
      "text/html": [
       "<div>\n",
       "<style scoped>\n",
       "    .dataframe tbody tr th:only-of-type {\n",
       "        vertical-align: middle;\n",
       "    }\n",
       "\n",
       "    .dataframe tbody tr th {\n",
       "        vertical-align: top;\n",
       "    }\n",
       "\n",
       "    .dataframe thead th {\n",
       "        text-align: right;\n",
       "    }\n",
       "</style>\n",
       "<table border=\"1\" class=\"dataframe\">\n",
       "  <thead>\n",
       "    <tr style=\"text-align: right;\">\n",
       "      <th></th>\n",
       "      <th>Predicted 0.0</th>\n",
       "      <th>Predicted 1.0</th>\n",
       "      <th>Predicted 2.0</th>\n",
       "    </tr>\n",
       "  </thead>\n",
       "  <tbody>\n",
       "    <tr>\n",
       "      <th>Actual 0.0</th>\n",
       "      <td>47660</td>\n",
       "      <td>5566</td>\n",
       "      <td>59</td>\n",
       "    </tr>\n",
       "    <tr>\n",
       "      <th>Actual 1.0</th>\n",
       "      <td>826</td>\n",
       "      <td>307</td>\n",
       "      <td>0</td>\n",
       "    </tr>\n",
       "    <tr>\n",
       "      <th>Actual 2.0</th>\n",
       "      <td>5815</td>\n",
       "      <td>3179</td>\n",
       "      <td>8</td>\n",
       "    </tr>\n",
       "  </tbody>\n",
       "</table>\n",
       "</div>"
      ],
      "text/plain": [
       "            Predicted 0.0  Predicted 1.0  Predicted 2.0\n",
       "Actual 0.0          47660           5566             59\n",
       "Actual 1.0            826            307              0\n",
       "Actual 2.0           5815           3179              8"
      ]
     },
     "execution_count": 43,
     "metadata": {},
     "output_type": "execute_result"
    }
   ],
   "source": [
    "from sklearn.utils.multiclass import unique_labels\n",
    "from sklearn.metrics import confusion_matrix, multilabel_confusion_matrix, classification_report\n",
    "import seaborn as sns\n",
    "unique_labels(y_test)\n",
    "\n",
    "def plot1(y_true, y_predictions):\n",
    "    labels = unique_labels(y_test)\n",
    "    column = [f'Predicted {label}' for label in labels]\n",
    "    indices = [f'Actual {label}' for label in labels]\n",
    "    table = pd.DataFrame(confusion_matrix(y_true, y_predictions), columns = column, index = indices)\n",
    "    \n",
    "    return table\n",
    "\n",
    "plot1(y_test, y_pred)"
   ]
  },
  {
   "cell_type": "code",
   "execution_count": 44,
   "metadata": {},
   "outputs": [
    {
     "data": {
      "application/javascript": "/* Put everything inside the global mpl namespace */\n/* global mpl */\nwindow.mpl = {};\n\nmpl.get_websocket_type = function () {\n    if (typeof WebSocket !== 'undefined') {\n        return WebSocket;\n    } else if (typeof MozWebSocket !== 'undefined') {\n        return MozWebSocket;\n    } else {\n        alert(\n            'Your browser does not have WebSocket support. ' +\n                'Please try Chrome, Safari or Firefox ≥ 6. ' +\n                'Firefox 4 and 5 are also supported but you ' +\n                'have to enable WebSockets in about:config.'\n        );\n    }\n};\n\nmpl.figure = function (figure_id, websocket, ondownload, parent_element) {\n    this.id = figure_id;\n\n    this.ws = websocket;\n\n    this.supports_binary = this.ws.binaryType !== undefined;\n\n    if (!this.supports_binary) {\n        var warnings = document.getElementById('mpl-warnings');\n        if (warnings) {\n            warnings.style.display = 'block';\n            warnings.textContent =\n                'This browser does not support binary websocket messages. ' +\n                'Performance may be slow.';\n        }\n    }\n\n    this.imageObj = new Image();\n\n    this.context = undefined;\n    this.message = undefined;\n    this.canvas = undefined;\n    this.rubberband_canvas = undefined;\n    this.rubberband_context = undefined;\n    this.format_dropdown = undefined;\n\n    this.image_mode = 'full';\n\n    this.root = document.createElement('div');\n    this.root.setAttribute('style', 'display: inline-block');\n    this._root_extra_style(this.root);\n\n    parent_element.appendChild(this.root);\n\n    this._init_header(this);\n    this._init_canvas(this);\n    this._init_toolbar(this);\n\n    var fig = this;\n\n    this.waiting = false;\n\n    this.ws.onopen = function () {\n        fig.send_message('supports_binary', { value: fig.supports_binary });\n        fig.send_message('send_image_mode', {});\n        if (fig.ratio !== 1) {\n            fig.send_message('set_device_pixel_ratio', {\n                device_pixel_ratio: fig.ratio,\n            });\n        }\n        fig.send_message('refresh', {});\n    };\n\n    this.imageObj.onload = function () {\n        if (fig.image_mode === 'full') {\n            // Full images could contain transparency (where diff images\n            // almost always do), so we need to clear the canvas so that\n            // there is no ghosting.\n            fig.context.clearRect(0, 0, fig.canvas.width, fig.canvas.height);\n        }\n        fig.context.drawImage(fig.imageObj, 0, 0);\n    };\n\n    this.imageObj.onunload = function () {\n        fig.ws.close();\n    };\n\n    this.ws.onmessage = this._make_on_message_function(this);\n\n    this.ondownload = ondownload;\n};\n\nmpl.figure.prototype._init_header = function () {\n    var titlebar = document.createElement('div');\n    titlebar.classList =\n        'ui-dialog-titlebar ui-widget-header ui-corner-all ui-helper-clearfix';\n    var titletext = document.createElement('div');\n    titletext.classList = 'ui-dialog-title';\n    titletext.setAttribute(\n        'style',\n        'width: 100%; text-align: center; padding: 3px;'\n    );\n    titlebar.appendChild(titletext);\n    this.root.appendChild(titlebar);\n    this.header = titletext;\n};\n\nmpl.figure.prototype._canvas_extra_style = function (_canvas_div) {};\n\nmpl.figure.prototype._root_extra_style = function (_canvas_div) {};\n\nmpl.figure.prototype._init_canvas = function () {\n    var fig = this;\n\n    var canvas_div = (this.canvas_div = document.createElement('div'));\n    canvas_div.setAttribute(\n        'style',\n        'border: 1px solid #ddd;' +\n            'box-sizing: content-box;' +\n            'clear: both;' +\n            'min-height: 1px;' +\n            'min-width: 1px;' +\n            'outline: 0;' +\n            'overflow: hidden;' +\n            'position: relative;' +\n            'resize: both;'\n    );\n\n    function on_keyboard_event_closure(name) {\n        return function (event) {\n            return fig.key_event(event, name);\n        };\n    }\n\n    canvas_div.addEventListener(\n        'keydown',\n        on_keyboard_event_closure('key_press')\n    );\n    canvas_div.addEventListener(\n        'keyup',\n        on_keyboard_event_closure('key_release')\n    );\n\n    this._canvas_extra_style(canvas_div);\n    this.root.appendChild(canvas_div);\n\n    var canvas = (this.canvas = document.createElement('canvas'));\n    canvas.classList.add('mpl-canvas');\n    canvas.setAttribute('style', 'box-sizing: content-box;');\n\n    this.context = canvas.getContext('2d');\n\n    var backingStore =\n        this.context.backingStorePixelRatio ||\n        this.context.webkitBackingStorePixelRatio ||\n        this.context.mozBackingStorePixelRatio ||\n        this.context.msBackingStorePixelRatio ||\n        this.context.oBackingStorePixelRatio ||\n        this.context.backingStorePixelRatio ||\n        1;\n\n    this.ratio = (window.devicePixelRatio || 1) / backingStore;\n\n    var rubberband_canvas = (this.rubberband_canvas = document.createElement(\n        'canvas'\n    ));\n    rubberband_canvas.setAttribute(\n        'style',\n        'box-sizing: content-box; position: absolute; left: 0; top: 0; z-index: 1;'\n    );\n\n    // Apply a ponyfill if ResizeObserver is not implemented by browser.\n    if (this.ResizeObserver === undefined) {\n        if (window.ResizeObserver !== undefined) {\n            this.ResizeObserver = window.ResizeObserver;\n        } else {\n            var obs = _JSXTOOLS_RESIZE_OBSERVER({});\n            this.ResizeObserver = obs.ResizeObserver;\n        }\n    }\n\n    this.resizeObserverInstance = new this.ResizeObserver(function (entries) {\n        var nentries = entries.length;\n        for (var i = 0; i < nentries; i++) {\n            var entry = entries[i];\n            var width, height;\n            if (entry.contentBoxSize) {\n                if (entry.contentBoxSize instanceof Array) {\n                    // Chrome 84 implements new version of spec.\n                    width = entry.contentBoxSize[0].inlineSize;\n                    height = entry.contentBoxSize[0].blockSize;\n                } else {\n                    // Firefox implements old version of spec.\n                    width = entry.contentBoxSize.inlineSize;\n                    height = entry.contentBoxSize.blockSize;\n                }\n            } else {\n                // Chrome <84 implements even older version of spec.\n                width = entry.contentRect.width;\n                height = entry.contentRect.height;\n            }\n\n            // Keep the size of the canvas and rubber band canvas in sync with\n            // the canvas container.\n            if (entry.devicePixelContentBoxSize) {\n                // Chrome 84 implements new version of spec.\n                canvas.setAttribute(\n                    'width',\n                    entry.devicePixelContentBoxSize[0].inlineSize\n                );\n                canvas.setAttribute(\n                    'height',\n                    entry.devicePixelContentBoxSize[0].blockSize\n                );\n            } else {\n                canvas.setAttribute('width', width * fig.ratio);\n                canvas.setAttribute('height', height * fig.ratio);\n            }\n            canvas.setAttribute(\n                'style',\n                'width: ' + width + 'px; height: ' + height + 'px;'\n            );\n\n            rubberband_canvas.setAttribute('width', width);\n            rubberband_canvas.setAttribute('height', height);\n\n            // And update the size in Python. We ignore the initial 0/0 size\n            // that occurs as the element is placed into the DOM, which should\n            // otherwise not happen due to the minimum size styling.\n            if (fig.ws.readyState == 1 && width != 0 && height != 0) {\n                fig.request_resize(width, height);\n            }\n        }\n    });\n    this.resizeObserverInstance.observe(canvas_div);\n\n    function on_mouse_event_closure(name) {\n        return function (event) {\n            return fig.mouse_event(event, name);\n        };\n    }\n\n    rubberband_canvas.addEventListener(\n        'mousedown',\n        on_mouse_event_closure('button_press')\n    );\n    rubberband_canvas.addEventListener(\n        'mouseup',\n        on_mouse_event_closure('button_release')\n    );\n    rubberband_canvas.addEventListener(\n        'dblclick',\n        on_mouse_event_closure('dblclick')\n    );\n    // Throttle sequential mouse events to 1 every 20ms.\n    rubberband_canvas.addEventListener(\n        'mousemove',\n        on_mouse_event_closure('motion_notify')\n    );\n\n    rubberband_canvas.addEventListener(\n        'mouseenter',\n        on_mouse_event_closure('figure_enter')\n    );\n    rubberband_canvas.addEventListener(\n        'mouseleave',\n        on_mouse_event_closure('figure_leave')\n    );\n\n    canvas_div.addEventListener('wheel', function (event) {\n        if (event.deltaY < 0) {\n            event.step = 1;\n        } else {\n            event.step = -1;\n        }\n        on_mouse_event_closure('scroll')(event);\n    });\n\n    canvas_div.appendChild(canvas);\n    canvas_div.appendChild(rubberband_canvas);\n\n    this.rubberband_context = rubberband_canvas.getContext('2d');\n    this.rubberband_context.strokeStyle = '#000000';\n\n    this._resize_canvas = function (width, height, forward) {\n        if (forward) {\n            canvas_div.style.width = width + 'px';\n            canvas_div.style.height = height + 'px';\n        }\n    };\n\n    // Disable right mouse context menu.\n    this.rubberband_canvas.addEventListener('contextmenu', function (_e) {\n        event.preventDefault();\n        return false;\n    });\n\n    function set_focus() {\n        canvas.focus();\n        canvas_div.focus();\n    }\n\n    window.setTimeout(set_focus, 100);\n};\n\nmpl.figure.prototype._init_toolbar = function () {\n    var fig = this;\n\n    var toolbar = document.createElement('div');\n    toolbar.classList = 'mpl-toolbar';\n    this.root.appendChild(toolbar);\n\n    function on_click_closure(name) {\n        return function (_event) {\n            return fig.toolbar_button_onclick(name);\n        };\n    }\n\n    function on_mouseover_closure(tooltip) {\n        return function (event) {\n            if (!event.currentTarget.disabled) {\n                return fig.toolbar_button_onmouseover(tooltip);\n            }\n        };\n    }\n\n    fig.buttons = {};\n    var buttonGroup = document.createElement('div');\n    buttonGroup.classList = 'mpl-button-group';\n    for (var toolbar_ind in mpl.toolbar_items) {\n        var name = mpl.toolbar_items[toolbar_ind][0];\n        var tooltip = mpl.toolbar_items[toolbar_ind][1];\n        var image = mpl.toolbar_items[toolbar_ind][2];\n        var method_name = mpl.toolbar_items[toolbar_ind][3];\n\n        if (!name) {\n            /* Instead of a spacer, we start a new button group. */\n            if (buttonGroup.hasChildNodes()) {\n                toolbar.appendChild(buttonGroup);\n            }\n            buttonGroup = document.createElement('div');\n            buttonGroup.classList = 'mpl-button-group';\n            continue;\n        }\n\n        var button = (fig.buttons[name] = document.createElement('button'));\n        button.classList = 'mpl-widget';\n        button.setAttribute('role', 'button');\n        button.setAttribute('aria-disabled', 'false');\n        button.addEventListener('click', on_click_closure(method_name));\n        button.addEventListener('mouseover', on_mouseover_closure(tooltip));\n\n        var icon_img = document.createElement('img');\n        icon_img.src = '_images/' + image + '.png';\n        icon_img.srcset = '_images/' + image + '_large.png 2x';\n        icon_img.alt = tooltip;\n        button.appendChild(icon_img);\n\n        buttonGroup.appendChild(button);\n    }\n\n    if (buttonGroup.hasChildNodes()) {\n        toolbar.appendChild(buttonGroup);\n    }\n\n    var fmt_picker = document.createElement('select');\n    fmt_picker.classList = 'mpl-widget';\n    toolbar.appendChild(fmt_picker);\n    this.format_dropdown = fmt_picker;\n\n    for (var ind in mpl.extensions) {\n        var fmt = mpl.extensions[ind];\n        var option = document.createElement('option');\n        option.selected = fmt === mpl.default_extension;\n        option.innerHTML = fmt;\n        fmt_picker.appendChild(option);\n    }\n\n    var status_bar = document.createElement('span');\n    status_bar.classList = 'mpl-message';\n    toolbar.appendChild(status_bar);\n    this.message = status_bar;\n};\n\nmpl.figure.prototype.request_resize = function (x_pixels, y_pixels) {\n    // Request matplotlib to resize the figure. Matplotlib will then trigger a resize in the client,\n    // which will in turn request a refresh of the image.\n    this.send_message('resize', { width: x_pixels, height: y_pixels });\n};\n\nmpl.figure.prototype.send_message = function (type, properties) {\n    properties['type'] = type;\n    properties['figure_id'] = this.id;\n    this.ws.send(JSON.stringify(properties));\n};\n\nmpl.figure.prototype.send_draw_message = function () {\n    if (!this.waiting) {\n        this.waiting = true;\n        this.ws.send(JSON.stringify({ type: 'draw', figure_id: this.id }));\n    }\n};\n\nmpl.figure.prototype.handle_save = function (fig, _msg) {\n    var format_dropdown = fig.format_dropdown;\n    var format = format_dropdown.options[format_dropdown.selectedIndex].value;\n    fig.ondownload(fig, format);\n};\n\nmpl.figure.prototype.handle_resize = function (fig, msg) {\n    var size = msg['size'];\n    if (size[0] !== fig.canvas.width || size[1] !== fig.canvas.height) {\n        fig._resize_canvas(size[0], size[1], msg['forward']);\n        fig.send_message('refresh', {});\n    }\n};\n\nmpl.figure.prototype.handle_rubberband = function (fig, msg) {\n    var x0 = msg['x0'] / fig.ratio;\n    var y0 = (fig.canvas.height - msg['y0']) / fig.ratio;\n    var x1 = msg['x1'] / fig.ratio;\n    var y1 = (fig.canvas.height - msg['y1']) / fig.ratio;\n    x0 = Math.floor(x0) + 0.5;\n    y0 = Math.floor(y0) + 0.5;\n    x1 = Math.floor(x1) + 0.5;\n    y1 = Math.floor(y1) + 0.5;\n    var min_x = Math.min(x0, x1);\n    var min_y = Math.min(y0, y1);\n    var width = Math.abs(x1 - x0);\n    var height = Math.abs(y1 - y0);\n\n    fig.rubberband_context.clearRect(\n        0,\n        0,\n        fig.canvas.width / fig.ratio,\n        fig.canvas.height / fig.ratio\n    );\n\n    fig.rubberband_context.strokeRect(min_x, min_y, width, height);\n};\n\nmpl.figure.prototype.handle_figure_label = function (fig, msg) {\n    // Updates the figure title.\n    fig.header.textContent = msg['label'];\n};\n\nmpl.figure.prototype.handle_cursor = function (fig, msg) {\n    fig.rubberband_canvas.style.cursor = msg['cursor'];\n};\n\nmpl.figure.prototype.handle_message = function (fig, msg) {\n    fig.message.textContent = msg['message'];\n};\n\nmpl.figure.prototype.handle_draw = function (fig, _msg) {\n    // Request the server to send over a new figure.\n    fig.send_draw_message();\n};\n\nmpl.figure.prototype.handle_image_mode = function (fig, msg) {\n    fig.image_mode = msg['mode'];\n};\n\nmpl.figure.prototype.handle_history_buttons = function (fig, msg) {\n    for (var key in msg) {\n        if (!(key in fig.buttons)) {\n            continue;\n        }\n        fig.buttons[key].disabled = !msg[key];\n        fig.buttons[key].setAttribute('aria-disabled', !msg[key]);\n    }\n};\n\nmpl.figure.prototype.handle_navigate_mode = function (fig, msg) {\n    if (msg['mode'] === 'PAN') {\n        fig.buttons['Pan'].classList.add('active');\n        fig.buttons['Zoom'].classList.remove('active');\n    } else if (msg['mode'] === 'ZOOM') {\n        fig.buttons['Pan'].classList.remove('active');\n        fig.buttons['Zoom'].classList.add('active');\n    } else {\n        fig.buttons['Pan'].classList.remove('active');\n        fig.buttons['Zoom'].classList.remove('active');\n    }\n};\n\nmpl.figure.prototype.updated_canvas_event = function () {\n    // Called whenever the canvas gets updated.\n    this.send_message('ack', {});\n};\n\n// A function to construct a web socket function for onmessage handling.\n// Called in the figure constructor.\nmpl.figure.prototype._make_on_message_function = function (fig) {\n    return function socket_on_message(evt) {\n        if (evt.data instanceof Blob) {\n            var img = evt.data;\n            if (img.type !== 'image/png') {\n                /* FIXME: We get \"Resource interpreted as Image but\n                 * transferred with MIME type text/plain:\" errors on\n                 * Chrome.  But how to set the MIME type?  It doesn't seem\n                 * to be part of the websocket stream */\n                img.type = 'image/png';\n            }\n\n            /* Free the memory for the previous frames */\n            if (fig.imageObj.src) {\n                (window.URL || window.webkitURL).revokeObjectURL(\n                    fig.imageObj.src\n                );\n            }\n\n            fig.imageObj.src = (window.URL || window.webkitURL).createObjectURL(\n                img\n            );\n            fig.updated_canvas_event();\n            fig.waiting = false;\n            return;\n        } else if (\n            typeof evt.data === 'string' &&\n            evt.data.slice(0, 21) === 'data:image/png;base64'\n        ) {\n            fig.imageObj.src = evt.data;\n            fig.updated_canvas_event();\n            fig.waiting = false;\n            return;\n        }\n\n        var msg = JSON.parse(evt.data);\n        var msg_type = msg['type'];\n\n        // Call the  \"handle_{type}\" callback, which takes\n        // the figure and JSON message as its only arguments.\n        try {\n            var callback = fig['handle_' + msg_type];\n        } catch (e) {\n            console.log(\n                \"No handler for the '\" + msg_type + \"' message type: \",\n                msg\n            );\n            return;\n        }\n\n        if (callback) {\n            try {\n                // console.log(\"Handling '\" + msg_type + \"' message: \", msg);\n                callback(fig, msg);\n            } catch (e) {\n                console.log(\n                    \"Exception inside the 'handler_\" + msg_type + \"' callback:\",\n                    e,\n                    e.stack,\n                    msg\n                );\n            }\n        }\n    };\n};\n\n// from https://stackoverflow.com/questions/1114465/getting-mouse-location-in-canvas\nmpl.findpos = function (e) {\n    //this section is from http://www.quirksmode.org/js/events_properties.html\n    var targ;\n    if (!e) {\n        e = window.event;\n    }\n    if (e.target) {\n        targ = e.target;\n    } else if (e.srcElement) {\n        targ = e.srcElement;\n    }\n    if (targ.nodeType === 3) {\n        // defeat Safari bug\n        targ = targ.parentNode;\n    }\n\n    // pageX,Y are the mouse positions relative to the document\n    var boundingRect = targ.getBoundingClientRect();\n    var x = e.pageX - (boundingRect.left + document.body.scrollLeft);\n    var y = e.pageY - (boundingRect.top + document.body.scrollTop);\n\n    return { x: x, y: y };\n};\n\n/*\n * return a copy of an object with only non-object keys\n * we need this to avoid circular references\n * https://stackoverflow.com/a/24161582/3208463\n */\nfunction simpleKeys(original) {\n    return Object.keys(original).reduce(function (obj, key) {\n        if (typeof original[key] !== 'object') {\n            obj[key] = original[key];\n        }\n        return obj;\n    }, {});\n}\n\nmpl.figure.prototype.mouse_event = function (event, name) {\n    var canvas_pos = mpl.findpos(event);\n\n    if (name === 'button_press') {\n        this.canvas.focus();\n        this.canvas_div.focus();\n    }\n\n    var x = canvas_pos.x * this.ratio;\n    var y = canvas_pos.y * this.ratio;\n\n    this.send_message(name, {\n        x: x,\n        y: y,\n        button: event.button,\n        step: event.step,\n        guiEvent: simpleKeys(event),\n    });\n\n    /* This prevents the web browser from automatically changing to\n     * the text insertion cursor when the button is pressed.  We want\n     * to control all of the cursor setting manually through the\n     * 'cursor' event from matplotlib */\n    event.preventDefault();\n    return false;\n};\n\nmpl.figure.prototype._key_event_extra = function (_event, _name) {\n    // Handle any extra behaviour associated with a key event\n};\n\nmpl.figure.prototype.key_event = function (event, name) {\n    // Prevent repeat events\n    if (name === 'key_press') {\n        if (event.key === this._key) {\n            return;\n        } else {\n            this._key = event.key;\n        }\n    }\n    if (name === 'key_release') {\n        this._key = null;\n    }\n\n    var value = '';\n    if (event.ctrlKey && event.key !== 'Control') {\n        value += 'ctrl+';\n    }\n    else if (event.altKey && event.key !== 'Alt') {\n        value += 'alt+';\n    }\n    else if (event.shiftKey && event.key !== 'Shift') {\n        value += 'shift+';\n    }\n\n    value += 'k' + event.key;\n\n    this._key_event_extra(event, name);\n\n    this.send_message(name, { key: value, guiEvent: simpleKeys(event) });\n    return false;\n};\n\nmpl.figure.prototype.toolbar_button_onclick = function (name) {\n    if (name === 'download') {\n        this.handle_save(this, null);\n    } else {\n        this.send_message('toolbar_button', { name: name });\n    }\n};\n\nmpl.figure.prototype.toolbar_button_onmouseover = function (tooltip) {\n    this.message.textContent = tooltip;\n};\n\n///////////////// REMAINING CONTENT GENERATED BY embed_js.py /////////////////\n// prettier-ignore\nvar _JSXTOOLS_RESIZE_OBSERVER=function(A){var t,i=new WeakMap,n=new WeakMap,a=new WeakMap,r=new WeakMap,o=new Set;function s(e){if(!(this instanceof s))throw new TypeError(\"Constructor requires 'new' operator\");i.set(this,e)}function h(){throw new TypeError(\"Function is not a constructor\")}function c(e,t,i,n){e=0 in arguments?Number(arguments[0]):0,t=1 in arguments?Number(arguments[1]):0,i=2 in arguments?Number(arguments[2]):0,n=3 in arguments?Number(arguments[3]):0,this.right=(this.x=this.left=e)+(this.width=i),this.bottom=(this.y=this.top=t)+(this.height=n),Object.freeze(this)}function d(){t=requestAnimationFrame(d);var s=new WeakMap,p=new Set;o.forEach((function(t){r.get(t).forEach((function(i){var r=t instanceof window.SVGElement,o=a.get(t),d=r?0:parseFloat(o.paddingTop),f=r?0:parseFloat(o.paddingRight),l=r?0:parseFloat(o.paddingBottom),u=r?0:parseFloat(o.paddingLeft),g=r?0:parseFloat(o.borderTopWidth),m=r?0:parseFloat(o.borderRightWidth),w=r?0:parseFloat(o.borderBottomWidth),b=u+f,F=d+l,v=(r?0:parseFloat(o.borderLeftWidth))+m,W=g+w,y=r?0:t.offsetHeight-W-t.clientHeight,E=r?0:t.offsetWidth-v-t.clientWidth,R=b+v,z=F+W,M=r?t.width:parseFloat(o.width)-R-E,O=r?t.height:parseFloat(o.height)-z-y;if(n.has(t)){var k=n.get(t);if(k[0]===M&&k[1]===O)return}n.set(t,[M,O]);var S=Object.create(h.prototype);S.target=t,S.contentRect=new c(u,d,M,O),s.has(i)||(s.set(i,[]),p.add(i)),s.get(i).push(S)}))})),p.forEach((function(e){i.get(e).call(e,s.get(e),e)}))}return s.prototype.observe=function(i){if(i instanceof window.Element){r.has(i)||(r.set(i,new Set),o.add(i),a.set(i,window.getComputedStyle(i)));var n=r.get(i);n.has(this)||n.add(this),cancelAnimationFrame(t),t=requestAnimationFrame(d)}},s.prototype.unobserve=function(i){if(i instanceof window.Element&&r.has(i)){var n=r.get(i);n.has(this)&&(n.delete(this),n.size||(r.delete(i),o.delete(i))),n.size||r.delete(i),o.size||cancelAnimationFrame(t)}},A.DOMRectReadOnly=c,A.ResizeObserver=s,A.ResizeObserverEntry=h,A}; // eslint-disable-line\nmpl.toolbar_items = [[\"Home\", \"Reset original view\", \"fa fa-home icon-home\", \"home\"], [\"Back\", \"Back to previous view\", \"fa fa-arrow-left icon-arrow-left\", \"back\"], [\"Forward\", \"Forward to next view\", \"fa fa-arrow-right icon-arrow-right\", \"forward\"], [\"\", \"\", \"\", \"\"], [\"Pan\", \"Left button pans, Right button zooms\\nx/y fixes axis, CTRL fixes aspect\", \"fa fa-arrows icon-move\", \"pan\"], [\"Zoom\", \"Zoom to rectangle\\nx/y fixes axis\", \"fa fa-square-o icon-check-empty\", \"zoom\"], [\"\", \"\", \"\", \"\"], [\"Download\", \"Download plot\", \"fa fa-floppy-o icon-save\", \"download\"]];\n\nmpl.extensions = [\"eps\", \"jpeg\", \"pgf\", \"pdf\", \"png\", \"ps\", \"raw\", \"svg\", \"tif\"];\n\nmpl.default_extension = \"png\";/* global mpl */\n\nvar comm_websocket_adapter = function (comm) {\n    // Create a \"websocket\"-like object which calls the given IPython comm\n    // object with the appropriate methods. Currently this is a non binary\n    // socket, so there is still some room for performance tuning.\n    var ws = {};\n\n    ws.binaryType = comm.kernel.ws.binaryType;\n    ws.readyState = comm.kernel.ws.readyState;\n    function updateReadyState(_event) {\n        if (comm.kernel.ws) {\n            ws.readyState = comm.kernel.ws.readyState;\n        } else {\n            ws.readyState = 3; // Closed state.\n        }\n    }\n    comm.kernel.ws.addEventListener('open', updateReadyState);\n    comm.kernel.ws.addEventListener('close', updateReadyState);\n    comm.kernel.ws.addEventListener('error', updateReadyState);\n\n    ws.close = function () {\n        comm.close();\n    };\n    ws.send = function (m) {\n        //console.log('sending', m);\n        comm.send(m);\n    };\n    // Register the callback with on_msg.\n    comm.on_msg(function (msg) {\n        //console.log('receiving', msg['content']['data'], msg);\n        var data = msg['content']['data'];\n        if (data['blob'] !== undefined) {\n            data = {\n                data: new Blob(msg['buffers'], { type: data['blob'] }),\n            };\n        }\n        // Pass the mpl event to the overridden (by mpl) onmessage function.\n        ws.onmessage(data);\n    });\n    return ws;\n};\n\nmpl.mpl_figure_comm = function (comm, msg) {\n    // This is the function which gets called when the mpl process\n    // starts-up an IPython Comm through the \"matplotlib\" channel.\n\n    var id = msg.content.data.id;\n    // Get hold of the div created by the display call when the Comm\n    // socket was opened in Python.\n    var element = document.getElementById(id);\n    var ws_proxy = comm_websocket_adapter(comm);\n\n    function ondownload(figure, _format) {\n        window.open(figure.canvas.toDataURL());\n    }\n\n    var fig = new mpl.figure(id, ws_proxy, ondownload, element);\n\n    // Call onopen now - mpl needs it, as it is assuming we've passed it a real\n    // web socket which is closed, not our websocket->open comm proxy.\n    ws_proxy.onopen();\n\n    fig.parent_element = element;\n    fig.cell_info = mpl.find_output_cell(\"<div id='\" + id + \"'></div>\");\n    if (!fig.cell_info) {\n        console.error('Failed to find cell for figure', id, fig);\n        return;\n    }\n    fig.cell_info[0].output_area.element.on(\n        'cleared',\n        { fig: fig },\n        fig._remove_fig_handler\n    );\n};\n\nmpl.figure.prototype.handle_close = function (fig, msg) {\n    var width = fig.canvas.width / fig.ratio;\n    fig.cell_info[0].output_area.element.off(\n        'cleared',\n        fig._remove_fig_handler\n    );\n    fig.resizeObserverInstance.unobserve(fig.canvas_div);\n\n    // Update the output cell to use the data from the current canvas.\n    fig.push_to_output();\n    var dataURL = fig.canvas.toDataURL();\n    // Re-enable the keyboard manager in IPython - without this line, in FF,\n    // the notebook keyboard shortcuts fail.\n    IPython.keyboard_manager.enable();\n    fig.parent_element.innerHTML =\n        '<img src=\"' + dataURL + '\" width=\"' + width + '\">';\n    fig.close_ws(fig, msg);\n};\n\nmpl.figure.prototype.close_ws = function (fig, msg) {\n    fig.send_message('closing', msg);\n    // fig.ws.close()\n};\n\nmpl.figure.prototype.push_to_output = function (_remove_interactive) {\n    // Turn the data on the canvas into data in the output cell.\n    var width = this.canvas.width / this.ratio;\n    var dataURL = this.canvas.toDataURL();\n    this.cell_info[1]['text/html'] =\n        '<img src=\"' + dataURL + '\" width=\"' + width + '\">';\n};\n\nmpl.figure.prototype.updated_canvas_event = function () {\n    // Tell IPython that the notebook contents must change.\n    IPython.notebook.set_dirty(true);\n    this.send_message('ack', {});\n    var fig = this;\n    // Wait a second, then push the new image to the DOM so\n    // that it is saved nicely (might be nice to debounce this).\n    setTimeout(function () {\n        fig.push_to_output();\n    }, 1000);\n};\n\nmpl.figure.prototype._init_toolbar = function () {\n    var fig = this;\n\n    var toolbar = document.createElement('div');\n    toolbar.classList = 'btn-toolbar';\n    this.root.appendChild(toolbar);\n\n    function on_click_closure(name) {\n        return function (_event) {\n            return fig.toolbar_button_onclick(name);\n        };\n    }\n\n    function on_mouseover_closure(tooltip) {\n        return function (event) {\n            if (!event.currentTarget.disabled) {\n                return fig.toolbar_button_onmouseover(tooltip);\n            }\n        };\n    }\n\n    fig.buttons = {};\n    var buttonGroup = document.createElement('div');\n    buttonGroup.classList = 'btn-group';\n    var button;\n    for (var toolbar_ind in mpl.toolbar_items) {\n        var name = mpl.toolbar_items[toolbar_ind][0];\n        var tooltip = mpl.toolbar_items[toolbar_ind][1];\n        var image = mpl.toolbar_items[toolbar_ind][2];\n        var method_name = mpl.toolbar_items[toolbar_ind][3];\n\n        if (!name) {\n            /* Instead of a spacer, we start a new button group. */\n            if (buttonGroup.hasChildNodes()) {\n                toolbar.appendChild(buttonGroup);\n            }\n            buttonGroup = document.createElement('div');\n            buttonGroup.classList = 'btn-group';\n            continue;\n        }\n\n        button = fig.buttons[name] = document.createElement('button');\n        button.classList = 'btn btn-default';\n        button.href = '#';\n        button.title = name;\n        button.innerHTML = '<i class=\"fa ' + image + ' fa-lg\"></i>';\n        button.addEventListener('click', on_click_closure(method_name));\n        button.addEventListener('mouseover', on_mouseover_closure(tooltip));\n        buttonGroup.appendChild(button);\n    }\n\n    if (buttonGroup.hasChildNodes()) {\n        toolbar.appendChild(buttonGroup);\n    }\n\n    // Add the status bar.\n    var status_bar = document.createElement('span');\n    status_bar.classList = 'mpl-message pull-right';\n    toolbar.appendChild(status_bar);\n    this.message = status_bar;\n\n    // Add the close button to the window.\n    var buttongrp = document.createElement('div');\n    buttongrp.classList = 'btn-group inline pull-right';\n    button = document.createElement('button');\n    button.classList = 'btn btn-mini btn-primary';\n    button.href = '#';\n    button.title = 'Stop Interaction';\n    button.innerHTML = '<i class=\"fa fa-power-off icon-remove icon-large\"></i>';\n    button.addEventListener('click', function (_evt) {\n        fig.handle_close(fig, {});\n    });\n    button.addEventListener(\n        'mouseover',\n        on_mouseover_closure('Stop Interaction')\n    );\n    buttongrp.appendChild(button);\n    var titlebar = this.root.querySelector('.ui-dialog-titlebar');\n    titlebar.insertBefore(buttongrp, titlebar.firstChild);\n};\n\nmpl.figure.prototype._remove_fig_handler = function (event) {\n    var fig = event.data.fig;\n    if (event.target !== this) {\n        // Ignore bubbled events from children.\n        return;\n    }\n    fig.close_ws(fig, {});\n};\n\nmpl.figure.prototype._root_extra_style = function (el) {\n    el.style.boxSizing = 'content-box'; // override notebook setting of border-box.\n};\n\nmpl.figure.prototype._canvas_extra_style = function (el) {\n    // this is important to make the div 'focusable\n    el.setAttribute('tabindex', 0);\n    // reach out to IPython and tell the keyboard manager to turn it's self\n    // off when our div gets focus\n\n    // location in version 3\n    if (IPython.notebook.keyboard_manager) {\n        IPython.notebook.keyboard_manager.register_events(el);\n    } else {\n        // location in version 2\n        IPython.keyboard_manager.register_events(el);\n    }\n};\n\nmpl.figure.prototype._key_event_extra = function (event, _name) {\n    // Check for shift+enter\n    if (event.shiftKey && event.which === 13) {\n        this.canvas_div.blur();\n        // select the cell after this one\n        var index = IPython.notebook.find_cell_index(this.cell_info[0]);\n        IPython.notebook.select(index + 1);\n    }\n};\n\nmpl.figure.prototype.handle_save = function (fig, _msg) {\n    fig.ondownload(fig, null);\n};\n\nmpl.find_output_cell = function (html_output) {\n    // Return the cell and output element which can be found *uniquely* in the notebook.\n    // Note - this is a bit hacky, but it is done because the \"notebook_saving.Notebook\"\n    // IPython event is triggered only after the cells have been serialised, which for\n    // our purposes (turning an active figure into a static one), is too late.\n    var cells = IPython.notebook.get_cells();\n    var ncells = cells.length;\n    for (var i = 0; i < ncells; i++) {\n        var cell = cells[i];\n        if (cell.cell_type === 'code') {\n            for (var j = 0; j < cell.output_area.outputs.length; j++) {\n                var data = cell.output_area.outputs[j];\n                if (data.data) {\n                    // IPython >= 3 moved mimebundle to data attribute of output\n                    data = data.data;\n                }\n                if (data['text/html'] === html_output) {\n                    return [cell, data, j];\n                }\n            }\n        }\n    }\n};\n\n// Register the function which deals with the matplotlib target/channel.\n// The kernel may be null if the page has been refreshed.\nif (IPython.notebook.kernel !== null) {\n    IPython.notebook.kernel.comm_manager.register_target(\n        'matplotlib',\n        mpl.mpl_figure_comm\n    );\n}\n",
      "text/plain": [
       "<IPython.core.display.Javascript object>"
      ]
     },
     "metadata": {},
     "output_type": "display_data"
    },
    {
     "data": {
      "text/html": [
       "<img src=\"data:image/png;base64,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\" width=\"640\">"
      ],
      "text/plain": [
       "<IPython.core.display.HTML object>"
      ]
     },
     "metadata": {},
     "output_type": "display_data"
    },
    {
     "data": {
      "text/plain": [
       "<sklearn.metrics._plot.confusion_matrix.ConfusionMatrixDisplay at 0x1a6801b5ca0>"
      ]
     },
     "execution_count": 44,
     "metadata": {},
     "output_type": "execute_result"
    }
   ],
   "source": [
    "from sklearn.metrics import ConfusionMatrixDisplay\n",
    "\n",
    "# def plot2(y_true, y_predictions):\n",
    "#    labels = unique_labels(y_test)\n",
    "#    column = [f'Predicted {label}' for label in labels]\n",
    "#    indices = [f'Actual {label}' for label in labels]\n",
    "#    table = pd.DataFrame(confusion_matrix(y_true, y_predictions), columns = column, index = indices)\n",
    "    \n",
    "ConfusionMatrixDisplay.from_predictions(y_test, y_pred, cmap='viridis')\n",
    "#plt.show()return sns.heatmap(table, annot=True, fmt='d' , cmap='YlGnBu')\n",
    "\n",
    "#plot2(y_test, y_pred)"
   ]
  },
  {
   "cell_type": "markdown",
   "metadata": {},
   "source": [
    "# Logistic Regression !"
   ]
  },
  {
   "cell_type": "code",
   "execution_count": 46,
   "metadata": {},
   "outputs": [
    {
     "data": {
      "text/plain": [
       "LogisticRegression()"
      ]
     },
     "execution_count": 46,
     "metadata": {},
     "output_type": "execute_result"
    }
   ],
   "source": [
    "# default is 75% / 25% train-test split\n",
    "X_train, X_test, y_train, y_test = train_test_split(X, y, random_state=0)\n",
    "\n",
    "logreg = LogisticRegression().fit(X_train, y_train)\n",
    "logreg"
   ]
  },
  {
   "cell_type": "code",
   "execution_count": 47,
   "metadata": {},
   "outputs": [
    {
     "data": {
      "text/plain": [
       "0.8386155786818038"
      ]
     },
     "execution_count": 47,
     "metadata": {},
     "output_type": "execute_result"
    }
   ],
   "source": [
    "logreg.score(X_test, y_test)"
   ]
  },
  {
   "cell_type": "code",
   "execution_count": 48,
   "metadata": {},
   "outputs": [
    {
     "name": "stdout",
     "output_type": "stream",
     "text": [
      "[2.]\n",
      "Unfortunately you have or you will have Diabetes_2 with your lifestyle ! Please contact a physician for more information !\n"
     ]
    },
    {
     "name": "stderr",
     "output_type": "stream",
     "text": [
      "C:\\Users\\Ellen\\anaconda3\\lib\\site-packages\\sklearn\\base.py:450: UserWarning: X does not have valid feature names, but LogisticRegression was fitted with feature names\n",
      "  warnings.warn(\n"
     ]
    }
   ],
   "source": [
    "# first example: a PhysicalActivity=1 ,Age=6, BMI=35\n",
    "diabetes_prediction = logreg.predict([[1, 6, 65]])\n",
    "print(diabetes_prediction)\n",
    "\n",
    "if diabetes_prediction == [0.0] :\n",
    "    print(f'Fortunately you have {lookup_diabetes_012[diabetes_prediction[0]]} with your lifestyle ! Go on living this way !')\n",
    "else:\n",
    "    print(f'Unfortunately you have or you will have {lookup_diabetes_012[diabetes_prediction[0]]} with your lifestyle ! Please contact a physician for more information !')"
   ]
  },
  {
   "cell_type": "code",
   "execution_count": 49,
   "metadata": {},
   "outputs": [
    {
     "data": {
      "text/plain": [
       "array([0., 0., 0., 0., 0., 0., 0., 0., 0., 0.])"
      ]
     },
     "execution_count": 49,
     "metadata": {},
     "output_type": "execute_result"
    }
   ],
   "source": [
    "y_pred =  logreg.predict(X_test)\n",
    "y_pred[:10]"
   ]
  },
  {
   "cell_type": "code",
   "execution_count": 50,
   "metadata": {},
   "outputs": [
    {
     "data": {
      "text/plain": [
       "array([0., 0., 0., 0., 2., 0., 0., 0., 2., 0.])"
      ]
     },
     "execution_count": 50,
     "metadata": {},
     "output_type": "execute_result"
    }
   ],
   "source": [
    "np.array(y_test)[:10]"
   ]
  },
  {
   "cell_type": "code",
   "execution_count": 51,
   "metadata": {},
   "outputs": [
    {
     "name": "stdout",
     "output_type": "stream",
     "text": [
      "[[52813     0   472]\n",
      " [ 1107     0    26]\n",
      " [ 8630     0   372]]\n",
      "\n",
      "[[[  398  9737]\n",
      "  [  472 52813]]\n",
      "\n",
      " [[62287     0]\n",
      "  [ 1133     0]]\n",
      "\n",
      " [[53920   498]\n",
      "  [ 8630   372]]]\n"
     ]
    }
   ],
   "source": [
    "from sklearn.metrics import confusion_matrix, multilabel_confusion_matrix, classification_report\n",
    "\n",
    "cm = confusion_matrix(y_test, y_pred)\n",
    "print(cm)\n",
    "print()\n",
    "mcm = multilabel_confusion_matrix(y_test, y_pred)\n",
    "print(mcm)"
   ]
  },
  {
   "cell_type": "code",
   "execution_count": 52,
   "metadata": {},
   "outputs": [
    {
     "data": {
      "text/plain": [
       "array([0., 1., 2.])"
      ]
     },
     "execution_count": 52,
     "metadata": {},
     "output_type": "execute_result"
    }
   ],
   "source": [
    "from sklearn.utils.multiclass import unique_labels\n",
    "unique_labels(y_test)"
   ]
  },
  {
   "cell_type": "code",
   "execution_count": 53,
   "metadata": {},
   "outputs": [
    {
     "data": {
      "text/html": [
       "<div>\n",
       "<style scoped>\n",
       "    .dataframe tbody tr th:only-of-type {\n",
       "        vertical-align: middle;\n",
       "    }\n",
       "\n",
       "    .dataframe tbody tr th {\n",
       "        vertical-align: top;\n",
       "    }\n",
       "\n",
       "    .dataframe thead th {\n",
       "        text-align: right;\n",
       "    }\n",
       "</style>\n",
       "<table border=\"1\" class=\"dataframe\">\n",
       "  <thead>\n",
       "    <tr style=\"text-align: right;\">\n",
       "      <th></th>\n",
       "      <th>Predicted 0.0</th>\n",
       "      <th>Predicted 1.0</th>\n",
       "      <th>Predicted 2.0</th>\n",
       "    </tr>\n",
       "  </thead>\n",
       "  <tbody>\n",
       "    <tr>\n",
       "      <th>Actual 0.0</th>\n",
       "      <td>52813</td>\n",
       "      <td>0</td>\n",
       "      <td>472</td>\n",
       "    </tr>\n",
       "    <tr>\n",
       "      <th>Actual 1.0</th>\n",
       "      <td>1107</td>\n",
       "      <td>0</td>\n",
       "      <td>26</td>\n",
       "    </tr>\n",
       "    <tr>\n",
       "      <th>Actual 2.0</th>\n",
       "      <td>8630</td>\n",
       "      <td>0</td>\n",
       "      <td>372</td>\n",
       "    </tr>\n",
       "  </tbody>\n",
       "</table>\n",
       "</div>"
      ],
      "text/plain": [
       "            Predicted 0.0  Predicted 1.0  Predicted 2.0\n",
       "Actual 0.0          52813              0            472\n",
       "Actual 1.0           1107              0             26\n",
       "Actual 2.0           8630              0            372"
      ]
     },
     "execution_count": 53,
     "metadata": {},
     "output_type": "execute_result"
    }
   ],
   "source": [
    "def plot(y_true, y_predictions):\n",
    "    labels = unique_labels(y_test)\n",
    "    column = [f'Predicted {label}' for label in labels]\n",
    "    indices = [f'Actual {label}' for label in labels]\n",
    "    table = pd.DataFrame(confusion_matrix(y_true, y_predictions), columns = column, index = indices)\n",
    "    \n",
    "    return table\n",
    "\n",
    "plot(y_test, y_pred)"
   ]
  },
  {
   "cell_type": "code",
   "execution_count": 54,
   "metadata": {},
   "outputs": [
    {
     "data": {
      "application/javascript": "/* Put everything inside the global mpl namespace */\n/* global mpl */\nwindow.mpl = {};\n\nmpl.get_websocket_type = function () {\n    if (typeof WebSocket !== 'undefined') {\n        return WebSocket;\n    } else if (typeof MozWebSocket !== 'undefined') {\n        return MozWebSocket;\n    } else {\n        alert(\n            'Your browser does not have WebSocket support. ' +\n                'Please try Chrome, Safari or Firefox ≥ 6. ' +\n                'Firefox 4 and 5 are also supported but you ' +\n                'have to enable WebSockets in about:config.'\n        );\n    }\n};\n\nmpl.figure = function (figure_id, websocket, ondownload, parent_element) {\n    this.id = figure_id;\n\n    this.ws = websocket;\n\n    this.supports_binary = this.ws.binaryType !== undefined;\n\n    if (!this.supports_binary) {\n        var warnings = document.getElementById('mpl-warnings');\n        if (warnings) {\n            warnings.style.display = 'block';\n            warnings.textContent =\n                'This browser does not support binary websocket messages. ' +\n                'Performance may be slow.';\n        }\n    }\n\n    this.imageObj = new Image();\n\n    this.context = undefined;\n    this.message = undefined;\n    this.canvas = undefined;\n    this.rubberband_canvas = undefined;\n    this.rubberband_context = undefined;\n    this.format_dropdown = undefined;\n\n    this.image_mode = 'full';\n\n    this.root = document.createElement('div');\n    this.root.setAttribute('style', 'display: inline-block');\n    this._root_extra_style(this.root);\n\n    parent_element.appendChild(this.root);\n\n    this._init_header(this);\n    this._init_canvas(this);\n    this._init_toolbar(this);\n\n    var fig = this;\n\n    this.waiting = false;\n\n    this.ws.onopen = function () {\n        fig.send_message('supports_binary', { value: fig.supports_binary });\n        fig.send_message('send_image_mode', {});\n        if (fig.ratio !== 1) {\n            fig.send_message('set_device_pixel_ratio', {\n                device_pixel_ratio: fig.ratio,\n            });\n        }\n        fig.send_message('refresh', {});\n    };\n\n    this.imageObj.onload = function () {\n        if (fig.image_mode === 'full') {\n            // Full images could contain transparency (where diff images\n            // almost always do), so we need to clear the canvas so that\n            // there is no ghosting.\n            fig.context.clearRect(0, 0, fig.canvas.width, fig.canvas.height);\n        }\n        fig.context.drawImage(fig.imageObj, 0, 0);\n    };\n\n    this.imageObj.onunload = function () {\n        fig.ws.close();\n    };\n\n    this.ws.onmessage = this._make_on_message_function(this);\n\n    this.ondownload = ondownload;\n};\n\nmpl.figure.prototype._init_header = function () {\n    var titlebar = document.createElement('div');\n    titlebar.classList =\n        'ui-dialog-titlebar ui-widget-header ui-corner-all ui-helper-clearfix';\n    var titletext = document.createElement('div');\n    titletext.classList = 'ui-dialog-title';\n    titletext.setAttribute(\n        'style',\n        'width: 100%; text-align: center; padding: 3px;'\n    );\n    titlebar.appendChild(titletext);\n    this.root.appendChild(titlebar);\n    this.header = titletext;\n};\n\nmpl.figure.prototype._canvas_extra_style = function (_canvas_div) {};\n\nmpl.figure.prototype._root_extra_style = function (_canvas_div) {};\n\nmpl.figure.prototype._init_canvas = function () {\n    var fig = this;\n\n    var canvas_div = (this.canvas_div = document.createElement('div'));\n    canvas_div.setAttribute(\n        'style',\n        'border: 1px solid #ddd;' +\n            'box-sizing: content-box;' +\n            'clear: both;' +\n            'min-height: 1px;' +\n            'min-width: 1px;' +\n            'outline: 0;' +\n            'overflow: hidden;' +\n            'position: relative;' +\n            'resize: both;'\n    );\n\n    function on_keyboard_event_closure(name) {\n        return function (event) {\n            return fig.key_event(event, name);\n        };\n    }\n\n    canvas_div.addEventListener(\n        'keydown',\n        on_keyboard_event_closure('key_press')\n    );\n    canvas_div.addEventListener(\n        'keyup',\n        on_keyboard_event_closure('key_release')\n    );\n\n    this._canvas_extra_style(canvas_div);\n    this.root.appendChild(canvas_div);\n\n    var canvas = (this.canvas = document.createElement('canvas'));\n    canvas.classList.add('mpl-canvas');\n    canvas.setAttribute('style', 'box-sizing: content-box;');\n\n    this.context = canvas.getContext('2d');\n\n    var backingStore =\n        this.context.backingStorePixelRatio ||\n        this.context.webkitBackingStorePixelRatio ||\n        this.context.mozBackingStorePixelRatio ||\n        this.context.msBackingStorePixelRatio ||\n        this.context.oBackingStorePixelRatio ||\n        this.context.backingStorePixelRatio ||\n        1;\n\n    this.ratio = (window.devicePixelRatio || 1) / backingStore;\n\n    var rubberband_canvas = (this.rubberband_canvas = document.createElement(\n        'canvas'\n    ));\n    rubberband_canvas.setAttribute(\n        'style',\n        'box-sizing: content-box; position: absolute; left: 0; top: 0; z-index: 1;'\n    );\n\n    // Apply a ponyfill if ResizeObserver is not implemented by browser.\n    if (this.ResizeObserver === undefined) {\n        if (window.ResizeObserver !== undefined) {\n            this.ResizeObserver = window.ResizeObserver;\n        } else {\n            var obs = _JSXTOOLS_RESIZE_OBSERVER({});\n            this.ResizeObserver = obs.ResizeObserver;\n        }\n    }\n\n    this.resizeObserverInstance = new this.ResizeObserver(function (entries) {\n        var nentries = entries.length;\n        for (var i = 0; i < nentries; i++) {\n            var entry = entries[i];\n            var width, height;\n            if (entry.contentBoxSize) {\n                if (entry.contentBoxSize instanceof Array) {\n                    // Chrome 84 implements new version of spec.\n                    width = entry.contentBoxSize[0].inlineSize;\n                    height = entry.contentBoxSize[0].blockSize;\n                } else {\n                    // Firefox implements old version of spec.\n                    width = entry.contentBoxSize.inlineSize;\n                    height = entry.contentBoxSize.blockSize;\n                }\n            } else {\n                // Chrome <84 implements even older version of spec.\n                width = entry.contentRect.width;\n                height = entry.contentRect.height;\n            }\n\n            // Keep the size of the canvas and rubber band canvas in sync with\n            // the canvas container.\n            if (entry.devicePixelContentBoxSize) {\n                // Chrome 84 implements new version of spec.\n                canvas.setAttribute(\n                    'width',\n                    entry.devicePixelContentBoxSize[0].inlineSize\n                );\n                canvas.setAttribute(\n                    'height',\n                    entry.devicePixelContentBoxSize[0].blockSize\n                );\n            } else {\n                canvas.setAttribute('width', width * fig.ratio);\n                canvas.setAttribute('height', height * fig.ratio);\n            }\n            canvas.setAttribute(\n                'style',\n                'width: ' + width + 'px; height: ' + height + 'px;'\n            );\n\n            rubberband_canvas.setAttribute('width', width);\n            rubberband_canvas.setAttribute('height', height);\n\n            // And update the size in Python. We ignore the initial 0/0 size\n            // that occurs as the element is placed into the DOM, which should\n            // otherwise not happen due to the minimum size styling.\n            if (fig.ws.readyState == 1 && width != 0 && height != 0) {\n                fig.request_resize(width, height);\n            }\n        }\n    });\n    this.resizeObserverInstance.observe(canvas_div);\n\n    function on_mouse_event_closure(name) {\n        return function (event) {\n            return fig.mouse_event(event, name);\n        };\n    }\n\n    rubberband_canvas.addEventListener(\n        'mousedown',\n        on_mouse_event_closure('button_press')\n    );\n    rubberband_canvas.addEventListener(\n        'mouseup',\n        on_mouse_event_closure('button_release')\n    );\n    rubberband_canvas.addEventListener(\n        'dblclick',\n        on_mouse_event_closure('dblclick')\n    );\n    // Throttle sequential mouse events to 1 every 20ms.\n    rubberband_canvas.addEventListener(\n        'mousemove',\n        on_mouse_event_closure('motion_notify')\n    );\n\n    rubberband_canvas.addEventListener(\n        'mouseenter',\n        on_mouse_event_closure('figure_enter')\n    );\n    rubberband_canvas.addEventListener(\n        'mouseleave',\n        on_mouse_event_closure('figure_leave')\n    );\n\n    canvas_div.addEventListener('wheel', function (event) {\n        if (event.deltaY < 0) {\n            event.step = 1;\n        } else {\n            event.step = -1;\n        }\n        on_mouse_event_closure('scroll')(event);\n    });\n\n    canvas_div.appendChild(canvas);\n    canvas_div.appendChild(rubberband_canvas);\n\n    this.rubberband_context = rubberband_canvas.getContext('2d');\n    this.rubberband_context.strokeStyle = '#000000';\n\n    this._resize_canvas = function (width, height, forward) {\n        if (forward) {\n            canvas_div.style.width = width + 'px';\n            canvas_div.style.height = height + 'px';\n        }\n    };\n\n    // Disable right mouse context menu.\n    this.rubberband_canvas.addEventListener('contextmenu', function (_e) {\n        event.preventDefault();\n        return false;\n    });\n\n    function set_focus() {\n        canvas.focus();\n        canvas_div.focus();\n    }\n\n    window.setTimeout(set_focus, 100);\n};\n\nmpl.figure.prototype._init_toolbar = function () {\n    var fig = this;\n\n    var toolbar = document.createElement('div');\n    toolbar.classList = 'mpl-toolbar';\n    this.root.appendChild(toolbar);\n\n    function on_click_closure(name) {\n        return function (_event) {\n            return fig.toolbar_button_onclick(name);\n        };\n    }\n\n    function on_mouseover_closure(tooltip) {\n        return function (event) {\n            if (!event.currentTarget.disabled) {\n                return fig.toolbar_button_onmouseover(tooltip);\n            }\n        };\n    }\n\n    fig.buttons = {};\n    var buttonGroup = document.createElement('div');\n    buttonGroup.classList = 'mpl-button-group';\n    for (var toolbar_ind in mpl.toolbar_items) {\n        var name = mpl.toolbar_items[toolbar_ind][0];\n        var tooltip = mpl.toolbar_items[toolbar_ind][1];\n        var image = mpl.toolbar_items[toolbar_ind][2];\n        var method_name = mpl.toolbar_items[toolbar_ind][3];\n\n        if (!name) {\n            /* Instead of a spacer, we start a new button group. */\n            if (buttonGroup.hasChildNodes()) {\n                toolbar.appendChild(buttonGroup);\n            }\n            buttonGroup = document.createElement('div');\n            buttonGroup.classList = 'mpl-button-group';\n            continue;\n        }\n\n        var button = (fig.buttons[name] = document.createElement('button'));\n        button.classList = 'mpl-widget';\n        button.setAttribute('role', 'button');\n        button.setAttribute('aria-disabled', 'false');\n        button.addEventListener('click', on_click_closure(method_name));\n        button.addEventListener('mouseover', on_mouseover_closure(tooltip));\n\n        var icon_img = document.createElement('img');\n        icon_img.src = '_images/' + image + '.png';\n        icon_img.srcset = '_images/' + image + '_large.png 2x';\n        icon_img.alt = tooltip;\n        button.appendChild(icon_img);\n\n        buttonGroup.appendChild(button);\n    }\n\n    if (buttonGroup.hasChildNodes()) {\n        toolbar.appendChild(buttonGroup);\n    }\n\n    var fmt_picker = document.createElement('select');\n    fmt_picker.classList = 'mpl-widget';\n    toolbar.appendChild(fmt_picker);\n    this.format_dropdown = fmt_picker;\n\n    for (var ind in mpl.extensions) {\n        var fmt = mpl.extensions[ind];\n        var option = document.createElement('option');\n        option.selected = fmt === mpl.default_extension;\n        option.innerHTML = fmt;\n        fmt_picker.appendChild(option);\n    }\n\n    var status_bar = document.createElement('span');\n    status_bar.classList = 'mpl-message';\n    toolbar.appendChild(status_bar);\n    this.message = status_bar;\n};\n\nmpl.figure.prototype.request_resize = function (x_pixels, y_pixels) {\n    // Request matplotlib to resize the figure. Matplotlib will then trigger a resize in the client,\n    // which will in turn request a refresh of the image.\n    this.send_message('resize', { width: x_pixels, height: y_pixels });\n};\n\nmpl.figure.prototype.send_message = function (type, properties) {\n    properties['type'] = type;\n    properties['figure_id'] = this.id;\n    this.ws.send(JSON.stringify(properties));\n};\n\nmpl.figure.prototype.send_draw_message = function () {\n    if (!this.waiting) {\n        this.waiting = true;\n        this.ws.send(JSON.stringify({ type: 'draw', figure_id: this.id }));\n    }\n};\n\nmpl.figure.prototype.handle_save = function (fig, _msg) {\n    var format_dropdown = fig.format_dropdown;\n    var format = format_dropdown.options[format_dropdown.selectedIndex].value;\n    fig.ondownload(fig, format);\n};\n\nmpl.figure.prototype.handle_resize = function (fig, msg) {\n    var size = msg['size'];\n    if (size[0] !== fig.canvas.width || size[1] !== fig.canvas.height) {\n        fig._resize_canvas(size[0], size[1], msg['forward']);\n        fig.send_message('refresh', {});\n    }\n};\n\nmpl.figure.prototype.handle_rubberband = function (fig, msg) {\n    var x0 = msg['x0'] / fig.ratio;\n    var y0 = (fig.canvas.height - msg['y0']) / fig.ratio;\n    var x1 = msg['x1'] / fig.ratio;\n    var y1 = (fig.canvas.height - msg['y1']) / fig.ratio;\n    x0 = Math.floor(x0) + 0.5;\n    y0 = Math.floor(y0) + 0.5;\n    x1 = Math.floor(x1) + 0.5;\n    y1 = Math.floor(y1) + 0.5;\n    var min_x = Math.min(x0, x1);\n    var min_y = Math.min(y0, y1);\n    var width = Math.abs(x1 - x0);\n    var height = Math.abs(y1 - y0);\n\n    fig.rubberband_context.clearRect(\n        0,\n        0,\n        fig.canvas.width / fig.ratio,\n        fig.canvas.height / fig.ratio\n    );\n\n    fig.rubberband_context.strokeRect(min_x, min_y, width, height);\n};\n\nmpl.figure.prototype.handle_figure_label = function (fig, msg) {\n    // Updates the figure title.\n    fig.header.textContent = msg['label'];\n};\n\nmpl.figure.prototype.handle_cursor = function (fig, msg) {\n    fig.rubberband_canvas.style.cursor = msg['cursor'];\n};\n\nmpl.figure.prototype.handle_message = function (fig, msg) {\n    fig.message.textContent = msg['message'];\n};\n\nmpl.figure.prototype.handle_draw = function (fig, _msg) {\n    // Request the server to send over a new figure.\n    fig.send_draw_message();\n};\n\nmpl.figure.prototype.handle_image_mode = function (fig, msg) {\n    fig.image_mode = msg['mode'];\n};\n\nmpl.figure.prototype.handle_history_buttons = function (fig, msg) {\n    for (var key in msg) {\n        if (!(key in fig.buttons)) {\n            continue;\n        }\n        fig.buttons[key].disabled = !msg[key];\n        fig.buttons[key].setAttribute('aria-disabled', !msg[key]);\n    }\n};\n\nmpl.figure.prototype.handle_navigate_mode = function (fig, msg) {\n    if (msg['mode'] === 'PAN') {\n        fig.buttons['Pan'].classList.add('active');\n        fig.buttons['Zoom'].classList.remove('active');\n    } else if (msg['mode'] === 'ZOOM') {\n        fig.buttons['Pan'].classList.remove('active');\n        fig.buttons['Zoom'].classList.add('active');\n    } else {\n        fig.buttons['Pan'].classList.remove('active');\n        fig.buttons['Zoom'].classList.remove('active');\n    }\n};\n\nmpl.figure.prototype.updated_canvas_event = function () {\n    // Called whenever the canvas gets updated.\n    this.send_message('ack', {});\n};\n\n// A function to construct a web socket function for onmessage handling.\n// Called in the figure constructor.\nmpl.figure.prototype._make_on_message_function = function (fig) {\n    return function socket_on_message(evt) {\n        if (evt.data instanceof Blob) {\n            var img = evt.data;\n            if (img.type !== 'image/png') {\n                /* FIXME: We get \"Resource interpreted as Image but\n                 * transferred with MIME type text/plain:\" errors on\n                 * Chrome.  But how to set the MIME type?  It doesn't seem\n                 * to be part of the websocket stream */\n                img.type = 'image/png';\n            }\n\n            /* Free the memory for the previous frames */\n            if (fig.imageObj.src) {\n                (window.URL || window.webkitURL).revokeObjectURL(\n                    fig.imageObj.src\n                );\n            }\n\n            fig.imageObj.src = (window.URL || window.webkitURL).createObjectURL(\n                img\n            );\n            fig.updated_canvas_event();\n            fig.waiting = false;\n            return;\n        } else if (\n            typeof evt.data === 'string' &&\n            evt.data.slice(0, 21) === 'data:image/png;base64'\n        ) {\n            fig.imageObj.src = evt.data;\n            fig.updated_canvas_event();\n            fig.waiting = false;\n            return;\n        }\n\n        var msg = JSON.parse(evt.data);\n        var msg_type = msg['type'];\n\n        // Call the  \"handle_{type}\" callback, which takes\n        // the figure and JSON message as its only arguments.\n        try {\n            var callback = fig['handle_' + msg_type];\n        } catch (e) {\n            console.log(\n                \"No handler for the '\" + msg_type + \"' message type: \",\n                msg\n            );\n            return;\n        }\n\n        if (callback) {\n            try {\n                // console.log(\"Handling '\" + msg_type + \"' message: \", msg);\n                callback(fig, msg);\n            } catch (e) {\n                console.log(\n                    \"Exception inside the 'handler_\" + msg_type + \"' callback:\",\n                    e,\n                    e.stack,\n                    msg\n                );\n            }\n        }\n    };\n};\n\n// from https://stackoverflow.com/questions/1114465/getting-mouse-location-in-canvas\nmpl.findpos = function (e) {\n    //this section is from http://www.quirksmode.org/js/events_properties.html\n    var targ;\n    if (!e) {\n        e = window.event;\n    }\n    if (e.target) {\n        targ = e.target;\n    } else if (e.srcElement) {\n        targ = e.srcElement;\n    }\n    if (targ.nodeType === 3) {\n        // defeat Safari bug\n        targ = targ.parentNode;\n    }\n\n    // pageX,Y are the mouse positions relative to the document\n    var boundingRect = targ.getBoundingClientRect();\n    var x = e.pageX - (boundingRect.left + document.body.scrollLeft);\n    var y = e.pageY - (boundingRect.top + document.body.scrollTop);\n\n    return { x: x, y: y };\n};\n\n/*\n * return a copy of an object with only non-object keys\n * we need this to avoid circular references\n * https://stackoverflow.com/a/24161582/3208463\n */\nfunction simpleKeys(original) {\n    return Object.keys(original).reduce(function (obj, key) {\n        if (typeof original[key] !== 'object') {\n            obj[key] = original[key];\n        }\n        return obj;\n    }, {});\n}\n\nmpl.figure.prototype.mouse_event = function (event, name) {\n    var canvas_pos = mpl.findpos(event);\n\n    if (name === 'button_press') {\n        this.canvas.focus();\n        this.canvas_div.focus();\n    }\n\n    var x = canvas_pos.x * this.ratio;\n    var y = canvas_pos.y * this.ratio;\n\n    this.send_message(name, {\n        x: x,\n        y: y,\n        button: event.button,\n        step: event.step,\n        guiEvent: simpleKeys(event),\n    });\n\n    /* This prevents the web browser from automatically changing to\n     * the text insertion cursor when the button is pressed.  We want\n     * to control all of the cursor setting manually through the\n     * 'cursor' event from matplotlib */\n    event.preventDefault();\n    return false;\n};\n\nmpl.figure.prototype._key_event_extra = function (_event, _name) {\n    // Handle any extra behaviour associated with a key event\n};\n\nmpl.figure.prototype.key_event = function (event, name) {\n    // Prevent repeat events\n    if (name === 'key_press') {\n        if (event.key === this._key) {\n            return;\n        } else {\n            this._key = event.key;\n        }\n    }\n    if (name === 'key_release') {\n        this._key = null;\n    }\n\n    var value = '';\n    if (event.ctrlKey && event.key !== 'Control') {\n        value += 'ctrl+';\n    }\n    else if (event.altKey && event.key !== 'Alt') {\n        value += 'alt+';\n    }\n    else if (event.shiftKey && event.key !== 'Shift') {\n        value += 'shift+';\n    }\n\n    value += 'k' + event.key;\n\n    this._key_event_extra(event, name);\n\n    this.send_message(name, { key: value, guiEvent: simpleKeys(event) });\n    return false;\n};\n\nmpl.figure.prototype.toolbar_button_onclick = function (name) {\n    if (name === 'download') {\n        this.handle_save(this, null);\n    } else {\n        this.send_message('toolbar_button', { name: name });\n    }\n};\n\nmpl.figure.prototype.toolbar_button_onmouseover = function (tooltip) {\n    this.message.textContent = tooltip;\n};\n\n///////////////// REMAINING CONTENT GENERATED BY embed_js.py /////////////////\n// prettier-ignore\nvar _JSXTOOLS_RESIZE_OBSERVER=function(A){var t,i=new WeakMap,n=new WeakMap,a=new WeakMap,r=new WeakMap,o=new Set;function s(e){if(!(this instanceof s))throw new TypeError(\"Constructor requires 'new' operator\");i.set(this,e)}function h(){throw new TypeError(\"Function is not a constructor\")}function c(e,t,i,n){e=0 in arguments?Number(arguments[0]):0,t=1 in arguments?Number(arguments[1]):0,i=2 in arguments?Number(arguments[2]):0,n=3 in arguments?Number(arguments[3]):0,this.right=(this.x=this.left=e)+(this.width=i),this.bottom=(this.y=this.top=t)+(this.height=n),Object.freeze(this)}function d(){t=requestAnimationFrame(d);var s=new WeakMap,p=new Set;o.forEach((function(t){r.get(t).forEach((function(i){var r=t instanceof window.SVGElement,o=a.get(t),d=r?0:parseFloat(o.paddingTop),f=r?0:parseFloat(o.paddingRight),l=r?0:parseFloat(o.paddingBottom),u=r?0:parseFloat(o.paddingLeft),g=r?0:parseFloat(o.borderTopWidth),m=r?0:parseFloat(o.borderRightWidth),w=r?0:parseFloat(o.borderBottomWidth),b=u+f,F=d+l,v=(r?0:parseFloat(o.borderLeftWidth))+m,W=g+w,y=r?0:t.offsetHeight-W-t.clientHeight,E=r?0:t.offsetWidth-v-t.clientWidth,R=b+v,z=F+W,M=r?t.width:parseFloat(o.width)-R-E,O=r?t.height:parseFloat(o.height)-z-y;if(n.has(t)){var k=n.get(t);if(k[0]===M&&k[1]===O)return}n.set(t,[M,O]);var S=Object.create(h.prototype);S.target=t,S.contentRect=new c(u,d,M,O),s.has(i)||(s.set(i,[]),p.add(i)),s.get(i).push(S)}))})),p.forEach((function(e){i.get(e).call(e,s.get(e),e)}))}return s.prototype.observe=function(i){if(i instanceof window.Element){r.has(i)||(r.set(i,new Set),o.add(i),a.set(i,window.getComputedStyle(i)));var n=r.get(i);n.has(this)||n.add(this),cancelAnimationFrame(t),t=requestAnimationFrame(d)}},s.prototype.unobserve=function(i){if(i instanceof window.Element&&r.has(i)){var n=r.get(i);n.has(this)&&(n.delete(this),n.size||(r.delete(i),o.delete(i))),n.size||r.delete(i),o.size||cancelAnimationFrame(t)}},A.DOMRectReadOnly=c,A.ResizeObserver=s,A.ResizeObserverEntry=h,A}; // eslint-disable-line\nmpl.toolbar_items = [[\"Home\", \"Reset original view\", \"fa fa-home icon-home\", \"home\"], [\"Back\", \"Back to previous view\", \"fa fa-arrow-left icon-arrow-left\", \"back\"], [\"Forward\", \"Forward to next view\", \"fa fa-arrow-right icon-arrow-right\", \"forward\"], [\"\", \"\", \"\", \"\"], [\"Pan\", \"Left button pans, Right button zooms\\nx/y fixes axis, CTRL fixes aspect\", \"fa fa-arrows icon-move\", \"pan\"], [\"Zoom\", \"Zoom to rectangle\\nx/y fixes axis\", \"fa fa-square-o icon-check-empty\", \"zoom\"], [\"\", \"\", \"\", \"\"], [\"Download\", \"Download plot\", \"fa fa-floppy-o icon-save\", \"download\"]];\n\nmpl.extensions = [\"eps\", \"jpeg\", \"pgf\", \"pdf\", \"png\", \"ps\", \"raw\", \"svg\", \"tif\"];\n\nmpl.default_extension = \"png\";/* global mpl */\n\nvar comm_websocket_adapter = function (comm) {\n    // Create a \"websocket\"-like object which calls the given IPython comm\n    // object with the appropriate methods. Currently this is a non binary\n    // socket, so there is still some room for performance tuning.\n    var ws = {};\n\n    ws.binaryType = comm.kernel.ws.binaryType;\n    ws.readyState = comm.kernel.ws.readyState;\n    function updateReadyState(_event) {\n        if (comm.kernel.ws) {\n            ws.readyState = comm.kernel.ws.readyState;\n        } else {\n            ws.readyState = 3; // Closed state.\n        }\n    }\n    comm.kernel.ws.addEventListener('open', updateReadyState);\n    comm.kernel.ws.addEventListener('close', updateReadyState);\n    comm.kernel.ws.addEventListener('error', updateReadyState);\n\n    ws.close = function () {\n        comm.close();\n    };\n    ws.send = function (m) {\n        //console.log('sending', m);\n        comm.send(m);\n    };\n    // Register the callback with on_msg.\n    comm.on_msg(function (msg) {\n        //console.log('receiving', msg['content']['data'], msg);\n        var data = msg['content']['data'];\n        if (data['blob'] !== undefined) {\n            data = {\n                data: new Blob(msg['buffers'], { type: data['blob'] }),\n            };\n        }\n        // Pass the mpl event to the overridden (by mpl) onmessage function.\n        ws.onmessage(data);\n    });\n    return ws;\n};\n\nmpl.mpl_figure_comm = function (comm, msg) {\n    // This is the function which gets called when the mpl process\n    // starts-up an IPython Comm through the \"matplotlib\" channel.\n\n    var id = msg.content.data.id;\n    // Get hold of the div created by the display call when the Comm\n    // socket was opened in Python.\n    var element = document.getElementById(id);\n    var ws_proxy = comm_websocket_adapter(comm);\n\n    function ondownload(figure, _format) {\n        window.open(figure.canvas.toDataURL());\n    }\n\n    var fig = new mpl.figure(id, ws_proxy, ondownload, element);\n\n    // Call onopen now - mpl needs it, as it is assuming we've passed it a real\n    // web socket which is closed, not our websocket->open comm proxy.\n    ws_proxy.onopen();\n\n    fig.parent_element = element;\n    fig.cell_info = mpl.find_output_cell(\"<div id='\" + id + \"'></div>\");\n    if (!fig.cell_info) {\n        console.error('Failed to find cell for figure', id, fig);\n        return;\n    }\n    fig.cell_info[0].output_area.element.on(\n        'cleared',\n        { fig: fig },\n        fig._remove_fig_handler\n    );\n};\n\nmpl.figure.prototype.handle_close = function (fig, msg) {\n    var width = fig.canvas.width / fig.ratio;\n    fig.cell_info[0].output_area.element.off(\n        'cleared',\n        fig._remove_fig_handler\n    );\n    fig.resizeObserverInstance.unobserve(fig.canvas_div);\n\n    // Update the output cell to use the data from the current canvas.\n    fig.push_to_output();\n    var dataURL = fig.canvas.toDataURL();\n    // Re-enable the keyboard manager in IPython - without this line, in FF,\n    // the notebook keyboard shortcuts fail.\n    IPython.keyboard_manager.enable();\n    fig.parent_element.innerHTML =\n        '<img src=\"' + dataURL + '\" width=\"' + width + '\">';\n    fig.close_ws(fig, msg);\n};\n\nmpl.figure.prototype.close_ws = function (fig, msg) {\n    fig.send_message('closing', msg);\n    // fig.ws.close()\n};\n\nmpl.figure.prototype.push_to_output = function (_remove_interactive) {\n    // Turn the data on the canvas into data in the output cell.\n    var width = this.canvas.width / this.ratio;\n    var dataURL = this.canvas.toDataURL();\n    this.cell_info[1]['text/html'] =\n        '<img src=\"' + dataURL + '\" width=\"' + width + '\">';\n};\n\nmpl.figure.prototype.updated_canvas_event = function () {\n    // Tell IPython that the notebook contents must change.\n    IPython.notebook.set_dirty(true);\n    this.send_message('ack', {});\n    var fig = this;\n    // Wait a second, then push the new image to the DOM so\n    // that it is saved nicely (might be nice to debounce this).\n    setTimeout(function () {\n        fig.push_to_output();\n    }, 1000);\n};\n\nmpl.figure.prototype._init_toolbar = function () {\n    var fig = this;\n\n    var toolbar = document.createElement('div');\n    toolbar.classList = 'btn-toolbar';\n    this.root.appendChild(toolbar);\n\n    function on_click_closure(name) {\n        return function (_event) {\n            return fig.toolbar_button_onclick(name);\n        };\n    }\n\n    function on_mouseover_closure(tooltip) {\n        return function (event) {\n            if (!event.currentTarget.disabled) {\n                return fig.toolbar_button_onmouseover(tooltip);\n            }\n        };\n    }\n\n    fig.buttons = {};\n    var buttonGroup = document.createElement('div');\n    buttonGroup.classList = 'btn-group';\n    var button;\n    for (var toolbar_ind in mpl.toolbar_items) {\n        var name = mpl.toolbar_items[toolbar_ind][0];\n        var tooltip = mpl.toolbar_items[toolbar_ind][1];\n        var image = mpl.toolbar_items[toolbar_ind][2];\n        var method_name = mpl.toolbar_items[toolbar_ind][3];\n\n        if (!name) {\n            /* Instead of a spacer, we start a new button group. */\n            if (buttonGroup.hasChildNodes()) {\n                toolbar.appendChild(buttonGroup);\n            }\n            buttonGroup = document.createElement('div');\n            buttonGroup.classList = 'btn-group';\n            continue;\n        }\n\n        button = fig.buttons[name] = document.createElement('button');\n        button.classList = 'btn btn-default';\n        button.href = '#';\n        button.title = name;\n        button.innerHTML = '<i class=\"fa ' + image + ' fa-lg\"></i>';\n        button.addEventListener('click', on_click_closure(method_name));\n        button.addEventListener('mouseover', on_mouseover_closure(tooltip));\n        buttonGroup.appendChild(button);\n    }\n\n    if (buttonGroup.hasChildNodes()) {\n        toolbar.appendChild(buttonGroup);\n    }\n\n    // Add the status bar.\n    var status_bar = document.createElement('span');\n    status_bar.classList = 'mpl-message pull-right';\n    toolbar.appendChild(status_bar);\n    this.message = status_bar;\n\n    // Add the close button to the window.\n    var buttongrp = document.createElement('div');\n    buttongrp.classList = 'btn-group inline pull-right';\n    button = document.createElement('button');\n    button.classList = 'btn btn-mini btn-primary';\n    button.href = '#';\n    button.title = 'Stop Interaction';\n    button.innerHTML = '<i class=\"fa fa-power-off icon-remove icon-large\"></i>';\n    button.addEventListener('click', function (_evt) {\n        fig.handle_close(fig, {});\n    });\n    button.addEventListener(\n        'mouseover',\n        on_mouseover_closure('Stop Interaction')\n    );\n    buttongrp.appendChild(button);\n    var titlebar = this.root.querySelector('.ui-dialog-titlebar');\n    titlebar.insertBefore(buttongrp, titlebar.firstChild);\n};\n\nmpl.figure.prototype._remove_fig_handler = function (event) {\n    var fig = event.data.fig;\n    if (event.target !== this) {\n        // Ignore bubbled events from children.\n        return;\n    }\n    fig.close_ws(fig, {});\n};\n\nmpl.figure.prototype._root_extra_style = function (el) {\n    el.style.boxSizing = 'content-box'; // override notebook setting of border-box.\n};\n\nmpl.figure.prototype._canvas_extra_style = function (el) {\n    // this is important to make the div 'focusable\n    el.setAttribute('tabindex', 0);\n    // reach out to IPython and tell the keyboard manager to turn it's self\n    // off when our div gets focus\n\n    // location in version 3\n    if (IPython.notebook.keyboard_manager) {\n        IPython.notebook.keyboard_manager.register_events(el);\n    } else {\n        // location in version 2\n        IPython.keyboard_manager.register_events(el);\n    }\n};\n\nmpl.figure.prototype._key_event_extra = function (event, _name) {\n    // Check for shift+enter\n    if (event.shiftKey && event.which === 13) {\n        this.canvas_div.blur();\n        // select the cell after this one\n        var index = IPython.notebook.find_cell_index(this.cell_info[0]);\n        IPython.notebook.select(index + 1);\n    }\n};\n\nmpl.figure.prototype.handle_save = function (fig, _msg) {\n    fig.ondownload(fig, null);\n};\n\nmpl.find_output_cell = function (html_output) {\n    // Return the cell and output element which can be found *uniquely* in the notebook.\n    // Note - this is a bit hacky, but it is done because the \"notebook_saving.Notebook\"\n    // IPython event is triggered only after the cells have been serialised, which for\n    // our purposes (turning an active figure into a static one), is too late.\n    var cells = IPython.notebook.get_cells();\n    var ncells = cells.length;\n    for (var i = 0; i < ncells; i++) {\n        var cell = cells[i];\n        if (cell.cell_type === 'code') {\n            for (var j = 0; j < cell.output_area.outputs.length; j++) {\n                var data = cell.output_area.outputs[j];\n                if (data.data) {\n                    // IPython >= 3 moved mimebundle to data attribute of output\n                    data = data.data;\n                }\n                if (data['text/html'] === html_output) {\n                    return [cell, data, j];\n                }\n            }\n        }\n    }\n};\n\n// Register the function which deals with the matplotlib target/channel.\n// The kernel may be null if the page has been refreshed.\nif (IPython.notebook.kernel !== null) {\n    IPython.notebook.kernel.comm_manager.register_target(\n        'matplotlib',\n        mpl.mpl_figure_comm\n    );\n}\n",
      "text/plain": [
       "<IPython.core.display.Javascript object>"
      ]
     },
     "metadata": {},
     "output_type": "display_data"
    },
    {
     "data": {
      "text/html": [
       "<img src=\"data:image/png;base64,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\" width=\"640\">"
      ],
      "text/plain": [
       "<IPython.core.display.HTML object>"
      ]
     },
     "metadata": {},
     "output_type": "display_data"
    },
    {
     "data": {
      "text/plain": [
       "<sklearn.metrics._plot.confusion_matrix.ConfusionMatrixDisplay at 0x1a6801d3610>"
      ]
     },
     "execution_count": 54,
     "metadata": {},
     "output_type": "execute_result"
    }
   ],
   "source": [
    "from sklearn.metrics import ConfusionMatrixDisplay\n",
    "\n",
    "# def plot2(y_true, y_predictions):\n",
    "#    labels = unique_labels(y_test)\n",
    "#    column = [f'Predicted {label}' for label in labels]\n",
    "#    indices = [f'Actual {label}' for label in labels]\n",
    "#    table = pd.DataFrame(confusion_matrix(y_true, y_predictions), columns = column, index = indices)\n",
    "    \n",
    "ConfusionMatrixDisplay.from_predictions(y_test, y_pred, cmap='viridis')\n",
    "#plt.show()return sns.heatmap(table, annot=True, fmt='d' , cmap='YlGnBu')\n",
    "\n",
    "#plot2(y_test, y_pred)"
   ]
  },
  {
   "cell_type": "code",
   "execution_count": 55,
   "metadata": {},
   "outputs": [
    {
     "name": "stdout",
     "output_type": "stream",
     "text": [
      "              precision    recall  f1-score   support\n",
      "\n",
      "         0.0       0.84      0.99      0.91     53285\n",
      "         1.0       0.00      0.00      0.00      1133\n",
      "         2.0       0.43      0.04      0.08      9002\n",
      "\n",
      "    accuracy                           0.84     63420\n",
      "   macro avg       0.42      0.34      0.33     63420\n",
      "weighted avg       0.77      0.84      0.78     63420\n",
      "\n"
     ]
    },
    {
     "name": "stderr",
     "output_type": "stream",
     "text": [
      "C:\\Users\\Ellen\\anaconda3\\lib\\site-packages\\sklearn\\metrics\\_classification.py:1318: UndefinedMetricWarning: Precision and F-score are ill-defined and being set to 0.0 in labels with no predicted samples. Use `zero_division` parameter to control this behavior.\n",
      "  _warn_prf(average, modifier, msg_start, len(result))\n",
      "C:\\Users\\Ellen\\anaconda3\\lib\\site-packages\\sklearn\\metrics\\_classification.py:1318: UndefinedMetricWarning: Precision and F-score are ill-defined and being set to 0.0 in labels with no predicted samples. Use `zero_division` parameter to control this behavior.\n",
      "  _warn_prf(average, modifier, msg_start, len(result))\n",
      "C:\\Users\\Ellen\\anaconda3\\lib\\site-packages\\sklearn\\metrics\\_classification.py:1318: UndefinedMetricWarning: Precision and F-score are ill-defined and being set to 0.0 in labels with no predicted samples. Use `zero_division` parameter to control this behavior.\n",
      "  _warn_prf(average, modifier, msg_start, len(result))\n"
     ]
    }
   ],
   "source": [
    "print(classification_report(y_test, y_pred))"
   ]
  },
  {
   "cell_type": "code",
   "execution_count": 56,
   "metadata": {},
   "outputs": [
    {
     "data": {
      "text/plain": [
       "0.8386155786818038"
      ]
     },
     "execution_count": 56,
     "metadata": {},
     "output_type": "execute_result"
    }
   ],
   "source": [
    "from sklearn import metrics \n",
    "\n",
    "accuracy = metrics.accuracy_score(y_test, y_pred)\n",
    "accuracy"
   ]
  },
  {
   "cell_type": "code",
   "execution_count": 57,
   "metadata": {},
   "outputs": [
    {
     "name": "stderr",
     "output_type": "stream",
     "text": [
      "C:\\Users\\Ellen\\anaconda3\\lib\\site-packages\\sklearn\\metrics\\_classification.py:1318: UndefinedMetricWarning: Precision is ill-defined and being set to 0.0 in labels with no predicted samples. Use `zero_division` parameter to control this behavior.\n",
      "  _warn_prf(average, modifier, msg_start, len(result))\n"
     ]
    },
    {
     "data": {
      "text/plain": [
       "array([0.84433253, 0.        , 0.42758621])"
      ]
     },
     "execution_count": 57,
     "metadata": {},
     "output_type": "execute_result"
    }
   ],
   "source": [
    "#precision = tp/(tp+fp)\n",
    "precision = metrics.precision_score(y_test, y_pred, average = None)\n",
    "precision"
   ]
  },
  {
   "cell_type": "code",
   "execution_count": 58,
   "metadata": {},
   "outputs": [
    {
     "data": {
      "text/plain": [
       "array([0.99114197, 0.        , 0.04132415])"
      ]
     },
     "execution_count": 58,
     "metadata": {},
     "output_type": "execute_result"
    }
   ],
   "source": [
    "#recall = tp/(tp+fn)\n",
    "recall_sensitivity = metrics.recall_score(y_test, y_pred, average=None)\n",
    "recall_sensitivity"
   ]
  },
  {
   "cell_type": "code",
   "execution_count": 59,
   "metadata": {},
   "outputs": [
    {
     "data": {
      "text/plain": [
       "array([0.03926986, 0.99114197])"
      ]
     },
     "execution_count": 59,
     "metadata": {},
     "output_type": "execute_result"
    }
   ],
   "source": [
    "#recall(specificity) = tn/(tn+fp)\n",
    "recall_specificity = metrics.recall_score(np.logical_not(y_test), np.logical_not(y_pred), average=None)\n",
    "recall_specificity"
   ]
  },
  {
   "cell_type": "code",
   "execution_count": 60,
   "metadata": {},
   "outputs": [
    {
     "data": {
      "text/plain": [
       "array([0.91186602, 0.        , 0.07536467])"
      ]
     },
     "execution_count": 60,
     "metadata": {},
     "output_type": "execute_result"
    }
   ],
   "source": [
    "#f1_score =  (recall * precision / (recall + precision) * 2)\n",
    "F1_score = metrics.f1_score(y_test, y_pred, average=None)\n",
    "F1_score"
   ]
  },
  {
   "cell_type": "code",
   "execution_count": 61,
   "metadata": {},
   "outputs": [
    {
     "data": {
      "text/plain": [
       "[{'Accuracy :': 0.8386155786818038,\n",
       "  'Precision :': array([0.84433253, 0.        , 0.42758621]),\n",
       "  'Recall-Sensitivity :': array([0.99114197, 0.        , 0.04132415]),\n",
       "  'Recall-Specificity : ': array([0.03926986, 0.99114197]),\n",
       "  'F1-Score : ': array([0.91186602, 0.        , 0.07536467])}]"
      ]
     },
     "execution_count": 61,
     "metadata": {},
     "output_type": "execute_result"
    }
   ],
   "source": [
    "list([{'Accuracy :' : accuracy, 'Precision :' : precision, 'Recall-Sensitivity :' : recall_sensitivity, 'Recall-Specificity : ' : recall_specificity, \n",
    "       'F1-Score : ' : F1_score}])"
   ]
  },
  {
   "cell_type": "markdown",
   "metadata": {},
   "source": [
    "# Decision Tree !"
   ]
  },
  {
   "cell_type": "code",
   "execution_count": 62,
   "metadata": {},
   "outputs": [
    {
     "data": {
      "text/plain": [
       "DecisionTreeClassifier()"
      ]
     },
     "execution_count": 62,
     "metadata": {},
     "output_type": "execute_result"
    }
   ],
   "source": [
    "from sklearn import tree\n",
    "\n",
    "# default is 75% / 25% train-test split\n",
    "X_train, X_test, y_train, y_test = train_test_split(X, y, random_state=0)\n",
    "\n",
    "desctree = tree.DecisionTreeClassifier().fit(X_train, y_train)\n",
    "desctree"
   ]
  },
  {
   "cell_type": "code",
   "execution_count": 63,
   "metadata": {},
   "outputs": [
    {
     "data": {
      "text/plain": [
       "0.8401292967518134"
      ]
     },
     "execution_count": 63,
     "metadata": {},
     "output_type": "execute_result"
    }
   ],
   "source": [
    "desctree.score(X_test, y_test)"
   ]
  },
  {
   "cell_type": "code",
   "execution_count": 64,
   "metadata": {},
   "outputs": [
    {
     "name": "stdout",
     "output_type": "stream",
     "text": [
      "[0.]\n",
      "Fortunately you have Non_Diabetes with your lifestyle ! Go on living this way !\n"
     ]
    },
    {
     "name": "stderr",
     "output_type": "stream",
     "text": [
      "C:\\Users\\Ellen\\anaconda3\\lib\\site-packages\\sklearn\\base.py:450: UserWarning: X does not have valid feature names, but DecisionTreeClassifier was fitted with feature names\n",
      "  warnings.warn(\n"
     ]
    }
   ],
   "source": [
    "# first example: a PhysicalActivity=1 ,Age=6, BMI=35\n",
    "diabetes_prediction = desctree.predict([[1, 6, 65]])\n",
    "print(diabetes_prediction)\n",
    "\n",
    "if diabetes_prediction == [0.0] :\n",
    "    print(f'Fortunately you have {lookup_diabetes_012[diabetes_prediction[0]]} with your lifestyle ! Go on living this way !')\n",
    "else:\n",
    "    print(f'Unfortunately you have or you will have {lookup_diabetes_012[diabetes_prediction[0]]} with your lifestyle ! Please contact a physician for more information !')"
   ]
  },
  {
   "cell_type": "code",
   "execution_count": 65,
   "metadata": {},
   "outputs": [
    {
     "data": {
      "text/plain": [
       "array([0., 0., 0., 0., 0., 0., 0., 0., 0., 0.])"
      ]
     },
     "execution_count": 65,
     "metadata": {},
     "output_type": "execute_result"
    }
   ],
   "source": [
    "y_pred =  desctree.predict(X_test)\n",
    "y_pred[:10]"
   ]
  },
  {
   "cell_type": "code",
   "execution_count": 66,
   "metadata": {},
   "outputs": [
    {
     "data": {
      "text/plain": [
       "array([0., 0., 0., 0., 2., 0., 0., 0., 2., 0.])"
      ]
     },
     "execution_count": 66,
     "metadata": {},
     "output_type": "execute_result"
    }
   ],
   "source": [
    "np.array(y_test)[:10]"
   ]
  },
  {
   "cell_type": "code",
   "execution_count": 67,
   "metadata": {},
   "outputs": [
    {
     "name": "stdout",
     "output_type": "stream",
     "text": [
      "[[53052     4   229]\n",
      " [ 1111     0    22]\n",
      " [ 8773     0   229]]\n",
      "\n",
      "[[[  251  9884]\n",
      "  [  233 53052]]\n",
      "\n",
      " [[62283     4]\n",
      "  [ 1133     0]]\n",
      "\n",
      " [[54167   251]\n",
      "  [ 8773   229]]]\n"
     ]
    }
   ],
   "source": [
    "cm = confusion_matrix(y_test, y_pred)\n",
    "print(cm)\n",
    "print()\n",
    "mcm = multilabel_confusion_matrix(y_test, y_pred)\n",
    "print(mcm)"
   ]
  },
  {
   "cell_type": "code",
   "execution_count": 68,
   "metadata": {},
   "outputs": [
    {
     "data": {
      "text/plain": [
       "array([0., 1., 2.])"
      ]
     },
     "execution_count": 68,
     "metadata": {},
     "output_type": "execute_result"
    }
   ],
   "source": [
    "from sklearn.utils.multiclass import unique_labels\n",
    "unique_labels(y_test)"
   ]
  },
  {
   "cell_type": "code",
   "execution_count": 69,
   "metadata": {},
   "outputs": [
    {
     "data": {
      "text/html": [
       "<div>\n",
       "<style scoped>\n",
       "    .dataframe tbody tr th:only-of-type {\n",
       "        vertical-align: middle;\n",
       "    }\n",
       "\n",
       "    .dataframe tbody tr th {\n",
       "        vertical-align: top;\n",
       "    }\n",
       "\n",
       "    .dataframe thead th {\n",
       "        text-align: right;\n",
       "    }\n",
       "</style>\n",
       "<table border=\"1\" class=\"dataframe\">\n",
       "  <thead>\n",
       "    <tr style=\"text-align: right;\">\n",
       "      <th></th>\n",
       "      <th>Predicted 0.0</th>\n",
       "      <th>Predicted 1.0</th>\n",
       "      <th>Predicted 2.0</th>\n",
       "    </tr>\n",
       "  </thead>\n",
       "  <tbody>\n",
       "    <tr>\n",
       "      <th>Actual 0.0</th>\n",
       "      <td>53052</td>\n",
       "      <td>4</td>\n",
       "      <td>229</td>\n",
       "    </tr>\n",
       "    <tr>\n",
       "      <th>Actual 1.0</th>\n",
       "      <td>1111</td>\n",
       "      <td>0</td>\n",
       "      <td>22</td>\n",
       "    </tr>\n",
       "    <tr>\n",
       "      <th>Actual 2.0</th>\n",
       "      <td>8773</td>\n",
       "      <td>0</td>\n",
       "      <td>229</td>\n",
       "    </tr>\n",
       "  </tbody>\n",
       "</table>\n",
       "</div>"
      ],
      "text/plain": [
       "            Predicted 0.0  Predicted 1.0  Predicted 2.0\n",
       "Actual 0.0          53052              4            229\n",
       "Actual 1.0           1111              0             22\n",
       "Actual 2.0           8773              0            229"
      ]
     },
     "execution_count": 69,
     "metadata": {},
     "output_type": "execute_result"
    }
   ],
   "source": [
    "def plot(y_true, y_predictions):\n",
    "    labels = unique_labels(y_test)\n",
    "    column = [f'Predicted {label}' for label in labels]\n",
    "    indices = [f'Actual {label}' for label in labels]\n",
    "    table = pd.DataFrame(confusion_matrix(y_true, y_predictions), columns = column, index = indices)\n",
    "    \n",
    "    return table\n",
    "\n",
    "plot(y_test, y_pred)"
   ]
  },
  {
   "cell_type": "code",
   "execution_count": 70,
   "metadata": {},
   "outputs": [
    {
     "data": {
      "application/javascript": "/* Put everything inside the global mpl namespace */\n/* global mpl */\nwindow.mpl = {};\n\nmpl.get_websocket_type = function () {\n    if (typeof WebSocket !== 'undefined') {\n        return WebSocket;\n    } else if (typeof MozWebSocket !== 'undefined') {\n        return MozWebSocket;\n    } else {\n        alert(\n            'Your browser does not have WebSocket support. ' +\n                'Please try Chrome, Safari or Firefox ≥ 6. ' +\n                'Firefox 4 and 5 are also supported but you ' +\n                'have to enable WebSockets in about:config.'\n        );\n    }\n};\n\nmpl.figure = function (figure_id, websocket, ondownload, parent_element) {\n    this.id = figure_id;\n\n    this.ws = websocket;\n\n    this.supports_binary = this.ws.binaryType !== undefined;\n\n    if (!this.supports_binary) {\n        var warnings = document.getElementById('mpl-warnings');\n        if (warnings) {\n            warnings.style.display = 'block';\n            warnings.textContent =\n                'This browser does not support binary websocket messages. ' +\n                'Performance may be slow.';\n        }\n    }\n\n    this.imageObj = new Image();\n\n    this.context = undefined;\n    this.message = undefined;\n    this.canvas = undefined;\n    this.rubberband_canvas = undefined;\n    this.rubberband_context = undefined;\n    this.format_dropdown = undefined;\n\n    this.image_mode = 'full';\n\n    this.root = document.createElement('div');\n    this.root.setAttribute('style', 'display: inline-block');\n    this._root_extra_style(this.root);\n\n    parent_element.appendChild(this.root);\n\n    this._init_header(this);\n    this._init_canvas(this);\n    this._init_toolbar(this);\n\n    var fig = this;\n\n    this.waiting = false;\n\n    this.ws.onopen = function () {\n        fig.send_message('supports_binary', { value: fig.supports_binary });\n        fig.send_message('send_image_mode', {});\n        if (fig.ratio !== 1) {\n            fig.send_message('set_device_pixel_ratio', {\n                device_pixel_ratio: fig.ratio,\n            });\n        }\n        fig.send_message('refresh', {});\n    };\n\n    this.imageObj.onload = function () {\n        if (fig.image_mode === 'full') {\n            // Full images could contain transparency (where diff images\n            // almost always do), so we need to clear the canvas so that\n            // there is no ghosting.\n            fig.context.clearRect(0, 0, fig.canvas.width, fig.canvas.height);\n        }\n        fig.context.drawImage(fig.imageObj, 0, 0);\n    };\n\n    this.imageObj.onunload = function () {\n        fig.ws.close();\n    };\n\n    this.ws.onmessage = this._make_on_message_function(this);\n\n    this.ondownload = ondownload;\n};\n\nmpl.figure.prototype._init_header = function () {\n    var titlebar = document.createElement('div');\n    titlebar.classList =\n        'ui-dialog-titlebar ui-widget-header ui-corner-all ui-helper-clearfix';\n    var titletext = document.createElement('div');\n    titletext.classList = 'ui-dialog-title';\n    titletext.setAttribute(\n        'style',\n        'width: 100%; text-align: center; padding: 3px;'\n    );\n    titlebar.appendChild(titletext);\n    this.root.appendChild(titlebar);\n    this.header = titletext;\n};\n\nmpl.figure.prototype._canvas_extra_style = function (_canvas_div) {};\n\nmpl.figure.prototype._root_extra_style = function (_canvas_div) {};\n\nmpl.figure.prototype._init_canvas = function () {\n    var fig = this;\n\n    var canvas_div = (this.canvas_div = document.createElement('div'));\n    canvas_div.setAttribute(\n        'style',\n        'border: 1px solid #ddd;' +\n            'box-sizing: content-box;' +\n            'clear: both;' +\n            'min-height: 1px;' +\n            'min-width: 1px;' +\n            'outline: 0;' +\n            'overflow: hidden;' +\n            'position: relative;' +\n            'resize: both;'\n    );\n\n    function on_keyboard_event_closure(name) {\n        return function (event) {\n            return fig.key_event(event, name);\n        };\n    }\n\n    canvas_div.addEventListener(\n        'keydown',\n        on_keyboard_event_closure('key_press')\n    );\n    canvas_div.addEventListener(\n        'keyup',\n        on_keyboard_event_closure('key_release')\n    );\n\n    this._canvas_extra_style(canvas_div);\n    this.root.appendChild(canvas_div);\n\n    var canvas = (this.canvas = document.createElement('canvas'));\n    canvas.classList.add('mpl-canvas');\n    canvas.setAttribute('style', 'box-sizing: content-box;');\n\n    this.context = canvas.getContext('2d');\n\n    var backingStore =\n        this.context.backingStorePixelRatio ||\n        this.context.webkitBackingStorePixelRatio ||\n        this.context.mozBackingStorePixelRatio ||\n        this.context.msBackingStorePixelRatio ||\n        this.context.oBackingStorePixelRatio ||\n        this.context.backingStorePixelRatio ||\n        1;\n\n    this.ratio = (window.devicePixelRatio || 1) / backingStore;\n\n    var rubberband_canvas = (this.rubberband_canvas = document.createElement(\n        'canvas'\n    ));\n    rubberband_canvas.setAttribute(\n        'style',\n        'box-sizing: content-box; position: absolute; left: 0; top: 0; z-index: 1;'\n    );\n\n    // Apply a ponyfill if ResizeObserver is not implemented by browser.\n    if (this.ResizeObserver === undefined) {\n        if (window.ResizeObserver !== undefined) {\n            this.ResizeObserver = window.ResizeObserver;\n        } else {\n            var obs = _JSXTOOLS_RESIZE_OBSERVER({});\n            this.ResizeObserver = obs.ResizeObserver;\n        }\n    }\n\n    this.resizeObserverInstance = new this.ResizeObserver(function (entries) {\n        var nentries = entries.length;\n        for (var i = 0; i < nentries; i++) {\n            var entry = entries[i];\n            var width, height;\n            if (entry.contentBoxSize) {\n                if (entry.contentBoxSize instanceof Array) {\n                    // Chrome 84 implements new version of spec.\n                    width = entry.contentBoxSize[0].inlineSize;\n                    height = entry.contentBoxSize[0].blockSize;\n                } else {\n                    // Firefox implements old version of spec.\n                    width = entry.contentBoxSize.inlineSize;\n                    height = entry.contentBoxSize.blockSize;\n                }\n            } else {\n                // Chrome <84 implements even older version of spec.\n                width = entry.contentRect.width;\n                height = entry.contentRect.height;\n            }\n\n            // Keep the size of the canvas and rubber band canvas in sync with\n            // the canvas container.\n            if (entry.devicePixelContentBoxSize) {\n                // Chrome 84 implements new version of spec.\n                canvas.setAttribute(\n                    'width',\n                    entry.devicePixelContentBoxSize[0].inlineSize\n                );\n                canvas.setAttribute(\n                    'height',\n                    entry.devicePixelContentBoxSize[0].blockSize\n                );\n            } else {\n                canvas.setAttribute('width', width * fig.ratio);\n                canvas.setAttribute('height', height * fig.ratio);\n            }\n            canvas.setAttribute(\n                'style',\n                'width: ' + width + 'px; height: ' + height + 'px;'\n            );\n\n            rubberband_canvas.setAttribute('width', width);\n            rubberband_canvas.setAttribute('height', height);\n\n            // And update the size in Python. We ignore the initial 0/0 size\n            // that occurs as the element is placed into the DOM, which should\n            // otherwise not happen due to the minimum size styling.\n            if (fig.ws.readyState == 1 && width != 0 && height != 0) {\n                fig.request_resize(width, height);\n            }\n        }\n    });\n    this.resizeObserverInstance.observe(canvas_div);\n\n    function on_mouse_event_closure(name) {\n        return function (event) {\n            return fig.mouse_event(event, name);\n        };\n    }\n\n    rubberband_canvas.addEventListener(\n        'mousedown',\n        on_mouse_event_closure('button_press')\n    );\n    rubberband_canvas.addEventListener(\n        'mouseup',\n        on_mouse_event_closure('button_release')\n    );\n    rubberband_canvas.addEventListener(\n        'dblclick',\n        on_mouse_event_closure('dblclick')\n    );\n    // Throttle sequential mouse events to 1 every 20ms.\n    rubberband_canvas.addEventListener(\n        'mousemove',\n        on_mouse_event_closure('motion_notify')\n    );\n\n    rubberband_canvas.addEventListener(\n        'mouseenter',\n        on_mouse_event_closure('figure_enter')\n    );\n    rubberband_canvas.addEventListener(\n        'mouseleave',\n        on_mouse_event_closure('figure_leave')\n    );\n\n    canvas_div.addEventListener('wheel', function (event) {\n        if (event.deltaY < 0) {\n            event.step = 1;\n        } else {\n            event.step = -1;\n        }\n        on_mouse_event_closure('scroll')(event);\n    });\n\n    canvas_div.appendChild(canvas);\n    canvas_div.appendChild(rubberband_canvas);\n\n    this.rubberband_context = rubberband_canvas.getContext('2d');\n    this.rubberband_context.strokeStyle = '#000000';\n\n    this._resize_canvas = function (width, height, forward) {\n        if (forward) {\n            canvas_div.style.width = width + 'px';\n            canvas_div.style.height = height + 'px';\n        }\n    };\n\n    // Disable right mouse context menu.\n    this.rubberband_canvas.addEventListener('contextmenu', function (_e) {\n        event.preventDefault();\n        return false;\n    });\n\n    function set_focus() {\n        canvas.focus();\n        canvas_div.focus();\n    }\n\n    window.setTimeout(set_focus, 100);\n};\n\nmpl.figure.prototype._init_toolbar = function () {\n    var fig = this;\n\n    var toolbar = document.createElement('div');\n    toolbar.classList = 'mpl-toolbar';\n    this.root.appendChild(toolbar);\n\n    function on_click_closure(name) {\n        return function (_event) {\n            return fig.toolbar_button_onclick(name);\n        };\n    }\n\n    function on_mouseover_closure(tooltip) {\n        return function (event) {\n            if (!event.currentTarget.disabled) {\n                return fig.toolbar_button_onmouseover(tooltip);\n            }\n        };\n    }\n\n    fig.buttons = {};\n    var buttonGroup = document.createElement('div');\n    buttonGroup.classList = 'mpl-button-group';\n    for (var toolbar_ind in mpl.toolbar_items) {\n        var name = mpl.toolbar_items[toolbar_ind][0];\n        var tooltip = mpl.toolbar_items[toolbar_ind][1];\n        var image = mpl.toolbar_items[toolbar_ind][2];\n        var method_name = mpl.toolbar_items[toolbar_ind][3];\n\n        if (!name) {\n            /* Instead of a spacer, we start a new button group. */\n            if (buttonGroup.hasChildNodes()) {\n                toolbar.appendChild(buttonGroup);\n            }\n            buttonGroup = document.createElement('div');\n            buttonGroup.classList = 'mpl-button-group';\n            continue;\n        }\n\n        var button = (fig.buttons[name] = document.createElement('button'));\n        button.classList = 'mpl-widget';\n        button.setAttribute('role', 'button');\n        button.setAttribute('aria-disabled', 'false');\n        button.addEventListener('click', on_click_closure(method_name));\n        button.addEventListener('mouseover', on_mouseover_closure(tooltip));\n\n        var icon_img = document.createElement('img');\n        icon_img.src = '_images/' + image + '.png';\n        icon_img.srcset = '_images/' + image + '_large.png 2x';\n        icon_img.alt = tooltip;\n        button.appendChild(icon_img);\n\n        buttonGroup.appendChild(button);\n    }\n\n    if (buttonGroup.hasChildNodes()) {\n        toolbar.appendChild(buttonGroup);\n    }\n\n    var fmt_picker = document.createElement('select');\n    fmt_picker.classList = 'mpl-widget';\n    toolbar.appendChild(fmt_picker);\n    this.format_dropdown = fmt_picker;\n\n    for (var ind in mpl.extensions) {\n        var fmt = mpl.extensions[ind];\n        var option = document.createElement('option');\n        option.selected = fmt === mpl.default_extension;\n        option.innerHTML = fmt;\n        fmt_picker.appendChild(option);\n    }\n\n    var status_bar = document.createElement('span');\n    status_bar.classList = 'mpl-message';\n    toolbar.appendChild(status_bar);\n    this.message = status_bar;\n};\n\nmpl.figure.prototype.request_resize = function (x_pixels, y_pixels) {\n    // Request matplotlib to resize the figure. Matplotlib will then trigger a resize in the client,\n    // which will in turn request a refresh of the image.\n    this.send_message('resize', { width: x_pixels, height: y_pixels });\n};\n\nmpl.figure.prototype.send_message = function (type, properties) {\n    properties['type'] = type;\n    properties['figure_id'] = this.id;\n    this.ws.send(JSON.stringify(properties));\n};\n\nmpl.figure.prototype.send_draw_message = function () {\n    if (!this.waiting) {\n        this.waiting = true;\n        this.ws.send(JSON.stringify({ type: 'draw', figure_id: this.id }));\n    }\n};\n\nmpl.figure.prototype.handle_save = function (fig, _msg) {\n    var format_dropdown = fig.format_dropdown;\n    var format = format_dropdown.options[format_dropdown.selectedIndex].value;\n    fig.ondownload(fig, format);\n};\n\nmpl.figure.prototype.handle_resize = function (fig, msg) {\n    var size = msg['size'];\n    if (size[0] !== fig.canvas.width || size[1] !== fig.canvas.height) {\n        fig._resize_canvas(size[0], size[1], msg['forward']);\n        fig.send_message('refresh', {});\n    }\n};\n\nmpl.figure.prototype.handle_rubberband = function (fig, msg) {\n    var x0 = msg['x0'] / fig.ratio;\n    var y0 = (fig.canvas.height - msg['y0']) / fig.ratio;\n    var x1 = msg['x1'] / fig.ratio;\n    var y1 = (fig.canvas.height - msg['y1']) / fig.ratio;\n    x0 = Math.floor(x0) + 0.5;\n    y0 = Math.floor(y0) + 0.5;\n    x1 = Math.floor(x1) + 0.5;\n    y1 = Math.floor(y1) + 0.5;\n    var min_x = Math.min(x0, x1);\n    var min_y = Math.min(y0, y1);\n    var width = Math.abs(x1 - x0);\n    var height = Math.abs(y1 - y0);\n\n    fig.rubberband_context.clearRect(\n        0,\n        0,\n        fig.canvas.width / fig.ratio,\n        fig.canvas.height / fig.ratio\n    );\n\n    fig.rubberband_context.strokeRect(min_x, min_y, width, height);\n};\n\nmpl.figure.prototype.handle_figure_label = function (fig, msg) {\n    // Updates the figure title.\n    fig.header.textContent = msg['label'];\n};\n\nmpl.figure.prototype.handle_cursor = function (fig, msg) {\n    fig.rubberband_canvas.style.cursor = msg['cursor'];\n};\n\nmpl.figure.prototype.handle_message = function (fig, msg) {\n    fig.message.textContent = msg['message'];\n};\n\nmpl.figure.prototype.handle_draw = function (fig, _msg) {\n    // Request the server to send over a new figure.\n    fig.send_draw_message();\n};\n\nmpl.figure.prototype.handle_image_mode = function (fig, msg) {\n    fig.image_mode = msg['mode'];\n};\n\nmpl.figure.prototype.handle_history_buttons = function (fig, msg) {\n    for (var key in msg) {\n        if (!(key in fig.buttons)) {\n            continue;\n        }\n        fig.buttons[key].disabled = !msg[key];\n        fig.buttons[key].setAttribute('aria-disabled', !msg[key]);\n    }\n};\n\nmpl.figure.prototype.handle_navigate_mode = function (fig, msg) {\n    if (msg['mode'] === 'PAN') {\n        fig.buttons['Pan'].classList.add('active');\n        fig.buttons['Zoom'].classList.remove('active');\n    } else if (msg['mode'] === 'ZOOM') {\n        fig.buttons['Pan'].classList.remove('active');\n        fig.buttons['Zoom'].classList.add('active');\n    } else {\n        fig.buttons['Pan'].classList.remove('active');\n        fig.buttons['Zoom'].classList.remove('active');\n    }\n};\n\nmpl.figure.prototype.updated_canvas_event = function () {\n    // Called whenever the canvas gets updated.\n    this.send_message('ack', {});\n};\n\n// A function to construct a web socket function for onmessage handling.\n// Called in the figure constructor.\nmpl.figure.prototype._make_on_message_function = function (fig) {\n    return function socket_on_message(evt) {\n        if (evt.data instanceof Blob) {\n            var img = evt.data;\n            if (img.type !== 'image/png') {\n                /* FIXME: We get \"Resource interpreted as Image but\n                 * transferred with MIME type text/plain:\" errors on\n                 * Chrome.  But how to set the MIME type?  It doesn't seem\n                 * to be part of the websocket stream */\n                img.type = 'image/png';\n            }\n\n            /* Free the memory for the previous frames */\n            if (fig.imageObj.src) {\n                (window.URL || window.webkitURL).revokeObjectURL(\n                    fig.imageObj.src\n                );\n            }\n\n            fig.imageObj.src = (window.URL || window.webkitURL).createObjectURL(\n                img\n            );\n            fig.updated_canvas_event();\n            fig.waiting = false;\n            return;\n        } else if (\n            typeof evt.data === 'string' &&\n            evt.data.slice(0, 21) === 'data:image/png;base64'\n        ) {\n            fig.imageObj.src = evt.data;\n            fig.updated_canvas_event();\n            fig.waiting = false;\n            return;\n        }\n\n        var msg = JSON.parse(evt.data);\n        var msg_type = msg['type'];\n\n        // Call the  \"handle_{type}\" callback, which takes\n        // the figure and JSON message as its only arguments.\n        try {\n            var callback = fig['handle_' + msg_type];\n        } catch (e) {\n            console.log(\n                \"No handler for the '\" + msg_type + \"' message type: \",\n                msg\n            );\n            return;\n        }\n\n        if (callback) {\n            try {\n                // console.log(\"Handling '\" + msg_type + \"' message: \", msg);\n                callback(fig, msg);\n            } catch (e) {\n                console.log(\n                    \"Exception inside the 'handler_\" + msg_type + \"' callback:\",\n                    e,\n                    e.stack,\n                    msg\n                );\n            }\n        }\n    };\n};\n\n// from https://stackoverflow.com/questions/1114465/getting-mouse-location-in-canvas\nmpl.findpos = function (e) {\n    //this section is from http://www.quirksmode.org/js/events_properties.html\n    var targ;\n    if (!e) {\n        e = window.event;\n    }\n    if (e.target) {\n        targ = e.target;\n    } else if (e.srcElement) {\n        targ = e.srcElement;\n    }\n    if (targ.nodeType === 3) {\n        // defeat Safari bug\n        targ = targ.parentNode;\n    }\n\n    // pageX,Y are the mouse positions relative to the document\n    var boundingRect = targ.getBoundingClientRect();\n    var x = e.pageX - (boundingRect.left + document.body.scrollLeft);\n    var y = e.pageY - (boundingRect.top + document.body.scrollTop);\n\n    return { x: x, y: y };\n};\n\n/*\n * return a copy of an object with only non-object keys\n * we need this to avoid circular references\n * https://stackoverflow.com/a/24161582/3208463\n */\nfunction simpleKeys(original) {\n    return Object.keys(original).reduce(function (obj, key) {\n        if (typeof original[key] !== 'object') {\n            obj[key] = original[key];\n        }\n        return obj;\n    }, {});\n}\n\nmpl.figure.prototype.mouse_event = function (event, name) {\n    var canvas_pos = mpl.findpos(event);\n\n    if (name === 'button_press') {\n        this.canvas.focus();\n        this.canvas_div.focus();\n    }\n\n    var x = canvas_pos.x * this.ratio;\n    var y = canvas_pos.y * this.ratio;\n\n    this.send_message(name, {\n        x: x,\n        y: y,\n        button: event.button,\n        step: event.step,\n        guiEvent: simpleKeys(event),\n    });\n\n    /* This prevents the web browser from automatically changing to\n     * the text insertion cursor when the button is pressed.  We want\n     * to control all of the cursor setting manually through the\n     * 'cursor' event from matplotlib */\n    event.preventDefault();\n    return false;\n};\n\nmpl.figure.prototype._key_event_extra = function (_event, _name) {\n    // Handle any extra behaviour associated with a key event\n};\n\nmpl.figure.prototype.key_event = function (event, name) {\n    // Prevent repeat events\n    if (name === 'key_press') {\n        if (event.key === this._key) {\n            return;\n        } else {\n            this._key = event.key;\n        }\n    }\n    if (name === 'key_release') {\n        this._key = null;\n    }\n\n    var value = '';\n    if (event.ctrlKey && event.key !== 'Control') {\n        value += 'ctrl+';\n    }\n    else if (event.altKey && event.key !== 'Alt') {\n        value += 'alt+';\n    }\n    else if (event.shiftKey && event.key !== 'Shift') {\n        value += 'shift+';\n    }\n\n    value += 'k' + event.key;\n\n    this._key_event_extra(event, name);\n\n    this.send_message(name, { key: value, guiEvent: simpleKeys(event) });\n    return false;\n};\n\nmpl.figure.prototype.toolbar_button_onclick = function (name) {\n    if (name === 'download') {\n        this.handle_save(this, null);\n    } else {\n        this.send_message('toolbar_button', { name: name });\n    }\n};\n\nmpl.figure.prototype.toolbar_button_onmouseover = function (tooltip) {\n    this.message.textContent = tooltip;\n};\n\n///////////////// REMAINING CONTENT GENERATED BY embed_js.py /////////////////\n// prettier-ignore\nvar _JSXTOOLS_RESIZE_OBSERVER=function(A){var t,i=new WeakMap,n=new WeakMap,a=new WeakMap,r=new WeakMap,o=new Set;function s(e){if(!(this instanceof s))throw new TypeError(\"Constructor requires 'new' operator\");i.set(this,e)}function h(){throw new TypeError(\"Function is not a constructor\")}function c(e,t,i,n){e=0 in arguments?Number(arguments[0]):0,t=1 in arguments?Number(arguments[1]):0,i=2 in arguments?Number(arguments[2]):0,n=3 in arguments?Number(arguments[3]):0,this.right=(this.x=this.left=e)+(this.width=i),this.bottom=(this.y=this.top=t)+(this.height=n),Object.freeze(this)}function d(){t=requestAnimationFrame(d);var s=new WeakMap,p=new Set;o.forEach((function(t){r.get(t).forEach((function(i){var r=t instanceof window.SVGElement,o=a.get(t),d=r?0:parseFloat(o.paddingTop),f=r?0:parseFloat(o.paddingRight),l=r?0:parseFloat(o.paddingBottom),u=r?0:parseFloat(o.paddingLeft),g=r?0:parseFloat(o.borderTopWidth),m=r?0:parseFloat(o.borderRightWidth),w=r?0:parseFloat(o.borderBottomWidth),b=u+f,F=d+l,v=(r?0:parseFloat(o.borderLeftWidth))+m,W=g+w,y=r?0:t.offsetHeight-W-t.clientHeight,E=r?0:t.offsetWidth-v-t.clientWidth,R=b+v,z=F+W,M=r?t.width:parseFloat(o.width)-R-E,O=r?t.height:parseFloat(o.height)-z-y;if(n.has(t)){var k=n.get(t);if(k[0]===M&&k[1]===O)return}n.set(t,[M,O]);var S=Object.create(h.prototype);S.target=t,S.contentRect=new c(u,d,M,O),s.has(i)||(s.set(i,[]),p.add(i)),s.get(i).push(S)}))})),p.forEach((function(e){i.get(e).call(e,s.get(e),e)}))}return s.prototype.observe=function(i){if(i instanceof window.Element){r.has(i)||(r.set(i,new Set),o.add(i),a.set(i,window.getComputedStyle(i)));var n=r.get(i);n.has(this)||n.add(this),cancelAnimationFrame(t),t=requestAnimationFrame(d)}},s.prototype.unobserve=function(i){if(i instanceof window.Element&&r.has(i)){var n=r.get(i);n.has(this)&&(n.delete(this),n.size||(r.delete(i),o.delete(i))),n.size||r.delete(i),o.size||cancelAnimationFrame(t)}},A.DOMRectReadOnly=c,A.ResizeObserver=s,A.ResizeObserverEntry=h,A}; // eslint-disable-line\nmpl.toolbar_items = [[\"Home\", \"Reset original view\", \"fa fa-home icon-home\", \"home\"], [\"Back\", \"Back to previous view\", \"fa fa-arrow-left icon-arrow-left\", \"back\"], [\"Forward\", \"Forward to next view\", \"fa fa-arrow-right icon-arrow-right\", \"forward\"], [\"\", \"\", \"\", \"\"], [\"Pan\", \"Left button pans, Right button zooms\\nx/y fixes axis, CTRL fixes aspect\", \"fa fa-arrows icon-move\", \"pan\"], [\"Zoom\", \"Zoom to rectangle\\nx/y fixes axis\", \"fa fa-square-o icon-check-empty\", \"zoom\"], [\"\", \"\", \"\", \"\"], [\"Download\", \"Download plot\", \"fa fa-floppy-o icon-save\", \"download\"]];\n\nmpl.extensions = [\"eps\", \"jpeg\", \"pgf\", \"pdf\", \"png\", \"ps\", \"raw\", \"svg\", \"tif\"];\n\nmpl.default_extension = \"png\";/* global mpl */\n\nvar comm_websocket_adapter = function (comm) {\n    // Create a \"websocket\"-like object which calls the given IPython comm\n    // object with the appropriate methods. Currently this is a non binary\n    // socket, so there is still some room for performance tuning.\n    var ws = {};\n\n    ws.binaryType = comm.kernel.ws.binaryType;\n    ws.readyState = comm.kernel.ws.readyState;\n    function updateReadyState(_event) {\n        if (comm.kernel.ws) {\n            ws.readyState = comm.kernel.ws.readyState;\n        } else {\n            ws.readyState = 3; // Closed state.\n        }\n    }\n    comm.kernel.ws.addEventListener('open', updateReadyState);\n    comm.kernel.ws.addEventListener('close', updateReadyState);\n    comm.kernel.ws.addEventListener('error', updateReadyState);\n\n    ws.close = function () {\n        comm.close();\n    };\n    ws.send = function (m) {\n        //console.log('sending', m);\n        comm.send(m);\n    };\n    // Register the callback with on_msg.\n    comm.on_msg(function (msg) {\n        //console.log('receiving', msg['content']['data'], msg);\n        var data = msg['content']['data'];\n        if (data['blob'] !== undefined) {\n            data = {\n                data: new Blob(msg['buffers'], { type: data['blob'] }),\n            };\n        }\n        // Pass the mpl event to the overridden (by mpl) onmessage function.\n        ws.onmessage(data);\n    });\n    return ws;\n};\n\nmpl.mpl_figure_comm = function (comm, msg) {\n    // This is the function which gets called when the mpl process\n    // starts-up an IPython Comm through the \"matplotlib\" channel.\n\n    var id = msg.content.data.id;\n    // Get hold of the div created by the display call when the Comm\n    // socket was opened in Python.\n    var element = document.getElementById(id);\n    var ws_proxy = comm_websocket_adapter(comm);\n\n    function ondownload(figure, _format) {\n        window.open(figure.canvas.toDataURL());\n    }\n\n    var fig = new mpl.figure(id, ws_proxy, ondownload, element);\n\n    // Call onopen now - mpl needs it, as it is assuming we've passed it a real\n    // web socket which is closed, not our websocket->open comm proxy.\n    ws_proxy.onopen();\n\n    fig.parent_element = element;\n    fig.cell_info = mpl.find_output_cell(\"<div id='\" + id + \"'></div>\");\n    if (!fig.cell_info) {\n        console.error('Failed to find cell for figure', id, fig);\n        return;\n    }\n    fig.cell_info[0].output_area.element.on(\n        'cleared',\n        { fig: fig },\n        fig._remove_fig_handler\n    );\n};\n\nmpl.figure.prototype.handle_close = function (fig, msg) {\n    var width = fig.canvas.width / fig.ratio;\n    fig.cell_info[0].output_area.element.off(\n        'cleared',\n        fig._remove_fig_handler\n    );\n    fig.resizeObserverInstance.unobserve(fig.canvas_div);\n\n    // Update the output cell to use the data from the current canvas.\n    fig.push_to_output();\n    var dataURL = fig.canvas.toDataURL();\n    // Re-enable the keyboard manager in IPython - without this line, in FF,\n    // the notebook keyboard shortcuts fail.\n    IPython.keyboard_manager.enable();\n    fig.parent_element.innerHTML =\n        '<img src=\"' + dataURL + '\" width=\"' + width + '\">';\n    fig.close_ws(fig, msg);\n};\n\nmpl.figure.prototype.close_ws = function (fig, msg) {\n    fig.send_message('closing', msg);\n    // fig.ws.close()\n};\n\nmpl.figure.prototype.push_to_output = function (_remove_interactive) {\n    // Turn the data on the canvas into data in the output cell.\n    var width = this.canvas.width / this.ratio;\n    var dataURL = this.canvas.toDataURL();\n    this.cell_info[1]['text/html'] =\n        '<img src=\"' + dataURL + '\" width=\"' + width + '\">';\n};\n\nmpl.figure.prototype.updated_canvas_event = function () {\n    // Tell IPython that the notebook contents must change.\n    IPython.notebook.set_dirty(true);\n    this.send_message('ack', {});\n    var fig = this;\n    // Wait a second, then push the new image to the DOM so\n    // that it is saved nicely (might be nice to debounce this).\n    setTimeout(function () {\n        fig.push_to_output();\n    }, 1000);\n};\n\nmpl.figure.prototype._init_toolbar = function () {\n    var fig = this;\n\n    var toolbar = document.createElement('div');\n    toolbar.classList = 'btn-toolbar';\n    this.root.appendChild(toolbar);\n\n    function on_click_closure(name) {\n        return function (_event) {\n            return fig.toolbar_button_onclick(name);\n        };\n    }\n\n    function on_mouseover_closure(tooltip) {\n        return function (event) {\n            if (!event.currentTarget.disabled) {\n                return fig.toolbar_button_onmouseover(tooltip);\n            }\n        };\n    }\n\n    fig.buttons = {};\n    var buttonGroup = document.createElement('div');\n    buttonGroup.classList = 'btn-group';\n    var button;\n    for (var toolbar_ind in mpl.toolbar_items) {\n        var name = mpl.toolbar_items[toolbar_ind][0];\n        var tooltip = mpl.toolbar_items[toolbar_ind][1];\n        var image = mpl.toolbar_items[toolbar_ind][2];\n        var method_name = mpl.toolbar_items[toolbar_ind][3];\n\n        if (!name) {\n            /* Instead of a spacer, we start a new button group. */\n            if (buttonGroup.hasChildNodes()) {\n                toolbar.appendChild(buttonGroup);\n            }\n            buttonGroup = document.createElement('div');\n            buttonGroup.classList = 'btn-group';\n            continue;\n        }\n\n        button = fig.buttons[name] = document.createElement('button');\n        button.classList = 'btn btn-default';\n        button.href = '#';\n        button.title = name;\n        button.innerHTML = '<i class=\"fa ' + image + ' fa-lg\"></i>';\n        button.addEventListener('click', on_click_closure(method_name));\n        button.addEventListener('mouseover', on_mouseover_closure(tooltip));\n        buttonGroup.appendChild(button);\n    }\n\n    if (buttonGroup.hasChildNodes()) {\n        toolbar.appendChild(buttonGroup);\n    }\n\n    // Add the status bar.\n    var status_bar = document.createElement('span');\n    status_bar.classList = 'mpl-message pull-right';\n    toolbar.appendChild(status_bar);\n    this.message = status_bar;\n\n    // Add the close button to the window.\n    var buttongrp = document.createElement('div');\n    buttongrp.classList = 'btn-group inline pull-right';\n    button = document.createElement('button');\n    button.classList = 'btn btn-mini btn-primary';\n    button.href = '#';\n    button.title = 'Stop Interaction';\n    button.innerHTML = '<i class=\"fa fa-power-off icon-remove icon-large\"></i>';\n    button.addEventListener('click', function (_evt) {\n        fig.handle_close(fig, {});\n    });\n    button.addEventListener(\n        'mouseover',\n        on_mouseover_closure('Stop Interaction')\n    );\n    buttongrp.appendChild(button);\n    var titlebar = this.root.querySelector('.ui-dialog-titlebar');\n    titlebar.insertBefore(buttongrp, titlebar.firstChild);\n};\n\nmpl.figure.prototype._remove_fig_handler = function (event) {\n    var fig = event.data.fig;\n    if (event.target !== this) {\n        // Ignore bubbled events from children.\n        return;\n    }\n    fig.close_ws(fig, {});\n};\n\nmpl.figure.prototype._root_extra_style = function (el) {\n    el.style.boxSizing = 'content-box'; // override notebook setting of border-box.\n};\n\nmpl.figure.prototype._canvas_extra_style = function (el) {\n    // this is important to make the div 'focusable\n    el.setAttribute('tabindex', 0);\n    // reach out to IPython and tell the keyboard manager to turn it's self\n    // off when our div gets focus\n\n    // location in version 3\n    if (IPython.notebook.keyboard_manager) {\n        IPython.notebook.keyboard_manager.register_events(el);\n    } else {\n        // location in version 2\n        IPython.keyboard_manager.register_events(el);\n    }\n};\n\nmpl.figure.prototype._key_event_extra = function (event, _name) {\n    // Check for shift+enter\n    if (event.shiftKey && event.which === 13) {\n        this.canvas_div.blur();\n        // select the cell after this one\n        var index = IPython.notebook.find_cell_index(this.cell_info[0]);\n        IPython.notebook.select(index + 1);\n    }\n};\n\nmpl.figure.prototype.handle_save = function (fig, _msg) {\n    fig.ondownload(fig, null);\n};\n\nmpl.find_output_cell = function (html_output) {\n    // Return the cell and output element which can be found *uniquely* in the notebook.\n    // Note - this is a bit hacky, but it is done because the \"notebook_saving.Notebook\"\n    // IPython event is triggered only after the cells have been serialised, which for\n    // our purposes (turning an active figure into a static one), is too late.\n    var cells = IPython.notebook.get_cells();\n    var ncells = cells.length;\n    for (var i = 0; i < ncells; i++) {\n        var cell = cells[i];\n        if (cell.cell_type === 'code') {\n            for (var j = 0; j < cell.output_area.outputs.length; j++) {\n                var data = cell.output_area.outputs[j];\n                if (data.data) {\n                    // IPython >= 3 moved mimebundle to data attribute of output\n                    data = data.data;\n                }\n                if (data['text/html'] === html_output) {\n                    return [cell, data, j];\n                }\n            }\n        }\n    }\n};\n\n// Register the function which deals with the matplotlib target/channel.\n// The kernel may be null if the page has been refreshed.\nif (IPython.notebook.kernel !== null) {\n    IPython.notebook.kernel.comm_manager.register_target(\n        'matplotlib',\n        mpl.mpl_figure_comm\n    );\n}\n",
      "text/plain": [
       "<IPython.core.display.Javascript object>"
      ]
     },
     "metadata": {},
     "output_type": "display_data"
    },
    {
     "data": {
      "text/html": [
       "<img src=\"data:image/png;base64,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\" width=\"640\">"
      ],
      "text/plain": [
       "<IPython.core.display.HTML object>"
      ]
     },
     "metadata": {},
     "output_type": "display_data"
    },
    {
     "data": {
      "text/plain": [
       "<sklearn.metrics._plot.confusion_matrix.ConfusionMatrixDisplay at 0x1a681390910>"
      ]
     },
     "execution_count": 70,
     "metadata": {},
     "output_type": "execute_result"
    }
   ],
   "source": [
    "from sklearn.metrics import ConfusionMatrixDisplay\n",
    "\n",
    "# def plot2(y_true, y_predictions):\n",
    "#    labels = unique_labels(y_test)\n",
    "#    column = [f'Predicted {label}' for label in labels]\n",
    "#    indices = [f'Actual {label}' for label in labels]\n",
    "#    table = pd.DataFrame(confusion_matrix(y_true, y_predictions), columns = column, index = indices)\n",
    "    \n",
    "ConfusionMatrixDisplay.from_predictions(y_test, y_pred, cmap='viridis')\n",
    "#plt.show()return sns.heatmap(table, annot=True, fmt='d' , cmap='YlGnBu')\n",
    "\n",
    "#plot2(y_test, y_pred)"
   ]
  },
  {
   "cell_type": "code",
   "execution_count": 71,
   "metadata": {},
   "outputs": [
    {
     "name": "stdout",
     "output_type": "stream",
     "text": [
      "              precision    recall  f1-score   support\n",
      "\n",
      "         0.0       0.84      1.00      0.91     53285\n",
      "         1.0       0.00      0.00      0.00      1133\n",
      "         2.0       0.48      0.03      0.05      9002\n",
      "\n",
      "    accuracy                           0.84     63420\n",
      "   macro avg       0.44      0.34      0.32     63420\n",
      "weighted avg       0.78      0.84      0.77     63420\n",
      "\n"
     ]
    }
   ],
   "source": [
    "print(classification_report(y_test, y_pred))"
   ]
  },
  {
   "cell_type": "code",
   "execution_count": 72,
   "metadata": {},
   "outputs": [
    {
     "data": {
      "text/plain": [
       "0.8401292967518134"
      ]
     },
     "execution_count": 72,
     "metadata": {},
     "output_type": "execute_result"
    }
   ],
   "source": [
    "accuracy = metrics.accuracy_score(y_test, y_pred)\n",
    "accuracy"
   ]
  },
  {
   "cell_type": "code",
   "execution_count": 73,
   "metadata": {},
   "outputs": [
    {
     "data": {
      "text/plain": [
       "array([0.84295157, 0.        , 0.47708333])"
      ]
     },
     "execution_count": 73,
     "metadata": {},
     "output_type": "execute_result"
    }
   ],
   "source": [
    "#precision = tp/(tp+fp)\n",
    "precision = metrics.precision_score(y_test, y_pred, average = None)\n",
    "precision"
   ]
  },
  {
   "cell_type": "code",
   "execution_count": 74,
   "metadata": {},
   "outputs": [
    {
     "data": {
      "text/plain": [
       "array([0.99562729, 0.        , 0.02543879])"
      ]
     },
     "execution_count": 74,
     "metadata": {},
     "output_type": "execute_result"
    }
   ],
   "source": [
    "#recall = tp/(tp+fn)\n",
    "recall_sensitivity = metrics.recall_score(y_test, y_pred, average=None)\n",
    "recall_sensitivity"
   ]
  },
  {
   "cell_type": "code",
   "execution_count": 75,
   "metadata": {},
   "outputs": [
    {
     "data": {
      "text/plain": [
       "array([0.02476566, 0.99562729])"
      ]
     },
     "execution_count": 75,
     "metadata": {},
     "output_type": "execute_result"
    }
   ],
   "source": [
    "#recall(specificity) = tn/(tn+fp)\n",
    "recall_specificity = metrics.recall_score(np.logical_not(y_test), np.logical_not(y_pred), average=None)\n",
    "recall_specificity"
   ]
  },
  {
   "cell_type": "code",
   "execution_count": 76,
   "metadata": {},
   "outputs": [
    {
     "data": {
      "text/plain": [
       "array([0.91295033, 0.        , 0.04830205])"
      ]
     },
     "execution_count": 76,
     "metadata": {},
     "output_type": "execute_result"
    }
   ],
   "source": [
    "#f1_score =  (recall * precision / (recall + precision) * 2)\n",
    "F1_score = metrics.f1_score(y_test, y_pred, average=None)\n",
    "F1_score"
   ]
  },
  {
   "cell_type": "code",
   "execution_count": 77,
   "metadata": {},
   "outputs": [
    {
     "data": {
      "text/plain": [
       "[{'Accuracy :': 0.8401292967518134,\n",
       "  'Precision :': array([0.84295157, 0.        , 0.47708333]),\n",
       "  'Recall-Sensitivity :': array([0.99562729, 0.        , 0.02543879]),\n",
       "  'Recall-Specificity : ': array([0.02476566, 0.99562729]),\n",
       "  'F1-Score : ': array([0.91295033, 0.        , 0.04830205])}]"
      ]
     },
     "execution_count": 77,
     "metadata": {},
     "output_type": "execute_result"
    }
   ],
   "source": [
    "list([{'Accuracy :' : accuracy, 'Precision :' : precision, 'Recall-Sensitivity :' : recall_sensitivity, 'Recall-Specificity : ' : recall_specificity, \n",
    "       'F1-Score : ' : F1_score}])"
   ]
  },
  {
   "cell_type": "code",
   "execution_count": null,
   "metadata": {},
   "outputs": [],
   "source": [
    "# Random Forest !"
   ]
  },
  {
   "cell_type": "code",
   "execution_count": 66,
   "metadata": {},
   "outputs": [],
   "source": [
    "X = df[['Smoker', 'PhysActivity', 'Age', 'BMI', 'Stroke', 'HeartDiseaseorAttack']]\n",
    "y = df['Diabetes_012']\n"
   ]
  },
  {
   "cell_type": "code",
   "execution_count": 73,
   "metadata": {},
   "outputs": [
    {
     "data": {
      "text/plain": [
       "RandomForestClassifier(n_estimators=58)"
      ]
     },
     "execution_count": 73,
     "metadata": {},
     "output_type": "execute_result"
    }
   ],
   "source": [
    "from sklearn.ensemble import RandomForestClassifier\n",
    "# default is 75% / 25% train-test split\n",
    "X_train, X_test, y_train, y_test = train_test_split(X, y, random_state=0)\n",
    "\n",
    "randomfc = RandomForestClassifier(n_estimators=58)\n",
    "randomfc.fit(X_train, y_train)\n",
    "randomfc"
   ]
  },
  {
   "cell_type": "code",
   "execution_count": 74,
   "metadata": {},
   "outputs": [
    {
     "data": {
      "text/plain": [
       "0.8387890255439925"
      ]
     },
     "execution_count": 74,
     "metadata": {},
     "output_type": "execute_result"
    }
   ],
   "source": [
    "randomfc.score(X_test, y_test)"
   ]
  },
  {
   "cell_type": "code",
   "execution_count": 84,
   "metadata": {},
   "outputs": [
    {
     "name": "stdout",
     "output_type": "stream",
     "text": [
      "[2.]\n",
      "Unfortunately you have or you will have Diabetes_2 with your lifestyle ! Please contact a physician for more information !\n"
     ]
    },
    {
     "name": "stderr",
     "output_type": "stream",
     "text": [
      "c:\\Users\\Ellen\\anaconda3\\lib\\site-packages\\sklearn\\base.py:450: UserWarning: X does not have valid feature names, but RandomForestClassifier was fitted with feature names\n",
      "  warnings.warn(\n"
     ]
    }
   ],
   "source": [
    "# first example: a Smoker=1, PhysicalActivity=1 ,Age=6, BMI=65, Stroke=1, HeartDiseaseAttack=1\n",
    "diabetes_prediction = randomfc.predict([[1.0, 1.0, 6.0, 65.0, 1.0, 1.0]])\n",
    "print(diabetes_prediction)\n",
    "\n",
    "if diabetes_prediction == [0.0] :\n",
    "    print(f'Fortunately you have {lookup_diabetes_012[diabetes_prediction[0]]} with your lifestyle ! Go on living this way !')\n",
    "else:\n",
    "    print(f'Unfortunately you have or you will have {lookup_diabetes_012[diabetes_prediction[0]]} with your lifestyle ! Please contact a physician for more information !')"
   ]
  },
  {
   "cell_type": "code",
   "execution_count": 85,
   "metadata": {},
   "outputs": [
    {
     "data": {
      "text/plain": [
       "array([0., 0., 0., 0., 0., 0., 0., 0., 0., 0.])"
      ]
     },
     "execution_count": 85,
     "metadata": {},
     "output_type": "execute_result"
    }
   ],
   "source": [
    "y_pred =  randomfc.predict(X_test)\n",
    "y_pred[:10]"
   ]
  },
  {
   "cell_type": "code",
   "execution_count": 86,
   "metadata": {},
   "outputs": [
    {
     "data": {
      "text/plain": [
       "array([0., 0., 0., 0., 2., 0., 0., 0., 2., 0.])"
      ]
     },
     "execution_count": 86,
     "metadata": {},
     "output_type": "execute_result"
    }
   ],
   "source": [
    "np.array(y_test)[:10]"
   ]
  },
  {
   "cell_type": "code",
   "execution_count": 87,
   "metadata": {},
   "outputs": [
    {
     "name": "stdout",
     "output_type": "stream",
     "text": [
      "[[52379    21   885]\n",
      " [ 1077     1    55]\n",
      " [ 8172    14   816]]\n",
      "\n",
      "[[[  886  9249]\n",
      "  [  906 52379]]\n",
      "\n",
      " [[62252    35]\n",
      "  [ 1132     1]]\n",
      "\n",
      " [[53478   940]\n",
      "  [ 8186   816]]]\n"
     ]
    }
   ],
   "source": [
    "from sklearn.metrics import confusion_matrix, multilabel_confusion_matrix, classification_report\n",
    "\n",
    "cm = confusion_matrix(y_test, y_pred)\n",
    "print(cm)\n",
    "print()\n",
    "mcm = multilabel_confusion_matrix(y_test, y_pred)\n",
    "print(mcm)"
   ]
  },
  {
   "cell_type": "code",
   "execution_count": 89,
   "metadata": {},
   "outputs": [
    {
     "data": {
      "text/plain": [
       "array([0., 1., 2.])"
      ]
     },
     "execution_count": 89,
     "metadata": {},
     "output_type": "execute_result"
    }
   ],
   "source": [
    "from sklearn.utils.multiclass import unique_labels\n",
    "unique_labels(y_test)"
   ]
  },
  {
   "cell_type": "code",
   "execution_count": 90,
   "metadata": {},
   "outputs": [
    {
     "data": {
      "text/html": [
       "<div>\n",
       "<style scoped>\n",
       "    .dataframe tbody tr th:only-of-type {\n",
       "        vertical-align: middle;\n",
       "    }\n",
       "\n",
       "    .dataframe tbody tr th {\n",
       "        vertical-align: top;\n",
       "    }\n",
       "\n",
       "    .dataframe thead th {\n",
       "        text-align: right;\n",
       "    }\n",
       "</style>\n",
       "<table border=\"1\" class=\"dataframe\">\n",
       "  <thead>\n",
       "    <tr style=\"text-align: right;\">\n",
       "      <th></th>\n",
       "      <th>Predicted 0.0</th>\n",
       "      <th>Predicted 1.0</th>\n",
       "      <th>Predicted 2.0</th>\n",
       "    </tr>\n",
       "  </thead>\n",
       "  <tbody>\n",
       "    <tr>\n",
       "      <th>Actual 0.0</th>\n",
       "      <td>52379</td>\n",
       "      <td>21</td>\n",
       "      <td>885</td>\n",
       "    </tr>\n",
       "    <tr>\n",
       "      <th>Actual 1.0</th>\n",
       "      <td>1077</td>\n",
       "      <td>1</td>\n",
       "      <td>55</td>\n",
       "    </tr>\n",
       "    <tr>\n",
       "      <th>Actual 2.0</th>\n",
       "      <td>8172</td>\n",
       "      <td>14</td>\n",
       "      <td>816</td>\n",
       "    </tr>\n",
       "  </tbody>\n",
       "</table>\n",
       "</div>"
      ],
      "text/plain": [
       "            Predicted 0.0  Predicted 1.0  Predicted 2.0\n",
       "Actual 0.0          52379             21            885\n",
       "Actual 1.0           1077              1             55\n",
       "Actual 2.0           8172             14            816"
      ]
     },
     "execution_count": 90,
     "metadata": {},
     "output_type": "execute_result"
    }
   ],
   "source": [
    "def plot(y_true, y_predictions):\n",
    "    labels = unique_labels(y_test)\n",
    "    column = [f'Predicted {label}' for label in labels]\n",
    "    indices = [f'Actual {label}' for label in labels]\n",
    "    table = pd.DataFrame(confusion_matrix(y_true, y_predictions), columns = column, index = indices)\n",
    "    \n",
    "    return table\n",
    "\n",
    "plot(y_test, y_pred)"
   ]
  },
  {
   "cell_type": "code",
   "execution_count": 95,
   "metadata": {},
   "outputs": [
    {
     "data": {
      "application/javascript": "/* Put everything inside the global mpl namespace */\n/* global mpl */\nwindow.mpl = {};\n\nmpl.get_websocket_type = function () {\n    if (typeof WebSocket !== 'undefined') {\n        return WebSocket;\n    } else if (typeof MozWebSocket !== 'undefined') {\n        return MozWebSocket;\n    } else {\n        alert(\n            'Your browser does not have WebSocket support. ' +\n                'Please try Chrome, Safari or Firefox ≥ 6. ' +\n                'Firefox 4 and 5 are also supported but you ' +\n                'have to enable WebSockets in about:config.'\n        );\n    }\n};\n\nmpl.figure = function (figure_id, websocket, ondownload, parent_element) {\n    this.id = figure_id;\n\n    this.ws = websocket;\n\n    this.supports_binary = this.ws.binaryType !== undefined;\n\n    if (!this.supports_binary) {\n        var warnings = document.getElementById('mpl-warnings');\n        if (warnings) {\n            warnings.style.display = 'block';\n            warnings.textContent =\n                'This browser does not support binary websocket messages. ' +\n                'Performance may be slow.';\n        }\n    }\n\n    this.imageObj = new Image();\n\n    this.context = undefined;\n    this.message = undefined;\n    this.canvas = undefined;\n    this.rubberband_canvas = undefined;\n    this.rubberband_context = undefined;\n    this.format_dropdown = undefined;\n\n    this.image_mode = 'full';\n\n    this.root = document.createElement('div');\n    this.root.setAttribute('style', 'display: inline-block');\n    this._root_extra_style(this.root);\n\n    parent_element.appendChild(this.root);\n\n    this._init_header(this);\n    this._init_canvas(this);\n    this._init_toolbar(this);\n\n    var fig = this;\n\n    this.waiting = false;\n\n    this.ws.onopen = function () {\n        fig.send_message('supports_binary', { value: fig.supports_binary });\n        fig.send_message('send_image_mode', {});\n        if (fig.ratio !== 1) {\n            fig.send_message('set_device_pixel_ratio', {\n                device_pixel_ratio: fig.ratio,\n            });\n        }\n        fig.send_message('refresh', {});\n    };\n\n    this.imageObj.onload = function () {\n        if (fig.image_mode === 'full') {\n            // Full images could contain transparency (where diff images\n            // almost always do), so we need to clear the canvas so that\n            // there is no ghosting.\n            fig.context.clearRect(0, 0, fig.canvas.width, fig.canvas.height);\n        }\n        fig.context.drawImage(fig.imageObj, 0, 0);\n    };\n\n    this.imageObj.onunload = function () {\n        fig.ws.close();\n    };\n\n    this.ws.onmessage = this._make_on_message_function(this);\n\n    this.ondownload = ondownload;\n};\n\nmpl.figure.prototype._init_header = function () {\n    var titlebar = document.createElement('div');\n    titlebar.classList =\n        'ui-dialog-titlebar ui-widget-header ui-corner-all ui-helper-clearfix';\n    var titletext = document.createElement('div');\n    titletext.classList = 'ui-dialog-title';\n    titletext.setAttribute(\n        'style',\n        'width: 100%; text-align: center; padding: 3px;'\n    );\n    titlebar.appendChild(titletext);\n    this.root.appendChild(titlebar);\n    this.header = titletext;\n};\n\nmpl.figure.prototype._canvas_extra_style = function (_canvas_div) {};\n\nmpl.figure.prototype._root_extra_style = function (_canvas_div) {};\n\nmpl.figure.prototype._init_canvas = function () {\n    var fig = this;\n\n    var canvas_div = (this.canvas_div = document.createElement('div'));\n    canvas_div.setAttribute(\n        'style',\n        'border: 1px solid #ddd;' +\n            'box-sizing: content-box;' +\n            'clear: both;' +\n            'min-height: 1px;' +\n            'min-width: 1px;' +\n            'outline: 0;' +\n            'overflow: hidden;' +\n            'position: relative;' +\n            'resize: both;'\n    );\n\n    function on_keyboard_event_closure(name) {\n        return function (event) {\n            return fig.key_event(event, name);\n        };\n    }\n\n    canvas_div.addEventListener(\n        'keydown',\n        on_keyboard_event_closure('key_press')\n    );\n    canvas_div.addEventListener(\n        'keyup',\n        on_keyboard_event_closure('key_release')\n    );\n\n    this._canvas_extra_style(canvas_div);\n    this.root.appendChild(canvas_div);\n\n    var canvas = (this.canvas = document.createElement('canvas'));\n    canvas.classList.add('mpl-canvas');\n    canvas.setAttribute('style', 'box-sizing: content-box;');\n\n    this.context = canvas.getContext('2d');\n\n    var backingStore =\n        this.context.backingStorePixelRatio ||\n        this.context.webkitBackingStorePixelRatio ||\n        this.context.mozBackingStorePixelRatio ||\n        this.context.msBackingStorePixelRatio ||\n        this.context.oBackingStorePixelRatio ||\n        this.context.backingStorePixelRatio ||\n        1;\n\n    this.ratio = (window.devicePixelRatio || 1) / backingStore;\n\n    var rubberband_canvas = (this.rubberband_canvas = document.createElement(\n        'canvas'\n    ));\n    rubberband_canvas.setAttribute(\n        'style',\n        'box-sizing: content-box; position: absolute; left: 0; top: 0; z-index: 1;'\n    );\n\n    // Apply a ponyfill if ResizeObserver is not implemented by browser.\n    if (this.ResizeObserver === undefined) {\n        if (window.ResizeObserver !== undefined) {\n            this.ResizeObserver = window.ResizeObserver;\n        } else {\n            var obs = _JSXTOOLS_RESIZE_OBSERVER({});\n            this.ResizeObserver = obs.ResizeObserver;\n        }\n    }\n\n    this.resizeObserverInstance = new this.ResizeObserver(function (entries) {\n        var nentries = entries.length;\n        for (var i = 0; i < nentries; i++) {\n            var entry = entries[i];\n            var width, height;\n            if (entry.contentBoxSize) {\n                if (entry.contentBoxSize instanceof Array) {\n                    // Chrome 84 implements new version of spec.\n                    width = entry.contentBoxSize[0].inlineSize;\n                    height = entry.contentBoxSize[0].blockSize;\n                } else {\n                    // Firefox implements old version of spec.\n                    width = entry.contentBoxSize.inlineSize;\n                    height = entry.contentBoxSize.blockSize;\n                }\n            } else {\n                // Chrome <84 implements even older version of spec.\n                width = entry.contentRect.width;\n                height = entry.contentRect.height;\n            }\n\n            // Keep the size of the canvas and rubber band canvas in sync with\n            // the canvas container.\n            if (entry.devicePixelContentBoxSize) {\n                // Chrome 84 implements new version of spec.\n                canvas.setAttribute(\n                    'width',\n                    entry.devicePixelContentBoxSize[0].inlineSize\n                );\n                canvas.setAttribute(\n                    'height',\n                    entry.devicePixelContentBoxSize[0].blockSize\n                );\n            } else {\n                canvas.setAttribute('width', width * fig.ratio);\n                canvas.setAttribute('height', height * fig.ratio);\n            }\n            canvas.setAttribute(\n                'style',\n                'width: ' + width + 'px; height: ' + height + 'px;'\n            );\n\n            rubberband_canvas.setAttribute('width', width);\n            rubberband_canvas.setAttribute('height', height);\n\n            // And update the size in Python. We ignore the initial 0/0 size\n            // that occurs as the element is placed into the DOM, which should\n            // otherwise not happen due to the minimum size styling.\n            if (fig.ws.readyState == 1 && width != 0 && height != 0) {\n                fig.request_resize(width, height);\n            }\n        }\n    });\n    this.resizeObserverInstance.observe(canvas_div);\n\n    function on_mouse_event_closure(name) {\n        return function (event) {\n            return fig.mouse_event(event, name);\n        };\n    }\n\n    rubberband_canvas.addEventListener(\n        'mousedown',\n        on_mouse_event_closure('button_press')\n    );\n    rubberband_canvas.addEventListener(\n        'mouseup',\n        on_mouse_event_closure('button_release')\n    );\n    rubberband_canvas.addEventListener(\n        'dblclick',\n        on_mouse_event_closure('dblclick')\n    );\n    // Throttle sequential mouse events to 1 every 20ms.\n    rubberband_canvas.addEventListener(\n        'mousemove',\n        on_mouse_event_closure('motion_notify')\n    );\n\n    rubberband_canvas.addEventListener(\n        'mouseenter',\n        on_mouse_event_closure('figure_enter')\n    );\n    rubberband_canvas.addEventListener(\n        'mouseleave',\n        on_mouse_event_closure('figure_leave')\n    );\n\n    canvas_div.addEventListener('wheel', function (event) {\n        if (event.deltaY < 0) {\n            event.step = 1;\n        } else {\n            event.step = -1;\n        }\n        on_mouse_event_closure('scroll')(event);\n    });\n\n    canvas_div.appendChild(canvas);\n    canvas_div.appendChild(rubberband_canvas);\n\n    this.rubberband_context = rubberband_canvas.getContext('2d');\n    this.rubberband_context.strokeStyle = '#000000';\n\n    this._resize_canvas = function (width, height, forward) {\n        if (forward) {\n            canvas_div.style.width = width + 'px';\n            canvas_div.style.height = height + 'px';\n        }\n    };\n\n    // Disable right mouse context menu.\n    this.rubberband_canvas.addEventListener('contextmenu', function (_e) {\n        event.preventDefault();\n        return false;\n    });\n\n    function set_focus() {\n        canvas.focus();\n        canvas_div.focus();\n    }\n\n    window.setTimeout(set_focus, 100);\n};\n\nmpl.figure.prototype._init_toolbar = function () {\n    var fig = this;\n\n    var toolbar = document.createElement('div');\n    toolbar.classList = 'mpl-toolbar';\n    this.root.appendChild(toolbar);\n\n    function on_click_closure(name) {\n        return function (_event) {\n            return fig.toolbar_button_onclick(name);\n        };\n    }\n\n    function on_mouseover_closure(tooltip) {\n        return function (event) {\n            if (!event.currentTarget.disabled) {\n                return fig.toolbar_button_onmouseover(tooltip);\n            }\n        };\n    }\n\n    fig.buttons = {};\n    var buttonGroup = document.createElement('div');\n    buttonGroup.classList = 'mpl-button-group';\n    for (var toolbar_ind in mpl.toolbar_items) {\n        var name = mpl.toolbar_items[toolbar_ind][0];\n        var tooltip = mpl.toolbar_items[toolbar_ind][1];\n        var image = mpl.toolbar_items[toolbar_ind][2];\n        var method_name = mpl.toolbar_items[toolbar_ind][3];\n\n        if (!name) {\n            /* Instead of a spacer, we start a new button group. */\n            if (buttonGroup.hasChildNodes()) {\n                toolbar.appendChild(buttonGroup);\n            }\n            buttonGroup = document.createElement('div');\n            buttonGroup.classList = 'mpl-button-group';\n            continue;\n        }\n\n        var button = (fig.buttons[name] = document.createElement('button'));\n        button.classList = 'mpl-widget';\n        button.setAttribute('role', 'button');\n        button.setAttribute('aria-disabled', 'false');\n        button.addEventListener('click', on_click_closure(method_name));\n        button.addEventListener('mouseover', on_mouseover_closure(tooltip));\n\n        var icon_img = document.createElement('img');\n        icon_img.src = '_images/' + image + '.png';\n        icon_img.srcset = '_images/' + image + '_large.png 2x';\n        icon_img.alt = tooltip;\n        button.appendChild(icon_img);\n\n        buttonGroup.appendChild(button);\n    }\n\n    if (buttonGroup.hasChildNodes()) {\n        toolbar.appendChild(buttonGroup);\n    }\n\n    var fmt_picker = document.createElement('select');\n    fmt_picker.classList = 'mpl-widget';\n    toolbar.appendChild(fmt_picker);\n    this.format_dropdown = fmt_picker;\n\n    for (var ind in mpl.extensions) {\n        var fmt = mpl.extensions[ind];\n        var option = document.createElement('option');\n        option.selected = fmt === mpl.default_extension;\n        option.innerHTML = fmt;\n        fmt_picker.appendChild(option);\n    }\n\n    var status_bar = document.createElement('span');\n    status_bar.classList = 'mpl-message';\n    toolbar.appendChild(status_bar);\n    this.message = status_bar;\n};\n\nmpl.figure.prototype.request_resize = function (x_pixels, y_pixels) {\n    // Request matplotlib to resize the figure. Matplotlib will then trigger a resize in the client,\n    // which will in turn request a refresh of the image.\n    this.send_message('resize', { width: x_pixels, height: y_pixels });\n};\n\nmpl.figure.prototype.send_message = function (type, properties) {\n    properties['type'] = type;\n    properties['figure_id'] = this.id;\n    this.ws.send(JSON.stringify(properties));\n};\n\nmpl.figure.prototype.send_draw_message = function () {\n    if (!this.waiting) {\n        this.waiting = true;\n        this.ws.send(JSON.stringify({ type: 'draw', figure_id: this.id }));\n    }\n};\n\nmpl.figure.prototype.handle_save = function (fig, _msg) {\n    var format_dropdown = fig.format_dropdown;\n    var format = format_dropdown.options[format_dropdown.selectedIndex].value;\n    fig.ondownload(fig, format);\n};\n\nmpl.figure.prototype.handle_resize = function (fig, msg) {\n    var size = msg['size'];\n    if (size[0] !== fig.canvas.width || size[1] !== fig.canvas.height) {\n        fig._resize_canvas(size[0], size[1], msg['forward']);\n        fig.send_message('refresh', {});\n    }\n};\n\nmpl.figure.prototype.handle_rubberband = function (fig, msg) {\n    var x0 = msg['x0'] / fig.ratio;\n    var y0 = (fig.canvas.height - msg['y0']) / fig.ratio;\n    var x1 = msg['x1'] / fig.ratio;\n    var y1 = (fig.canvas.height - msg['y1']) / fig.ratio;\n    x0 = Math.floor(x0) + 0.5;\n    y0 = Math.floor(y0) + 0.5;\n    x1 = Math.floor(x1) + 0.5;\n    y1 = Math.floor(y1) + 0.5;\n    var min_x = Math.min(x0, x1);\n    var min_y = Math.min(y0, y1);\n    var width = Math.abs(x1 - x0);\n    var height = Math.abs(y1 - y0);\n\n    fig.rubberband_context.clearRect(\n        0,\n        0,\n        fig.canvas.width / fig.ratio,\n        fig.canvas.height / fig.ratio\n    );\n\n    fig.rubberband_context.strokeRect(min_x, min_y, width, height);\n};\n\nmpl.figure.prototype.handle_figure_label = function (fig, msg) {\n    // Updates the figure title.\n    fig.header.textContent = msg['label'];\n};\n\nmpl.figure.prototype.handle_cursor = function (fig, msg) {\n    fig.rubberband_canvas.style.cursor = msg['cursor'];\n};\n\nmpl.figure.prototype.handle_message = function (fig, msg) {\n    fig.message.textContent = msg['message'];\n};\n\nmpl.figure.prototype.handle_draw = function (fig, _msg) {\n    // Request the server to send over a new figure.\n    fig.send_draw_message();\n};\n\nmpl.figure.prototype.handle_image_mode = function (fig, msg) {\n    fig.image_mode = msg['mode'];\n};\n\nmpl.figure.prototype.handle_history_buttons = function (fig, msg) {\n    for (var key in msg) {\n        if (!(key in fig.buttons)) {\n            continue;\n        }\n        fig.buttons[key].disabled = !msg[key];\n        fig.buttons[key].setAttribute('aria-disabled', !msg[key]);\n    }\n};\n\nmpl.figure.prototype.handle_navigate_mode = function (fig, msg) {\n    if (msg['mode'] === 'PAN') {\n        fig.buttons['Pan'].classList.add('active');\n        fig.buttons['Zoom'].classList.remove('active');\n    } else if (msg['mode'] === 'ZOOM') {\n        fig.buttons['Pan'].classList.remove('active');\n        fig.buttons['Zoom'].classList.add('active');\n    } else {\n        fig.buttons['Pan'].classList.remove('active');\n        fig.buttons['Zoom'].classList.remove('active');\n    }\n};\n\nmpl.figure.prototype.updated_canvas_event = function () {\n    // Called whenever the canvas gets updated.\n    this.send_message('ack', {});\n};\n\n// A function to construct a web socket function for onmessage handling.\n// Called in the figure constructor.\nmpl.figure.prototype._make_on_message_function = function (fig) {\n    return function socket_on_message(evt) {\n        if (evt.data instanceof Blob) {\n            var img = evt.data;\n            if (img.type !== 'image/png') {\n                /* FIXME: We get \"Resource interpreted as Image but\n                 * transferred with MIME type text/plain:\" errors on\n                 * Chrome.  But how to set the MIME type?  It doesn't seem\n                 * to be part of the websocket stream */\n                img.type = 'image/png';\n            }\n\n            /* Free the memory for the previous frames */\n            if (fig.imageObj.src) {\n                (window.URL || window.webkitURL).revokeObjectURL(\n                    fig.imageObj.src\n                );\n            }\n\n            fig.imageObj.src = (window.URL || window.webkitURL).createObjectURL(\n                img\n            );\n            fig.updated_canvas_event();\n            fig.waiting = false;\n            return;\n        } else if (\n            typeof evt.data === 'string' &&\n            evt.data.slice(0, 21) === 'data:image/png;base64'\n        ) {\n            fig.imageObj.src = evt.data;\n            fig.updated_canvas_event();\n            fig.waiting = false;\n            return;\n        }\n\n        var msg = JSON.parse(evt.data);\n        var msg_type = msg['type'];\n\n        // Call the  \"handle_{type}\" callback, which takes\n        // the figure and JSON message as its only arguments.\n        try {\n            var callback = fig['handle_' + msg_type];\n        } catch (e) {\n            console.log(\n                \"No handler for the '\" + msg_type + \"' message type: \",\n                msg\n            );\n            return;\n        }\n\n        if (callback) {\n            try {\n                // console.log(\"Handling '\" + msg_type + \"' message: \", msg);\n                callback(fig, msg);\n            } catch (e) {\n                console.log(\n                    \"Exception inside the 'handler_\" + msg_type + \"' callback:\",\n                    e,\n                    e.stack,\n                    msg\n                );\n            }\n        }\n    };\n};\n\n// from https://stackoverflow.com/questions/1114465/getting-mouse-location-in-canvas\nmpl.findpos = function (e) {\n    //this section is from http://www.quirksmode.org/js/events_properties.html\n    var targ;\n    if (!e) {\n        e = window.event;\n    }\n    if (e.target) {\n        targ = e.target;\n    } else if (e.srcElement) {\n        targ = e.srcElement;\n    }\n    if (targ.nodeType === 3) {\n        // defeat Safari bug\n        targ = targ.parentNode;\n    }\n\n    // pageX,Y are the mouse positions relative to the document\n    var boundingRect = targ.getBoundingClientRect();\n    var x = e.pageX - (boundingRect.left + document.body.scrollLeft);\n    var y = e.pageY - (boundingRect.top + document.body.scrollTop);\n\n    return { x: x, y: y };\n};\n\n/*\n * return a copy of an object with only non-object keys\n * we need this to avoid circular references\n * https://stackoverflow.com/a/24161582/3208463\n */\nfunction simpleKeys(original) {\n    return Object.keys(original).reduce(function (obj, key) {\n        if (typeof original[key] !== 'object') {\n            obj[key] = original[key];\n        }\n        return obj;\n    }, {});\n}\n\nmpl.figure.prototype.mouse_event = function (event, name) {\n    var canvas_pos = mpl.findpos(event);\n\n    if (name === 'button_press') {\n        this.canvas.focus();\n        this.canvas_div.focus();\n    }\n\n    var x = canvas_pos.x * this.ratio;\n    var y = canvas_pos.y * this.ratio;\n\n    this.send_message(name, {\n        x: x,\n        y: y,\n        button: event.button,\n        step: event.step,\n        guiEvent: simpleKeys(event),\n    });\n\n    /* This prevents the web browser from automatically changing to\n     * the text insertion cursor when the button is pressed.  We want\n     * to control all of the cursor setting manually through the\n     * 'cursor' event from matplotlib */\n    event.preventDefault();\n    return false;\n};\n\nmpl.figure.prototype._key_event_extra = function (_event, _name) {\n    // Handle any extra behaviour associated with a key event\n};\n\nmpl.figure.prototype.key_event = function (event, name) {\n    // Prevent repeat events\n    if (name === 'key_press') {\n        if (event.key === this._key) {\n            return;\n        } else {\n            this._key = event.key;\n        }\n    }\n    if (name === 'key_release') {\n        this._key = null;\n    }\n\n    var value = '';\n    if (event.ctrlKey && event.key !== 'Control') {\n        value += 'ctrl+';\n    }\n    else if (event.altKey && event.key !== 'Alt') {\n        value += 'alt+';\n    }\n    else if (event.shiftKey && event.key !== 'Shift') {\n        value += 'shift+';\n    }\n\n    value += 'k' + event.key;\n\n    this._key_event_extra(event, name);\n\n    this.send_message(name, { key: value, guiEvent: simpleKeys(event) });\n    return false;\n};\n\nmpl.figure.prototype.toolbar_button_onclick = function (name) {\n    if (name === 'download') {\n        this.handle_save(this, null);\n    } else {\n        this.send_message('toolbar_button', { name: name });\n    }\n};\n\nmpl.figure.prototype.toolbar_button_onmouseover = function (tooltip) {\n    this.message.textContent = tooltip;\n};\n\n///////////////// REMAINING CONTENT GENERATED BY embed_js.py /////////////////\n// prettier-ignore\nvar _JSXTOOLS_RESIZE_OBSERVER=function(A){var t,i=new WeakMap,n=new WeakMap,a=new WeakMap,r=new WeakMap,o=new Set;function s(e){if(!(this instanceof s))throw new TypeError(\"Constructor requires 'new' operator\");i.set(this,e)}function h(){throw new TypeError(\"Function is not a constructor\")}function c(e,t,i,n){e=0 in arguments?Number(arguments[0]):0,t=1 in arguments?Number(arguments[1]):0,i=2 in arguments?Number(arguments[2]):0,n=3 in arguments?Number(arguments[3]):0,this.right=(this.x=this.left=e)+(this.width=i),this.bottom=(this.y=this.top=t)+(this.height=n),Object.freeze(this)}function d(){t=requestAnimationFrame(d);var s=new WeakMap,p=new Set;o.forEach((function(t){r.get(t).forEach((function(i){var r=t instanceof window.SVGElement,o=a.get(t),d=r?0:parseFloat(o.paddingTop),f=r?0:parseFloat(o.paddingRight),l=r?0:parseFloat(o.paddingBottom),u=r?0:parseFloat(o.paddingLeft),g=r?0:parseFloat(o.borderTopWidth),m=r?0:parseFloat(o.borderRightWidth),w=r?0:parseFloat(o.borderBottomWidth),b=u+f,F=d+l,v=(r?0:parseFloat(o.borderLeftWidth))+m,W=g+w,y=r?0:t.offsetHeight-W-t.clientHeight,E=r?0:t.offsetWidth-v-t.clientWidth,R=b+v,z=F+W,M=r?t.width:parseFloat(o.width)-R-E,O=r?t.height:parseFloat(o.height)-z-y;if(n.has(t)){var k=n.get(t);if(k[0]===M&&k[1]===O)return}n.set(t,[M,O]);var S=Object.create(h.prototype);S.target=t,S.contentRect=new c(u,d,M,O),s.has(i)||(s.set(i,[]),p.add(i)),s.get(i).push(S)}))})),p.forEach((function(e){i.get(e).call(e,s.get(e),e)}))}return s.prototype.observe=function(i){if(i instanceof window.Element){r.has(i)||(r.set(i,new Set),o.add(i),a.set(i,window.getComputedStyle(i)));var n=r.get(i);n.has(this)||n.add(this),cancelAnimationFrame(t),t=requestAnimationFrame(d)}},s.prototype.unobserve=function(i){if(i instanceof window.Element&&r.has(i)){var n=r.get(i);n.has(this)&&(n.delete(this),n.size||(r.delete(i),o.delete(i))),n.size||r.delete(i),o.size||cancelAnimationFrame(t)}},A.DOMRectReadOnly=c,A.ResizeObserver=s,A.ResizeObserverEntry=h,A}; // eslint-disable-line\nmpl.toolbar_items = [[\"Home\", \"Reset original view\", \"fa fa-home icon-home\", \"home\"], [\"Back\", \"Back to previous view\", \"fa fa-arrow-left icon-arrow-left\", \"back\"], [\"Forward\", \"Forward to next view\", \"fa fa-arrow-right icon-arrow-right\", \"forward\"], [\"\", \"\", \"\", \"\"], [\"Pan\", \"Left button pans, Right button zooms\\nx/y fixes axis, CTRL fixes aspect\", \"fa fa-arrows icon-move\", \"pan\"], [\"Zoom\", \"Zoom to rectangle\\nx/y fixes axis\", \"fa fa-square-o icon-check-empty\", \"zoom\"], [\"\", \"\", \"\", \"\"], [\"Download\", \"Download plot\", \"fa fa-floppy-o icon-save\", \"download\"]];\n\nmpl.extensions = [\"eps\", \"jpeg\", \"pgf\", \"pdf\", \"png\", \"ps\", \"raw\", \"svg\", \"tif\"];\n\nmpl.default_extension = \"png\";/* global mpl */\n\nvar comm_websocket_adapter = function (comm) {\n    // Create a \"websocket\"-like object which calls the given IPython comm\n    // object with the appropriate methods. Currently this is a non binary\n    // socket, so there is still some room for performance tuning.\n    var ws = {};\n\n    ws.binaryType = comm.kernel.ws.binaryType;\n    ws.readyState = comm.kernel.ws.readyState;\n    function updateReadyState(_event) {\n        if (comm.kernel.ws) {\n            ws.readyState = comm.kernel.ws.readyState;\n        } else {\n            ws.readyState = 3; // Closed state.\n        }\n    }\n    comm.kernel.ws.addEventListener('open', updateReadyState);\n    comm.kernel.ws.addEventListener('close', updateReadyState);\n    comm.kernel.ws.addEventListener('error', updateReadyState);\n\n    ws.close = function () {\n        comm.close();\n    };\n    ws.send = function (m) {\n        //console.log('sending', m);\n        comm.send(m);\n    };\n    // Register the callback with on_msg.\n    comm.on_msg(function (msg) {\n        //console.log('receiving', msg['content']['data'], msg);\n        var data = msg['content']['data'];\n        if (data['blob'] !== undefined) {\n            data = {\n                data: new Blob(msg['buffers'], { type: data['blob'] }),\n            };\n        }\n        // Pass the mpl event to the overridden (by mpl) onmessage function.\n        ws.onmessage(data);\n    });\n    return ws;\n};\n\nmpl.mpl_figure_comm = function (comm, msg) {\n    // This is the function which gets called when the mpl process\n    // starts-up an IPython Comm through the \"matplotlib\" channel.\n\n    var id = msg.content.data.id;\n    // Get hold of the div created by the display call when the Comm\n    // socket was opened in Python.\n    var element = document.getElementById(id);\n    var ws_proxy = comm_websocket_adapter(comm);\n\n    function ondownload(figure, _format) {\n        window.open(figure.canvas.toDataURL());\n    }\n\n    var fig = new mpl.figure(id, ws_proxy, ondownload, element);\n\n    // Call onopen now - mpl needs it, as it is assuming we've passed it a real\n    // web socket which is closed, not our websocket->open comm proxy.\n    ws_proxy.onopen();\n\n    fig.parent_element = element;\n    fig.cell_info = mpl.find_output_cell(\"<div id='\" + id + \"'></div>\");\n    if (!fig.cell_info) {\n        console.error('Failed to find cell for figure', id, fig);\n        return;\n    }\n    fig.cell_info[0].output_area.element.on(\n        'cleared',\n        { fig: fig },\n        fig._remove_fig_handler\n    );\n};\n\nmpl.figure.prototype.handle_close = function (fig, msg) {\n    var width = fig.canvas.width / fig.ratio;\n    fig.cell_info[0].output_area.element.off(\n        'cleared',\n        fig._remove_fig_handler\n    );\n    fig.resizeObserverInstance.unobserve(fig.canvas_div);\n\n    // Update the output cell to use the data from the current canvas.\n    fig.push_to_output();\n    var dataURL = fig.canvas.toDataURL();\n    // Re-enable the keyboard manager in IPython - without this line, in FF,\n    // the notebook keyboard shortcuts fail.\n    IPython.keyboard_manager.enable();\n    fig.parent_element.innerHTML =\n        '<img src=\"' + dataURL + '\" width=\"' + width + '\">';\n    fig.close_ws(fig, msg);\n};\n\nmpl.figure.prototype.close_ws = function (fig, msg) {\n    fig.send_message('closing', msg);\n    // fig.ws.close()\n};\n\nmpl.figure.prototype.push_to_output = function (_remove_interactive) {\n    // Turn the data on the canvas into data in the output cell.\n    var width = this.canvas.width / this.ratio;\n    var dataURL = this.canvas.toDataURL();\n    this.cell_info[1]['text/html'] =\n        '<img src=\"' + dataURL + '\" width=\"' + width + '\">';\n};\n\nmpl.figure.prototype.updated_canvas_event = function () {\n    // Tell IPython that the notebook contents must change.\n    IPython.notebook.set_dirty(true);\n    this.send_message('ack', {});\n    var fig = this;\n    // Wait a second, then push the new image to the DOM so\n    // that it is saved nicely (might be nice to debounce this).\n    setTimeout(function () {\n        fig.push_to_output();\n    }, 1000);\n};\n\nmpl.figure.prototype._init_toolbar = function () {\n    var fig = this;\n\n    var toolbar = document.createElement('div');\n    toolbar.classList = 'btn-toolbar';\n    this.root.appendChild(toolbar);\n\n    function on_click_closure(name) {\n        return function (_event) {\n            return fig.toolbar_button_onclick(name);\n        };\n    }\n\n    function on_mouseover_closure(tooltip) {\n        return function (event) {\n            if (!event.currentTarget.disabled) {\n                return fig.toolbar_button_onmouseover(tooltip);\n            }\n        };\n    }\n\n    fig.buttons = {};\n    var buttonGroup = document.createElement('div');\n    buttonGroup.classList = 'btn-group';\n    var button;\n    for (var toolbar_ind in mpl.toolbar_items) {\n        var name = mpl.toolbar_items[toolbar_ind][0];\n        var tooltip = mpl.toolbar_items[toolbar_ind][1];\n        var image = mpl.toolbar_items[toolbar_ind][2];\n        var method_name = mpl.toolbar_items[toolbar_ind][3];\n\n        if (!name) {\n            /* Instead of a spacer, we start a new button group. */\n            if (buttonGroup.hasChildNodes()) {\n                toolbar.appendChild(buttonGroup);\n            }\n            buttonGroup = document.createElement('div');\n            buttonGroup.classList = 'btn-group';\n            continue;\n        }\n\n        button = fig.buttons[name] = document.createElement('button');\n        button.classList = 'btn btn-default';\n        button.href = '#';\n        button.title = name;\n        button.innerHTML = '<i class=\"fa ' + image + ' fa-lg\"></i>';\n        button.addEventListener('click', on_click_closure(method_name));\n        button.addEventListener('mouseover', on_mouseover_closure(tooltip));\n        buttonGroup.appendChild(button);\n    }\n\n    if (buttonGroup.hasChildNodes()) {\n        toolbar.appendChild(buttonGroup);\n    }\n\n    // Add the status bar.\n    var status_bar = document.createElement('span');\n    status_bar.classList = 'mpl-message pull-right';\n    toolbar.appendChild(status_bar);\n    this.message = status_bar;\n\n    // Add the close button to the window.\n    var buttongrp = document.createElement('div');\n    buttongrp.classList = 'btn-group inline pull-right';\n    button = document.createElement('button');\n    button.classList = 'btn btn-mini btn-primary';\n    button.href = '#';\n    button.title = 'Stop Interaction';\n    button.innerHTML = '<i class=\"fa fa-power-off icon-remove icon-large\"></i>';\n    button.addEventListener('click', function (_evt) {\n        fig.handle_close(fig, {});\n    });\n    button.addEventListener(\n        'mouseover',\n        on_mouseover_closure('Stop Interaction')\n    );\n    buttongrp.appendChild(button);\n    var titlebar = this.root.querySelector('.ui-dialog-titlebar');\n    titlebar.insertBefore(buttongrp, titlebar.firstChild);\n};\n\nmpl.figure.prototype._remove_fig_handler = function (event) {\n    var fig = event.data.fig;\n    if (event.target !== this) {\n        // Ignore bubbled events from children.\n        return;\n    }\n    fig.close_ws(fig, {});\n};\n\nmpl.figure.prototype._root_extra_style = function (el) {\n    el.style.boxSizing = 'content-box'; // override notebook setting of border-box.\n};\n\nmpl.figure.prototype._canvas_extra_style = function (el) {\n    // this is important to make the div 'focusable\n    el.setAttribute('tabindex', 0);\n    // reach out to IPython and tell the keyboard manager to turn it's self\n    // off when our div gets focus\n\n    // location in version 3\n    if (IPython.notebook.keyboard_manager) {\n        IPython.notebook.keyboard_manager.register_events(el);\n    } else {\n        // location in version 2\n        IPython.keyboard_manager.register_events(el);\n    }\n};\n\nmpl.figure.prototype._key_event_extra = function (event, _name) {\n    // Check for shift+enter\n    if (event.shiftKey && event.which === 13) {\n        this.canvas_div.blur();\n        // select the cell after this one\n        var index = IPython.notebook.find_cell_index(this.cell_info[0]);\n        IPython.notebook.select(index + 1);\n    }\n};\n\nmpl.figure.prototype.handle_save = function (fig, _msg) {\n    fig.ondownload(fig, null);\n};\n\nmpl.find_output_cell = function (html_output) {\n    // Return the cell and output element which can be found *uniquely* in the notebook.\n    // Note - this is a bit hacky, but it is done because the \"notebook_saving.Notebook\"\n    // IPython event is triggered only after the cells have been serialised, which for\n    // our purposes (turning an active figure into a static one), is too late.\n    var cells = IPython.notebook.get_cells();\n    var ncells = cells.length;\n    for (var i = 0; i < ncells; i++) {\n        var cell = cells[i];\n        if (cell.cell_type === 'code') {\n            for (var j = 0; j < cell.output_area.outputs.length; j++) {\n                var data = cell.output_area.outputs[j];\n                if (data.data) {\n                    // IPython >= 3 moved mimebundle to data attribute of output\n                    data = data.data;\n                }\n                if (data['text/html'] === html_output) {\n                    return [cell, data, j];\n                }\n            }\n        }\n    }\n};\n\n// Register the function which deals with the matplotlib target/channel.\n// The kernel may be null if the page has been refreshed.\nif (IPython.notebook.kernel !== null) {\n    IPython.notebook.kernel.comm_manager.register_target(\n        'matplotlib',\n        mpl.mpl_figure_comm\n    );\n}\n",
      "text/plain": [
       "<IPython.core.display.Javascript object>"
      ]
     },
     "metadata": {},
     "output_type": "display_data"
    },
    {
     "data": {
      "text/html": [
       "<div id='673bda15-0322-4b39-ac88-b4b886077205'></div>"
      ],
      "text/plain": [
       "<IPython.core.display.HTML object>"
      ]
     },
     "metadata": {},
     "output_type": "display_data"
    },
    {
     "data": {
      "text/plain": [
       "<sklearn.metrics._plot.confusion_matrix.ConfusionMatrixDisplay at 0x1d686458880>"
      ]
     },
     "execution_count": 95,
     "metadata": {},
     "output_type": "execute_result"
    }
   ],
   "source": [
    "from sklearn.metrics import ConfusionMatrixDisplay\n",
    "\n",
    "# def plot2(y_true, y_predictions):\n",
    "#    labels = unique_labels(y_test)\n",
    "#    column = [f'Predicted {label}' for label in labels]\n",
    "#    indices = [f'Actual {label}' for label in labels]\n",
    "#    table = pd.DataFrame(confusion_matrix(y_true, y_predictions), columns = column, index = indices)\n",
    "    \n",
    "ConfusionMatrixDisplay.from_predictions(y_test, y_pred, cmap='viridis')\n",
    "#plt.show()return sns.heatmap(table, annot=True, fmt='d' , cmap='YlGnBu')\n",
    "\n",
    "#plot2(y_test, y_pred)"
   ]
  },
  {
   "cell_type": "code",
   "execution_count": 96,
   "metadata": {},
   "outputs": [
    {
     "name": "stdout",
     "output_type": "stream",
     "text": [
      "              precision    recall  f1-score   support\n",
      "\n",
      "         0.0       0.85      0.98      0.91     53285\n",
      "         1.0       0.03      0.00      0.00      1133\n",
      "         2.0       0.46      0.09      0.15      9002\n",
      "\n",
      "    accuracy                           0.84     63420\n",
      "   macro avg       0.45      0.36      0.36     63420\n",
      "weighted avg       0.78      0.84      0.79     63420\n",
      "\n"
     ]
    }
   ],
   "source": [
    "print(classification_report(y_test, y_pred))"
   ]
  },
  {
   "cell_type": "code",
   "execution_count": 97,
   "metadata": {},
   "outputs": [
    {
     "data": {
      "text/plain": [
       "0.8387890255439925"
      ]
     },
     "execution_count": 97,
     "metadata": {},
     "output_type": "execute_result"
    }
   ],
   "source": [
    "from sklearn import metrics \n",
    "\n",
    "accuracy = metrics.accuracy_score(y_test, y_pred)\n",
    "accuracy"
   ]
  },
  {
   "cell_type": "code",
   "execution_count": 98,
   "metadata": {},
   "outputs": [
    {
     "data": {
      "text/plain": [
       "array([0.84992211, 0.02777778, 0.46469248])"
      ]
     },
     "execution_count": 98,
     "metadata": {},
     "output_type": "execute_result"
    }
   ],
   "source": [
    "#precision = tp/(tp+fp)\n",
    "precision = metrics.precision_score(y_test, y_pred, average = None)\n",
    "precision"
   ]
  },
  {
   "cell_type": "code",
   "execution_count": 99,
   "metadata": {},
   "outputs": [
    {
     "data": {
      "text/plain": [
       "array([9.82997091e-01, 8.82612533e-04, 9.06465230e-02])"
      ]
     },
     "execution_count": 99,
     "metadata": {},
     "output_type": "execute_result"
    }
   ],
   "source": [
    "#recall = tp/(tp+fn)\n",
    "recall_sensitivity = metrics.recall_score(y_test, y_pred, average=None)\n",
    "recall_sensitivity"
   ]
  },
  {
   "cell_type": "code",
   "execution_count": 100,
   "metadata": {},
   "outputs": [
    {
     "data": {
      "text/plain": [
       "array([0.08741983, 0.98299709])"
      ]
     },
     "execution_count": 100,
     "metadata": {},
     "output_type": "execute_result"
    }
   ],
   "source": [
    "#recall(specificity) = tn/(tn+fp)\n",
    "recall_specificity = metrics.recall_score(np.logical_not(y_test), np.logical_not(y_pred), average=None)\n",
    "recall_specificity"
   ]
  },
  {
   "cell_type": "code",
   "execution_count": 101,
   "metadata": {},
   "outputs": [
    {
     "data": {
      "text/plain": [
       "array([0.9116288 , 0.00171086, 0.15170106])"
      ]
     },
     "execution_count": 101,
     "metadata": {},
     "output_type": "execute_result"
    }
   ],
   "source": [
    "#f1_score =  (recall * precision / (recall + precision) * 2)\n",
    "F1_score = metrics.f1_score(y_test, y_pred, average=None)\n",
    "F1_score"
   ]
  },
  {
   "cell_type": "code",
   "execution_count": 103,
   "metadata": {},
   "outputs": [
    {
     "data": {
      "text/plain": [
       "[{'Accuracy :': 0.8387890255439925,\n",
       "  'Precision :': array([0.84992211, 0.02777778, 0.46469248]),\n",
       "  'Recall-Sensitivity :': array([9.82997091e-01, 8.82612533e-04, 9.06465230e-02]),\n",
       "  'Recall-Specificity : ': array([0.08741983, 0.98299709]),\n",
       "  'F1-Score : ': array([0.9116288 , 0.00171086, 0.15170106])}]"
      ]
     },
     "execution_count": 103,
     "metadata": {},
     "output_type": "execute_result"
    }
   ],
   "source": [
    "list([{'Accuracy :' : accuracy, 'Precision :' : precision, 'Recall-Sensitivity :' : recall_sensitivity, 'Recall-Specificity : ' : recall_specificity, \n",
    "       'F1-Score : ' : F1_score}])"
   ]
  },
  {
   "cell_type": "code",
   "execution_count": null,
   "metadata": {},
   "outputs": [],
   "source": [
    "#Extra Trees Classification !"
   ]
  },
  {
   "cell_type": "code",
   "execution_count": 104,
   "metadata": {},
   "outputs": [],
   "source": [
    "X = df[['Smoker', 'PhysActivity', 'Age', 'BMI', 'Stroke', 'HeartDiseaseorAttack']]\n",
    "y = df['Diabetes_012']"
   ]
  },
  {
   "cell_type": "code",
   "execution_count": 287,
   "metadata": {},
   "outputs": [
    {
     "data": {
      "text/plain": [
       "ExtraTreesClassifier()"
      ]
     },
     "execution_count": 287,
     "metadata": {},
     "output_type": "execute_result"
    }
   ],
   "source": [
    "from sklearn.ensemble import ExtraTreesClassifier\n",
    "from sklearn.model_selection import cross_val_score\n",
    "# default is 75% / 25% train-test split\n",
    "X_train, X_test, y_train, y_test = train_test_split(X, y, random_state=0)\n",
    "\n",
    "extratc = ExtraTreesClassifier(n_estimators=100)\n",
    "extratc.fit(X_train, y_train)\n"
   ]
  },
  {
   "cell_type": "code",
   "execution_count": 288,
   "metadata": {},
   "outputs": [
    {
     "data": {
      "text/plain": [
       "0.8401450646483759"
      ]
     },
     "execution_count": 288,
     "metadata": {},
     "output_type": "execute_result"
    }
   ],
   "source": [
    "extratc.score(X_test, y_test)"
   ]
  },
  {
   "cell_type": "code",
   "execution_count": 290,
   "metadata": {},
   "outputs": [
    {
     "name": "stdout",
     "output_type": "stream",
     "text": [
      "[2.]\n",
      "Unfortunately you have or you will have Diabetes_2 with your lifestyle ! Please contact a physician for more information !\n"
     ]
    },
    {
     "name": "stderr",
     "output_type": "stream",
     "text": [
      "c:\\Users\\Ellen\\anaconda3\\lib\\site-packages\\sklearn\\base.py:450: UserWarning: X does not have valid feature names, but ExtraTreesClassifier was fitted with feature names\n",
      "  warnings.warn(\n"
     ]
    }
   ],
   "source": [
    "# first example: a  PhysicalActivity=1 ,Age=6, BMI=65\n",
    "diabetes_prediction = extratc.predict([[1.0, 6.0, 65.0]])\n",
    "print(diabetes_prediction)\n",
    "\n",
    "if diabetes_prediction == [0.0] :\n",
    "    print(f'Fortunately you have {lookup_diabetes_012[diabetes_prediction[0]]} with your lifestyle ! Go on living this way !')\n",
    "else:\n",
    "    print(f'Unfortunately you have or you will have {lookup_diabetes_012[diabetes_prediction[0]]} with your lifestyle ! Please contact a physician for more information !')"
   ]
  },
  {
   "cell_type": "code",
   "execution_count": 292,
   "metadata": {},
   "outputs": [
    {
     "ename": "KeyboardInterrupt",
     "evalue": "",
     "output_type": "error",
     "traceback": [
      "\u001b[1;31m---------------------------------------------------------------------------\u001b[0m",
      "\u001b[1;31mKeyboardInterrupt\u001b[0m                         Traceback (most recent call last)",
      "\u001b[1;32m~\\AppData\\Local\\Temp\\ipykernel_1628\\2605523245.py\u001b[0m in \u001b[0;36m<module>\u001b[1;34m\u001b[0m\n\u001b[1;32m----> 1\u001b[1;33m \u001b[0mcv_scores\u001b[0m \u001b[1;33m=\u001b[0m \u001b[0mcross_val_score\u001b[0m\u001b[1;33m(\u001b[0m\u001b[0mextratc\u001b[0m\u001b[1;33m,\u001b[0m \u001b[0mX_test\u001b[0m\u001b[1;33m,\u001b[0m \u001b[0my_test\u001b[0m\u001b[1;33m,\u001b[0m \u001b[0mcv\u001b[0m \u001b[1;33m=\u001b[0m \u001b[1;36m5\u001b[0m\u001b[1;33m)\u001b[0m\u001b[1;33m\u001b[0m\u001b[1;33m\u001b[0m\u001b[0m\n\u001b[0m\u001b[0;32m      2\u001b[0m \u001b[0mcv_scores\u001b[0m\u001b[1;33m\u001b[0m\u001b[1;33m\u001b[0m\u001b[0m\n",
      "\u001b[1;32mc:\\Users\\Ellen\\anaconda3\\lib\\site-packages\\sklearn\\model_selection\\_validation.py\u001b[0m in \u001b[0;36mcross_val_score\u001b[1;34m(estimator, X, y, groups, scoring, cv, n_jobs, verbose, fit_params, pre_dispatch, error_score)\u001b[0m\n\u001b[0;32m    507\u001b[0m     \u001b[0mscorer\u001b[0m \u001b[1;33m=\u001b[0m \u001b[0mcheck_scoring\u001b[0m\u001b[1;33m(\u001b[0m\u001b[0mestimator\u001b[0m\u001b[1;33m,\u001b[0m \u001b[0mscoring\u001b[0m\u001b[1;33m=\u001b[0m\u001b[0mscoring\u001b[0m\u001b[1;33m)\u001b[0m\u001b[1;33m\u001b[0m\u001b[1;33m\u001b[0m\u001b[0m\n\u001b[0;32m    508\u001b[0m \u001b[1;33m\u001b[0m\u001b[0m\n\u001b[1;32m--> 509\u001b[1;33m     cv_results = cross_validate(\n\u001b[0m\u001b[0;32m    510\u001b[0m         \u001b[0mestimator\u001b[0m\u001b[1;33m=\u001b[0m\u001b[0mestimator\u001b[0m\u001b[1;33m,\u001b[0m\u001b[1;33m\u001b[0m\u001b[1;33m\u001b[0m\u001b[0m\n\u001b[0;32m    511\u001b[0m         \u001b[0mX\u001b[0m\u001b[1;33m=\u001b[0m\u001b[0mX\u001b[0m\u001b[1;33m,\u001b[0m\u001b[1;33m\u001b[0m\u001b[1;33m\u001b[0m\u001b[0m\n",
      "\u001b[1;32mc:\\Users\\Ellen\\anaconda3\\lib\\site-packages\\sklearn\\model_selection\\_validation.py\u001b[0m in \u001b[0;36mcross_validate\u001b[1;34m(estimator, X, y, groups, scoring, cv, n_jobs, verbose, fit_params, pre_dispatch, return_train_score, return_estimator, error_score)\u001b[0m\n\u001b[0;32m    265\u001b[0m     \u001b[1;31m# independent, and that it is pickle-able.\u001b[0m\u001b[1;33m\u001b[0m\u001b[1;33m\u001b[0m\u001b[0m\n\u001b[0;32m    266\u001b[0m     \u001b[0mparallel\u001b[0m \u001b[1;33m=\u001b[0m \u001b[0mParallel\u001b[0m\u001b[1;33m(\u001b[0m\u001b[0mn_jobs\u001b[0m\u001b[1;33m=\u001b[0m\u001b[0mn_jobs\u001b[0m\u001b[1;33m,\u001b[0m \u001b[0mverbose\u001b[0m\u001b[1;33m=\u001b[0m\u001b[0mverbose\u001b[0m\u001b[1;33m,\u001b[0m \u001b[0mpre_dispatch\u001b[0m\u001b[1;33m=\u001b[0m\u001b[0mpre_dispatch\u001b[0m\u001b[1;33m)\u001b[0m\u001b[1;33m\u001b[0m\u001b[1;33m\u001b[0m\u001b[0m\n\u001b[1;32m--> 267\u001b[1;33m     results = parallel(\n\u001b[0m\u001b[0;32m    268\u001b[0m         delayed(_fit_and_score)(\n\u001b[0;32m    269\u001b[0m             \u001b[0mclone\u001b[0m\u001b[1;33m(\u001b[0m\u001b[0mestimator\u001b[0m\u001b[1;33m)\u001b[0m\u001b[1;33m,\u001b[0m\u001b[1;33m\u001b[0m\u001b[1;33m\u001b[0m\u001b[0m\n",
      "\u001b[1;32mc:\\Users\\Ellen\\anaconda3\\lib\\site-packages\\joblib\\parallel.py\u001b[0m in \u001b[0;36m__call__\u001b[1;34m(self, iterable)\u001b[0m\n\u001b[0;32m   1041\u001b[0m             \u001b[1;31m# remaining jobs.\u001b[0m\u001b[1;33m\u001b[0m\u001b[1;33m\u001b[0m\u001b[0m\n\u001b[0;32m   1042\u001b[0m             \u001b[0mself\u001b[0m\u001b[1;33m.\u001b[0m\u001b[0m_iterating\u001b[0m \u001b[1;33m=\u001b[0m \u001b[1;32mFalse\u001b[0m\u001b[1;33m\u001b[0m\u001b[1;33m\u001b[0m\u001b[0m\n\u001b[1;32m-> 1043\u001b[1;33m             \u001b[1;32mif\u001b[0m \u001b[0mself\u001b[0m\u001b[1;33m.\u001b[0m\u001b[0mdispatch_one_batch\u001b[0m\u001b[1;33m(\u001b[0m\u001b[0miterator\u001b[0m\u001b[1;33m)\u001b[0m\u001b[1;33m:\u001b[0m\u001b[1;33m\u001b[0m\u001b[1;33m\u001b[0m\u001b[0m\n\u001b[0m\u001b[0;32m   1044\u001b[0m                 \u001b[0mself\u001b[0m\u001b[1;33m.\u001b[0m\u001b[0m_iterating\u001b[0m \u001b[1;33m=\u001b[0m \u001b[0mself\u001b[0m\u001b[1;33m.\u001b[0m\u001b[0m_original_iterator\u001b[0m \u001b[1;32mis\u001b[0m \u001b[1;32mnot\u001b[0m \u001b[1;32mNone\u001b[0m\u001b[1;33m\u001b[0m\u001b[1;33m\u001b[0m\u001b[0m\n\u001b[0;32m   1045\u001b[0m \u001b[1;33m\u001b[0m\u001b[0m\n",
      "\u001b[1;32mc:\\Users\\Ellen\\anaconda3\\lib\\site-packages\\joblib\\parallel.py\u001b[0m in \u001b[0;36mdispatch_one_batch\u001b[1;34m(self, iterator)\u001b[0m\n\u001b[0;32m    859\u001b[0m                 \u001b[1;32mreturn\u001b[0m \u001b[1;32mFalse\u001b[0m\u001b[1;33m\u001b[0m\u001b[1;33m\u001b[0m\u001b[0m\n\u001b[0;32m    860\u001b[0m             \u001b[1;32melse\u001b[0m\u001b[1;33m:\u001b[0m\u001b[1;33m\u001b[0m\u001b[1;33m\u001b[0m\u001b[0m\n\u001b[1;32m--> 861\u001b[1;33m                 \u001b[0mself\u001b[0m\u001b[1;33m.\u001b[0m\u001b[0m_dispatch\u001b[0m\u001b[1;33m(\u001b[0m\u001b[0mtasks\u001b[0m\u001b[1;33m)\u001b[0m\u001b[1;33m\u001b[0m\u001b[1;33m\u001b[0m\u001b[0m\n\u001b[0m\u001b[0;32m    862\u001b[0m                 \u001b[1;32mreturn\u001b[0m \u001b[1;32mTrue\u001b[0m\u001b[1;33m\u001b[0m\u001b[1;33m\u001b[0m\u001b[0m\n\u001b[0;32m    863\u001b[0m \u001b[1;33m\u001b[0m\u001b[0m\n",
      "\u001b[1;32mc:\\Users\\Ellen\\anaconda3\\lib\\site-packages\\joblib\\parallel.py\u001b[0m in \u001b[0;36m_dispatch\u001b[1;34m(self, batch)\u001b[0m\n\u001b[0;32m    777\u001b[0m         \u001b[1;32mwith\u001b[0m \u001b[0mself\u001b[0m\u001b[1;33m.\u001b[0m\u001b[0m_lock\u001b[0m\u001b[1;33m:\u001b[0m\u001b[1;33m\u001b[0m\u001b[1;33m\u001b[0m\u001b[0m\n\u001b[0;32m    778\u001b[0m             \u001b[0mjob_idx\u001b[0m \u001b[1;33m=\u001b[0m \u001b[0mlen\u001b[0m\u001b[1;33m(\u001b[0m\u001b[0mself\u001b[0m\u001b[1;33m.\u001b[0m\u001b[0m_jobs\u001b[0m\u001b[1;33m)\u001b[0m\u001b[1;33m\u001b[0m\u001b[1;33m\u001b[0m\u001b[0m\n\u001b[1;32m--> 779\u001b[1;33m             \u001b[0mjob\u001b[0m \u001b[1;33m=\u001b[0m \u001b[0mself\u001b[0m\u001b[1;33m.\u001b[0m\u001b[0m_backend\u001b[0m\u001b[1;33m.\u001b[0m\u001b[0mapply_async\u001b[0m\u001b[1;33m(\u001b[0m\u001b[0mbatch\u001b[0m\u001b[1;33m,\u001b[0m \u001b[0mcallback\u001b[0m\u001b[1;33m=\u001b[0m\u001b[0mcb\u001b[0m\u001b[1;33m)\u001b[0m\u001b[1;33m\u001b[0m\u001b[1;33m\u001b[0m\u001b[0m\n\u001b[0m\u001b[0;32m    780\u001b[0m             \u001b[1;31m# A job can complete so quickly than its callback is\u001b[0m\u001b[1;33m\u001b[0m\u001b[1;33m\u001b[0m\u001b[0m\n\u001b[0;32m    781\u001b[0m             \u001b[1;31m# called before we get here, causing self._jobs to\u001b[0m\u001b[1;33m\u001b[0m\u001b[1;33m\u001b[0m\u001b[0m\n",
      "\u001b[1;32mc:\\Users\\Ellen\\anaconda3\\lib\\site-packages\\joblib\\_parallel_backends.py\u001b[0m in \u001b[0;36mapply_async\u001b[1;34m(self, func, callback)\u001b[0m\n\u001b[0;32m    206\u001b[0m     \u001b[1;32mdef\u001b[0m \u001b[0mapply_async\u001b[0m\u001b[1;33m(\u001b[0m\u001b[0mself\u001b[0m\u001b[1;33m,\u001b[0m \u001b[0mfunc\u001b[0m\u001b[1;33m,\u001b[0m \u001b[0mcallback\u001b[0m\u001b[1;33m=\u001b[0m\u001b[1;32mNone\u001b[0m\u001b[1;33m)\u001b[0m\u001b[1;33m:\u001b[0m\u001b[1;33m\u001b[0m\u001b[1;33m\u001b[0m\u001b[0m\n\u001b[0;32m    207\u001b[0m         \u001b[1;34m\"\"\"Schedule a func to be run\"\"\"\u001b[0m\u001b[1;33m\u001b[0m\u001b[1;33m\u001b[0m\u001b[0m\n\u001b[1;32m--> 208\u001b[1;33m         \u001b[0mresult\u001b[0m \u001b[1;33m=\u001b[0m \u001b[0mImmediateResult\u001b[0m\u001b[1;33m(\u001b[0m\u001b[0mfunc\u001b[0m\u001b[1;33m)\u001b[0m\u001b[1;33m\u001b[0m\u001b[1;33m\u001b[0m\u001b[0m\n\u001b[0m\u001b[0;32m    209\u001b[0m         \u001b[1;32mif\u001b[0m \u001b[0mcallback\u001b[0m\u001b[1;33m:\u001b[0m\u001b[1;33m\u001b[0m\u001b[1;33m\u001b[0m\u001b[0m\n\u001b[0;32m    210\u001b[0m             \u001b[0mcallback\u001b[0m\u001b[1;33m(\u001b[0m\u001b[0mresult\u001b[0m\u001b[1;33m)\u001b[0m\u001b[1;33m\u001b[0m\u001b[1;33m\u001b[0m\u001b[0m\n",
      "\u001b[1;32mc:\\Users\\Ellen\\anaconda3\\lib\\site-packages\\joblib\\_parallel_backends.py\u001b[0m in \u001b[0;36m__init__\u001b[1;34m(self, batch)\u001b[0m\n\u001b[0;32m    570\u001b[0m         \u001b[1;31m# Don't delay the application, to avoid keeping the input\u001b[0m\u001b[1;33m\u001b[0m\u001b[1;33m\u001b[0m\u001b[0m\n\u001b[0;32m    571\u001b[0m         \u001b[1;31m# arguments in memory\u001b[0m\u001b[1;33m\u001b[0m\u001b[1;33m\u001b[0m\u001b[0m\n\u001b[1;32m--> 572\u001b[1;33m         \u001b[0mself\u001b[0m\u001b[1;33m.\u001b[0m\u001b[0mresults\u001b[0m \u001b[1;33m=\u001b[0m \u001b[0mbatch\u001b[0m\u001b[1;33m(\u001b[0m\u001b[1;33m)\u001b[0m\u001b[1;33m\u001b[0m\u001b[1;33m\u001b[0m\u001b[0m\n\u001b[0m\u001b[0;32m    573\u001b[0m \u001b[1;33m\u001b[0m\u001b[0m\n\u001b[0;32m    574\u001b[0m     \u001b[1;32mdef\u001b[0m \u001b[0mget\u001b[0m\u001b[1;33m(\u001b[0m\u001b[0mself\u001b[0m\u001b[1;33m)\u001b[0m\u001b[1;33m:\u001b[0m\u001b[1;33m\u001b[0m\u001b[1;33m\u001b[0m\u001b[0m\n",
      "\u001b[1;32mc:\\Users\\Ellen\\anaconda3\\lib\\site-packages\\joblib\\parallel.py\u001b[0m in \u001b[0;36m__call__\u001b[1;34m(self)\u001b[0m\n\u001b[0;32m    260\u001b[0m         \u001b[1;31m# change the default number of processes to -1\u001b[0m\u001b[1;33m\u001b[0m\u001b[1;33m\u001b[0m\u001b[0m\n\u001b[0;32m    261\u001b[0m         \u001b[1;32mwith\u001b[0m \u001b[0mparallel_backend\u001b[0m\u001b[1;33m(\u001b[0m\u001b[0mself\u001b[0m\u001b[1;33m.\u001b[0m\u001b[0m_backend\u001b[0m\u001b[1;33m,\u001b[0m \u001b[0mn_jobs\u001b[0m\u001b[1;33m=\u001b[0m\u001b[0mself\u001b[0m\u001b[1;33m.\u001b[0m\u001b[0m_n_jobs\u001b[0m\u001b[1;33m)\u001b[0m\u001b[1;33m:\u001b[0m\u001b[1;33m\u001b[0m\u001b[1;33m\u001b[0m\u001b[0m\n\u001b[1;32m--> 262\u001b[1;33m             return [func(*args, **kwargs)\n\u001b[0m\u001b[0;32m    263\u001b[0m                     for func, args, kwargs in self.items]\n\u001b[0;32m    264\u001b[0m \u001b[1;33m\u001b[0m\u001b[0m\n",
      "\u001b[1;32mc:\\Users\\Ellen\\anaconda3\\lib\\site-packages\\joblib\\parallel.py\u001b[0m in \u001b[0;36m<listcomp>\u001b[1;34m(.0)\u001b[0m\n\u001b[0;32m    260\u001b[0m         \u001b[1;31m# change the default number of processes to -1\u001b[0m\u001b[1;33m\u001b[0m\u001b[1;33m\u001b[0m\u001b[0m\n\u001b[0;32m    261\u001b[0m         \u001b[1;32mwith\u001b[0m \u001b[0mparallel_backend\u001b[0m\u001b[1;33m(\u001b[0m\u001b[0mself\u001b[0m\u001b[1;33m.\u001b[0m\u001b[0m_backend\u001b[0m\u001b[1;33m,\u001b[0m \u001b[0mn_jobs\u001b[0m\u001b[1;33m=\u001b[0m\u001b[0mself\u001b[0m\u001b[1;33m.\u001b[0m\u001b[0m_n_jobs\u001b[0m\u001b[1;33m)\u001b[0m\u001b[1;33m:\u001b[0m\u001b[1;33m\u001b[0m\u001b[1;33m\u001b[0m\u001b[0m\n\u001b[1;32m--> 262\u001b[1;33m             return [func(*args, **kwargs)\n\u001b[0m\u001b[0;32m    263\u001b[0m                     for func, args, kwargs in self.items]\n\u001b[0;32m    264\u001b[0m \u001b[1;33m\u001b[0m\u001b[0m\n",
      "\u001b[1;32mc:\\Users\\Ellen\\anaconda3\\lib\\site-packages\\sklearn\\utils\\fixes.py\u001b[0m in \u001b[0;36m__call__\u001b[1;34m(self, *args, **kwargs)\u001b[0m\n\u001b[0;32m    214\u001b[0m     \u001b[1;32mdef\u001b[0m \u001b[0m__call__\u001b[0m\u001b[1;33m(\u001b[0m\u001b[0mself\u001b[0m\u001b[1;33m,\u001b[0m \u001b[1;33m*\u001b[0m\u001b[0margs\u001b[0m\u001b[1;33m,\u001b[0m \u001b[1;33m**\u001b[0m\u001b[0mkwargs\u001b[0m\u001b[1;33m)\u001b[0m\u001b[1;33m:\u001b[0m\u001b[1;33m\u001b[0m\u001b[1;33m\u001b[0m\u001b[0m\n\u001b[0;32m    215\u001b[0m         \u001b[1;32mwith\u001b[0m \u001b[0mconfig_context\u001b[0m\u001b[1;33m(\u001b[0m\u001b[1;33m**\u001b[0m\u001b[0mself\u001b[0m\u001b[1;33m.\u001b[0m\u001b[0mconfig\u001b[0m\u001b[1;33m)\u001b[0m\u001b[1;33m:\u001b[0m\u001b[1;33m\u001b[0m\u001b[1;33m\u001b[0m\u001b[0m\n\u001b[1;32m--> 216\u001b[1;33m             \u001b[1;32mreturn\u001b[0m \u001b[0mself\u001b[0m\u001b[1;33m.\u001b[0m\u001b[0mfunction\u001b[0m\u001b[1;33m(\u001b[0m\u001b[1;33m*\u001b[0m\u001b[0margs\u001b[0m\u001b[1;33m,\u001b[0m \u001b[1;33m**\u001b[0m\u001b[0mkwargs\u001b[0m\u001b[1;33m)\u001b[0m\u001b[1;33m\u001b[0m\u001b[1;33m\u001b[0m\u001b[0m\n\u001b[0m\u001b[0;32m    217\u001b[0m \u001b[1;33m\u001b[0m\u001b[0m\n\u001b[0;32m    218\u001b[0m \u001b[1;33m\u001b[0m\u001b[0m\n",
      "\u001b[1;32mc:\\Users\\Ellen\\anaconda3\\lib\\site-packages\\sklearn\\model_selection\\_validation.py\u001b[0m in \u001b[0;36m_fit_and_score\u001b[1;34m(estimator, X, y, scorer, train, test, verbose, parameters, fit_params, return_train_score, return_parameters, return_n_test_samples, return_times, return_estimator, split_progress, candidate_progress, error_score)\u001b[0m\n\u001b[0;32m    678\u001b[0m             \u001b[0mestimator\u001b[0m\u001b[1;33m.\u001b[0m\u001b[0mfit\u001b[0m\u001b[1;33m(\u001b[0m\u001b[0mX_train\u001b[0m\u001b[1;33m,\u001b[0m \u001b[1;33m**\u001b[0m\u001b[0mfit_params\u001b[0m\u001b[1;33m)\u001b[0m\u001b[1;33m\u001b[0m\u001b[1;33m\u001b[0m\u001b[0m\n\u001b[0;32m    679\u001b[0m         \u001b[1;32melse\u001b[0m\u001b[1;33m:\u001b[0m\u001b[1;33m\u001b[0m\u001b[1;33m\u001b[0m\u001b[0m\n\u001b[1;32m--> 680\u001b[1;33m             \u001b[0mestimator\u001b[0m\u001b[1;33m.\u001b[0m\u001b[0mfit\u001b[0m\u001b[1;33m(\u001b[0m\u001b[0mX_train\u001b[0m\u001b[1;33m,\u001b[0m \u001b[0my_train\u001b[0m\u001b[1;33m,\u001b[0m \u001b[1;33m**\u001b[0m\u001b[0mfit_params\u001b[0m\u001b[1;33m)\u001b[0m\u001b[1;33m\u001b[0m\u001b[1;33m\u001b[0m\u001b[0m\n\u001b[0m\u001b[0;32m    681\u001b[0m \u001b[1;33m\u001b[0m\u001b[0m\n\u001b[0;32m    682\u001b[0m     \u001b[1;32mexcept\u001b[0m \u001b[0mException\u001b[0m\u001b[1;33m:\u001b[0m\u001b[1;33m\u001b[0m\u001b[1;33m\u001b[0m\u001b[0m\n",
      "\u001b[1;32mc:\\Users\\Ellen\\anaconda3\\lib\\site-packages\\sklearn\\ensemble\\_forest.py\u001b[0m in \u001b[0;36mfit\u001b[1;34m(self, X, y, sample_weight)\u001b[0m\n\u001b[0;32m    448\u001b[0m             \u001b[1;31m# parallel_backend contexts set at a higher level,\u001b[0m\u001b[1;33m\u001b[0m\u001b[1;33m\u001b[0m\u001b[0m\n\u001b[0;32m    449\u001b[0m             \u001b[1;31m# since correctness does not rely on using threads.\u001b[0m\u001b[1;33m\u001b[0m\u001b[1;33m\u001b[0m\u001b[0m\n\u001b[1;32m--> 450\u001b[1;33m             trees = Parallel(\n\u001b[0m\u001b[0;32m    451\u001b[0m                 \u001b[0mn_jobs\u001b[0m\u001b[1;33m=\u001b[0m\u001b[0mself\u001b[0m\u001b[1;33m.\u001b[0m\u001b[0mn_jobs\u001b[0m\u001b[1;33m,\u001b[0m\u001b[1;33m\u001b[0m\u001b[1;33m\u001b[0m\u001b[0m\n\u001b[0;32m    452\u001b[0m                 \u001b[0mverbose\u001b[0m\u001b[1;33m=\u001b[0m\u001b[0mself\u001b[0m\u001b[1;33m.\u001b[0m\u001b[0mverbose\u001b[0m\u001b[1;33m,\u001b[0m\u001b[1;33m\u001b[0m\u001b[1;33m\u001b[0m\u001b[0m\n",
      "\u001b[1;32mc:\\Users\\Ellen\\anaconda3\\lib\\site-packages\\joblib\\parallel.py\u001b[0m in \u001b[0;36m__call__\u001b[1;34m(self, iterable)\u001b[0m\n\u001b[0;32m   1044\u001b[0m                 \u001b[0mself\u001b[0m\u001b[1;33m.\u001b[0m\u001b[0m_iterating\u001b[0m \u001b[1;33m=\u001b[0m \u001b[0mself\u001b[0m\u001b[1;33m.\u001b[0m\u001b[0m_original_iterator\u001b[0m \u001b[1;32mis\u001b[0m \u001b[1;32mnot\u001b[0m \u001b[1;32mNone\u001b[0m\u001b[1;33m\u001b[0m\u001b[1;33m\u001b[0m\u001b[0m\n\u001b[0;32m   1045\u001b[0m \u001b[1;33m\u001b[0m\u001b[0m\n\u001b[1;32m-> 1046\u001b[1;33m             \u001b[1;32mwhile\u001b[0m \u001b[0mself\u001b[0m\u001b[1;33m.\u001b[0m\u001b[0mdispatch_one_batch\u001b[0m\u001b[1;33m(\u001b[0m\u001b[0miterator\u001b[0m\u001b[1;33m)\u001b[0m\u001b[1;33m:\u001b[0m\u001b[1;33m\u001b[0m\u001b[1;33m\u001b[0m\u001b[0m\n\u001b[0m\u001b[0;32m   1047\u001b[0m                 \u001b[1;32mpass\u001b[0m\u001b[1;33m\u001b[0m\u001b[1;33m\u001b[0m\u001b[0m\n\u001b[0;32m   1048\u001b[0m \u001b[1;33m\u001b[0m\u001b[0m\n",
      "\u001b[1;32mc:\\Users\\Ellen\\anaconda3\\lib\\site-packages\\joblib\\parallel.py\u001b[0m in \u001b[0;36mdispatch_one_batch\u001b[1;34m(self, iterator)\u001b[0m\n\u001b[0;32m    859\u001b[0m                 \u001b[1;32mreturn\u001b[0m \u001b[1;32mFalse\u001b[0m\u001b[1;33m\u001b[0m\u001b[1;33m\u001b[0m\u001b[0m\n\u001b[0;32m    860\u001b[0m             \u001b[1;32melse\u001b[0m\u001b[1;33m:\u001b[0m\u001b[1;33m\u001b[0m\u001b[1;33m\u001b[0m\u001b[0m\n\u001b[1;32m--> 861\u001b[1;33m                 \u001b[0mself\u001b[0m\u001b[1;33m.\u001b[0m\u001b[0m_dispatch\u001b[0m\u001b[1;33m(\u001b[0m\u001b[0mtasks\u001b[0m\u001b[1;33m)\u001b[0m\u001b[1;33m\u001b[0m\u001b[1;33m\u001b[0m\u001b[0m\n\u001b[0m\u001b[0;32m    862\u001b[0m                 \u001b[1;32mreturn\u001b[0m \u001b[1;32mTrue\u001b[0m\u001b[1;33m\u001b[0m\u001b[1;33m\u001b[0m\u001b[0m\n\u001b[0;32m    863\u001b[0m \u001b[1;33m\u001b[0m\u001b[0m\n",
      "\u001b[1;32mc:\\Users\\Ellen\\anaconda3\\lib\\site-packages\\joblib\\parallel.py\u001b[0m in \u001b[0;36m_dispatch\u001b[1;34m(self, batch)\u001b[0m\n\u001b[0;32m    777\u001b[0m         \u001b[1;32mwith\u001b[0m \u001b[0mself\u001b[0m\u001b[1;33m.\u001b[0m\u001b[0m_lock\u001b[0m\u001b[1;33m:\u001b[0m\u001b[1;33m\u001b[0m\u001b[1;33m\u001b[0m\u001b[0m\n\u001b[0;32m    778\u001b[0m             \u001b[0mjob_idx\u001b[0m \u001b[1;33m=\u001b[0m \u001b[0mlen\u001b[0m\u001b[1;33m(\u001b[0m\u001b[0mself\u001b[0m\u001b[1;33m.\u001b[0m\u001b[0m_jobs\u001b[0m\u001b[1;33m)\u001b[0m\u001b[1;33m\u001b[0m\u001b[1;33m\u001b[0m\u001b[0m\n\u001b[1;32m--> 779\u001b[1;33m             \u001b[0mjob\u001b[0m \u001b[1;33m=\u001b[0m \u001b[0mself\u001b[0m\u001b[1;33m.\u001b[0m\u001b[0m_backend\u001b[0m\u001b[1;33m.\u001b[0m\u001b[0mapply_async\u001b[0m\u001b[1;33m(\u001b[0m\u001b[0mbatch\u001b[0m\u001b[1;33m,\u001b[0m \u001b[0mcallback\u001b[0m\u001b[1;33m=\u001b[0m\u001b[0mcb\u001b[0m\u001b[1;33m)\u001b[0m\u001b[1;33m\u001b[0m\u001b[1;33m\u001b[0m\u001b[0m\n\u001b[0m\u001b[0;32m    780\u001b[0m             \u001b[1;31m# A job can complete so quickly than its callback is\u001b[0m\u001b[1;33m\u001b[0m\u001b[1;33m\u001b[0m\u001b[0m\n\u001b[0;32m    781\u001b[0m             \u001b[1;31m# called before we get here, causing self._jobs to\u001b[0m\u001b[1;33m\u001b[0m\u001b[1;33m\u001b[0m\u001b[0m\n",
      "\u001b[1;32mc:\\Users\\Ellen\\anaconda3\\lib\\site-packages\\joblib\\_parallel_backends.py\u001b[0m in \u001b[0;36mapply_async\u001b[1;34m(self, func, callback)\u001b[0m\n\u001b[0;32m    206\u001b[0m     \u001b[1;32mdef\u001b[0m \u001b[0mapply_async\u001b[0m\u001b[1;33m(\u001b[0m\u001b[0mself\u001b[0m\u001b[1;33m,\u001b[0m \u001b[0mfunc\u001b[0m\u001b[1;33m,\u001b[0m \u001b[0mcallback\u001b[0m\u001b[1;33m=\u001b[0m\u001b[1;32mNone\u001b[0m\u001b[1;33m)\u001b[0m\u001b[1;33m:\u001b[0m\u001b[1;33m\u001b[0m\u001b[1;33m\u001b[0m\u001b[0m\n\u001b[0;32m    207\u001b[0m         \u001b[1;34m\"\"\"Schedule a func to be run\"\"\"\u001b[0m\u001b[1;33m\u001b[0m\u001b[1;33m\u001b[0m\u001b[0m\n\u001b[1;32m--> 208\u001b[1;33m         \u001b[0mresult\u001b[0m \u001b[1;33m=\u001b[0m \u001b[0mImmediateResult\u001b[0m\u001b[1;33m(\u001b[0m\u001b[0mfunc\u001b[0m\u001b[1;33m)\u001b[0m\u001b[1;33m\u001b[0m\u001b[1;33m\u001b[0m\u001b[0m\n\u001b[0m\u001b[0;32m    209\u001b[0m         \u001b[1;32mif\u001b[0m \u001b[0mcallback\u001b[0m\u001b[1;33m:\u001b[0m\u001b[1;33m\u001b[0m\u001b[1;33m\u001b[0m\u001b[0m\n\u001b[0;32m    210\u001b[0m             \u001b[0mcallback\u001b[0m\u001b[1;33m(\u001b[0m\u001b[0mresult\u001b[0m\u001b[1;33m)\u001b[0m\u001b[1;33m\u001b[0m\u001b[1;33m\u001b[0m\u001b[0m\n",
      "\u001b[1;32mc:\\Users\\Ellen\\anaconda3\\lib\\site-packages\\joblib\\_parallel_backends.py\u001b[0m in \u001b[0;36m__init__\u001b[1;34m(self, batch)\u001b[0m\n\u001b[0;32m    570\u001b[0m         \u001b[1;31m# Don't delay the application, to avoid keeping the input\u001b[0m\u001b[1;33m\u001b[0m\u001b[1;33m\u001b[0m\u001b[0m\n\u001b[0;32m    571\u001b[0m         \u001b[1;31m# arguments in memory\u001b[0m\u001b[1;33m\u001b[0m\u001b[1;33m\u001b[0m\u001b[0m\n\u001b[1;32m--> 572\u001b[1;33m         \u001b[0mself\u001b[0m\u001b[1;33m.\u001b[0m\u001b[0mresults\u001b[0m \u001b[1;33m=\u001b[0m \u001b[0mbatch\u001b[0m\u001b[1;33m(\u001b[0m\u001b[1;33m)\u001b[0m\u001b[1;33m\u001b[0m\u001b[1;33m\u001b[0m\u001b[0m\n\u001b[0m\u001b[0;32m    573\u001b[0m \u001b[1;33m\u001b[0m\u001b[0m\n\u001b[0;32m    574\u001b[0m     \u001b[1;32mdef\u001b[0m \u001b[0mget\u001b[0m\u001b[1;33m(\u001b[0m\u001b[0mself\u001b[0m\u001b[1;33m)\u001b[0m\u001b[1;33m:\u001b[0m\u001b[1;33m\u001b[0m\u001b[1;33m\u001b[0m\u001b[0m\n",
      "\u001b[1;32mc:\\Users\\Ellen\\anaconda3\\lib\\site-packages\\joblib\\parallel.py\u001b[0m in \u001b[0;36m__call__\u001b[1;34m(self)\u001b[0m\n\u001b[0;32m    260\u001b[0m         \u001b[1;31m# change the default number of processes to -1\u001b[0m\u001b[1;33m\u001b[0m\u001b[1;33m\u001b[0m\u001b[0m\n\u001b[0;32m    261\u001b[0m         \u001b[1;32mwith\u001b[0m \u001b[0mparallel_backend\u001b[0m\u001b[1;33m(\u001b[0m\u001b[0mself\u001b[0m\u001b[1;33m.\u001b[0m\u001b[0m_backend\u001b[0m\u001b[1;33m,\u001b[0m \u001b[0mn_jobs\u001b[0m\u001b[1;33m=\u001b[0m\u001b[0mself\u001b[0m\u001b[1;33m.\u001b[0m\u001b[0m_n_jobs\u001b[0m\u001b[1;33m)\u001b[0m\u001b[1;33m:\u001b[0m\u001b[1;33m\u001b[0m\u001b[1;33m\u001b[0m\u001b[0m\n\u001b[1;32m--> 262\u001b[1;33m             return [func(*args, **kwargs)\n\u001b[0m\u001b[0;32m    263\u001b[0m                     for func, args, kwargs in self.items]\n\u001b[0;32m    264\u001b[0m \u001b[1;33m\u001b[0m\u001b[0m\n",
      "\u001b[1;32mc:\\Users\\Ellen\\anaconda3\\lib\\site-packages\\joblib\\parallel.py\u001b[0m in \u001b[0;36m<listcomp>\u001b[1;34m(.0)\u001b[0m\n\u001b[0;32m    260\u001b[0m         \u001b[1;31m# change the default number of processes to -1\u001b[0m\u001b[1;33m\u001b[0m\u001b[1;33m\u001b[0m\u001b[0m\n\u001b[0;32m    261\u001b[0m         \u001b[1;32mwith\u001b[0m \u001b[0mparallel_backend\u001b[0m\u001b[1;33m(\u001b[0m\u001b[0mself\u001b[0m\u001b[1;33m.\u001b[0m\u001b[0m_backend\u001b[0m\u001b[1;33m,\u001b[0m \u001b[0mn_jobs\u001b[0m\u001b[1;33m=\u001b[0m\u001b[0mself\u001b[0m\u001b[1;33m.\u001b[0m\u001b[0m_n_jobs\u001b[0m\u001b[1;33m)\u001b[0m\u001b[1;33m:\u001b[0m\u001b[1;33m\u001b[0m\u001b[1;33m\u001b[0m\u001b[0m\n\u001b[1;32m--> 262\u001b[1;33m             return [func(*args, **kwargs)\n\u001b[0m\u001b[0;32m    263\u001b[0m                     for func, args, kwargs in self.items]\n\u001b[0;32m    264\u001b[0m \u001b[1;33m\u001b[0m\u001b[0m\n",
      "\u001b[1;32mc:\\Users\\Ellen\\anaconda3\\lib\\site-packages\\sklearn\\utils\\fixes.py\u001b[0m in \u001b[0;36m__call__\u001b[1;34m(self, *args, **kwargs)\u001b[0m\n\u001b[0;32m    214\u001b[0m     \u001b[1;32mdef\u001b[0m \u001b[0m__call__\u001b[0m\u001b[1;33m(\u001b[0m\u001b[0mself\u001b[0m\u001b[1;33m,\u001b[0m \u001b[1;33m*\u001b[0m\u001b[0margs\u001b[0m\u001b[1;33m,\u001b[0m \u001b[1;33m**\u001b[0m\u001b[0mkwargs\u001b[0m\u001b[1;33m)\u001b[0m\u001b[1;33m:\u001b[0m\u001b[1;33m\u001b[0m\u001b[1;33m\u001b[0m\u001b[0m\n\u001b[0;32m    215\u001b[0m         \u001b[1;32mwith\u001b[0m \u001b[0mconfig_context\u001b[0m\u001b[1;33m(\u001b[0m\u001b[1;33m**\u001b[0m\u001b[0mself\u001b[0m\u001b[1;33m.\u001b[0m\u001b[0mconfig\u001b[0m\u001b[1;33m)\u001b[0m\u001b[1;33m:\u001b[0m\u001b[1;33m\u001b[0m\u001b[1;33m\u001b[0m\u001b[0m\n\u001b[1;32m--> 216\u001b[1;33m             \u001b[1;32mreturn\u001b[0m \u001b[0mself\u001b[0m\u001b[1;33m.\u001b[0m\u001b[0mfunction\u001b[0m\u001b[1;33m(\u001b[0m\u001b[1;33m*\u001b[0m\u001b[0margs\u001b[0m\u001b[1;33m,\u001b[0m \u001b[1;33m**\u001b[0m\u001b[0mkwargs\u001b[0m\u001b[1;33m)\u001b[0m\u001b[1;33m\u001b[0m\u001b[1;33m\u001b[0m\u001b[0m\n\u001b[0m\u001b[0;32m    217\u001b[0m \u001b[1;33m\u001b[0m\u001b[0m\n\u001b[0;32m    218\u001b[0m \u001b[1;33m\u001b[0m\u001b[0m\n",
      "\u001b[1;32mc:\\Users\\Ellen\\anaconda3\\lib\\site-packages\\sklearn\\ensemble\\_forest.py\u001b[0m in \u001b[0;36m_parallel_build_trees\u001b[1;34m(tree, forest, X, y, sample_weight, tree_idx, n_trees, verbose, class_weight, n_samples_bootstrap)\u001b[0m\n\u001b[0;32m    185\u001b[0m         \u001b[0mtree\u001b[0m\u001b[1;33m.\u001b[0m\u001b[0mfit\u001b[0m\u001b[1;33m(\u001b[0m\u001b[0mX\u001b[0m\u001b[1;33m,\u001b[0m \u001b[0my\u001b[0m\u001b[1;33m,\u001b[0m \u001b[0msample_weight\u001b[0m\u001b[1;33m=\u001b[0m\u001b[0mcurr_sample_weight\u001b[0m\u001b[1;33m,\u001b[0m \u001b[0mcheck_input\u001b[0m\u001b[1;33m=\u001b[0m\u001b[1;32mFalse\u001b[0m\u001b[1;33m)\u001b[0m\u001b[1;33m\u001b[0m\u001b[1;33m\u001b[0m\u001b[0m\n\u001b[0;32m    186\u001b[0m     \u001b[1;32melse\u001b[0m\u001b[1;33m:\u001b[0m\u001b[1;33m\u001b[0m\u001b[1;33m\u001b[0m\u001b[0m\n\u001b[1;32m--> 187\u001b[1;33m         \u001b[0mtree\u001b[0m\u001b[1;33m.\u001b[0m\u001b[0mfit\u001b[0m\u001b[1;33m(\u001b[0m\u001b[0mX\u001b[0m\u001b[1;33m,\u001b[0m \u001b[0my\u001b[0m\u001b[1;33m,\u001b[0m \u001b[0msample_weight\u001b[0m\u001b[1;33m=\u001b[0m\u001b[0msample_weight\u001b[0m\u001b[1;33m,\u001b[0m \u001b[0mcheck_input\u001b[0m\u001b[1;33m=\u001b[0m\u001b[1;32mFalse\u001b[0m\u001b[1;33m)\u001b[0m\u001b[1;33m\u001b[0m\u001b[1;33m\u001b[0m\u001b[0m\n\u001b[0m\u001b[0;32m    188\u001b[0m \u001b[1;33m\u001b[0m\u001b[0m\n\u001b[0;32m    189\u001b[0m     \u001b[1;32mreturn\u001b[0m \u001b[0mtree\u001b[0m\u001b[1;33m\u001b[0m\u001b[1;33m\u001b[0m\u001b[0m\n",
      "\u001b[1;32mc:\\Users\\Ellen\\anaconda3\\lib\\site-packages\\sklearn\\tree\\_classes.py\u001b[0m in \u001b[0;36mfit\u001b[1;34m(self, X, y, sample_weight, check_input, X_idx_sorted)\u001b[0m\n\u001b[0;32m    935\u001b[0m         \"\"\"\n\u001b[0;32m    936\u001b[0m \u001b[1;33m\u001b[0m\u001b[0m\n\u001b[1;32m--> 937\u001b[1;33m         super().fit(\n\u001b[0m\u001b[0;32m    938\u001b[0m             \u001b[0mX\u001b[0m\u001b[1;33m,\u001b[0m\u001b[1;33m\u001b[0m\u001b[1;33m\u001b[0m\u001b[0m\n\u001b[0;32m    939\u001b[0m             \u001b[0my\u001b[0m\u001b[1;33m,\u001b[0m\u001b[1;33m\u001b[0m\u001b[1;33m\u001b[0m\u001b[0m\n",
      "\u001b[1;32mc:\\Users\\Ellen\\anaconda3\\lib\\site-packages\\sklearn\\tree\\_classes.py\u001b[0m in \u001b[0;36mfit\u001b[1;34m(self, X, y, sample_weight, check_input, X_idx_sorted)\u001b[0m\n\u001b[0;32m    418\u001b[0m             )\n\u001b[0;32m    419\u001b[0m \u001b[1;33m\u001b[0m\u001b[0m\n\u001b[1;32m--> 420\u001b[1;33m         \u001b[0mbuilder\u001b[0m\u001b[1;33m.\u001b[0m\u001b[0mbuild\u001b[0m\u001b[1;33m(\u001b[0m\u001b[0mself\u001b[0m\u001b[1;33m.\u001b[0m\u001b[0mtree_\u001b[0m\u001b[1;33m,\u001b[0m \u001b[0mX\u001b[0m\u001b[1;33m,\u001b[0m \u001b[0my\u001b[0m\u001b[1;33m,\u001b[0m \u001b[0msample_weight\u001b[0m\u001b[1;33m)\u001b[0m\u001b[1;33m\u001b[0m\u001b[1;33m\u001b[0m\u001b[0m\n\u001b[0m\u001b[0;32m    421\u001b[0m \u001b[1;33m\u001b[0m\u001b[0m\n\u001b[0;32m    422\u001b[0m         \u001b[1;32mif\u001b[0m \u001b[0mself\u001b[0m\u001b[1;33m.\u001b[0m\u001b[0mn_outputs_\u001b[0m \u001b[1;33m==\u001b[0m \u001b[1;36m1\u001b[0m \u001b[1;32mand\u001b[0m \u001b[0mis_classifier\u001b[0m\u001b[1;33m(\u001b[0m\u001b[0mself\u001b[0m\u001b[1;33m)\u001b[0m\u001b[1;33m:\u001b[0m\u001b[1;33m\u001b[0m\u001b[1;33m\u001b[0m\u001b[0m\n",
      "\u001b[1;31mKeyboardInterrupt\u001b[0m: "
     ]
    }
   ],
   "source": [
    "cv_scores = cross_val_score(extratc, X_test, y_test, cv = 5)\n",
    "print(cv_scores)"
   ]
  },
  {
   "cell_type": "code",
   "execution_count": 293,
   "metadata": {},
   "outputs": [
    {
     "data": {
      "text/plain": [
       "array([0., 0., 0., 0., 0., 0., 0., 0., 0., 0.])"
      ]
     },
     "execution_count": 293,
     "metadata": {},
     "output_type": "execute_result"
    }
   ],
   "source": [
    "y_pred =  extratc.predict(X_test)\n",
    "y_pred[:10]"
   ]
  },
  {
   "cell_type": "code",
   "execution_count": 294,
   "metadata": {},
   "outputs": [
    {
     "data": {
      "text/plain": [
       "array([0., 0., 0., 0., 2., 0., 0., 0., 2., 0.])"
      ]
     },
     "execution_count": 294,
     "metadata": {},
     "output_type": "execute_result"
    }
   ],
   "source": [
    "np.array(y_test)[:10]"
   ]
  },
  {
   "cell_type": "code",
   "execution_count": 295,
   "metadata": {},
   "outputs": [
    {
     "name": "stdout",
     "output_type": "stream",
     "text": [
      "[[53241     0    44]\n",
      " [ 1131     0     2]\n",
      " [ 8961     0    41]]\n",
      "\n",
      "[[[   43 10092]\n",
      "  [   44 53241]]\n",
      "\n",
      " [[62287     0]\n",
      "  [ 1133     0]]\n",
      "\n",
      " [[54372    46]\n",
      "  [ 8961    41]]]\n"
     ]
    }
   ],
   "source": [
    "cm = confusion_matrix(y_test, y_pred)\n",
    "print(cm)\n",
    "print()\n",
    "mcm = multilabel_confusion_matrix(y_test, y_pred)\n",
    "print(mcm)"
   ]
  },
  {
   "cell_type": "code",
   "execution_count": 296,
   "metadata": {},
   "outputs": [
    {
     "data": {
      "text/plain": [
       "array([0., 1., 2.])"
      ]
     },
     "execution_count": 296,
     "metadata": {},
     "output_type": "execute_result"
    }
   ],
   "source": [
    "from sklearn.utils.multiclass import unique_labels\n",
    "unique_labels(y_test)"
   ]
  },
  {
   "cell_type": "code",
   "execution_count": 297,
   "metadata": {},
   "outputs": [
    {
     "data": {
      "text/html": [
       "<div>\n",
       "<style scoped>\n",
       "    .dataframe tbody tr th:only-of-type {\n",
       "        vertical-align: middle;\n",
       "    }\n",
       "\n",
       "    .dataframe tbody tr th {\n",
       "        vertical-align: top;\n",
       "    }\n",
       "\n",
       "    .dataframe thead th {\n",
       "        text-align: right;\n",
       "    }\n",
       "</style>\n",
       "<table border=\"1\" class=\"dataframe\">\n",
       "  <thead>\n",
       "    <tr style=\"text-align: right;\">\n",
       "      <th></th>\n",
       "      <th>Predicted 0.0</th>\n",
       "      <th>Predicted 1.0</th>\n",
       "      <th>Predicted 2.0</th>\n",
       "    </tr>\n",
       "  </thead>\n",
       "  <tbody>\n",
       "    <tr>\n",
       "      <th>Actual 0.0</th>\n",
       "      <td>53241</td>\n",
       "      <td>0</td>\n",
       "      <td>44</td>\n",
       "    </tr>\n",
       "    <tr>\n",
       "      <th>Actual 1.0</th>\n",
       "      <td>1131</td>\n",
       "      <td>0</td>\n",
       "      <td>2</td>\n",
       "    </tr>\n",
       "    <tr>\n",
       "      <th>Actual 2.0</th>\n",
       "      <td>8961</td>\n",
       "      <td>0</td>\n",
       "      <td>41</td>\n",
       "    </tr>\n",
       "  </tbody>\n",
       "</table>\n",
       "</div>"
      ],
      "text/plain": [
       "            Predicted 0.0  Predicted 1.0  Predicted 2.0\n",
       "Actual 0.0          53241              0             44\n",
       "Actual 1.0           1131              0              2\n",
       "Actual 2.0           8961              0             41"
      ]
     },
     "execution_count": 297,
     "metadata": {},
     "output_type": "execute_result"
    }
   ],
   "source": [
    "def plot(y_true, y_predictions):\n",
    "    labels = unique_labels(y_test)\n",
    "    column = [f'Predicted {label}' for label in labels]\n",
    "    indices = [f'Actual {label}' for label in labels]\n",
    "    table = pd.DataFrame(confusion_matrix(y_true, y_predictions), columns = column, index = indices)\n",
    "    \n",
    "    return table\n",
    "\n",
    "plot(y_test, y_pred)"
   ]
  },
  {
   "cell_type": "code",
   "execution_count": 298,
   "metadata": {},
   "outputs": [
    {
     "data": {
      "application/javascript": "/* Put everything inside the global mpl namespace */\n/* global mpl */\nwindow.mpl = {};\n\nmpl.get_websocket_type = function () {\n    if (typeof WebSocket !== 'undefined') {\n        return WebSocket;\n    } else if (typeof MozWebSocket !== 'undefined') {\n        return MozWebSocket;\n    } else {\n        alert(\n            'Your browser does not have WebSocket support. ' +\n                'Please try Chrome, Safari or Firefox ≥ 6. ' +\n                'Firefox 4 and 5 are also supported but you ' +\n                'have to enable WebSockets in about:config.'\n        );\n    }\n};\n\nmpl.figure = function (figure_id, websocket, ondownload, parent_element) {\n    this.id = figure_id;\n\n    this.ws = websocket;\n\n    this.supports_binary = this.ws.binaryType !== undefined;\n\n    if (!this.supports_binary) {\n        var warnings = document.getElementById('mpl-warnings');\n        if (warnings) {\n            warnings.style.display = 'block';\n            warnings.textContent =\n                'This browser does not support binary websocket messages. ' +\n                'Performance may be slow.';\n        }\n    }\n\n    this.imageObj = new Image();\n\n    this.context = undefined;\n    this.message = undefined;\n    this.canvas = undefined;\n    this.rubberband_canvas = undefined;\n    this.rubberband_context = undefined;\n    this.format_dropdown = undefined;\n\n    this.image_mode = 'full';\n\n    this.root = document.createElement('div');\n    this.root.setAttribute('style', 'display: inline-block');\n    this._root_extra_style(this.root);\n\n    parent_element.appendChild(this.root);\n\n    this._init_header(this);\n    this._init_canvas(this);\n    this._init_toolbar(this);\n\n    var fig = this;\n\n    this.waiting = false;\n\n    this.ws.onopen = function () {\n        fig.send_message('supports_binary', { value: fig.supports_binary });\n        fig.send_message('send_image_mode', {});\n        if (fig.ratio !== 1) {\n            fig.send_message('set_device_pixel_ratio', {\n                device_pixel_ratio: fig.ratio,\n            });\n        }\n        fig.send_message('refresh', {});\n    };\n\n    this.imageObj.onload = function () {\n        if (fig.image_mode === 'full') {\n            // Full images could contain transparency (where diff images\n            // almost always do), so we need to clear the canvas so that\n            // there is no ghosting.\n            fig.context.clearRect(0, 0, fig.canvas.width, fig.canvas.height);\n        }\n        fig.context.drawImage(fig.imageObj, 0, 0);\n    };\n\n    this.imageObj.onunload = function () {\n        fig.ws.close();\n    };\n\n    this.ws.onmessage = this._make_on_message_function(this);\n\n    this.ondownload = ondownload;\n};\n\nmpl.figure.prototype._init_header = function () {\n    var titlebar = document.createElement('div');\n    titlebar.classList =\n        'ui-dialog-titlebar ui-widget-header ui-corner-all ui-helper-clearfix';\n    var titletext = document.createElement('div');\n    titletext.classList = 'ui-dialog-title';\n    titletext.setAttribute(\n        'style',\n        'width: 100%; text-align: center; padding: 3px;'\n    );\n    titlebar.appendChild(titletext);\n    this.root.appendChild(titlebar);\n    this.header = titletext;\n};\n\nmpl.figure.prototype._canvas_extra_style = function (_canvas_div) {};\n\nmpl.figure.prototype._root_extra_style = function (_canvas_div) {};\n\nmpl.figure.prototype._init_canvas = function () {\n    var fig = this;\n\n    var canvas_div = (this.canvas_div = document.createElement('div'));\n    canvas_div.setAttribute(\n        'style',\n        'border: 1px solid #ddd;' +\n            'box-sizing: content-box;' +\n            'clear: both;' +\n            'min-height: 1px;' +\n            'min-width: 1px;' +\n            'outline: 0;' +\n            'overflow: hidden;' +\n            'position: relative;' +\n            'resize: both;'\n    );\n\n    function on_keyboard_event_closure(name) {\n        return function (event) {\n            return fig.key_event(event, name);\n        };\n    }\n\n    canvas_div.addEventListener(\n        'keydown',\n        on_keyboard_event_closure('key_press')\n    );\n    canvas_div.addEventListener(\n        'keyup',\n        on_keyboard_event_closure('key_release')\n    );\n\n    this._canvas_extra_style(canvas_div);\n    this.root.appendChild(canvas_div);\n\n    var canvas = (this.canvas = document.createElement('canvas'));\n    canvas.classList.add('mpl-canvas');\n    canvas.setAttribute('style', 'box-sizing: content-box;');\n\n    this.context = canvas.getContext('2d');\n\n    var backingStore =\n        this.context.backingStorePixelRatio ||\n        this.context.webkitBackingStorePixelRatio ||\n        this.context.mozBackingStorePixelRatio ||\n        this.context.msBackingStorePixelRatio ||\n        this.context.oBackingStorePixelRatio ||\n        this.context.backingStorePixelRatio ||\n        1;\n\n    this.ratio = (window.devicePixelRatio || 1) / backingStore;\n\n    var rubberband_canvas = (this.rubberband_canvas = document.createElement(\n        'canvas'\n    ));\n    rubberband_canvas.setAttribute(\n        'style',\n        'box-sizing: content-box; position: absolute; left: 0; top: 0; z-index: 1;'\n    );\n\n    // Apply a ponyfill if ResizeObserver is not implemented by browser.\n    if (this.ResizeObserver === undefined) {\n        if (window.ResizeObserver !== undefined) {\n            this.ResizeObserver = window.ResizeObserver;\n        } else {\n            var obs = _JSXTOOLS_RESIZE_OBSERVER({});\n            this.ResizeObserver = obs.ResizeObserver;\n        }\n    }\n\n    this.resizeObserverInstance = new this.ResizeObserver(function (entries) {\n        var nentries = entries.length;\n        for (var i = 0; i < nentries; i++) {\n            var entry = entries[i];\n            var width, height;\n            if (entry.contentBoxSize) {\n                if (entry.contentBoxSize instanceof Array) {\n                    // Chrome 84 implements new version of spec.\n                    width = entry.contentBoxSize[0].inlineSize;\n                    height = entry.contentBoxSize[0].blockSize;\n                } else {\n                    // Firefox implements old version of spec.\n                    width = entry.contentBoxSize.inlineSize;\n                    height = entry.contentBoxSize.blockSize;\n                }\n            } else {\n                // Chrome <84 implements even older version of spec.\n                width = entry.contentRect.width;\n                height = entry.contentRect.height;\n            }\n\n            // Keep the size of the canvas and rubber band canvas in sync with\n            // the canvas container.\n            if (entry.devicePixelContentBoxSize) {\n                // Chrome 84 implements new version of spec.\n                canvas.setAttribute(\n                    'width',\n                    entry.devicePixelContentBoxSize[0].inlineSize\n                );\n                canvas.setAttribute(\n                    'height',\n                    entry.devicePixelContentBoxSize[0].blockSize\n                );\n            } else {\n                canvas.setAttribute('width', width * fig.ratio);\n                canvas.setAttribute('height', height * fig.ratio);\n            }\n            canvas.setAttribute(\n                'style',\n                'width: ' + width + 'px; height: ' + height + 'px;'\n            );\n\n            rubberband_canvas.setAttribute('width', width);\n            rubberband_canvas.setAttribute('height', height);\n\n            // And update the size in Python. We ignore the initial 0/0 size\n            // that occurs as the element is placed into the DOM, which should\n            // otherwise not happen due to the minimum size styling.\n            if (fig.ws.readyState == 1 && width != 0 && height != 0) {\n                fig.request_resize(width, height);\n            }\n        }\n    });\n    this.resizeObserverInstance.observe(canvas_div);\n\n    function on_mouse_event_closure(name) {\n        return function (event) {\n            return fig.mouse_event(event, name);\n        };\n    }\n\n    rubberband_canvas.addEventListener(\n        'mousedown',\n        on_mouse_event_closure('button_press')\n    );\n    rubberband_canvas.addEventListener(\n        'mouseup',\n        on_mouse_event_closure('button_release')\n    );\n    rubberband_canvas.addEventListener(\n        'dblclick',\n        on_mouse_event_closure('dblclick')\n    );\n    // Throttle sequential mouse events to 1 every 20ms.\n    rubberband_canvas.addEventListener(\n        'mousemove',\n        on_mouse_event_closure('motion_notify')\n    );\n\n    rubberband_canvas.addEventListener(\n        'mouseenter',\n        on_mouse_event_closure('figure_enter')\n    );\n    rubberband_canvas.addEventListener(\n        'mouseleave',\n        on_mouse_event_closure('figure_leave')\n    );\n\n    canvas_div.addEventListener('wheel', function (event) {\n        if (event.deltaY < 0) {\n            event.step = 1;\n        } else {\n            event.step = -1;\n        }\n        on_mouse_event_closure('scroll')(event);\n    });\n\n    canvas_div.appendChild(canvas);\n    canvas_div.appendChild(rubberband_canvas);\n\n    this.rubberband_context = rubberband_canvas.getContext('2d');\n    this.rubberband_context.strokeStyle = '#000000';\n\n    this._resize_canvas = function (width, height, forward) {\n        if (forward) {\n            canvas_div.style.width = width + 'px';\n            canvas_div.style.height = height + 'px';\n        }\n    };\n\n    // Disable right mouse context menu.\n    this.rubberband_canvas.addEventListener('contextmenu', function (_e) {\n        event.preventDefault();\n        return false;\n    });\n\n    function set_focus() {\n        canvas.focus();\n        canvas_div.focus();\n    }\n\n    window.setTimeout(set_focus, 100);\n};\n\nmpl.figure.prototype._init_toolbar = function () {\n    var fig = this;\n\n    var toolbar = document.createElement('div');\n    toolbar.classList = 'mpl-toolbar';\n    this.root.appendChild(toolbar);\n\n    function on_click_closure(name) {\n        return function (_event) {\n            return fig.toolbar_button_onclick(name);\n        };\n    }\n\n    function on_mouseover_closure(tooltip) {\n        return function (event) {\n            if (!event.currentTarget.disabled) {\n                return fig.toolbar_button_onmouseover(tooltip);\n            }\n        };\n    }\n\n    fig.buttons = {};\n    var buttonGroup = document.createElement('div');\n    buttonGroup.classList = 'mpl-button-group';\n    for (var toolbar_ind in mpl.toolbar_items) {\n        var name = mpl.toolbar_items[toolbar_ind][0];\n        var tooltip = mpl.toolbar_items[toolbar_ind][1];\n        var image = mpl.toolbar_items[toolbar_ind][2];\n        var method_name = mpl.toolbar_items[toolbar_ind][3];\n\n        if (!name) {\n            /* Instead of a spacer, we start a new button group. */\n            if (buttonGroup.hasChildNodes()) {\n                toolbar.appendChild(buttonGroup);\n            }\n            buttonGroup = document.createElement('div');\n            buttonGroup.classList = 'mpl-button-group';\n            continue;\n        }\n\n        var button = (fig.buttons[name] = document.createElement('button'));\n        button.classList = 'mpl-widget';\n        button.setAttribute('role', 'button');\n        button.setAttribute('aria-disabled', 'false');\n        button.addEventListener('click', on_click_closure(method_name));\n        button.addEventListener('mouseover', on_mouseover_closure(tooltip));\n\n        var icon_img = document.createElement('img');\n        icon_img.src = '_images/' + image + '.png';\n        icon_img.srcset = '_images/' + image + '_large.png 2x';\n        icon_img.alt = tooltip;\n        button.appendChild(icon_img);\n\n        buttonGroup.appendChild(button);\n    }\n\n    if (buttonGroup.hasChildNodes()) {\n        toolbar.appendChild(buttonGroup);\n    }\n\n    var fmt_picker = document.createElement('select');\n    fmt_picker.classList = 'mpl-widget';\n    toolbar.appendChild(fmt_picker);\n    this.format_dropdown = fmt_picker;\n\n    for (var ind in mpl.extensions) {\n        var fmt = mpl.extensions[ind];\n        var option = document.createElement('option');\n        option.selected = fmt === mpl.default_extension;\n        option.innerHTML = fmt;\n        fmt_picker.appendChild(option);\n    }\n\n    var status_bar = document.createElement('span');\n    status_bar.classList = 'mpl-message';\n    toolbar.appendChild(status_bar);\n    this.message = status_bar;\n};\n\nmpl.figure.prototype.request_resize = function (x_pixels, y_pixels) {\n    // Request matplotlib to resize the figure. Matplotlib will then trigger a resize in the client,\n    // which will in turn request a refresh of the image.\n    this.send_message('resize', { width: x_pixels, height: y_pixels });\n};\n\nmpl.figure.prototype.send_message = function (type, properties) {\n    properties['type'] = type;\n    properties['figure_id'] = this.id;\n    this.ws.send(JSON.stringify(properties));\n};\n\nmpl.figure.prototype.send_draw_message = function () {\n    if (!this.waiting) {\n        this.waiting = true;\n        this.ws.send(JSON.stringify({ type: 'draw', figure_id: this.id }));\n    }\n};\n\nmpl.figure.prototype.handle_save = function (fig, _msg) {\n    var format_dropdown = fig.format_dropdown;\n    var format = format_dropdown.options[format_dropdown.selectedIndex].value;\n    fig.ondownload(fig, format);\n};\n\nmpl.figure.prototype.handle_resize = function (fig, msg) {\n    var size = msg['size'];\n    if (size[0] !== fig.canvas.width || size[1] !== fig.canvas.height) {\n        fig._resize_canvas(size[0], size[1], msg['forward']);\n        fig.send_message('refresh', {});\n    }\n};\n\nmpl.figure.prototype.handle_rubberband = function (fig, msg) {\n    var x0 = msg['x0'] / fig.ratio;\n    var y0 = (fig.canvas.height - msg['y0']) / fig.ratio;\n    var x1 = msg['x1'] / fig.ratio;\n    var y1 = (fig.canvas.height - msg['y1']) / fig.ratio;\n    x0 = Math.floor(x0) + 0.5;\n    y0 = Math.floor(y0) + 0.5;\n    x1 = Math.floor(x1) + 0.5;\n    y1 = Math.floor(y1) + 0.5;\n    var min_x = Math.min(x0, x1);\n    var min_y = Math.min(y0, y1);\n    var width = Math.abs(x1 - x0);\n    var height = Math.abs(y1 - y0);\n\n    fig.rubberband_context.clearRect(\n        0,\n        0,\n        fig.canvas.width / fig.ratio,\n        fig.canvas.height / fig.ratio\n    );\n\n    fig.rubberband_context.strokeRect(min_x, min_y, width, height);\n};\n\nmpl.figure.prototype.handle_figure_label = function (fig, msg) {\n    // Updates the figure title.\n    fig.header.textContent = msg['label'];\n};\n\nmpl.figure.prototype.handle_cursor = function (fig, msg) {\n    fig.rubberband_canvas.style.cursor = msg['cursor'];\n};\n\nmpl.figure.prototype.handle_message = function (fig, msg) {\n    fig.message.textContent = msg['message'];\n};\n\nmpl.figure.prototype.handle_draw = function (fig, _msg) {\n    // Request the server to send over a new figure.\n    fig.send_draw_message();\n};\n\nmpl.figure.prototype.handle_image_mode = function (fig, msg) {\n    fig.image_mode = msg['mode'];\n};\n\nmpl.figure.prototype.handle_history_buttons = function (fig, msg) {\n    for (var key in msg) {\n        if (!(key in fig.buttons)) {\n            continue;\n        }\n        fig.buttons[key].disabled = !msg[key];\n        fig.buttons[key].setAttribute('aria-disabled', !msg[key]);\n    }\n};\n\nmpl.figure.prototype.handle_navigate_mode = function (fig, msg) {\n    if (msg['mode'] === 'PAN') {\n        fig.buttons['Pan'].classList.add('active');\n        fig.buttons['Zoom'].classList.remove('active');\n    } else if (msg['mode'] === 'ZOOM') {\n        fig.buttons['Pan'].classList.remove('active');\n        fig.buttons['Zoom'].classList.add('active');\n    } else {\n        fig.buttons['Pan'].classList.remove('active');\n        fig.buttons['Zoom'].classList.remove('active');\n    }\n};\n\nmpl.figure.prototype.updated_canvas_event = function () {\n    // Called whenever the canvas gets updated.\n    this.send_message('ack', {});\n};\n\n// A function to construct a web socket function for onmessage handling.\n// Called in the figure constructor.\nmpl.figure.prototype._make_on_message_function = function (fig) {\n    return function socket_on_message(evt) {\n        if (evt.data instanceof Blob) {\n            var img = evt.data;\n            if (img.type !== 'image/png') {\n                /* FIXME: We get \"Resource interpreted as Image but\n                 * transferred with MIME type text/plain:\" errors on\n                 * Chrome.  But how to set the MIME type?  It doesn't seem\n                 * to be part of the websocket stream */\n                img.type = 'image/png';\n            }\n\n            /* Free the memory for the previous frames */\n            if (fig.imageObj.src) {\n                (window.URL || window.webkitURL).revokeObjectURL(\n                    fig.imageObj.src\n                );\n            }\n\n            fig.imageObj.src = (window.URL || window.webkitURL).createObjectURL(\n                img\n            );\n            fig.updated_canvas_event();\n            fig.waiting = false;\n            return;\n        } else if (\n            typeof evt.data === 'string' &&\n            evt.data.slice(0, 21) === 'data:image/png;base64'\n        ) {\n            fig.imageObj.src = evt.data;\n            fig.updated_canvas_event();\n            fig.waiting = false;\n            return;\n        }\n\n        var msg = JSON.parse(evt.data);\n        var msg_type = msg['type'];\n\n        // Call the  \"handle_{type}\" callback, which takes\n        // the figure and JSON message as its only arguments.\n        try {\n            var callback = fig['handle_' + msg_type];\n        } catch (e) {\n            console.log(\n                \"No handler for the '\" + msg_type + \"' message type: \",\n                msg\n            );\n            return;\n        }\n\n        if (callback) {\n            try {\n                // console.log(\"Handling '\" + msg_type + \"' message: \", msg);\n                callback(fig, msg);\n            } catch (e) {\n                console.log(\n                    \"Exception inside the 'handler_\" + msg_type + \"' callback:\",\n                    e,\n                    e.stack,\n                    msg\n                );\n            }\n        }\n    };\n};\n\n// from https://stackoverflow.com/questions/1114465/getting-mouse-location-in-canvas\nmpl.findpos = function (e) {\n    //this section is from http://www.quirksmode.org/js/events_properties.html\n    var targ;\n    if (!e) {\n        e = window.event;\n    }\n    if (e.target) {\n        targ = e.target;\n    } else if (e.srcElement) {\n        targ = e.srcElement;\n    }\n    if (targ.nodeType === 3) {\n        // defeat Safari bug\n        targ = targ.parentNode;\n    }\n\n    // pageX,Y are the mouse positions relative to the document\n    var boundingRect = targ.getBoundingClientRect();\n    var x = e.pageX - (boundingRect.left + document.body.scrollLeft);\n    var y = e.pageY - (boundingRect.top + document.body.scrollTop);\n\n    return { x: x, y: y };\n};\n\n/*\n * return a copy of an object with only non-object keys\n * we need this to avoid circular references\n * https://stackoverflow.com/a/24161582/3208463\n */\nfunction simpleKeys(original) {\n    return Object.keys(original).reduce(function (obj, key) {\n        if (typeof original[key] !== 'object') {\n            obj[key] = original[key];\n        }\n        return obj;\n    }, {});\n}\n\nmpl.figure.prototype.mouse_event = function (event, name) {\n    var canvas_pos = mpl.findpos(event);\n\n    if (name === 'button_press') {\n        this.canvas.focus();\n        this.canvas_div.focus();\n    }\n\n    var x = canvas_pos.x * this.ratio;\n    var y = canvas_pos.y * this.ratio;\n\n    this.send_message(name, {\n        x: x,\n        y: y,\n        button: event.button,\n        step: event.step,\n        guiEvent: simpleKeys(event),\n    });\n\n    /* This prevents the web browser from automatically changing to\n     * the text insertion cursor when the button is pressed.  We want\n     * to control all of the cursor setting manually through the\n     * 'cursor' event from matplotlib */\n    event.preventDefault();\n    return false;\n};\n\nmpl.figure.prototype._key_event_extra = function (_event, _name) {\n    // Handle any extra behaviour associated with a key event\n};\n\nmpl.figure.prototype.key_event = function (event, name) {\n    // Prevent repeat events\n    if (name === 'key_press') {\n        if (event.key === this._key) {\n            return;\n        } else {\n            this._key = event.key;\n        }\n    }\n    if (name === 'key_release') {\n        this._key = null;\n    }\n\n    var value = '';\n    if (event.ctrlKey && event.key !== 'Control') {\n        value += 'ctrl+';\n    }\n    else if (event.altKey && event.key !== 'Alt') {\n        value += 'alt+';\n    }\n    else if (event.shiftKey && event.key !== 'Shift') {\n        value += 'shift+';\n    }\n\n    value += 'k' + event.key;\n\n    this._key_event_extra(event, name);\n\n    this.send_message(name, { key: value, guiEvent: simpleKeys(event) });\n    return false;\n};\n\nmpl.figure.prototype.toolbar_button_onclick = function (name) {\n    if (name === 'download') {\n        this.handle_save(this, null);\n    } else {\n        this.send_message('toolbar_button', { name: name });\n    }\n};\n\nmpl.figure.prototype.toolbar_button_onmouseover = function (tooltip) {\n    this.message.textContent = tooltip;\n};\n\n///////////////// REMAINING CONTENT GENERATED BY embed_js.py /////////////////\n// prettier-ignore\nvar _JSXTOOLS_RESIZE_OBSERVER=function(A){var t,i=new WeakMap,n=new WeakMap,a=new WeakMap,r=new WeakMap,o=new Set;function s(e){if(!(this instanceof s))throw new TypeError(\"Constructor requires 'new' operator\");i.set(this,e)}function h(){throw new TypeError(\"Function is not a constructor\")}function c(e,t,i,n){e=0 in arguments?Number(arguments[0]):0,t=1 in arguments?Number(arguments[1]):0,i=2 in arguments?Number(arguments[2]):0,n=3 in arguments?Number(arguments[3]):0,this.right=(this.x=this.left=e)+(this.width=i),this.bottom=(this.y=this.top=t)+(this.height=n),Object.freeze(this)}function d(){t=requestAnimationFrame(d);var s=new WeakMap,p=new Set;o.forEach((function(t){r.get(t).forEach((function(i){var r=t instanceof window.SVGElement,o=a.get(t),d=r?0:parseFloat(o.paddingTop),f=r?0:parseFloat(o.paddingRight),l=r?0:parseFloat(o.paddingBottom),u=r?0:parseFloat(o.paddingLeft),g=r?0:parseFloat(o.borderTopWidth),m=r?0:parseFloat(o.borderRightWidth),w=r?0:parseFloat(o.borderBottomWidth),b=u+f,F=d+l,v=(r?0:parseFloat(o.borderLeftWidth))+m,W=g+w,y=r?0:t.offsetHeight-W-t.clientHeight,E=r?0:t.offsetWidth-v-t.clientWidth,R=b+v,z=F+W,M=r?t.width:parseFloat(o.width)-R-E,O=r?t.height:parseFloat(o.height)-z-y;if(n.has(t)){var k=n.get(t);if(k[0]===M&&k[1]===O)return}n.set(t,[M,O]);var S=Object.create(h.prototype);S.target=t,S.contentRect=new c(u,d,M,O),s.has(i)||(s.set(i,[]),p.add(i)),s.get(i).push(S)}))})),p.forEach((function(e){i.get(e).call(e,s.get(e),e)}))}return s.prototype.observe=function(i){if(i instanceof window.Element){r.has(i)||(r.set(i,new Set),o.add(i),a.set(i,window.getComputedStyle(i)));var n=r.get(i);n.has(this)||n.add(this),cancelAnimationFrame(t),t=requestAnimationFrame(d)}},s.prototype.unobserve=function(i){if(i instanceof window.Element&&r.has(i)){var n=r.get(i);n.has(this)&&(n.delete(this),n.size||(r.delete(i),o.delete(i))),n.size||r.delete(i),o.size||cancelAnimationFrame(t)}},A.DOMRectReadOnly=c,A.ResizeObserver=s,A.ResizeObserverEntry=h,A}; // eslint-disable-line\nmpl.toolbar_items = [[\"Home\", \"Reset original view\", \"fa fa-home icon-home\", \"home\"], [\"Back\", \"Back to previous view\", \"fa fa-arrow-left icon-arrow-left\", \"back\"], [\"Forward\", \"Forward to next view\", \"fa fa-arrow-right icon-arrow-right\", \"forward\"], [\"\", \"\", \"\", \"\"], [\"Pan\", \"Left button pans, Right button zooms\\nx/y fixes axis, CTRL fixes aspect\", \"fa fa-arrows icon-move\", \"pan\"], [\"Zoom\", \"Zoom to rectangle\\nx/y fixes axis\", \"fa fa-square-o icon-check-empty\", \"zoom\"], [\"\", \"\", \"\", \"\"], [\"Download\", \"Download plot\", \"fa fa-floppy-o icon-save\", \"download\"]];\n\nmpl.extensions = [\"eps\", \"jpeg\", \"pgf\", \"pdf\", \"png\", \"ps\", \"raw\", \"svg\", \"tif\"];\n\nmpl.default_extension = \"png\";/* global mpl */\n\nvar comm_websocket_adapter = function (comm) {\n    // Create a \"websocket\"-like object which calls the given IPython comm\n    // object with the appropriate methods. Currently this is a non binary\n    // socket, so there is still some room for performance tuning.\n    var ws = {};\n\n    ws.binaryType = comm.kernel.ws.binaryType;\n    ws.readyState = comm.kernel.ws.readyState;\n    function updateReadyState(_event) {\n        if (comm.kernel.ws) {\n            ws.readyState = comm.kernel.ws.readyState;\n        } else {\n            ws.readyState = 3; // Closed state.\n        }\n    }\n    comm.kernel.ws.addEventListener('open', updateReadyState);\n    comm.kernel.ws.addEventListener('close', updateReadyState);\n    comm.kernel.ws.addEventListener('error', updateReadyState);\n\n    ws.close = function () {\n        comm.close();\n    };\n    ws.send = function (m) {\n        //console.log('sending', m);\n        comm.send(m);\n    };\n    // Register the callback with on_msg.\n    comm.on_msg(function (msg) {\n        //console.log('receiving', msg['content']['data'], msg);\n        var data = msg['content']['data'];\n        if (data['blob'] !== undefined) {\n            data = {\n                data: new Blob(msg['buffers'], { type: data['blob'] }),\n            };\n        }\n        // Pass the mpl event to the overridden (by mpl) onmessage function.\n        ws.onmessage(data);\n    });\n    return ws;\n};\n\nmpl.mpl_figure_comm = function (comm, msg) {\n    // This is the function which gets called when the mpl process\n    // starts-up an IPython Comm through the \"matplotlib\" channel.\n\n    var id = msg.content.data.id;\n    // Get hold of the div created by the display call when the Comm\n    // socket was opened in Python.\n    var element = document.getElementById(id);\n    var ws_proxy = comm_websocket_adapter(comm);\n\n    function ondownload(figure, _format) {\n        window.open(figure.canvas.toDataURL());\n    }\n\n    var fig = new mpl.figure(id, ws_proxy, ondownload, element);\n\n    // Call onopen now - mpl needs it, as it is assuming we've passed it a real\n    // web socket which is closed, not our websocket->open comm proxy.\n    ws_proxy.onopen();\n\n    fig.parent_element = element;\n    fig.cell_info = mpl.find_output_cell(\"<div id='\" + id + \"'></div>\");\n    if (!fig.cell_info) {\n        console.error('Failed to find cell for figure', id, fig);\n        return;\n    }\n    fig.cell_info[0].output_area.element.on(\n        'cleared',\n        { fig: fig },\n        fig._remove_fig_handler\n    );\n};\n\nmpl.figure.prototype.handle_close = function (fig, msg) {\n    var width = fig.canvas.width / fig.ratio;\n    fig.cell_info[0].output_area.element.off(\n        'cleared',\n        fig._remove_fig_handler\n    );\n    fig.resizeObserverInstance.unobserve(fig.canvas_div);\n\n    // Update the output cell to use the data from the current canvas.\n    fig.push_to_output();\n    var dataURL = fig.canvas.toDataURL();\n    // Re-enable the keyboard manager in IPython - without this line, in FF,\n    // the notebook keyboard shortcuts fail.\n    IPython.keyboard_manager.enable();\n    fig.parent_element.innerHTML =\n        '<img src=\"' + dataURL + '\" width=\"' + width + '\">';\n    fig.close_ws(fig, msg);\n};\n\nmpl.figure.prototype.close_ws = function (fig, msg) {\n    fig.send_message('closing', msg);\n    // fig.ws.close()\n};\n\nmpl.figure.prototype.push_to_output = function (_remove_interactive) {\n    // Turn the data on the canvas into data in the output cell.\n    var width = this.canvas.width / this.ratio;\n    var dataURL = this.canvas.toDataURL();\n    this.cell_info[1]['text/html'] =\n        '<img src=\"' + dataURL + '\" width=\"' + width + '\">';\n};\n\nmpl.figure.prototype.updated_canvas_event = function () {\n    // Tell IPython that the notebook contents must change.\n    IPython.notebook.set_dirty(true);\n    this.send_message('ack', {});\n    var fig = this;\n    // Wait a second, then push the new image to the DOM so\n    // that it is saved nicely (might be nice to debounce this).\n    setTimeout(function () {\n        fig.push_to_output();\n    }, 1000);\n};\n\nmpl.figure.prototype._init_toolbar = function () {\n    var fig = this;\n\n    var toolbar = document.createElement('div');\n    toolbar.classList = 'btn-toolbar';\n    this.root.appendChild(toolbar);\n\n    function on_click_closure(name) {\n        return function (_event) {\n            return fig.toolbar_button_onclick(name);\n        };\n    }\n\n    function on_mouseover_closure(tooltip) {\n        return function (event) {\n            if (!event.currentTarget.disabled) {\n                return fig.toolbar_button_onmouseover(tooltip);\n            }\n        };\n    }\n\n    fig.buttons = {};\n    var buttonGroup = document.createElement('div');\n    buttonGroup.classList = 'btn-group';\n    var button;\n    for (var toolbar_ind in mpl.toolbar_items) {\n        var name = mpl.toolbar_items[toolbar_ind][0];\n        var tooltip = mpl.toolbar_items[toolbar_ind][1];\n        var image = mpl.toolbar_items[toolbar_ind][2];\n        var method_name = mpl.toolbar_items[toolbar_ind][3];\n\n        if (!name) {\n            /* Instead of a spacer, we start a new button group. */\n            if (buttonGroup.hasChildNodes()) {\n                toolbar.appendChild(buttonGroup);\n            }\n            buttonGroup = document.createElement('div');\n            buttonGroup.classList = 'btn-group';\n            continue;\n        }\n\n        button = fig.buttons[name] = document.createElement('button');\n        button.classList = 'btn btn-default';\n        button.href = '#';\n        button.title = name;\n        button.innerHTML = '<i class=\"fa ' + image + ' fa-lg\"></i>';\n        button.addEventListener('click', on_click_closure(method_name));\n        button.addEventListener('mouseover', on_mouseover_closure(tooltip));\n        buttonGroup.appendChild(button);\n    }\n\n    if (buttonGroup.hasChildNodes()) {\n        toolbar.appendChild(buttonGroup);\n    }\n\n    // Add the status bar.\n    var status_bar = document.createElement('span');\n    status_bar.classList = 'mpl-message pull-right';\n    toolbar.appendChild(status_bar);\n    this.message = status_bar;\n\n    // Add the close button to the window.\n    var buttongrp = document.createElement('div');\n    buttongrp.classList = 'btn-group inline pull-right';\n    button = document.createElement('button');\n    button.classList = 'btn btn-mini btn-primary';\n    button.href = '#';\n    button.title = 'Stop Interaction';\n    button.innerHTML = '<i class=\"fa fa-power-off icon-remove icon-large\"></i>';\n    button.addEventListener('click', function (_evt) {\n        fig.handle_close(fig, {});\n    });\n    button.addEventListener(\n        'mouseover',\n        on_mouseover_closure('Stop Interaction')\n    );\n    buttongrp.appendChild(button);\n    var titlebar = this.root.querySelector('.ui-dialog-titlebar');\n    titlebar.insertBefore(buttongrp, titlebar.firstChild);\n};\n\nmpl.figure.prototype._remove_fig_handler = function (event) {\n    var fig = event.data.fig;\n    if (event.target !== this) {\n        // Ignore bubbled events from children.\n        return;\n    }\n    fig.close_ws(fig, {});\n};\n\nmpl.figure.prototype._root_extra_style = function (el) {\n    el.style.boxSizing = 'content-box'; // override notebook setting of border-box.\n};\n\nmpl.figure.prototype._canvas_extra_style = function (el) {\n    // this is important to make the div 'focusable\n    el.setAttribute('tabindex', 0);\n    // reach out to IPython and tell the keyboard manager to turn it's self\n    // off when our div gets focus\n\n    // location in version 3\n    if (IPython.notebook.keyboard_manager) {\n        IPython.notebook.keyboard_manager.register_events(el);\n    } else {\n        // location in version 2\n        IPython.keyboard_manager.register_events(el);\n    }\n};\n\nmpl.figure.prototype._key_event_extra = function (event, _name) {\n    // Check for shift+enter\n    if (event.shiftKey && event.which === 13) {\n        this.canvas_div.blur();\n        // select the cell after this one\n        var index = IPython.notebook.find_cell_index(this.cell_info[0]);\n        IPython.notebook.select(index + 1);\n    }\n};\n\nmpl.figure.prototype.handle_save = function (fig, _msg) {\n    fig.ondownload(fig, null);\n};\n\nmpl.find_output_cell = function (html_output) {\n    // Return the cell and output element which can be found *uniquely* in the notebook.\n    // Note - this is a bit hacky, but it is done because the \"notebook_saving.Notebook\"\n    // IPython event is triggered only after the cells have been serialised, which for\n    // our purposes (turning an active figure into a static one), is too late.\n    var cells = IPython.notebook.get_cells();\n    var ncells = cells.length;\n    for (var i = 0; i < ncells; i++) {\n        var cell = cells[i];\n        if (cell.cell_type === 'code') {\n            for (var j = 0; j < cell.output_area.outputs.length; j++) {\n                var data = cell.output_area.outputs[j];\n                if (data.data) {\n                    // IPython >= 3 moved mimebundle to data attribute of output\n                    data = data.data;\n                }\n                if (data['text/html'] === html_output) {\n                    return [cell, data, j];\n                }\n            }\n        }\n    }\n};\n\n// Register the function which deals with the matplotlib target/channel.\n// The kernel may be null if the page has been refreshed.\nif (IPython.notebook.kernel !== null) {\n    IPython.notebook.kernel.comm_manager.register_target(\n        'matplotlib',\n        mpl.mpl_figure_comm\n    );\n}\n",
      "text/plain": [
       "<IPython.core.display.Javascript object>"
      ]
     },
     "metadata": {},
     "output_type": "display_data"
    },
    {
     "data": {
      "text/html": [
       "<div id='573a27d5-b5c5-41e1-8558-63d6ccc25f28'></div>"
      ],
      "text/plain": [
       "<IPython.core.display.HTML object>"
      ]
     },
     "metadata": {},
     "output_type": "display_data"
    },
    {
     "data": {
      "text/plain": [
       "<sklearn.metrics._plot.confusion_matrix.ConfusionMatrixDisplay at 0x1d686d00df0>"
      ]
     },
     "execution_count": 298,
     "metadata": {},
     "output_type": "execute_result"
    }
   ],
   "source": [
    "from sklearn.metrics import ConfusionMatrixDisplay\n",
    "\n",
    "# def plot2(y_true, y_predictions):\n",
    "#    labels = unique_labels(y_test)\n",
    "#    column = [f'Predicted {label}' for label in labels]\n",
    "#    indices = [f'Actual {label}' for label in labels]\n",
    "#    table = pd.DataFrame(confusion_matrix(y_true, y_predictions), columns = column, index = indices)\n",
    "    \n",
    "ConfusionMatrixDisplay.from_predictions(y_test, y_pred, cmap='viridis')\n",
    "#plt.show()return sns.heatmap(table, annot=True, fmt='d' , cmap='YlGnBu')\n",
    "\n",
    "#plot2(y_test, y_pred)"
   ]
  },
  {
   "cell_type": "code",
   "execution_count": 299,
   "metadata": {},
   "outputs": [
    {
     "name": "stderr",
     "output_type": "stream",
     "text": [
      "c:\\Users\\Ellen\\anaconda3\\lib\\site-packages\\sklearn\\metrics\\_classification.py:1318: UndefinedMetricWarning: Precision and F-score are ill-defined and being set to 0.0 in labels with no predicted samples. Use `zero_division` parameter to control this behavior.\n",
      "  _warn_prf(average, modifier, msg_start, len(result))\n",
      "c:\\Users\\Ellen\\anaconda3\\lib\\site-packages\\sklearn\\metrics\\_classification.py:1318: UndefinedMetricWarning: Precision and F-score are ill-defined and being set to 0.0 in labels with no predicted samples. Use `zero_division` parameter to control this behavior.\n",
      "  _warn_prf(average, modifier, msg_start, len(result))\n"
     ]
    },
    {
     "name": "stdout",
     "output_type": "stream",
     "text": [
      "              precision    recall  f1-score   support\n",
      "\n",
      "         0.0       0.84      1.00      0.91     53285\n",
      "         1.0       0.00      0.00      0.00      1133\n",
      "         2.0       0.47      0.00      0.01      9002\n",
      "\n",
      "    accuracy                           0.84     63420\n",
      "   macro avg       0.44      0.33      0.31     63420\n",
      "weighted avg       0.77      0.84      0.77     63420\n",
      "\n"
     ]
    },
    {
     "name": "stderr",
     "output_type": "stream",
     "text": [
      "c:\\Users\\Ellen\\anaconda3\\lib\\site-packages\\sklearn\\metrics\\_classification.py:1318: UndefinedMetricWarning: Precision and F-score are ill-defined and being set to 0.0 in labels with no predicted samples. Use `zero_division` parameter to control this behavior.\n",
      "  _warn_prf(average, modifier, msg_start, len(result))\n"
     ]
    }
   ],
   "source": [
    "print(classification_report(y_test, y_pred))"
   ]
  },
  {
   "cell_type": "code",
   "execution_count": 300,
   "metadata": {},
   "outputs": [
    {
     "data": {
      "text/plain": [
       "0.8401450646483759"
      ]
     },
     "execution_count": 300,
     "metadata": {},
     "output_type": "execute_result"
    }
   ],
   "source": [
    "accuracy = metrics.accuracy_score(y_test, y_pred)\n",
    "accuracy"
   ]
  },
  {
   "cell_type": "code",
   "execution_count": 301,
   "metadata": {},
   "outputs": [
    {
     "data": {
      "text/plain": [
       "array([0.99917425, 0.        , 0.00455454])"
      ]
     },
     "execution_count": 301,
     "metadata": {},
     "output_type": "execute_result"
    }
   ],
   "source": [
    "#recall = tp/(tp+fn)\n",
    "recall_sensitivity = metrics.recall_score(y_test, y_pred, average=None)\n",
    "recall_sensitivity"
   ]
  },
  {
   "cell_type": "code",
   "execution_count": 302,
   "metadata": {},
   "outputs": [
    {
     "data": {
      "text/plain": [
       "array([0.00424272, 0.99917425])"
      ]
     },
     "execution_count": 302,
     "metadata": {},
     "output_type": "execute_result"
    }
   ],
   "source": [
    "#recall(specificity) = tn/(tn+fp)\n",
    "recall_specificity = metrics.recall_score(np.logical_not(y_test), np.logical_not(y_pred), average=None)\n",
    "recall_specificity"
   ]
  },
  {
   "cell_type": "code",
   "execution_count": 303,
   "metadata": {},
   "outputs": [
    {
     "data": {
      "text/plain": [
       "array([0.91308374, 0.        , 0.00902189])"
      ]
     },
     "execution_count": 303,
     "metadata": {},
     "output_type": "execute_result"
    }
   ],
   "source": [
    "#f1_score =  (recall * precision / (recall + precision) * 2)\n",
    "F1_score = metrics.f1_score(y_test, y_pred, average=None)\n",
    "F1_score"
   ]
  },
  {
   "cell_type": "code",
   "execution_count": 304,
   "metadata": {},
   "outputs": [
    {
     "data": {
      "text/plain": [
       "[{'Accuracy :': 0.8401450646483759,\n",
       "  'Precision :': array([0.84992211, 0.02777778, 0.46469248]),\n",
       "  'Recall-Sensitivity :': array([0.99917425, 0.        , 0.00455454]),\n",
       "  'Recall-Specificity : ': array([0.00424272, 0.99917425]),\n",
       "  'F1-Score : ': array([0.91308374, 0.        , 0.00902189])}]"
      ]
     },
     "execution_count": 304,
     "metadata": {},
     "output_type": "execute_result"
    }
   ],
   "source": [
    "list([{'Accuracy :' : accuracy, 'Precision :' : precision, 'Recall-Sensitivity :' : recall_sensitivity, 'Recall-Specificity : ' : recall_specificity, \n",
    "       'F1-Score : ' : F1_score}])"
   ]
  },
  {
   "cell_type": "code",
   "execution_count": null,
   "metadata": {},
   "outputs": [],
   "source": []
  }
 ],
 "metadata": {
  "kernelspec": {
   "display_name": "Python 3 (ipykernel)",
   "language": "python",
   "name": "python3"
  },
  "language_info": {
   "codemirror_mode": {
    "name": "ipython",
    "version": 3
   },
   "file_extension": ".py",
   "mimetype": "text/x-python",
   "name": "python",
   "nbconvert_exporter": "python",
   "pygments_lexer": "ipython3",
   "version": "3.9.13"
  },
  "vscode": {
   "interpreter": {
    "hash": "2f35680ce163b314429f6b6b4d4e78236609ebb2e0d5afd8763c0e483ed64b16"
   }
  }
 },
 "nbformat": 4,
 "nbformat_minor": 2
}
